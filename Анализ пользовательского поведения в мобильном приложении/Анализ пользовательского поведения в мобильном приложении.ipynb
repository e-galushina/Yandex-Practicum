{
 "cells": [
  {
   "cell_type": "markdown",
   "metadata": {},
   "source": [
    "# Сборный проект 2. Анализ пользовательского поведения в мобильном приложении"
   ]
  },
  {
   "cell_type": "markdown",
   "metadata": {},
   "source": [
    "Цель проекта: на основе данных использования мобильного приложения для продажи продуктов питания проанализировать воронку продаж, а также оценить результаты A/A/B-тестирования \n",
    "\n",
    "План работы:\n",
    "1. Подключить необходимые библиотеки для работы\n",
    "2. Изучить общую информацию о наборе данных:\n",
    "* загрузить файлы\n",
    "* посмотреть количество данных, их тип, пропущенные значения, дубликаты, название столбцов\n",
    "* сделать вывод\n",
    "3. Провести предварительную обработку данных:\n",
    "* переименовать столбцы в соответствии с правилами\n",
    "* изменить тип данных\n",
    "* обработать дубликаты\n",
    "* создать новые столбцы\n",
    "* сделать вывод\n",
    "4. Провести исследовательский анализ данных:\n",
    "* сколько всего событий в логе?\n",
    "* сколько всего пользователей в логе?\n",
    "* сколько в среднем событий приходится на пользователя?\n",
    "* определить временной период с полными данными\n",
    "* много ли событий и пользователей вы потеряли, отбросив старые данные?\n",
    "* проверьте, что у вас есть пользователи из всех трёх экспериментальных групп.\n",
    "* сделать вывод\n",
    "5. Изучить воронку событий:\n",
    "* посмотрите, какие события есть в логах, как часто они встречаются. Отсортируйте события по частоте.\n",
    "* посчитайте, сколько пользователей совершали каждое из этих событий. Отсортируйте события по числу пользователей. Посчитайте долю пользователей, которые хоть раз совершали событие.\n",
    "* предположите, в каком порядке происходят события. Все ли они выстраиваются в последовательную цепочку? Их не нужно учитывать при расчёте воронки.\n",
    "* по воронке событий посчитайте, какая доля пользователей проходит на следующий шаг воронки (от числа пользователей на предыдущем). \n",
    "* на каком шаге теряете больше всего пользователей?\n",
    "* какая доля пользователей доходит от первого события до оплаты?\n",
    "* сделать вывод\n",
    "6. Провести статистический анализ данных:\n",
    "* сколько пользователей в каждой экспериментальной группе?\n",
    "* проверьте, находят ли статистические критерии разницу между контрольными выборками.\n",
    "* проверьте, есть ли статистически значимые различия между контрольными группами и экспериментальной.\n",
    "* какой уровень значимости вы выбрали при проверке статистических гипотез выше? Посчитайте, сколько проверок статистических гипотез вы сделали. При уровне значимости 0.1 в 10% случаев можно ошибочно отклонить нулевую гипотезу при условии, что она верна. Какой уровень значимости стоит применить? Если вы хотите изменить его, проделайте предыдущие пункты и проверьте свои выводы.\n",
    "7. Написать общий вывод"
   ]
  },
  {
   "cell_type": "code",
   "execution_count": 57,
   "metadata": {},
   "outputs": [],
   "source": [
    "#подключение библиотек\n",
    "import pandas as pd\n",
    "from datetime import datetime\n",
    "import seaborn as sns\n",
    "import matplotlib.pyplot as plt\n",
    "from scipy import stats as st\n",
    "import numpy as np\n",
    "import math as mth\n",
    "from plotly import graph_objects as go\n",
    "import warnings\n",
    "warnings.filterwarnings(\"ignore\")"
   ]
  },
  {
   "cell_type": "markdown",
   "metadata": {},
   "source": [
    "**Шаг 1. Откройте файл с данными и изучите общую информацию**"
   ]
  },
  {
   "cell_type": "code",
   "execution_count": 58,
   "metadata": {},
   "outputs": [],
   "source": [
    "#загрузка набора данных\n",
    "try:\n",
    "    df = pd.read_csv('dataset.csv', sep='\\t')\n",
    "except:\n",
    "    df = pd.read_csv('https:///dataset.csv', sep='\\t')"
   ]
  },
  {
   "cell_type": "code",
   "execution_count": 59,
   "metadata": {},
   "outputs": [
    {
     "data": {
      "text/html": [
       "<div>\n",
       "<style scoped>\n",
       "    .dataframe tbody tr th:only-of-type {\n",
       "        vertical-align: middle;\n",
       "    }\n",
       "\n",
       "    .dataframe tbody tr th {\n",
       "        vertical-align: top;\n",
       "    }\n",
       "\n",
       "    .dataframe thead th {\n",
       "        text-align: right;\n",
       "    }\n",
       "</style>\n",
       "<table border=\"1\" class=\"dataframe\">\n",
       "  <thead>\n",
       "    <tr style=\"text-align: right;\">\n",
       "      <th></th>\n",
       "      <th>EventName</th>\n",
       "      <th>DeviceIDHash</th>\n",
       "      <th>EventTimestamp</th>\n",
       "      <th>ExpId</th>\n",
       "    </tr>\n",
       "  </thead>\n",
       "  <tbody>\n",
       "    <tr>\n",
       "      <th>0</th>\n",
       "      <td>MainScreenAppear</td>\n",
       "      <td>4575588528974610257</td>\n",
       "      <td>1564029816</td>\n",
       "      <td>246</td>\n",
       "    </tr>\n",
       "    <tr>\n",
       "      <th>1</th>\n",
       "      <td>MainScreenAppear</td>\n",
       "      <td>7416695313311560658</td>\n",
       "      <td>1564053102</td>\n",
       "      <td>246</td>\n",
       "    </tr>\n",
       "    <tr>\n",
       "      <th>2</th>\n",
       "      <td>PaymentScreenSuccessful</td>\n",
       "      <td>3518123091307005509</td>\n",
       "      <td>1564054127</td>\n",
       "      <td>248</td>\n",
       "    </tr>\n",
       "    <tr>\n",
       "      <th>3</th>\n",
       "      <td>CartScreenAppear</td>\n",
       "      <td>3518123091307005509</td>\n",
       "      <td>1564054127</td>\n",
       "      <td>248</td>\n",
       "    </tr>\n",
       "    <tr>\n",
       "      <th>4</th>\n",
       "      <td>PaymentScreenSuccessful</td>\n",
       "      <td>6217807653094995999</td>\n",
       "      <td>1564055322</td>\n",
       "      <td>248</td>\n",
       "    </tr>\n",
       "    <tr>\n",
       "      <th>5</th>\n",
       "      <td>CartScreenAppear</td>\n",
       "      <td>6217807653094995999</td>\n",
       "      <td>1564055323</td>\n",
       "      <td>248</td>\n",
       "    </tr>\n",
       "    <tr>\n",
       "      <th>6</th>\n",
       "      <td>OffersScreenAppear</td>\n",
       "      <td>8351860793733343758</td>\n",
       "      <td>1564066242</td>\n",
       "      <td>246</td>\n",
       "    </tr>\n",
       "    <tr>\n",
       "      <th>7</th>\n",
       "      <td>MainScreenAppear</td>\n",
       "      <td>5682100281902512875</td>\n",
       "      <td>1564085677</td>\n",
       "      <td>246</td>\n",
       "    </tr>\n",
       "    <tr>\n",
       "      <th>8</th>\n",
       "      <td>MainScreenAppear</td>\n",
       "      <td>1850981295691852772</td>\n",
       "      <td>1564086702</td>\n",
       "      <td>247</td>\n",
       "    </tr>\n",
       "    <tr>\n",
       "      <th>9</th>\n",
       "      <td>MainScreenAppear</td>\n",
       "      <td>5407636962369102641</td>\n",
       "      <td>1564112112</td>\n",
       "      <td>246</td>\n",
       "    </tr>\n",
       "  </tbody>\n",
       "</table>\n",
       "</div>"
      ],
      "text/plain": [
       "                 EventName         DeviceIDHash  EventTimestamp  ExpId\n",
       "0         MainScreenAppear  4575588528974610257      1564029816    246\n",
       "1         MainScreenAppear  7416695313311560658      1564053102    246\n",
       "2  PaymentScreenSuccessful  3518123091307005509      1564054127    248\n",
       "3         CartScreenAppear  3518123091307005509      1564054127    248\n",
       "4  PaymentScreenSuccessful  6217807653094995999      1564055322    248\n",
       "5         CartScreenAppear  6217807653094995999      1564055323    248\n",
       "6       OffersScreenAppear  8351860793733343758      1564066242    246\n",
       "7         MainScreenAppear  5682100281902512875      1564085677    246\n",
       "8         MainScreenAppear  1850981295691852772      1564086702    247\n",
       "9         MainScreenAppear  5407636962369102641      1564112112    246"
      ]
     },
     "execution_count": 59,
     "metadata": {},
     "output_type": "execute_result"
    }
   ],
   "source": [
    "#посмотрим на данные\n",
    "df.head(10)"
   ]
  },
  {
   "cell_type": "code",
   "execution_count": 60,
   "metadata": {},
   "outputs": [
    {
     "name": "stdout",
     "output_type": "stream",
     "text": [
      "<class 'pandas.core.frame.DataFrame'>\n",
      "RangeIndex: 244126 entries, 0 to 244125\n",
      "Data columns (total 4 columns):\n",
      " #   Column          Non-Null Count   Dtype \n",
      "---  ------          --------------   ----- \n",
      " 0   EventName       244126 non-null  object\n",
      " 1   DeviceIDHash    244126 non-null  int64 \n",
      " 2   EventTimestamp  244126 non-null  int64 \n",
      " 3   ExpId           244126 non-null  int64 \n",
      "dtypes: int64(3), object(1)\n",
      "memory usage: 7.5+ MB\n"
     ]
    }
   ],
   "source": [
    "#изучим общую информацию о наборе данных\n",
    "df.info()"
   ]
  },
  {
   "cell_type": "code",
   "execution_count": 61,
   "metadata": {},
   "outputs": [
    {
     "data": {
      "text/plain": [
       "413"
      ]
     },
     "execution_count": 61,
     "metadata": {},
     "output_type": "execute_result"
    }
   ],
   "source": [
    "#проверка на дубликаты\n",
    "df.duplicated().sum()"
   ]
  },
  {
   "cell_type": "markdown",
   "metadata": {},
   "source": [
    "**Вывод:**\n",
    "\n",
    "Набор данных df содержит записи и действиях пользователя (событии). Всего 244126 записей и 4 столбца. Пропущенных значений нет. Названия столбцов не соответстует змеиному регистру, кроме того, названия можно заменить на более удобные для дальнейшего использования. Тип данных у столбца EventTimestamp изменим на дату/время. Есть явные дубликаты."
   ]
  },
  {
   "cell_type": "markdown",
   "metadata": {},
   "source": [
    "**Шаг 2. Подготовьте данные**"
   ]
  },
  {
   "cell_type": "code",
   "execution_count": 62,
   "metadata": {},
   "outputs": [],
   "source": [
    "#изменение названия столбцов\n",
    "df = df.rename(columns={'EventName':'event_name', \n",
    "                        'DeviceIDHash': 'user_id', \n",
    "                        'EventTimestamp': 'event_time', \n",
    "                        'ExpId': 'group'\n",
    "                       })"
   ]
  },
  {
   "cell_type": "code",
   "execution_count": 63,
   "metadata": {},
   "outputs": [],
   "source": [
    "#изменение типа данных столбца \n",
    "df['event_time'] = pd.to_datetime(df['event_time'], unit='s')"
   ]
  },
  {
   "cell_type": "code",
   "execution_count": 64,
   "metadata": {},
   "outputs": [],
   "source": [
    "#добавление нового столбца с датой\n",
    "df['date'] = df['event_time'].dt.date"
   ]
  },
  {
   "cell_type": "code",
   "execution_count": 65,
   "metadata": {},
   "outputs": [
    {
     "data": {
      "text/html": [
       "<div>\n",
       "<style scoped>\n",
       "    .dataframe tbody tr th:only-of-type {\n",
       "        vertical-align: middle;\n",
       "    }\n",
       "\n",
       "    .dataframe tbody tr th {\n",
       "        vertical-align: top;\n",
       "    }\n",
       "\n",
       "    .dataframe thead th {\n",
       "        text-align: right;\n",
       "    }\n",
       "</style>\n",
       "<table border=\"1\" class=\"dataframe\">\n",
       "  <thead>\n",
       "    <tr style=\"text-align: right;\">\n",
       "      <th></th>\n",
       "      <th>event_name</th>\n",
       "      <th>user_id</th>\n",
       "      <th>event_time</th>\n",
       "      <th>group</th>\n",
       "      <th>date</th>\n",
       "    </tr>\n",
       "  </thead>\n",
       "  <tbody>\n",
       "    <tr>\n",
       "      <th>0</th>\n",
       "      <td>MainScreenAppear</td>\n",
       "      <td>4575588528974610257</td>\n",
       "      <td>2019-07-25 04:43:36</td>\n",
       "      <td>246</td>\n",
       "      <td>2019-07-25</td>\n",
       "    </tr>\n",
       "    <tr>\n",
       "      <th>1</th>\n",
       "      <td>MainScreenAppear</td>\n",
       "      <td>7416695313311560658</td>\n",
       "      <td>2019-07-25 11:11:42</td>\n",
       "      <td>246</td>\n",
       "      <td>2019-07-25</td>\n",
       "    </tr>\n",
       "    <tr>\n",
       "      <th>2</th>\n",
       "      <td>PaymentScreenSuccessful</td>\n",
       "      <td>3518123091307005509</td>\n",
       "      <td>2019-07-25 11:28:47</td>\n",
       "      <td>248</td>\n",
       "      <td>2019-07-25</td>\n",
       "    </tr>\n",
       "    <tr>\n",
       "      <th>3</th>\n",
       "      <td>CartScreenAppear</td>\n",
       "      <td>3518123091307005509</td>\n",
       "      <td>2019-07-25 11:28:47</td>\n",
       "      <td>248</td>\n",
       "      <td>2019-07-25</td>\n",
       "    </tr>\n",
       "    <tr>\n",
       "      <th>4</th>\n",
       "      <td>PaymentScreenSuccessful</td>\n",
       "      <td>6217807653094995999</td>\n",
       "      <td>2019-07-25 11:48:42</td>\n",
       "      <td>248</td>\n",
       "      <td>2019-07-25</td>\n",
       "    </tr>\n",
       "  </tbody>\n",
       "</table>\n",
       "</div>"
      ],
      "text/plain": [
       "                event_name              user_id          event_time  group  \\\n",
       "0         MainScreenAppear  4575588528974610257 2019-07-25 04:43:36    246   \n",
       "1         MainScreenAppear  7416695313311560658 2019-07-25 11:11:42    246   \n",
       "2  PaymentScreenSuccessful  3518123091307005509 2019-07-25 11:28:47    248   \n",
       "3         CartScreenAppear  3518123091307005509 2019-07-25 11:28:47    248   \n",
       "4  PaymentScreenSuccessful  6217807653094995999 2019-07-25 11:48:42    248   \n",
       "\n",
       "         date  \n",
       "0  2019-07-25  \n",
       "1  2019-07-25  \n",
       "2  2019-07-25  \n",
       "3  2019-07-25  \n",
       "4  2019-07-25  "
      ]
     },
     "execution_count": 65,
     "metadata": {},
     "output_type": "execute_result"
    }
   ],
   "source": [
    "df.head()"
   ]
  },
  {
   "cell_type": "code",
   "execution_count": 66,
   "metadata": {},
   "outputs": [
    {
     "data": {
      "text/plain": [
       "413"
      ]
     },
     "execution_count": 66,
     "metadata": {},
     "output_type": "execute_result"
    }
   ],
   "source": [
    "df.duplicated().sum()"
   ]
  },
  {
   "cell_type": "code",
   "execution_count": 67,
   "metadata": {},
   "outputs": [
    {
     "name": "stdout",
     "output_type": "stream",
     "text": [
      "Доля дубликатов:  0.17 %\n"
     ]
    }
   ],
   "source": [
    "print('Доля дубликатов: ', round(df.duplicated().sum() / df.shape[0] * 100, 2), '%')"
   ]
  },
  {
   "cell_type": "code",
   "execution_count": 68,
   "metadata": {},
   "outputs": [],
   "source": [
    "#удаление явных дубликатов\n",
    "df = df.drop_duplicates()"
   ]
  },
  {
   "cell_type": "code",
   "execution_count": 69,
   "metadata": {},
   "outputs": [
    {
     "name": "stdout",
     "output_type": "stream",
     "text": [
      "Совпадений по уникальным пользователям между контрольными группами: 0\n",
      "Совпадений по уникальным пользователям между 246 и 248 группами: 0\n",
      "Совпадений по уникальным пользователям между 247 и 248 группами: 0\n"
     ]
    }
   ],
   "source": [
    "#проверка на совпадения по уникальным пользователям между группами\n",
    "print('Совпадений по уникальным пользователям между контрольными группами:', \\\n",
    "      len(set(df[df['group'] == 246]['user_id']) & set(df[df['group'] == 247]['user_id'])))\n",
    "\n",
    "print('Совпадений по уникальным пользователям между 246 и 248 группами:', \\\n",
    "      len(set(df[df['group'] == 246]['user_id']) & set(df[df['group'] == 248]['user_id'])))\n",
    "\n",
    "print('Совпадений по уникальным пользователям между 247 и 248 группами:', \\\n",
    "      len(set(df[df['group'] == 247]['user_id']) & set(df[df['group'] == 248]['user_id'])))"
   ]
  },
  {
   "cell_type": "markdown",
   "metadata": {},
   "source": [
    "**Вывод:** \n",
    "\n",
    "В датафрейме df были удалены явные дубликаты (0.17% от общего объема данных), изменены названия столбцов, добавлены столбец с датой, изменен тип данных у столбца с датой и временем события. Пропущенных значений в датафрейме нет. Проверено, что пользователи в группах не пересекаются. "
   ]
  },
  {
   "cell_type": "markdown",
   "metadata": {},
   "source": [
    "**Шаг 3. Изучите и проверьте данные**"
   ]
  },
  {
   "cell_type": "markdown",
   "metadata": {},
   "source": [
    "*Сколько всего событий в логе?*"
   ]
  },
  {
   "cell_type": "code",
   "execution_count": 70,
   "metadata": {},
   "outputs": [
    {
     "data": {
      "text/plain": [
       "5"
      ]
     },
     "execution_count": 70,
     "metadata": {},
     "output_type": "execute_result"
    }
   ],
   "source": [
    "#количество уникальных событий\n",
    "df['event_name'].nunique()"
   ]
  },
  {
   "cell_type": "code",
   "execution_count": 71,
   "metadata": {},
   "outputs": [
    {
     "data": {
      "text/plain": [
       "array(['MainScreenAppear', 'PaymentScreenSuccessful', 'CartScreenAppear',\n",
       "       'OffersScreenAppear', 'Tutorial'], dtype=object)"
      ]
     },
     "execution_count": 71,
     "metadata": {},
     "output_type": "execute_result"
    }
   ],
   "source": [
    "#список уникальных событий\n",
    "df['event_name'].unique()"
   ]
  },
  {
   "cell_type": "markdown",
   "metadata": {},
   "source": [
    "В логе 5 уникальных событий: MainScreenAppear, PaymentScreenSuccessful, CartScreenAppear, OffersScreenAppear, Tutorial"
   ]
  },
  {
   "cell_type": "markdown",
   "metadata": {},
   "source": [
    "*Сколько всего пользователей в логе?*"
   ]
  },
  {
   "cell_type": "code",
   "execution_count": 72,
   "metadata": {},
   "outputs": [
    {
     "data": {
      "text/plain": [
       "7551"
      ]
     },
     "execution_count": 72,
     "metadata": {},
     "output_type": "execute_result"
    }
   ],
   "source": [
    "#количество уникальных пользователей\n",
    "df['user_id'].nunique()"
   ]
  },
  {
   "cell_type": "markdown",
   "metadata": {},
   "source": [
    "В логе 7551 уникальных пользователей."
   ]
  },
  {
   "cell_type": "markdown",
   "metadata": {},
   "source": [
    "*Сколько в среднем событий приходится на пользователя?*"
   ]
  },
  {
   "cell_type": "code",
   "execution_count": 73,
   "metadata": {},
   "outputs": [
    {
     "data": {
      "text/html": [
       "<div>\n",
       "<style scoped>\n",
       "    .dataframe tbody tr th:only-of-type {\n",
       "        vertical-align: middle;\n",
       "    }\n",
       "\n",
       "    .dataframe tbody tr th {\n",
       "        vertical-align: top;\n",
       "    }\n",
       "\n",
       "    .dataframe thead th {\n",
       "        text-align: right;\n",
       "    }\n",
       "</style>\n",
       "<table border=\"1\" class=\"dataframe\">\n",
       "  <thead>\n",
       "    <tr style=\"text-align: right;\">\n",
       "      <th></th>\n",
       "      <th>event_name</th>\n",
       "    </tr>\n",
       "  </thead>\n",
       "  <tbody>\n",
       "    <tr>\n",
       "      <th>count</th>\n",
       "      <td>7551.000000</td>\n",
       "    </tr>\n",
       "    <tr>\n",
       "      <th>mean</th>\n",
       "      <td>32.275593</td>\n",
       "    </tr>\n",
       "    <tr>\n",
       "      <th>std</th>\n",
       "      <td>65.154219</td>\n",
       "    </tr>\n",
       "    <tr>\n",
       "      <th>min</th>\n",
       "      <td>1.000000</td>\n",
       "    </tr>\n",
       "    <tr>\n",
       "      <th>25%</th>\n",
       "      <td>9.000000</td>\n",
       "    </tr>\n",
       "    <tr>\n",
       "      <th>50%</th>\n",
       "      <td>20.000000</td>\n",
       "    </tr>\n",
       "    <tr>\n",
       "      <th>75%</th>\n",
       "      <td>37.000000</td>\n",
       "    </tr>\n",
       "    <tr>\n",
       "      <th>max</th>\n",
       "      <td>2307.000000</td>\n",
       "    </tr>\n",
       "  </tbody>\n",
       "</table>\n",
       "</div>"
      ],
      "text/plain": [
       "        event_name\n",
       "count  7551.000000\n",
       "mean     32.275593\n",
       "std      65.154219\n",
       "min       1.000000\n",
       "25%       9.000000\n",
       "50%      20.000000\n",
       "75%      37.000000\n",
       "max    2307.000000"
      ]
     },
     "execution_count": 73,
     "metadata": {},
     "output_type": "execute_result"
    }
   ],
   "source": [
    "data = df.groupby('user_id').agg({'event_name': 'count'})\n",
    "data.describe()"
   ]
  },
  {
   "cell_type": "code",
   "execution_count": 74,
   "metadata": {},
   "outputs": [
    {
     "data": {
      "image/png": "[encoded data removed]",
      "text/plain": [
       "<Figure size 1080x648 with 1 Axes>"
      ]
     },
     "metadata": {
      "needs_background": "light"
     },
     "output_type": "display_data"
    }
   ],
   "source": [
    "plt.figure(figsize=(15, 9))\n",
    "ax = sns.boxplot(data=data, y=\"event_name\")\n",
    "ax.set(xlabel='Распределение количества событий', ylabel='Количество событий', title='Диаграмма размаха распределения количества событий по уникальным пользователям')\n",
    "plt.ylim(0, 500)\n",
    "plt.show()"
   ]
  },
  {
   "cell_type": "code",
   "execution_count": 75,
   "metadata": {},
   "outputs": [
    {
     "data": {
      "text/plain": [
       "event_name    32.275593\n",
       "dtype: float64"
      ]
     },
     "execution_count": 75,
     "metadata": {},
     "output_type": "execute_result"
    }
   ],
   "source": [
    "df.groupby('user_id').agg({'event_name': 'count'}).mean()"
   ]
  },
  {
   "cell_type": "markdown",
   "metadata": {},
   "source": [
    "Диаграмма размаха, а также описательная статистика показывают, что в распределение количества событий по уникальным пользователям есть выбросы, которые очень сильно влияют на среднее значение переменной, поэтому в данном случае лучше использовать медиану. Таким образом, в среднем на одного пользователя приходится 20 событий."
   ]
  },
  {
   "cell_type": "markdown",
   "metadata": {},
   "source": [
    "*Данными за какой период вы располагаете?*"
   ]
  },
  {
   "cell_type": "code",
   "execution_count": 76,
   "metadata": {},
   "outputs": [
    {
     "data": {
      "text/plain": [
       "datetime.date(2019, 7, 25)"
      ]
     },
     "execution_count": 76,
     "metadata": {},
     "output_type": "execute_result"
    }
   ],
   "source": [
    "df['date'].min()"
   ]
  },
  {
   "cell_type": "code",
   "execution_count": 77,
   "metadata": {},
   "outputs": [
    {
     "data": {
      "text/plain": [
       "datetime.date(2019, 8, 7)"
      ]
     },
     "execution_count": 77,
     "metadata": {},
     "output_type": "execute_result"
    }
   ],
   "source": [
    "df['date'].max()"
   ]
  },
  {
   "cell_type": "markdown",
   "metadata": {},
   "source": [
    "Лог событий охватывает временной промежуток с 25 июля 2019 по 7 августа 2019 года. "
   ]
  },
  {
   "cell_type": "code",
   "execution_count": 78,
   "metadata": {},
   "outputs": [
    {
     "data": {
      "text/html": [
       "<div>\n",
       "<style scoped>\n",
       "    .dataframe tbody tr th:only-of-type {\n",
       "        vertical-align: middle;\n",
       "    }\n",
       "\n",
       "    .dataframe tbody tr th {\n",
       "        vertical-align: top;\n",
       "    }\n",
       "\n",
       "    .dataframe thead th {\n",
       "        text-align: right;\n",
       "    }\n",
       "</style>\n",
       "<table border=\"1\" class=\"dataframe\">\n",
       "  <thead>\n",
       "    <tr style=\"text-align: right;\">\n",
       "      <th></th>\n",
       "      <th>event_name</th>\n",
       "    </tr>\n",
       "    <tr>\n",
       "      <th>date</th>\n",
       "      <th></th>\n",
       "    </tr>\n",
       "  </thead>\n",
       "  <tbody>\n",
       "    <tr>\n",
       "      <th>2019-07-25</th>\n",
       "      <td>9</td>\n",
       "    </tr>\n",
       "    <tr>\n",
       "      <th>2019-07-26</th>\n",
       "      <td>31</td>\n",
       "    </tr>\n",
       "    <tr>\n",
       "      <th>2019-07-27</th>\n",
       "      <td>55</td>\n",
       "    </tr>\n",
       "    <tr>\n",
       "      <th>2019-07-28</th>\n",
       "      <td>105</td>\n",
       "    </tr>\n",
       "    <tr>\n",
       "      <th>2019-07-29</th>\n",
       "      <td>184</td>\n",
       "    </tr>\n",
       "    <tr>\n",
       "      <th>2019-07-30</th>\n",
       "      <td>412</td>\n",
       "    </tr>\n",
       "    <tr>\n",
       "      <th>2019-07-31</th>\n",
       "      <td>2030</td>\n",
       "    </tr>\n",
       "    <tr>\n",
       "      <th>2019-08-01</th>\n",
       "      <td>36141</td>\n",
       "    </tr>\n",
       "    <tr>\n",
       "      <th>2019-08-02</th>\n",
       "      <td>35554</td>\n",
       "    </tr>\n",
       "    <tr>\n",
       "      <th>2019-08-03</th>\n",
       "      <td>33282</td>\n",
       "    </tr>\n",
       "    <tr>\n",
       "      <th>2019-08-04</th>\n",
       "      <td>32968</td>\n",
       "    </tr>\n",
       "    <tr>\n",
       "      <th>2019-08-05</th>\n",
       "      <td>36058</td>\n",
       "    </tr>\n",
       "    <tr>\n",
       "      <th>2019-08-06</th>\n",
       "      <td>35788</td>\n",
       "    </tr>\n",
       "    <tr>\n",
       "      <th>2019-08-07</th>\n",
       "      <td>31096</td>\n",
       "    </tr>\n",
       "  </tbody>\n",
       "</table>\n",
       "</div>"
      ],
      "text/plain": [
       "            event_name\n",
       "date                  \n",
       "2019-07-25           9\n",
       "2019-07-26          31\n",
       "2019-07-27          55\n",
       "2019-07-28         105\n",
       "2019-07-29         184\n",
       "2019-07-30         412\n",
       "2019-07-31        2030\n",
       "2019-08-01       36141\n",
       "2019-08-02       35554\n",
       "2019-08-03       33282\n",
       "2019-08-04       32968\n",
       "2019-08-05       36058\n",
       "2019-08-06       35788\n",
       "2019-08-07       31096"
      ]
     },
     "execution_count": 78,
     "metadata": {},
     "output_type": "execute_result"
    }
   ],
   "source": [
    "df_pivot = df.pivot_table(index='date', values='event_name', aggfunc='count')\n",
    "df_pivot"
   ]
  },
  {
   "cell_type": "code",
   "execution_count": 79,
   "metadata": {},
   "outputs": [
    {
     "data": {
      "image/png": "[encoded data removed]",
      "text/plain": [
       "<Figure size 1080x648 with 1 Axes>"
      ]
     },
     "metadata": {
      "needs_background": "light"
     },
     "output_type": "display_data"
    }
   ],
   "source": [
    "#строим диаграмму количества событий в зависимости от времени в разрезе групп\n",
    "plt.figure(figsize=(15, 9))\n",
    "sns.histplot(df, x='date', hue='group', multiple='dodge', shrink=.8, legend=False)\n",
    "plt.title('Количество событий в зависимости от времени в разрезе групп')\n",
    "plt.xlabel('Дата')\n",
    "plt.ylabel('Количество событий')\n",
    "plt.legend(title='Экспериментальная группа', loc='best', labels=['248', '247','246']);"
   ]
  },
  {
   "cell_type": "markdown",
   "metadata": {},
   "source": [
    "Начиная с 1 августа 2019 видим значительное увеличение количества событий во всех группах, поэтому с этого дня данные можно считать полными, таким образом анализу подлежат данные за неделю с 1 по 7 августа 2019 года."
   ]
  },
  {
   "cell_type": "code",
   "execution_count": 80,
   "metadata": {},
   "outputs": [],
   "source": [
    "#отберем данные за выбранный период\n",
    "df_filtered = df[df['date'] >= pd.to_datetime('2019-08-01')]"
   ]
  },
  {
   "cell_type": "markdown",
   "metadata": {},
   "source": [
    "*Много ли событий и пользователей вы потеряли, отбросив старые данные?*"
   ]
  },
  {
   "cell_type": "code",
   "execution_count": 81,
   "metadata": {},
   "outputs": [
    {
     "data": {
      "text/plain": [
       "1.159560630741897"
      ]
     },
     "execution_count": 81,
     "metadata": {},
     "output_type": "execute_result"
    }
   ],
   "source": [
    "(df.shape[0] - df_filtered.shape[0]) / df.shape[0] * 100"
   ]
  },
  {
   "cell_type": "code",
   "execution_count": 82,
   "metadata": {},
   "outputs": [
    {
     "data": {
      "text/plain": [
       "0.22513574361011784"
      ]
     },
     "execution_count": 82,
     "metadata": {},
     "output_type": "execute_result"
    }
   ],
   "source": [
    "(df['user_id'].nunique() - df_filtered['user_id'].nunique()) / df['user_id'].nunique() * 100"
   ]
  },
  {
   "cell_type": "markdown",
   "metadata": {},
   "source": [
    "В выбранный временной период не попало всего 1.16% событий и 0.23% уникальных пользователей."
   ]
  },
  {
   "cell_type": "markdown",
   "metadata": {},
   "source": [
    "*Проверьте, что у вас есть пользователи из всех трёх экспериментальных групп*"
   ]
  },
  {
   "cell_type": "code",
   "execution_count": 83,
   "metadata": {},
   "outputs": [
    {
     "data": {
      "text/html": [
       "<div>\n",
       "<style scoped>\n",
       "    .dataframe tbody tr th:only-of-type {\n",
       "        vertical-align: middle;\n",
       "    }\n",
       "\n",
       "    .dataframe tbody tr th {\n",
       "        vertical-align: top;\n",
       "    }\n",
       "\n",
       "    .dataframe thead th {\n",
       "        text-align: right;\n",
       "    }\n",
       "</style>\n",
       "<table border=\"1\" class=\"dataframe\">\n",
       "  <thead>\n",
       "    <tr style=\"text-align: right;\">\n",
       "      <th></th>\n",
       "      <th>user_id</th>\n",
       "    </tr>\n",
       "    <tr>\n",
       "      <th>group</th>\n",
       "      <th></th>\n",
       "    </tr>\n",
       "  </thead>\n",
       "  <tbody>\n",
       "    <tr>\n",
       "      <th>246</th>\n",
       "      <td>2484</td>\n",
       "    </tr>\n",
       "    <tr>\n",
       "      <th>247</th>\n",
       "      <td>2513</td>\n",
       "    </tr>\n",
       "    <tr>\n",
       "      <th>248</th>\n",
       "      <td>2537</td>\n",
       "    </tr>\n",
       "  </tbody>\n",
       "</table>\n",
       "</div>"
      ],
      "text/plain": [
       "       user_id\n",
       "group         \n",
       "246       2484\n",
       "247       2513\n",
       "248       2537"
      ]
     },
     "execution_count": 83,
     "metadata": {},
     "output_type": "execute_result"
    }
   ],
   "source": [
    "ax = df_filtered.pivot_table(index='group', values='user_id', aggfunc='nunique')\n",
    "ax"
   ]
  },
  {
   "cell_type": "code",
   "execution_count": 84,
   "metadata": {},
   "outputs": [
    {
     "data": {
      "image/png": "[encoded data removed]",
      "text/plain": [
       "<Figure size 432x288 with 1 Axes>"
      ]
     },
     "metadata": {},
     "output_type": "display_data"
    }
   ],
   "source": [
    "#строим круговую диаграмму распределения пользователей по группам\n",
    "colors = sns.color_palette('pastel')[ 0:3 ]\n",
    "plt.pie(ax['user_id'], labels=ax.index, colors=colors, autopct='%1.1f%%')\n",
    "plt.title('Распределение пользователей по группам в период с 1 по 7 августа 2019');"
   ]
  },
  {
   "cell_type": "markdown",
   "metadata": {},
   "source": [
    "Во всех трех группах есть пользователи. При этом количество пользователей в группах сравнимое."
   ]
  },
  {
   "cell_type": "markdown",
   "metadata": {},
   "source": [
    "**Вывод:**\n",
    "\n",
    "\n",
    "В логе 5 уникальных событий и 7557 уникальных пользователей, при этом в среднем на одного пользователя приходится 32.28 события. Лог событий охватывает временной промежуток с 25 июля 2019 по 7 августа 2019 года, но до 1 августа 2019 событий значительно меньше, чем далее,  с этого дня данные можно считать полными, таким образом анализу подлежат данные за неделю с 1 по 7 августа 2019 года. Был создан новый датафрейм с временным срезом, в выбранный временной период не попало всего 1.16% событий и 0.23% уникальных пользователей, при этом во всех трех экспериментальных группах количество пользователей распределено сравнимо одинаково."
   ]
  },
  {
   "cell_type": "markdown",
   "metadata": {},
   "source": [
    "**Шаг 4. Изучите воронку событий**"
   ]
  },
  {
   "cell_type": "markdown",
   "metadata": {},
   "source": [
    "*Посмотрите, какие события есть в логах, как часто они встречаются. Отсортируйте события по частоте*"
   ]
  },
  {
   "cell_type": "code",
   "execution_count": 85,
   "metadata": {},
   "outputs": [
    {
     "data": {
      "text/plain": [
       "MainScreenAppear           117328\n",
       "OffersScreenAppear          46333\n",
       "CartScreenAppear            42303\n",
       "PaymentScreenSuccessful     33918\n",
       "Tutorial                     1005\n",
       "Name: event_name, dtype: int64"
      ]
     },
     "execution_count": 85,
     "metadata": {},
     "output_type": "execute_result"
    }
   ],
   "source": [
    "event_freq = df_filtered['event_name'].value_counts().sort_values(ascending=False)\n",
    "event_freq"
   ]
  },
  {
   "cell_type": "code",
   "execution_count": 86,
   "metadata": {},
   "outputs": [
    {
     "data": {
      "image/png": "[encoded data removed]",
      "text/plain": [
       "<Figure size 432x288 with 1 Axes>"
      ]
     },
     "metadata": {},
     "output_type": "display_data"
    }
   ],
   "source": [
    "#круговая диаграмма частот событий\n",
    "colors = sns.color_palette('pastel')[ 0:5 ]\n",
    "plt.pie(event_freq, labels=event_freq.index, colors=colors, autopct='%1.1f%%')\n",
    "plt.title('Частота событий с 1 по 7 августа 2019');"
   ]
  },
  {
   "cell_type": "markdown",
   "metadata": {},
   "source": [
    "Самым частым событием является MainScreenAppear (почти половина всех событий), редким - Tutorial (менее 1 %)."
   ]
  },
  {
   "cell_type": "markdown",
   "metadata": {},
   "source": [
    "*Посчитайте, сколько пользователей совершали каждое из этих событий*"
   ]
  },
  {
   "cell_type": "code",
   "execution_count": 87,
   "metadata": {},
   "outputs": [
    {
     "data": {
      "text/html": [
       "<div>\n",
       "<style scoped>\n",
       "    .dataframe tbody tr th:only-of-type {\n",
       "        vertical-align: middle;\n",
       "    }\n",
       "\n",
       "    .dataframe tbody tr th {\n",
       "        vertical-align: top;\n",
       "    }\n",
       "\n",
       "    .dataframe thead th {\n",
       "        text-align: right;\n",
       "    }\n",
       "</style>\n",
       "<table border=\"1\" class=\"dataframe\">\n",
       "  <thead>\n",
       "    <tr style=\"text-align: right;\">\n",
       "      <th></th>\n",
       "      <th>user_id</th>\n",
       "    </tr>\n",
       "    <tr>\n",
       "      <th>event_name</th>\n",
       "      <th></th>\n",
       "    </tr>\n",
       "  </thead>\n",
       "  <tbody>\n",
       "    <tr>\n",
       "      <th>MainScreenAppear</th>\n",
       "      <td>7419</td>\n",
       "    </tr>\n",
       "    <tr>\n",
       "      <th>OffersScreenAppear</th>\n",
       "      <td>4593</td>\n",
       "    </tr>\n",
       "    <tr>\n",
       "      <th>CartScreenAppear</th>\n",
       "      <td>3734</td>\n",
       "    </tr>\n",
       "    <tr>\n",
       "      <th>PaymentScreenSuccessful</th>\n",
       "      <td>3539</td>\n",
       "    </tr>\n",
       "    <tr>\n",
       "      <th>Tutorial</th>\n",
       "      <td>840</td>\n",
       "    </tr>\n",
       "  </tbody>\n",
       "</table>\n",
       "</div>"
      ],
      "text/plain": [
       "                         user_id\n",
       "event_name                      \n",
       "MainScreenAppear            7419\n",
       "OffersScreenAppear          4593\n",
       "CartScreenAppear            3734\n",
       "PaymentScreenSuccessful     3539\n",
       "Tutorial                     840"
      ]
     },
     "execution_count": 87,
     "metadata": {},
     "output_type": "execute_result"
    }
   ],
   "source": [
    "event_user = df_filtered.groupby('event_name').agg({'user_id':'nunique'})\n",
    "event_user.sort_values(by='user_id', ascending=False)"
   ]
  },
  {
   "cell_type": "code",
   "execution_count": 88,
   "metadata": {},
   "outputs": [
    {
     "data": {
      "image/png": "[encoded data removed]",
      "text/plain": [
       "<Figure size 432x288 with 1 Axes>"
      ]
     },
     "metadata": {},
     "output_type": "display_data"
    }
   ],
   "source": [
    "#круговая диаграмма распределения пользователей по событиям\n",
    "colors = sns.color_palette('pastel')[ 0:5 ]\n",
    "plt.pie(event_user['user_id'], labels=event_user.index, colors=colors, autopct='%1.1f%%')\n",
    "plt.title('Распределение количества пользователей по совершенным ими событиям');"
   ]
  },
  {
   "cell_type": "markdown",
   "metadata": {},
   "source": [
    "Также просмотр главной страницы приложения (MainScreenAppear) остается самым частым событием (что вполне логично), открытие (просмотр) руководства пользования приложением (Tutorial) остается самым редким событием."
   ]
  },
  {
   "cell_type": "code",
   "execution_count": 89,
   "metadata": {},
   "outputs": [],
   "source": [
    "#доля пользователей, которые хоть раз совершали событие\n",
    "event_user['partial'] = round(event_user['user_id'] / df_filtered['user_id'].nunique() * 100, 2)"
   ]
  },
  {
   "cell_type": "code",
   "execution_count": 90,
   "metadata": {},
   "outputs": [
    {
     "data": {
      "text/plain": [
       "event_name\n",
       "MainScreenAppear           98.47\n",
       "OffersScreenAppear         60.96\n",
       "CartScreenAppear           49.56\n",
       "PaymentScreenSuccessful    46.97\n",
       "Tutorial                   11.15\n",
       "Name: partial, dtype: float64"
      ]
     },
     "execution_count": 90,
     "metadata": {},
     "output_type": "execute_result"
    }
   ],
   "source": [
    "event_user['partial'].sort_values(ascending=False)"
   ]
  },
  {
   "cell_type": "markdown",
   "metadata": {},
   "source": [
    "Почти все пользователи посещали главную страницу приложения хотя бы один раз (недостающий процент пользователей можно объяснить срезом данных или, возможно, они переходили по ссылке уже товара непосредственно). 61% пользователей посещали окно товара, 50% - окно корзины, 47% - окно успешной оплаты, 11% - открытие (просмотр) руководства пользования приложением."
   ]
  },
  {
   "cell_type": "markdown",
   "metadata": {},
   "source": [
    "*Предположите, в каком порядке происходят события. Все ли они выстраиваются в последовательную цепочку? Их не нужно учитывать при расчёте воронки*"
   ]
  },
  {
   "cell_type": "markdown",
   "metadata": {},
   "source": [
    "Можно предположить, что пользователь проходит следующую цепочку: \n",
    "1. Просмотр главной страницы приложения\n",
    "2. Окно товара\n",
    "3. Окно корзины\n",
    "4. Окно успешной оплаты\n",
    "\n",
    "В эту последовательную цепочку нельзя встроить просмотр руководства пользования приложением, так как это можно сделать в любой момент и это не влияет на покупку товара пользователем. Поэтому это событие не будем учитывать при расчёте воронки."
   ]
  },
  {
   "cell_type": "markdown",
   "metadata": {},
   "source": [
    "*По воронке событий посчитайте, какая доля пользователей проходит на следующий шаг воронки (от числа пользователей на предыдущем). То есть для последовательности событий A → B → C посчитайте отношение числа пользователей с событием B к количеству пользователей с событием A, а также отношение числа пользователей с событием C к количеству пользователей с событием B*"
   ]
  },
  {
   "cell_type": "code",
   "execution_count": 91,
   "metadata": {},
   "outputs": [
    {
     "name": "stdout",
     "output_type": "stream",
     "text": [
      "Отношение числа пользователей, посмотревших окно товара, к числу пользователей, открывших главное окно приложения: 61.91\n"
     ]
    }
   ],
   "source": [
    "print('Отношение числа пользователей, посмотревших окно товара, к числу пользователей, открывших главное окно приложения:', \n",
    "      round(event_user.loc['OffersScreenAppear', 'user_id'] / event_user.loc['MainScreenAppear', 'user_id'] * 100, 2))"
   ]
  },
  {
   "cell_type": "code",
   "execution_count": 92,
   "metadata": {},
   "outputs": [
    {
     "name": "stdout",
     "output_type": "stream",
     "text": [
      "Отношение числа пользователей, открывших страницу корзины, к числу пользователей, посмотревших окно товара: 81.3\n"
     ]
    }
   ],
   "source": [
    "print('Отношение числа пользователей, открывших страницу корзины, к числу пользователей, посмотревших окно товара:', \n",
    "      round(event_user.loc['CartScreenAppear', 'user_id'] / event_user.loc['OffersScreenAppear', 'user_id'] * 100, 2))"
   ]
  },
  {
   "cell_type": "code",
   "execution_count": 93,
   "metadata": {},
   "outputs": [
    {
     "name": "stdout",
     "output_type": "stream",
     "text": [
      "Отношение числа пользователей, просмотревших страницу успешной оплаты , к числу пользователей, открывших страницу корзины: 94.78\n"
     ]
    }
   ],
   "source": [
    "print('Отношение числа пользователей, просмотревших страницу успешной оплаты , к числу пользователей, открывших страницу корзины:', \n",
    "      round(event_user.loc['PaymentScreenSuccessful', 'user_id'] / event_user.loc['CartScreenAppear', 'user_id'] * 100, 2))"
   ]
  },
  {
   "cell_type": "markdown",
   "metadata": {},
   "source": [
    "*На каком шаге теряете больше всего пользователей?*"
   ]
  },
  {
   "cell_type": "markdown",
   "metadata": {},
   "source": [
    "Получается, что на первом шаге мы теряем больше всего пользователей: число пользователей, просмотревших страницу товара, к числу пользователей, просмотревших главное окно приложения (по сути, открывших приложение) - 62%. В то время, как 81.3% пользователей просмотревших товар, переходят на страницу корзину, и лишь 5.3% пользователей не оплачивают товар из корзины."
   ]
  },
  {
   "cell_type": "markdown",
   "metadata": {},
   "source": [
    "*Какая доля пользователей доходит от первого события до оплаты?*"
   ]
  },
  {
   "cell_type": "code",
   "execution_count": 94,
   "metadata": {},
   "outputs": [
    {
     "data": {
      "text/plain": [
       "3429"
      ]
     },
     "execution_count": 94,
     "metadata": {},
     "output_type": "execute_result"
    }
   ],
   "source": [
    "all_stadies = len(set(df_filtered.loc[df_filtered['event_name'] == 'MainScreenAppear', 'user_id']) & \\\n",
    "set(df_filtered.loc[df_filtered['event_name'] == 'OffersScreenAppear', 'user_id']) & \\\n",
    "set(df_filtered.loc[df_filtered['event_name'] == 'CartScreenAppear', 'user_id']) & \\\n",
    "set(df_filtered.loc[df_filtered['event_name'] == 'PaymentScreenSuccessful', 'user_id']))\n",
    "all_stadies"
   ]
  },
  {
   "cell_type": "code",
   "execution_count": 95,
   "metadata": {},
   "outputs": [
    {
     "data": {
      "text/plain": [
       "45.51"
      ]
     },
     "execution_count": 95,
     "metadata": {},
     "output_type": "execute_result"
    }
   ],
   "source": [
    "round(all_stadies / df_filtered['user_id'].nunique() * 100, 2)"
   ]
  },
  {
   "cell_type": "code",
   "execution_count": 96,
   "metadata": {},
   "outputs": [
    {
     "name": "stdout",
     "output_type": "stream",
     "text": [
      "Отношение числа пользователей, купивших товар, к числу пользователей, открывших главное окно приложения: 47.7\n"
     ]
    }
   ],
   "source": [
    "print('Отношение числа пользователей, купивших товар, к числу пользователей, открывших главное окно приложения:', \n",
    "      round(event_user.loc['PaymentScreenSuccessful', 'user_id'] / event_user.loc['MainScreenAppear', 'user_id'] * 100, 2))"
   ]
  },
  {
   "cell_type": "code",
   "execution_count": 97,
   "metadata": {},
   "outputs": [
    {
     "data": {
      "application/vnd.plotly.v1+json": {
       "config": {
        "plotlyServerURL": "https://plot.ly"
       },
       "data": [
        {
         "connector": {
          "line": {
           "color": "royalblue",
           "dash": "dot",
           "width": 3
          }
         },
         "marker": {
          "color": [
           "deepskyblue",
           "lightsalmon",
           "tan",
           "teal"
          ],
          "line": {
           "color": [
            "wheat",
            "blue",
            "wheat",
            "wheat"
           ],
           "width": [
            4,
            2,
            2,
            3,
            1,
            1
           ]
          }
         },
         "opacity": 0.65,
         "textinfo": "value+percent initial",
         "textposition": "inside",
         "type": "funnel",
         "x": [
          7419,
          4593,
          3734,
          3539
         ],
         "y": [
          "Посещение главной страницы приложения",
          "Посещение страницы товара",
          "Посещение корзины",
          "Страница успешной покупки"
         ]
        }
       ],
       "layout": {
        "template": {
         "data": {
          "bar": [
           {
            "error_x": {
             "color": "#2a3f5f"
            },
            "error_y": {
             "color": "#2a3f5f"
            },
            "marker": {
             "line": {
              "color": "#E5ECF6",
              "width": 0.5
             },
             "pattern": {
              "fillmode": "overlay",
              "size": 10,
              "solidity": 0.2
             }
            },
            "type": "bar"
           }
          ],
          "barpolar": [
           {
            "marker": {
             "line": {
              "color": "#E5ECF6",
              "width": 0.5
             },
             "pattern": {
              "fillmode": "overlay",
              "size": 10,
              "solidity": 0.2
             }
            },
            "type": "barpolar"
           }
          ],
          "carpet": [
           {
            "aaxis": {
             "endlinecolor": "#2a3f5f",
             "gridcolor": "white",
             "linecolor": "white",
             "minorgridcolor": "white",
             "startlinecolor": "#2a3f5f"
            },
            "baxis": {
             "endlinecolor": "#2a3f5f",
             "gridcolor": "white",
             "linecolor": "white",
             "minorgridcolor": "white",
             "startlinecolor": "#2a3f5f"
            },
            "type": "carpet"
           }
          ],
          "choropleth": [
           {
            "colorbar": {
             "outlinewidth": 0,
             "ticks": ""
            },
            "type": "choropleth"
           }
          ],
          "contour": [
           {
            "colorbar": {
             "outlinewidth": 0,
             "ticks": ""
            },
            "colorscale": [
             [
              0,
              "#0d0887"
             ],
             [
              0.1111111111111111,
              "#46039f"
             ],
             [
              0.2222222222222222,
              "#7201a8"
             ],
             [
              0.3333333333333333,
              "#9c179e"
             ],
             [
              0.4444444444444444,
              "#bd3786"
             ],
             [
              0.5555555555555556,
              "#d8576b"
             ],
             [
              0.6666666666666666,
              "#ed7953"
             ],
             [
              0.7777777777777778,
              "#fb9f3a"
             ],
             [
              0.8888888888888888,
              "#fdca26"
             ],
             [
              1,
              "#f0f921"
             ]
            ],
            "type": "contour"
           }
          ],
          "contourcarpet": [
           {
            "colorbar": {
             "outlinewidth": 0,
             "ticks": ""
            },
            "type": "contourcarpet"
           }
          ],
          "heatmap": [
           {
            "colorbar": {
             "outlinewidth": 0,
             "ticks": ""
            },
            "colorscale": [
             [
              0,
              "#0d0887"
             ],
             [
              0.1111111111111111,
              "#46039f"
             ],
             [
              0.2222222222222222,
              "#7201a8"
             ],
             [
              0.3333333333333333,
              "#9c179e"
             ],
             [
              0.4444444444444444,
              "#bd3786"
             ],
             [
              0.5555555555555556,
              "#d8576b"
             ],
             [
              0.6666666666666666,
              "#ed7953"
             ],
             [
              0.7777777777777778,
              "#fb9f3a"
             ],
             [
              0.8888888888888888,
              "#fdca26"
             ],
             [
              1,
              "#f0f921"
             ]
            ],
            "type": "heatmap"
           }
          ],
          "heatmapgl": [
           {
            "colorbar": {
             "outlinewidth": 0,
             "ticks": ""
            },
            "colorscale": [
             [
              0,
              "#0d0887"
             ],
             [
              0.1111111111111111,
              "#46039f"
             ],
             [
              0.2222222222222222,
              "#7201a8"
             ],
             [
              0.3333333333333333,
              "#9c179e"
             ],
             [
              0.4444444444444444,
              "#bd3786"
             ],
             [
              0.5555555555555556,
              "#d8576b"
             ],
             [
              0.6666666666666666,
              "#ed7953"
             ],
             [
              0.7777777777777778,
              "#fb9f3a"
             ],
             [
              0.8888888888888888,
              "#fdca26"
             ],
             [
              1,
              "#f0f921"
             ]
            ],
            "type": "heatmapgl"
           }
          ],
          "histogram": [
           {
            "marker": {
             "pattern": {
              "fillmode": "overlay",
              "size": 10,
              "solidity": 0.2
             }
            },
            "type": "histogram"
           }
          ],
          "histogram2d": [
           {
            "colorbar": {
             "outlinewidth": 0,
             "ticks": ""
            },
            "colorscale": [
             [
              0,
              "#0d0887"
             ],
             [
              0.1111111111111111,
              "#46039f"
             ],
             [
              0.2222222222222222,
              "#7201a8"
             ],
             [
              0.3333333333333333,
              "#9c179e"
             ],
             [
              0.4444444444444444,
              "#bd3786"
             ],
             [
              0.5555555555555556,
              "#d8576b"
             ],
             [
              0.6666666666666666,
              "#ed7953"
             ],
             [
              0.7777777777777778,
              "#fb9f3a"
             ],
             [
              0.8888888888888888,
              "#fdca26"
             ],
             [
              1,
              "#f0f921"
             ]
            ],
            "type": "histogram2d"
           }
          ],
          "histogram2dcontour": [
           {
            "colorbar": {
             "outlinewidth": 0,
             "ticks": ""
            },
            "colorscale": [
             [
              0,
              "#0d0887"
             ],
             [
              0.1111111111111111,
              "#46039f"
             ],
             [
              0.2222222222222222,
              "#7201a8"
             ],
             [
              0.3333333333333333,
              "#9c179e"
             ],
             [
              0.4444444444444444,
              "#bd3786"
             ],
             [
              0.5555555555555556,
              "#d8576b"
             ],
             [
              0.6666666666666666,
              "#ed7953"
             ],
             [
              0.7777777777777778,
              "#fb9f3a"
             ],
             [
              0.8888888888888888,
              "#fdca26"
             ],
             [
              1,
              "#f0f921"
             ]
            ],
            "type": "histogram2dcontour"
           }
          ],
          "mesh3d": [
           {
            "colorbar": {
             "outlinewidth": 0,
             "ticks": ""
            },
            "type": "mesh3d"
           }
          ],
          "parcoords": [
           {
            "line": {
             "colorbar": {
              "outlinewidth": 0,
              "ticks": ""
             }
            },
            "type": "parcoords"
           }
          ],
          "pie": [
           {
            "automargin": true,
            "type": "pie"
           }
          ],
          "scatter": [
           {
            "marker": {
             "colorbar": {
              "outlinewidth": 0,
              "ticks": ""
             }
            },
            "type": "scatter"
           }
          ],
          "scatter3d": [
           {
            "line": {
             "colorbar": {
              "outlinewidth": 0,
              "ticks": ""
             }
            },
            "marker": {
             "colorbar": {
              "outlinewidth": 0,
              "ticks": ""
             }
            },
            "type": "scatter3d"
           }
          ],
          "scattercarpet": [
           {
            "marker": {
             "colorbar": {
              "outlinewidth": 0,
              "ticks": ""
             }
            },
            "type": "scattercarpet"
           }
          ],
          "scattergeo": [
           {
            "marker": {
             "colorbar": {
              "outlinewidth": 0,
              "ticks": ""
             }
            },
            "type": "scattergeo"
           }
          ],
          "scattergl": [
           {
            "marker": {
             "colorbar": {
              "outlinewidth": 0,
              "ticks": ""
             }
            },
            "type": "scattergl"
           }
          ],
          "scattermapbox": [
           {
            "marker": {
             "colorbar": {
              "outlinewidth": 0,
              "ticks": ""
             }
            },
            "type": "scattermapbox"
           }
          ],
          "scatterpolar": [
           {
            "marker": {
             "colorbar": {
              "outlinewidth": 0,
              "ticks": ""
             }
            },
            "type": "scatterpolar"
           }
          ],
          "scatterpolargl": [
           {
            "marker": {
             "colorbar": {
              "outlinewidth": 0,
              "ticks": ""
             }
            },
            "type": "scatterpolargl"
           }
          ],
          "scatterternary": [
           {
            "marker": {
             "colorbar": {
              "outlinewidth": 0,
              "ticks": ""
             }
            },
            "type": "scatterternary"
           }
          ],
          "surface": [
           {
            "colorbar": {
             "outlinewidth": 0,
             "ticks": ""
            },
            "colorscale": [
             [
              0,
              "#0d0887"
             ],
             [
              0.1111111111111111,
              "#46039f"
             ],
             [
              0.2222222222222222,
              "#7201a8"
             ],
             [
              0.3333333333333333,
              "#9c179e"
             ],
             [
              0.4444444444444444,
              "#bd3786"
             ],
             [
              0.5555555555555556,
              "#d8576b"
             ],
             [
              0.6666666666666666,
              "#ed7953"
             ],
             [
              0.7777777777777778,
              "#fb9f3a"
             ],
             [
              0.8888888888888888,
              "#fdca26"
             ],
             [
              1,
              "#f0f921"
             ]
            ],
            "type": "surface"
           }
          ],
          "table": [
           {
            "cells": {
             "fill": {
              "color": "#EBF0F8"
             },
             "line": {
              "color": "white"
             }
            },
            "header": {
             "fill": {
              "color": "#C8D4E3"
             },
             "line": {
              "color": "white"
             }
            },
            "type": "table"
           }
          ]
         },
         "layout": {
          "annotationdefaults": {
           "arrowcolor": "#2a3f5f",
           "arrowhead": 0,
           "arrowwidth": 1
          },
          "autotypenumbers": "strict",
          "coloraxis": {
           "colorbar": {
            "outlinewidth": 0,
            "ticks": ""
           }
          },
          "colorscale": {
           "diverging": [
            [
             0,
             "#8e0152"
            ],
            [
             0.1,
             "#c51b7d"
            ],
            [
             0.2,
             "#de77ae"
            ],
            [
             0.3,
             "#f1b6da"
            ],
            [
             0.4,
             "#fde0ef"
            ],
            [
             0.5,
             "#f7f7f7"
            ],
            [
             0.6,
             "#e6f5d0"
            ],
            [
             0.7,
             "#b8e186"
            ],
            [
             0.8,
             "#7fbc41"
            ],
            [
             0.9,
             "#4d9221"
            ],
            [
             1,
             "#276419"
            ]
           ],
           "sequential": [
            [
             0,
             "#0d0887"
            ],
            [
             0.1111111111111111,
             "#46039f"
            ],
            [
             0.2222222222222222,
             "#7201a8"
            ],
            [
             0.3333333333333333,
             "#9c179e"
            ],
            [
             0.4444444444444444,
             "#bd3786"
            ],
            [
             0.5555555555555556,
             "#d8576b"
            ],
            [
             0.6666666666666666,
             "#ed7953"
            ],
            [
             0.7777777777777778,
             "#fb9f3a"
            ],
            [
             0.8888888888888888,
             "#fdca26"
            ],
            [
             1,
             "#f0f921"
            ]
           ],
           "sequentialminus": [
            [
             0,
             "#0d0887"
            ],
            [
             0.1111111111111111,
             "#46039f"
            ],
            [
             0.2222222222222222,
             "#7201a8"
            ],
            [
             0.3333333333333333,
             "#9c179e"
            ],
            [
             0.4444444444444444,
             "#bd3786"
            ],
            [
             0.5555555555555556,
             "#d8576b"
            ],
            [
             0.6666666666666666,
             "#ed7953"
            ],
            [
             0.7777777777777778,
             "#fb9f3a"
            ],
            [
             0.8888888888888888,
             "#fdca26"
            ],
            [
             1,
             "#f0f921"
            ]
           ]
          },
          "colorway": [
           "#636efa",
           "#EF553B",
           "#00cc96",
           "#ab63fa",
           "#FFA15A",
           "#19d3f3",
           "#FF6692",
           "#B6E880",
           "#FF97FF",
           "#FECB52"
          ],
          "font": {
           "color": "#2a3f5f"
          },
          "geo": {
           "bgcolor": "white",
           "lakecolor": "white",
           "landcolor": "#E5ECF6",
           "showlakes": true,
           "showland": true,
           "subunitcolor": "white"
          },
          "hoverlabel": {
           "align": "left"
          },
          "hovermode": "closest",
          "mapbox": {
           "style": "light"
          },
          "paper_bgcolor": "white",
          "plot_bgcolor": "#E5ECF6",
          "polar": {
           "angularaxis": {
            "gridcolor": "white",
            "linecolor": "white",
            "ticks": ""
           },
           "bgcolor": "#E5ECF6",
           "radialaxis": {
            "gridcolor": "white",
            "linecolor": "white",
            "ticks": ""
           }
          },
          "scene": {
           "xaxis": {
            "backgroundcolor": "#E5ECF6",
            "gridcolor": "white",
            "gridwidth": 2,
            "linecolor": "white",
            "showbackground": true,
            "ticks": "",
            "zerolinecolor": "white"
           },
           "yaxis": {
            "backgroundcolor": "#E5ECF6",
            "gridcolor": "white",
            "gridwidth": 2,
            "linecolor": "white",
            "showbackground": true,
            "ticks": "",
            "zerolinecolor": "white"
           },
           "zaxis": {
            "backgroundcolor": "#E5ECF6",
            "gridcolor": "white",
            "gridwidth": 2,
            "linecolor": "white",
            "showbackground": true,
            "ticks": "",
            "zerolinecolor": "white"
           }
          },
          "shapedefaults": {
           "line": {
            "color": "#2a3f5f"
           }
          },
          "ternary": {
           "aaxis": {
            "gridcolor": "white",
            "linecolor": "white",
            "ticks": ""
           },
           "baxis": {
            "gridcolor": "white",
            "linecolor": "white",
            "ticks": ""
           },
           "bgcolor": "#E5ECF6",
           "caxis": {
            "gridcolor": "white",
            "linecolor": "white",
            "ticks": ""
           }
          },
          "title": {
           "x": 0.05
          },
          "xaxis": {
           "automargin": true,
           "gridcolor": "white",
           "linecolor": "white",
           "ticks": "",
           "title": {
            "standoff": 15
           },
           "zerolinecolor": "white",
           "zerolinewidth": 2
          },
          "yaxis": {
           "automargin": true,
           "gridcolor": "white",
           "linecolor": "white",
           "ticks": "",
           "title": {
            "standoff": 15
           },
           "zerolinecolor": "white",
           "zerolinewidth": 2
          }
         }
        },
        "title": {
         "text": "Воронка событий",
         "x": 0.5,
         "xanchor": "center"
        }
       }
      },
      "text/html": [
       "<div>                            <div id=\"c13bdb52-4db5-4c79-bbcc-179d3135af26\" class=\"plotly-graph-div\" style=\"height:525px; width:100%;\"></div>            <script type=\"text/javascript\">                require([\"plotly\"], function(Plotly) {                    window.PLOTLYENV=window.PLOTLYENV || {};                                    if (document.getElementById(\"c13bdb52-4db5-4c79-bbcc-179d3135af26\")) {                    Plotly.newPlot(                        \"c13bdb52-4db5-4c79-bbcc-179d3135af26\",                        [{\"connector\":{\"line\":{\"color\":\"royalblue\",\"dash\":\"dot\",\"width\":3}},\"marker\":{\"color\":[\"deepskyblue\",\"lightsalmon\",\"tan\",\"teal\"],\"line\":{\"color\":[\"wheat\",\"blue\",\"wheat\",\"wheat\"],\"width\":[4,2,2,3,1,1]}},\"opacity\":0.65,\"textinfo\":\"value+percent initial\",\"textposition\":\"inside\",\"x\":[7419,4593,3734,3539],\"y\":[\"\\u041f\\u043e\\u0441\\u0435\\u0449\\u0435\\u043d\\u0438\\u0435 \\u0433\\u043b\\u0430\\u0432\\u043d\\u043e\\u0439 \\u0441\\u0442\\u0440\\u0430\\u043d\\u0438\\u0446\\u044b \\u043f\\u0440\\u0438\\u043b\\u043e\\u0436\\u0435\\u043d\\u0438\\u044f\",\"\\u041f\\u043e\\u0441\\u0435\\u0449\\u0435\\u043d\\u0438\\u0435 \\u0441\\u0442\\u0440\\u0430\\u043d\\u0438\\u0446\\u044b \\u0442\\u043e\\u0432\\u0430\\u0440\\u0430\",\"\\u041f\\u043e\\u0441\\u0435\\u0449\\u0435\\u043d\\u0438\\u0435 \\u043a\\u043e\\u0440\\u0437\\u0438\\u043d\\u044b\",\"\\u0421\\u0442\\u0440\\u0430\\u043d\\u0438\\u0446\\u0430 \\u0443\\u0441\\u043f\\u0435\\u0448\\u043d\\u043e\\u0439 \\u043f\\u043e\\u043a\\u0443\\u043f\\u043a\\u0438\"],\"type\":\"funnel\"}],                        {\"template\":{\"data\":{\"bar\":[{\"error_x\":{\"color\":\"#2a3f5f\"},\"error_y\":{\"color\":\"#2a3f5f\"},\"marker\":{\"line\":{\"color\":\"#E5ECF6\",\"width\":0.5},\"pattern\":{\"fillmode\":\"overlay\",\"size\":10,\"solidity\":0.2}},\"type\":\"bar\"}],\"barpolar\":[{\"marker\":{\"line\":{\"color\":\"#E5ECF6\",\"width\":0.5},\"pattern\":{\"fillmode\":\"overlay\",\"size\":10,\"solidity\":0.2}},\"type\":\"barpolar\"}],\"carpet\":[{\"aaxis\":{\"endlinecolor\":\"#2a3f5f\",\"gridcolor\":\"white\",\"linecolor\":\"white\",\"minorgridcolor\":\"white\",\"startlinecolor\":\"#2a3f5f\"},\"baxis\":{\"endlinecolor\":\"#2a3f5f\",\"gridcolor\":\"white\",\"linecolor\":\"white\",\"minorgridcolor\":\"white\",\"startlinecolor\":\"#2a3f5f\"},\"type\":\"carpet\"}],\"choropleth\":[{\"colorbar\":{\"outlinewidth\":0,\"ticks\":\"\"},\"type\":\"choropleth\"}],\"contour\":[{\"colorbar\":{\"outlinewidth\":0,\"ticks\":\"\"},\"colorscale\":[[0.0,\"#0d0887\"],[0.1111111111111111,\"#46039f\"],[0.2222222222222222,\"#7201a8\"],[0.3333333333333333,\"#9c179e\"],[0.4444444444444444,\"#bd3786\"],[0.5555555555555556,\"#d8576b\"],[0.6666666666666666,\"#ed7953\"],[0.7777777777777778,\"#fb9f3a\"],[0.8888888888888888,\"#fdca26\"],[1.0,\"#f0f921\"]],\"type\":\"contour\"}],\"contourcarpet\":[{\"colorbar\":{\"outlinewidth\":0,\"ticks\":\"\"},\"type\":\"contourcarpet\"}],\"heatmap\":[{\"colorbar\":{\"outlinewidth\":0,\"ticks\":\"\"},\"colorscale\":[[0.0,\"#0d0887\"],[0.1111111111111111,\"#46039f\"],[0.2222222222222222,\"#7201a8\"],[0.3333333333333333,\"#9c179e\"],[0.4444444444444444,\"#bd3786\"],[0.5555555555555556,\"#d8576b\"],[0.6666666666666666,\"#ed7953\"],[0.7777777777777778,\"#fb9f3a\"],[0.8888888888888888,\"#fdca26\"],[1.0,\"#f0f921\"]],\"type\":\"heatmap\"}],\"heatmapgl\":[{\"colorbar\":{\"outlinewidth\":0,\"ticks\":\"\"},\"colorscale\":[[0.0,\"#0d0887\"],[0.1111111111111111,\"#46039f\"],[0.2222222222222222,\"#7201a8\"],[0.3333333333333333,\"#9c179e\"],[0.4444444444444444,\"#bd3786\"],[0.5555555555555556,\"#d8576b\"],[0.6666666666666666,\"#ed7953\"],[0.7777777777777778,\"#fb9f3a\"],[0.8888888888888888,\"#fdca26\"],[1.0,\"#f0f921\"]],\"type\":\"heatmapgl\"}],\"histogram\":[{\"marker\":{\"pattern\":{\"fillmode\":\"overlay\",\"size\":10,\"solidity\":0.2}},\"type\":\"histogram\"}],\"histogram2d\":[{\"colorbar\":{\"outlinewidth\":0,\"ticks\":\"\"},\"colorscale\":[[0.0,\"#0d0887\"],[0.1111111111111111,\"#46039f\"],[0.2222222222222222,\"#7201a8\"],[0.3333333333333333,\"#9c179e\"],[0.4444444444444444,\"#bd3786\"],[0.5555555555555556,\"#d8576b\"],[0.6666666666666666,\"#ed7953\"],[0.7777777777777778,\"#fb9f3a\"],[0.8888888888888888,\"#fdca26\"],[1.0,\"#f0f921\"]],\"type\":\"histogram2d\"}],\"histogram2dcontour\":[{\"colorbar\":{\"outlinewidth\":0,\"ticks\":\"\"},\"colorscale\":[[0.0,\"#0d0887\"],[0.1111111111111111,\"#46039f\"],[0.2222222222222222,\"#7201a8\"],[0.3333333333333333,\"#9c179e\"],[0.4444444444444444,\"#bd3786\"],[0.5555555555555556,\"#d8576b\"],[0.6666666666666666,\"#ed7953\"],[0.7777777777777778,\"#fb9f3a\"],[0.8888888888888888,\"#fdca26\"],[1.0,\"#f0f921\"]],\"type\":\"histogram2dcontour\"}],\"mesh3d\":[{\"colorbar\":{\"outlinewidth\":0,\"ticks\":\"\"},\"type\":\"mesh3d\"}],\"parcoords\":[{\"line\":{\"colorbar\":{\"outlinewidth\":0,\"ticks\":\"\"}},\"type\":\"parcoords\"}],\"pie\":[{\"automargin\":true,\"type\":\"pie\"}],\"scatter\":[{\"marker\":{\"colorbar\":{\"outlinewidth\":0,\"ticks\":\"\"}},\"type\":\"scatter\"}],\"scatter3d\":[{\"line\":{\"colorbar\":{\"outlinewidth\":0,\"ticks\":\"\"}},\"marker\":{\"colorbar\":{\"outlinewidth\":0,\"ticks\":\"\"}},\"type\":\"scatter3d\"}],\"scattercarpet\":[{\"marker\":{\"colorbar\":{\"outlinewidth\":0,\"ticks\":\"\"}},\"type\":\"scattercarpet\"}],\"scattergeo\":[{\"marker\":{\"colorbar\":{\"outlinewidth\":0,\"ticks\":\"\"}},\"type\":\"scattergeo\"}],\"scattergl\":[{\"marker\":{\"colorbar\":{\"outlinewidth\":0,\"ticks\":\"\"}},\"type\":\"scattergl\"}],\"scattermapbox\":[{\"marker\":{\"colorbar\":{\"outlinewidth\":0,\"ticks\":\"\"}},\"type\":\"scattermapbox\"}],\"scatterpolar\":[{\"marker\":{\"colorbar\":{\"outlinewidth\":0,\"ticks\":\"\"}},\"type\":\"scatterpolar\"}],\"scatterpolargl\":[{\"marker\":{\"colorbar\":{\"outlinewidth\":0,\"ticks\":\"\"}},\"type\":\"scatterpolargl\"}],\"scatterternary\":[{\"marker\":{\"colorbar\":{\"outlinewidth\":0,\"ticks\":\"\"}},\"type\":\"scatterternary\"}],\"surface\":[{\"colorbar\":{\"outlinewidth\":0,\"ticks\":\"\"},\"colorscale\":[[0.0,\"#0d0887\"],[0.1111111111111111,\"#46039f\"],[0.2222222222222222,\"#7201a8\"],[0.3333333333333333,\"#9c179e\"],[0.4444444444444444,\"#bd3786\"],[0.5555555555555556,\"#d8576b\"],[0.6666666666666666,\"#ed7953\"],[0.7777777777777778,\"#fb9f3a\"],[0.8888888888888888,\"#fdca26\"],[1.0,\"#f0f921\"]],\"type\":\"surface\"}],\"table\":[{\"cells\":{\"fill\":{\"color\":\"#EBF0F8\"},\"line\":{\"color\":\"white\"}},\"header\":{\"fill\":{\"color\":\"#C8D4E3\"},\"line\":{\"color\":\"white\"}},\"type\":\"table\"}]},\"layout\":{\"annotationdefaults\":{\"arrowcolor\":\"#2a3f5f\",\"arrowhead\":0,\"arrowwidth\":1},\"autotypenumbers\":\"strict\",\"coloraxis\":{\"colorbar\":{\"outlinewidth\":0,\"ticks\":\"\"}},\"colorscale\":{\"diverging\":[[0,\"#8e0152\"],[0.1,\"#c51b7d\"],[0.2,\"#de77ae\"],[0.3,\"#f1b6da\"],[0.4,\"#fde0ef\"],[0.5,\"#f7f7f7\"],[0.6,\"#e6f5d0\"],[0.7,\"#b8e186\"],[0.8,\"#7fbc41\"],[0.9,\"#4d9221\"],[1,\"#276419\"]],\"sequential\":[[0.0,\"#0d0887\"],[0.1111111111111111,\"#46039f\"],[0.2222222222222222,\"#7201a8\"],[0.3333333333333333,\"#9c179e\"],[0.4444444444444444,\"#bd3786\"],[0.5555555555555556,\"#d8576b\"],[0.6666666666666666,\"#ed7953\"],[0.7777777777777778,\"#fb9f3a\"],[0.8888888888888888,\"#fdca26\"],[1.0,\"#f0f921\"]],\"sequentialminus\":[[0.0,\"#0d0887\"],[0.1111111111111111,\"#46039f\"],[0.2222222222222222,\"#7201a8\"],[0.3333333333333333,\"#9c179e\"],[0.4444444444444444,\"#bd3786\"],[0.5555555555555556,\"#d8576b\"],[0.6666666666666666,\"#ed7953\"],[0.7777777777777778,\"#fb9f3a\"],[0.8888888888888888,\"#fdca26\"],[1.0,\"#f0f921\"]]},\"colorway\":[\"#636efa\",\"#EF553B\",\"#00cc96\",\"#ab63fa\",\"#FFA15A\",\"#19d3f3\",\"#FF6692\",\"#B6E880\",\"#FF97FF\",\"#FECB52\"],\"font\":{\"color\":\"#2a3f5f\"},\"geo\":{\"bgcolor\":\"white\",\"lakecolor\":\"white\",\"landcolor\":\"#E5ECF6\",\"showlakes\":true,\"showland\":true,\"subunitcolor\":\"white\"},\"hoverlabel\":{\"align\":\"left\"},\"hovermode\":\"closest\",\"mapbox\":{\"style\":\"light\"},\"paper_bgcolor\":\"white\",\"plot_bgcolor\":\"#E5ECF6\",\"polar\":{\"angularaxis\":{\"gridcolor\":\"white\",\"linecolor\":\"white\",\"ticks\":\"\"},\"bgcolor\":\"#E5ECF6\",\"radialaxis\":{\"gridcolor\":\"white\",\"linecolor\":\"white\",\"ticks\":\"\"}},\"scene\":{\"xaxis\":{\"backgroundcolor\":\"#E5ECF6\",\"gridcolor\":\"white\",\"gridwidth\":2,\"linecolor\":\"white\",\"showbackground\":true,\"ticks\":\"\",\"zerolinecolor\":\"white\"},\"yaxis\":{\"backgroundcolor\":\"#E5ECF6\",\"gridcolor\":\"white\",\"gridwidth\":2,\"linecolor\":\"white\",\"showbackground\":true,\"ticks\":\"\",\"zerolinecolor\":\"white\"},\"zaxis\":{\"backgroundcolor\":\"#E5ECF6\",\"gridcolor\":\"white\",\"gridwidth\":2,\"linecolor\":\"white\",\"showbackground\":true,\"ticks\":\"\",\"zerolinecolor\":\"white\"}},\"shapedefaults\":{\"line\":{\"color\":\"#2a3f5f\"}},\"ternary\":{\"aaxis\":{\"gridcolor\":\"white\",\"linecolor\":\"white\",\"ticks\":\"\"},\"baxis\":{\"gridcolor\":\"white\",\"linecolor\":\"white\",\"ticks\":\"\"},\"bgcolor\":\"#E5ECF6\",\"caxis\":{\"gridcolor\":\"white\",\"linecolor\":\"white\",\"ticks\":\"\"}},\"title\":{\"x\":0.05},\"xaxis\":{\"automargin\":true,\"gridcolor\":\"white\",\"linecolor\":\"white\",\"ticks\":\"\",\"title\":{\"standoff\":15},\"zerolinecolor\":\"white\",\"zerolinewidth\":2},\"yaxis\":{\"automargin\":true,\"gridcolor\":\"white\",\"linecolor\":\"white\",\"ticks\":\"\",\"title\":{\"standoff\":15},\"zerolinecolor\":\"white\",\"zerolinewidth\":2}}},\"title\":{\"text\":\"\\u0412\\u043e\\u0440\\u043e\\u043d\\u043a\\u0430 \\u0441\\u043e\\u0431\\u044b\\u0442\\u0438\\u0439\",\"x\":0.5,\"xanchor\":\"center\"}},                        {\"responsive\": true}                    ).then(function(){\n",
       "                            \n",
       "var gd = document.getElementById('c13bdb52-4db5-4c79-bbcc-179d3135af26');\n",
       "var x = new MutationObserver(function (mutations, observer) {{\n",
       "        var display = window.getComputedStyle(gd).display;\n",
       "        if (!display || display === 'none') {{\n",
       "            console.log([gd, 'removed!']);\n",
       "            Plotly.purge(gd);\n",
       "            observer.disconnect();\n",
       "        }}\n",
       "}});\n",
       "\n",
       "// Listen for the removal of the full notebook cells\n",
       "var notebookContainer = gd.closest('#notebook-container');\n",
       "if (notebookContainer) {{\n",
       "    x.observe(notebookContainer, {childList: true});\n",
       "}}\n",
       "\n",
       "// Listen for the clearing of the current output cell\n",
       "var outputEl = gd.closest('.output');\n",
       "if (outputEl) {{\n",
       "    x.observe(outputEl, {childList: true});\n",
       "}}\n",
       "\n",
       "                        })                };                });            </script>        </div>"
      ]
     },
     "metadata": {},
     "output_type": "display_data"
    }
   ],
   "source": [
    "fig = go.Figure(go.Funnel(\n",
    "    y = [\"Посещение главной страницы приложения\", \"Посещение страницы товара\", \"Посещение корзины\", \"Страница успешной покупки\"],\n",
    "    x = [event_user.loc['MainScreenAppear', 'user_id'], event_user.loc['OffersScreenAppear', 'user_id'],\n",
    "        event_user.loc['CartScreenAppear', 'user_id'], event_user.loc['PaymentScreenSuccessful', 'user_id']],\n",
    "    textposition = \"inside\",\n",
    "    textinfo = \"value+percent initial\",\n",
    "    opacity = 0.65, marker = {\"color\": [\"deepskyblue\", \"lightsalmon\", \"tan\", \"teal\"],\n",
    "    \"line\": {\"width\": [4, 2, 2, 3, 1, 1], \"color\": [\"wheat\", \"blue\", \"wheat\", \"wheat\"]}},\n",
    "    connector = {\"line\": {\"color\": \"royalblue\", \"dash\": \"dot\", \"width\": 3}})\n",
    "    )\n",
    "fig.update_layout(title={'text' : 'Воронка событий', 'x':0.5, 'xanchor': 'center'        })\n",
    "fig.show()"
   ]
  },
  {
   "cell_type": "markdown",
   "metadata": {},
   "source": [
    "**Вывод:**\n",
    "\n",
    "В логе всего 5 уникальных событий, самым частым из них является MainScreenAppear (почти половина всех событий), редким - Tutorial (менее 1 %). Среди уникальных пользователей просмотр главной страницы приложения (MainScreenAppear) также остается самым частым событием, открытие (просмотр) руководства пользования приложением (Tutorial) - самым редким событием. Почти все пользователи посещали главную страницу приложения хотя бы один раз (недостающий процент пользователей можно объяснить срезом данных или, возможно, они переходили по ссылке уже товара непосредственно). 61% пользователей посещали окно товара, 50% - окно корзины, 47% - окно успешной оплаты, 11% - открытие (просмотр) руководства пользования приложением.\n",
    "\n",
    "Можно предположить, что пользователь проходит следующую цепочку:\n",
    "\n",
    "1. Просмотр главной страницы приложения\n",
    "2. Окно товара\n",
    "3. Окно корзины\n",
    "4. Окно успешной оплаты\n",
    "\n",
    "\n",
    "В эту последовательную цепочку нельзя встроить просмотр руководства пользования приложением, так как это можно сделать в любой момент и это не влияет на покупку товара пользователем. Поэтому это событие не будем учитывать при расчёте воронки.\n",
    "На первом шаге мы теряем больше всего пользователей: число пользователей, просмотревших страницу товара, к числу пользователей, просмотревших главное окно приложения (по сути, открывших приложение) - 62%. В то время, как 81.3% пользователей просмотревших товар, переходят на страницу корзину, и лишь 5.3% пользователей не оплачивают товар из корзины. 48% пользователей доходит от первого события к последнему. "
   ]
  },
  {
   "cell_type": "markdown",
   "metadata": {},
   "source": [
    "**Шаг 5. Изучите результаты эксперимента**"
   ]
  },
  {
   "cell_type": "markdown",
   "metadata": {},
   "source": [
    "*Сколько пользователей в каждой экспериментальной группе?*"
   ]
  },
  {
   "cell_type": "code",
   "execution_count": 98,
   "metadata": {},
   "outputs": [
    {
     "data": {
      "text/html": [
       "<div>\n",
       "<style scoped>\n",
       "    .dataframe tbody tr th:only-of-type {\n",
       "        vertical-align: middle;\n",
       "    }\n",
       "\n",
       "    .dataframe tbody tr th {\n",
       "        vertical-align: top;\n",
       "    }\n",
       "\n",
       "    .dataframe thead th {\n",
       "        text-align: right;\n",
       "    }\n",
       "</style>\n",
       "<table border=\"1\" class=\"dataframe\">\n",
       "  <thead>\n",
       "    <tr style=\"text-align: right;\">\n",
       "      <th></th>\n",
       "      <th>user_id</th>\n",
       "    </tr>\n",
       "    <tr>\n",
       "      <th>group</th>\n",
       "      <th></th>\n",
       "    </tr>\n",
       "  </thead>\n",
       "  <tbody>\n",
       "    <tr>\n",
       "      <th>246</th>\n",
       "      <td>2484</td>\n",
       "    </tr>\n",
       "    <tr>\n",
       "      <th>247</th>\n",
       "      <td>2513</td>\n",
       "    </tr>\n",
       "    <tr>\n",
       "      <th>248</th>\n",
       "      <td>2537</td>\n",
       "    </tr>\n",
       "  </tbody>\n",
       "</table>\n",
       "</div>"
      ],
      "text/plain": [
       "       user_id\n",
       "group         \n",
       "246       2484\n",
       "247       2513\n",
       "248       2537"
      ]
     },
     "execution_count": 98,
     "metadata": {},
     "output_type": "execute_result"
    }
   ],
   "source": [
    "groups = df_filtered.pivot_table(index='group', values='user_id', aggfunc='nunique')\n",
    "groups"
   ]
  },
  {
   "cell_type": "code",
   "execution_count": 99,
   "metadata": {},
   "outputs": [
    {
     "data": {
      "text/plain": [
       "248    84563\n",
       "246    79302\n",
       "247    77022\n",
       "Name: group, dtype: int64"
      ]
     },
     "execution_count": 99,
     "metadata": {},
     "output_type": "execute_result"
    }
   ],
   "source": [
    "df_filtered['group'].value_counts()"
   ]
  },
  {
   "cell_type": "markdown",
   "metadata": {},
   "source": [
    "В экспериментальных группах примерно одинаковое количество пользователей и одинаковое число событий."
   ]
  },
  {
   "cell_type": "markdown",
   "metadata": {},
   "source": [
    "*Есть 2 контрольные группы для А/А-эксперимента, чтобы проверить корректность всех механизмов и расчётов. Проверьте, находят ли статистические критерии разницу между выборками 246 и 247*\n",
    "\n",
    "*Выберите самое популярное событие. Посчитайте число пользователей, совершивших это событие в каждой из контрольных групп. Посчитайте долю пользователей, совершивших это событие. Проверьте, будет ли отличие между группами статистически достоверным. Проделайте то же самое для всех других событий (удобно обернуть проверку в отдельную функцию). Можно ли сказать, что разбиение на группы работает корректно?*"
   ]
  },
  {
   "cell_type": "markdown",
   "metadata": {},
   "source": [
    "Воспользуемся критериями успешного A/A-теста: \n",
    "* Количество пользователей в различных группах различается не более, чем на 1%;\n",
    "* Для всех групп фиксируют и отправляют в системы аналитики данные об одном и том же;\n",
    "* Различие ключевых метрик по группам не превышает 1% и не имеет статистической значимости;\n",
    "* Попавший в одну из групп посетитель остаётся в этой группе до конца теста. Если пользователь видит разные версии исследуемой страницы в ходе одного исследования, неизвестно, какая именно повлияла на его решения. Значит, и результаты такого теста нельзя интерпретировать однозначно."
   ]
  },
  {
   "cell_type": "code",
   "execution_count": 100,
   "metadata": {},
   "outputs": [],
   "source": [
    "#создадим три датасета по группам\n",
    "df_filtered_246 = df_filtered.query('group == 246')\n",
    "df_filtered_247 = df_filtered.query('group == 247')\n",
    "df_filtered_248 = df_filtered.query('group == 248')"
   ]
  },
  {
   "cell_type": "code",
   "execution_count": 101,
   "metadata": {},
   "outputs": [
    {
     "data": {
      "text/plain": [
       "1.1539992041384783"
      ]
     },
     "execution_count": 101,
     "metadata": {},
     "output_type": "execute_result"
    }
   ],
   "source": [
    "(1 - df_filtered_246['user_id'].nunique() / df_filtered_247['user_id'].nunique()) * 100"
   ]
  },
  {
   "cell_type": "markdown",
   "metadata": {},
   "source": [
    "В контрольных группах количество пользователей различается на 1.15, при округлении до целых, получим необходимое различие в количестве пользователей в различных группах не более, чем на 1%."
   ]
  },
  {
   "cell_type": "code",
   "execution_count": 102,
   "metadata": {},
   "outputs": [
    {
     "name": "stdout",
     "output_type": "stream",
     "text": [
      "Совпадений по уникальным пользователям между контрольными группами: 0\n"
     ]
    }
   ],
   "source": [
    "print('Совпадений по уникальным пользователям между контрольными группами:', \\\n",
    "      len(set(df_filtered_246['user_id']) & set(df_filtered_247['user_id'])))"
   ]
  },
  {
   "cell_type": "code",
   "execution_count": 103,
   "metadata": {},
   "outputs": [
    {
     "data": {
      "text/plain": [
       "MainScreenAppear           37676\n",
       "OffersScreenAppear         14767\n",
       "CartScreenAppear           14690\n",
       "PaymentScreenSuccessful    11852\n",
       "Tutorial                     317\n",
       "Name: event_name, dtype: int64"
      ]
     },
     "execution_count": 103,
     "metadata": {},
     "output_type": "execute_result"
    }
   ],
   "source": [
    "top_246 = df_filtered_246['event_name'].value_counts()\n",
    "top_246"
   ]
  },
  {
   "cell_type": "code",
   "execution_count": 104,
   "metadata": {},
   "outputs": [
    {
     "data": {
      "text/plain": [
       "MainScreenAppear           39090\n",
       "OffersScreenAppear         15179\n",
       "CartScreenAppear           12434\n",
       "PaymentScreenSuccessful     9981\n",
       "Tutorial                     338\n",
       "Name: event_name, dtype: int64"
      ]
     },
     "execution_count": 104,
     "metadata": {},
     "output_type": "execute_result"
    }
   ],
   "source": [
    "top_247 = df_filtered_247['event_name'].value_counts()\n",
    "top_247"
   ]
  },
  {
   "cell_type": "code",
   "execution_count": 105,
   "metadata": {},
   "outputs": [
    {
     "data": {
      "image/png": "[encoded data removed]",
      "text/plain": [
       "<Figure size 1440x360 with 2 Axes>"
      ]
     },
     "metadata": {},
     "output_type": "display_data"
    }
   ],
   "source": [
    "fig, (ax1, ax2) = plt.subplots(1, 2, figsize=(20,5))\n",
    "fig.suptitle('Частота событий в контрольных группах')\n",
    "\n",
    "ax1.pie(top_246, labels = list(top_246.index), colors=sns.color_palette('pastel'), autopct='%1.1f%%')\n",
    "ax1.set_title('246 группа')\n",
    "\n",
    "ax2.pie(top_247, labels = list(top_247.index), colors=sns.color_palette('pastel'), autopct='%1.1f%%')\n",
    "ax2.set_title('247 группа');"
   ]
  },
  {
   "cell_type": "markdown",
   "metadata": {},
   "source": [
    "Самым популярным событием в обеих контрольных группах является - просмотр главной страницы приложения (MainScreenAppear)."
   ]
  },
  {
   "cell_type": "code",
   "execution_count": 106,
   "metadata": {},
   "outputs": [],
   "source": [
    "def st_parts(event_name, group1, group2, alpha):\n",
    "    #alpha = 0.01\n",
    "\n",
    "    #число уникальных пользователей, совершивших событие \n",
    "    n_group1_event = group1[group1['event_name'] == event_name]['user_id'].nunique() \n",
    "    n_group2_event = group2[group2['event_name'] == event_name]['user_id'].nunique()\n",
    "\n",
    "    #число уникальных пользователей в группах\n",
    "    n_group1 = group1['user_id'].nunique()\n",
    "    n_group2 = group2['user_id'].nunique()\n",
    "\n",
    "\n",
    "    p1 = n_group1_event / n_group1\n",
    "    p2 = n_group2_event / n_group2\n",
    "\n",
    "    p_combined = (n_group1_event + n_group2_event) / (n_group1 + n_group2)\n",
    "    difference = p1 - p2 \n",
    "    z_value = difference / mth.sqrt(p_combined * (1 - p_combined) * (1 / n_group1 + 1 / n_group2)) \n",
    "\n",
    "\n",
    "    distr = st.norm(0, 1) \n",
    "    p_value = (1 - distr.cdf(abs(z_value))) * 2\n",
    "\n",
    "    print('p-значение: ', p_value)\n",
    "\n",
    "    if p_value < alpha:\n",
    "        print('Отвергаем нулевую гипотезу: между долями есть значимая разница.\\nРазница в долях: ', \\\n",
    "              round(abs(1-p1/p2)*100, 2), '%')\n",
    "    else:\n",
    "        print('Не получилось отвергнуть нулевую гипотезу, нет оснований считать доли разными.\\nРазница в долях: ', \\\n",
    "              round(abs(1-p1/p2)*100, 2), '%')\n",
    "\n",
    "\n"
   ]
  },
  {
   "cell_type": "markdown",
   "metadata": {},
   "source": [
    "Проверим, имеются ли статистически значимые различия между пропорциями, наблюдаемыми на контрольных выборках.\n",
    "\n",
    "**Нулевая гипотеза:** статистически значимых различий между долями нет.\n",
    "\n",
    "**Альтернативная гипотеза:** статистически значимые различия  между долями есть."
   ]
  },
  {
   "cell_type": "code",
   "execution_count": 107,
   "metadata": {},
   "outputs": [
    {
     "name": "stdout",
     "output_type": "stream",
     "text": [
      "Tutorial\n",
      "p-значение:  0.9376996189257114\n",
      "Не получилось отвергнуть нулевую гипотезу, нет оснований считать доли разными.\n",
      "Разница в долях:  0.62 %\n",
      "\n",
      "MainScreenAppear\n",
      "p-значение:  0.7570597232046099\n",
      "Не получилось отвергнуть нулевую гипотезу, нет оснований считать доли разными.\n",
      "Разница в долях:  0.11 %\n",
      "\n",
      "OffersScreenAppear\n",
      "p-значение:  0.2480954578522181\n",
      "Не получилось отвергнуть нулевую гипотезу, нет оснований считать доли разными.\n",
      "Разница в долях:  2.63 %\n",
      "\n",
      "PaymentScreenSuccessful\n",
      "p-значение:  0.11456679313141849\n",
      "Не получилось отвергнуть нулевую гипотезу, нет оснований считать доли разными.\n",
      "Разница в долях:  4.84 %\n",
      "\n",
      "CartScreenAppear\n",
      "p-значение:  0.22883372237997213\n",
      "Не получилось отвергнуть нулевую гипотезу, нет оснований считать доли разными.\n",
      "Разница в долях:  3.46 %\n",
      "\n"
     ]
    }
   ],
   "source": [
    "#проверим, каждое доли событий в контрольных группах\n",
    "for i in df_filtered_246['event_name'].unique():\n",
    "    print(i)\n",
    "    st_parts(i, df_filtered_246, df_filtered_247, 0.01)\n",
    "    print()"
   ]
  },
  {
   "cell_type": "markdown",
   "metadata": {},
   "source": [
    "Таким образом, различие в долях не имеет статистической значимости.  Разбиение на группы работает корректно."
   ]
  },
  {
   "cell_type": "markdown",
   "metadata": {},
   "source": [
    "*Аналогично поступите с группой с изменённым шрифтом. Сравните результаты с каждой из контрольных групп в отдельности по каждому событию. Сравните результаты с объединённой контрольной группой. Какие выводы из эксперимента можно сделать?*"
   ]
  },
  {
   "cell_type": "markdown",
   "metadata": {},
   "source": [
    "Проверим, имеются ли статистически значимые различия между пропорциями, наблюдаемыми на экспериментальных выборках.\n",
    "\n",
    "**Нулевая гипотеза:** статистически значимых различий между долями нет.\n",
    "\n",
    "**Альтернативная гипотеза:** статистически значимые различия  между долями есть."
   ]
  },
  {
   "cell_type": "code",
   "execution_count": 108,
   "metadata": {},
   "outputs": [
    {
     "name": "stdout",
     "output_type": "stream",
     "text": [
      "246 и 248 группы\n",
      "Tutorial\n",
      "p-значение:  0.8264294010087645\n",
      "Не получилось отвергнуть нулевую гипотезу, нет оснований считать доли разными.\n",
      "Разница в долях:  1.77 %\n",
      "\n",
      "MainScreenAppear\n",
      "p-значение:  0.2949721933554552\n",
      "Не получилось отвергнуть нулевую гипотезу, нет оснований считать доли разными.\n",
      "Разница в долях:  0.37 %\n",
      "\n",
      "OffersScreenAppear\n",
      "p-значение:  0.20836205402738917\n",
      "Не получилось отвергнуть нулевую гипотезу, нет оснований считать доли разными.\n",
      "Разница в долях:  2.87 %\n",
      "\n",
      "PaymentScreenSuccessful\n",
      "p-значение:  0.2122553275697796\n",
      "Не получилось отвергнуть нулевую гипотезу, нет оснований считать доли разными.\n",
      "Разница в долях:  3.78 %\n",
      "\n",
      "CartScreenAppear\n",
      "p-значение:  0.07842923237520116\n",
      "Не получилось отвергнуть нулевую гипотезу, нет оснований считать доли разными.\n",
      "Разница в долях:  5.12 %\n",
      "\n"
     ]
    }
   ],
   "source": [
    "#сравниваем результаты 246 и 248 групп\n",
    "print('246 и 248 группы')\n",
    "for i in df_filtered_246['event_name'].unique():\n",
    "    print(i)\n",
    "    st_parts(i, df_filtered_246, df_filtered_248, 0.01)\n",
    "    print()"
   ]
  },
  {
   "cell_type": "markdown",
   "metadata": {},
   "source": [
    "Статистически значимых различий в долях на выборках 246 и 248 нет."
   ]
  },
  {
   "cell_type": "code",
   "execution_count": 109,
   "metadata": {},
   "outputs": [
    {
     "name": "stdout",
     "output_type": "stream",
     "text": [
      "247 и 248 группы\n",
      "Tutorial\n",
      "p-значение:  0.765323922474501\n",
      "Не получилось отвергнуть нулевую гипотезу, нет оснований считать доли разными.\n",
      "Разница в долях:  2.4 %\n",
      "\n",
      "MainScreenAppear\n",
      "p-значение:  0.4587053616621515\n",
      "Не получилось отвергнуть нулевую гипотезу, нет оснований считать доли разными.\n",
      "Разница в долях:  0.27 %\n",
      "\n",
      "OffersScreenAppear\n",
      "p-значение:  0.9197817830592261\n",
      "Не получилось отвергнуть нулевую гипотезу, нет оснований считать доли разными.\n",
      "Разница в долях:  0.23 %\n",
      "\n",
      "PaymentScreenSuccessful\n",
      "p-значение:  0.7373415053803964\n",
      "Не получилось отвергнуть нулевую гипотезу, нет оснований считать доли разными.\n",
      "Разница в долях:  1.01 %\n",
      "\n",
      "CartScreenAppear\n",
      "p-значение:  0.5786197879539783\n",
      "Не получилось отвергнуть нулевую гипотезу, нет оснований считать доли разными.\n",
      "Разница в долях:  1.61 %\n",
      "\n"
     ]
    }
   ],
   "source": [
    "#сравниваем результаты 247 и 248 групп\n",
    "print('247 и 248 группы')\n",
    "for i in df_filtered_246['event_name'].unique():\n",
    "    print(i)\n",
    "    st_parts(i, df_filtered_247, df_filtered_248, 0.01)\n",
    "    print()"
   ]
  },
  {
   "cell_type": "markdown",
   "metadata": {},
   "source": [
    "Статистически значимых различий в долях на выборках 247 и 248 нет."
   ]
  },
  {
   "cell_type": "code",
   "execution_count": 110,
   "metadata": {},
   "outputs": [],
   "source": [
    "#объединим контрольные группы\n",
    "c_group = pd.concat([df_filtered_247, df_filtered_246], axis=0)"
   ]
  },
  {
   "cell_type": "code",
   "execution_count": 111,
   "metadata": {},
   "outputs": [
    {
     "name": "stdout",
     "output_type": "stream",
     "text": [
      "объединенная контрольная группа и 248 группа\n",
      "\n",
      "Tutorial\n",
      "p-значение:  0.764862472531507\n",
      "Не получилось отвергнуть нулевую гипотезу, нет оснований считать доли разными.\n",
      "Разница в долях:  2.09 %\n",
      "\n",
      "MainScreenAppear\n",
      "p-значение:  0.29424526837179577\n",
      "Не получилось отвергнуть нулевую гипотезу, нет оснований считать доли разными.\n",
      "Разница в долях:  0.32 %\n",
      "\n",
      "OffersScreenAppear\n",
      "p-значение:  0.43425549655188256\n",
      "Не получилось отвергнуть нулевую гипотезу, нет оснований считать доли разными.\n",
      "Разница в долях:  1.54 %\n",
      "\n",
      "PaymentScreenSuccessful\n",
      "p-значение:  0.6004294282308704\n",
      "Не получилось отвергнуть нулевую гипотезу, нет оснований считать доли разными.\n",
      "Разница в долях:  1.37 %\n",
      "\n",
      "CartScreenAppear\n",
      "p-значение:  0.18175875284404386\n",
      "Не получилось отвергнуть нулевую гипотезу, нет оснований считать доли разными.\n",
      "Разница в долях:  3.36 %\n",
      "\n"
     ]
    }
   ],
   "source": [
    "#сравниваем результаты объединенной контрольной группы и 248 группы\n",
    "print('объединенная контрольная группа и 248 группа\\n')\n",
    "for i in df_filtered_246['event_name'].unique():\n",
    "    print(i)\n",
    "    st_parts(i, c_group, df_filtered_248, 0.05)\n",
    "    print()"
   ]
  },
  {
   "cell_type": "markdown",
   "metadata": {},
   "source": [
    "Также статистически значимых различий в долях на объединенной контрольной выборке и 248 выборке нет."
   ]
  },
  {
   "cell_type": "markdown",
   "metadata": {},
   "source": [
    "*Какой уровень значимости вы выбрали при проверке статистических гипотез выше? Посчитайте, сколько проверок статистических гипотез вы сделали. При уровне значимости 0.1 в 10% случаев можно ошибочно отклонить нулевую гипотезу при условии, что она верна. Какой уровень значимости стоит применить? Если вы хотите изменить его, проделайте предыдущие пункты и проверьте свои выводы.*"
   ]
  },
  {
   "cell_type": "markdown",
   "metadata": {},
   "source": [
    "При проверке статистических гипотез мной был выбран уровень значимости в 0.01. Было проведено 20 проверок статистических гипотез, следовало бы применить корректировку уровня значимости на множественное сравнение, но в данной ситуации этого нет смысла делать, так как были подтверждены нулевые гипотезы, а при поправке на множественное сравнение уровень значимости станет еще выше (то есть в числах альфа станет еще меньше, чем выбранный 0.01), а значит, полученное p-значение, которое было больше 0.01, будет больше и скорректированного значения."
   ]
  },
  {
   "cell_type": "markdown",
   "metadata": {},
   "source": [
    "**Вывод:**\n",
    "\n",
    "Для эксперимента контрольные группы были выбраны корректно: в них нет одинаковых пользователей, они почти одинаковы по количеству пользователей и в долях этих групп нет статистических значимых различий на уровне 0.01. Сравнение каждой из контрольных групп и объединенной контрольной группы с экспериментальной группой также не выявило статистически значимых различий в долях между этими группами, а значит, изменение шрифта во всем приложении никак не повлияло на пользователей, т.е. если дизайнеры захотели просто поменять шрифт, то менеджерам не стоит бояться, пользователи отнеслись к этому лояльно. Если же преследовать цели повышения конверсия - изменение шрифта не привело к этому. Учитывая большой отток на первом шаге воронки: с главного экрана на страницу с товаром, надо менять что-то на главной странице приложения."
   ]
  },
  {
   "cell_type": "markdown",
   "metadata": {},
   "source": [
    "**Общий вывод**:\n",
    "\n",
    "1. Для анализа данных был предоставлен набор, содержащий 244126 записей и 4 столбца. \n",
    "2. В предообработке таблицы данных были удалены явные дубликаты, изменены названия столбцов, добавлены столбец с датой, изменен тип данных у столбца с датой и временем события. Пропущенных значений в датафрейме нет. \n",
    "3. Всего в  логе 5 уникальных событий и 7557 уникальных пользователей, при этом в среднем на одного пользователя приходится 32.28 события. Лог событий охватывает временной промежуток с 25 июля 2019 по 7 августа 2019 года, но до 1 августа 2019 событий значительно меньше, чем далее, с этого дня данные можно считать полными, поэтому было принято решение создать новый датафрейм с временным срезом от 1 до 7 августа 2019 года, в выбранный временной период не попало всего 1.16% событий и 0.23% уникальных пользователей, при этом во всех трех экспериментальных группах количество пользователей распределено сравнимо одинаково.\n",
    "4. Самым частым событием является MainScreenAppear (почти половина всех событий), редким - Tutorial (менее 1 %). Среди уникальных пользователей просмотр главной страницы приложения (MainScreenAppear) также остается самым частым событием, открытие (просмотр) руководства пользования приложением (Tutorial) - самым редким событием. Почти все пользователи посещали главную страницу приложения хотя бы один раз (недостающий процент пользователей можно объяснить срезом данных или, возможно, они переходили по ссылке уже товара непосредственно). 61% пользователей посещали окно товара, 50% - окно корзины, 47% - окно успешной оплаты, 11% - открытие (просмотр) руководства пользования приложением. Можно предположить, что пользователь проходит следующую цепочку: \n",
    "* Просмотр главной страницы приложения\n",
    "* Окно товара\n",
    "* Окно корзины\n",
    "* Окно успешной оплаты\n",
    "    \n",
    "    В эту последовательную цепочку нельзя встроить просмотр руководства пользования приложением, так как это можно сделать в любой момент и это не влияет на покупку товара пользователем. Поэтому это событие не будем учитывать при расчёте воронки. На первом шаге мы теряем больше всего пользователей: число пользователей, просмотревших страницу товара, к числу пользователей, просмотревших главное окно приложения (по сути, открывших приложение) - 62%. В то время, как 81.3% пользователей просмотревших товар, переходят на страницу корзину, и лишь 5.3% пользователей не оплачивают товар из корзины. 48% пользователей доходит от первого события к последнему.\n",
    "5. Для эксперимента контрольные группы были выбраны корректно: в них нет одинаковых пользователей, они почти одинаковы по количеству пользователей и в долях этих групп нет статистических значимых различий на уровне 0.01. Сравнение каждой из контрольных групп и объединенной контрольной группы с экспериментальной группой также не выявило статистически значимых различий в долях между этими группами, а значит, изменение шрифта во всем приложении никак не повлияло на пользователей, т.е. если дизайнеры захотели просто поменять шрифт, то менеджерам не стоит бояться, пользователи отнеслись к этому лояльно. Если же преследовать цели повышения конверсии - изменение шрифта не привело к этому. Учитывая большой отток на первом шаге воронки: с главного экрана на страницу с товаром, надо менять что-то на главной странице приложения.  \n"
   ]
  }
 ],
 "metadata": {
  "ExecuteTimeLog": [
   {
    "duration": 409,
    "start_time": "2024-05-13T11:29:20.111Z"
   },
   {
    "duration": 406,
    "start_time": "2024-05-13T11:30:24.529Z"
   },
   {
    "duration": 23,
    "start_time": "2024-05-13T11:30:33.689Z"
   },
   {
    "duration": 15,
    "start_time": "2024-05-13T11:30:44.038Z"
   },
   {
    "duration": 190,
    "start_time": "2024-05-13T11:30:58.658Z"
   },
   {
    "duration": 11,
    "start_time": "2024-05-13T11:30:59.561Z"
   },
   {
    "duration": 22,
    "start_time": "2024-05-13T11:31:06.290Z"
   },
   {
    "duration": 8,
    "start_time": "2024-05-13T11:32:58.889Z"
   },
   {
    "duration": 8,
    "start_time": "2024-05-13T11:33:15.249Z"
   },
   {
    "duration": 7,
    "start_time": "2024-05-13T11:38:41.904Z"
   },
   {
    "duration": 22,
    "start_time": "2024-05-13T11:38:47.200Z"
   },
   {
    "duration": 8,
    "start_time": "2024-05-13T11:39:03.556Z"
   },
   {
    "duration": 21,
    "start_time": "2024-05-13T11:39:06.544Z"
   },
   {
    "duration": 2,
    "start_time": "2024-05-13T11:41:00.858Z"
   },
   {
    "duration": 419,
    "start_time": "2024-05-13T11:45:34.969Z"
   },
   {
    "duration": 707,
    "start_time": "2024-05-13T11:46:18.330Z"
   },
   {
    "duration": 8,
    "start_time": "2024-05-13T11:46:25.360Z"
   },
   {
    "duration": 722,
    "start_time": "2024-05-13T11:46:50.840Z"
   },
   {
    "duration": 8,
    "start_time": "2024-05-13T11:46:52.134Z"
   },
   {
    "duration": 693,
    "start_time": "2024-05-13T11:47:07.000Z"
   },
   {
    "duration": 8,
    "start_time": "2024-05-13T11:47:07.695Z"
   },
   {
    "duration": 746,
    "start_time": "2024-05-13T11:47:14.000Z"
   },
   {
    "duration": 15,
    "start_time": "2024-05-13T11:47:14.747Z"
   },
   {
    "duration": 14,
    "start_time": "2024-05-13T12:56:53.646Z"
   },
   {
    "duration": 12,
    "start_time": "2024-05-13T12:57:11.227Z"
   },
   {
    "duration": 10,
    "start_time": "2024-05-13T12:57:12.156Z"
   },
   {
    "duration": 23,
    "start_time": "2024-05-13T12:57:23.387Z"
   },
   {
    "duration": 7,
    "start_time": "2024-05-13T12:59:58.428Z"
   },
   {
    "duration": 14,
    "start_time": "2024-05-13T12:59:59.083Z"
   },
   {
    "duration": 9,
    "start_time": "2024-05-13T12:59:59.740Z"
   },
   {
    "duration": 3,
    "start_time": "2024-05-13T13:00:04.900Z"
   },
   {
    "duration": 207,
    "start_time": "2024-05-13T13:00:06.171Z"
   },
   {
    "duration": 8,
    "start_time": "2024-05-13T13:00:07.043Z"
   },
   {
    "duration": 21,
    "start_time": "2024-05-13T13:00:08.852Z"
   },
   {
    "duration": 7,
    "start_time": "2024-05-13T13:00:12.387Z"
   },
   {
    "duration": 7,
    "start_time": "2024-05-13T13:00:13.252Z"
   },
   {
    "duration": 8,
    "start_time": "2024-05-13T13:00:13.963Z"
   },
   {
    "duration": 68,
    "start_time": "2024-05-13T13:00:47.188Z"
   },
   {
    "duration": 34,
    "start_time": "2024-05-13T13:00:50.012Z"
   },
   {
    "duration": 9,
    "start_time": "2024-05-13T13:00:57.387Z"
   },
   {
    "duration": 96,
    "start_time": "2024-05-13T13:01:44.483Z"
   },
   {
    "duration": 93,
    "start_time": "2024-05-13T13:04:15.454Z"
   },
   {
    "duration": 80,
    "start_time": "2024-05-13T13:04:41.965Z"
   },
   {
    "duration": 79,
    "start_time": "2024-05-13T13:05:09.319Z"
   },
   {
    "duration": 80,
    "start_time": "2024-05-13T13:05:10.662Z"
   },
   {
    "duration": 63,
    "start_time": "2024-05-13T13:06:05.127Z"
   },
   {
    "duration": 30,
    "start_time": "2024-05-13T13:08:09.955Z"
   },
   {
    "duration": 21,
    "start_time": "2024-05-13T13:08:35.187Z"
   },
   {
    "duration": 8,
    "start_time": "2024-05-13T13:09:48.956Z"
   },
   {
    "duration": 16,
    "start_time": "2024-05-13T13:11:09.918Z"
   },
   {
    "duration": 24,
    "start_time": "2024-05-13T13:11:34.551Z"
   },
   {
    "duration": 24,
    "start_time": "2024-05-13T13:11:43.124Z"
   },
   {
    "duration": 31,
    "start_time": "2024-05-13T14:09:08.600Z"
   },
   {
    "duration": 21,
    "start_time": "2024-05-13T14:09:16.518Z"
   },
   {
    "duration": 50,
    "start_time": "2024-05-13T14:12:43.808Z"
   },
   {
    "duration": 57,
    "start_time": "2024-05-13T14:13:05.253Z"
   },
   {
    "duration": 51,
    "start_time": "2024-05-13T14:13:28.400Z"
   },
   {
    "duration": 9,
    "start_time": "2024-05-13T14:13:36.852Z"
   },
   {
    "duration": 12,
    "start_time": "2024-05-13T14:14:34.345Z"
   },
   {
    "duration": 46,
    "start_time": "2024-05-13T14:14:41.785Z"
   },
   {
    "duration": 877,
    "start_time": "2024-05-13T14:16:38.986Z"
   },
   {
    "duration": 779,
    "start_time": "2024-05-13T14:16:59.290Z"
   },
   {
    "duration": 668,
    "start_time": "2024-05-13T14:17:13.027Z"
   },
   {
    "duration": 632,
    "start_time": "2024-05-13T14:17:18.034Z"
   },
   {
    "duration": 729,
    "start_time": "2024-05-13T14:17:24.202Z"
   },
   {
    "duration": 54,
    "start_time": "2024-05-13T14:18:02.235Z"
   },
   {
    "duration": 270,
    "start_time": "2024-05-13T14:18:50.731Z"
   },
   {
    "duration": 241,
    "start_time": "2024-05-13T14:18:56.099Z"
   },
   {
    "duration": 653,
    "start_time": "2024-05-13T14:19:02.411Z"
   },
   {
    "duration": 642,
    "start_time": "2024-05-13T14:19:22.203Z"
   },
   {
    "duration": 688,
    "start_time": "2024-05-13T14:19:38.804Z"
   },
   {
    "duration": 694,
    "start_time": "2024-05-13T14:19:45.788Z"
   },
   {
    "duration": 680,
    "start_time": "2024-05-13T14:19:59.788Z"
   },
   {
    "duration": 10,
    "start_time": "2024-05-13T14:20:04.452Z"
   },
   {
    "duration": 2,
    "start_time": "2024-05-13T14:20:17.452Z"
   },
   {
    "duration": 664,
    "start_time": "2024-05-13T14:20:20.346Z"
   },
   {
    "duration": 679,
    "start_time": "2024-05-13T14:20:28.868Z"
   },
   {
    "duration": 763,
    "start_time": "2024-05-13T14:21:27.052Z"
   },
   {
    "duration": 808,
    "start_time": "2024-05-13T14:22:55.965Z"
   },
   {
    "duration": 688,
    "start_time": "2024-05-13T14:23:03.877Z"
   },
   {
    "duration": 675,
    "start_time": "2024-05-13T14:24:15.182Z"
   },
   {
    "duration": 688,
    "start_time": "2024-05-13T14:24:27.957Z"
   },
   {
    "duration": 753,
    "start_time": "2024-05-13T14:24:37.350Z"
   },
   {
    "duration": 680,
    "start_time": "2024-05-13T14:29:40.792Z"
   },
   {
    "duration": 690,
    "start_time": "2024-05-13T14:30:35.256Z"
   },
   {
    "duration": 734,
    "start_time": "2024-05-13T14:31:47.562Z"
   },
   {
    "duration": 688,
    "start_time": "2024-05-13T14:32:08.433Z"
   },
   {
    "duration": 775,
    "start_time": "2024-05-13T14:32:18.712Z"
   },
   {
    "duration": 704,
    "start_time": "2024-05-13T14:34:52.754Z"
   },
   {
    "duration": 648,
    "start_time": "2024-05-13T14:35:01.529Z"
   },
   {
    "duration": 660,
    "start_time": "2024-05-13T14:35:21.034Z"
   },
   {
    "duration": 710,
    "start_time": "2024-05-13T14:35:34.874Z"
   },
   {
    "duration": 678,
    "start_time": "2024-05-13T14:35:47.979Z"
   },
   {
    "duration": 713,
    "start_time": "2024-05-13T14:35:50.730Z"
   },
   {
    "duration": 710,
    "start_time": "2024-05-13T14:36:08.403Z"
   },
   {
    "duration": 721,
    "start_time": "2024-05-13T14:36:28.970Z"
   },
   {
    "duration": 786,
    "start_time": "2024-05-13T14:37:16.282Z"
   },
   {
    "duration": 5,
    "start_time": "2024-05-13T14:37:57.459Z"
   },
   {
    "duration": 719,
    "start_time": "2024-05-13T14:38:35.004Z"
   },
   {
    "duration": 823,
    "start_time": "2024-05-13T14:38:51.459Z"
   },
   {
    "duration": 671,
    "start_time": "2024-05-13T14:40:53.764Z"
   },
   {
    "duration": 728,
    "start_time": "2024-05-13T14:41:07.748Z"
   },
   {
    "duration": 542,
    "start_time": "2024-05-13T14:41:50.388Z"
   },
   {
    "duration": 669,
    "start_time": "2024-05-13T14:41:57.116Z"
   },
   {
    "duration": 707,
    "start_time": "2024-05-13T14:42:46.517Z"
   },
   {
    "duration": 669,
    "start_time": "2024-05-13T14:50:18.194Z"
   },
   {
    "duration": 751,
    "start_time": "2024-05-13T14:50:27.354Z"
   },
   {
    "duration": 735,
    "start_time": "2024-05-13T14:52:36.159Z"
   },
   {
    "duration": 713,
    "start_time": "2024-05-13T14:52:46.671Z"
   },
   {
    "duration": 8,
    "start_time": "2024-05-13T14:59:55.629Z"
   },
   {
    "duration": 154,
    "start_time": "2024-05-13T14:59:59.460Z"
   },
   {
    "duration": 56,
    "start_time": "2024-05-13T15:00:05.996Z"
   },
   {
    "duration": 939,
    "start_time": "2024-05-13T15:00:12.107Z"
   },
   {
    "duration": 1133,
    "start_time": "2024-05-13T15:00:54.510Z"
   },
   {
    "duration": 184,
    "start_time": "2024-05-13T15:00:55.646Z"
   },
   {
    "duration": 17,
    "start_time": "2024-05-13T15:00:55.831Z"
   },
   {
    "duration": 30,
    "start_time": "2024-05-13T15:00:55.861Z"
   },
   {
    "duration": 83,
    "start_time": "2024-05-13T15:00:55.892Z"
   },
   {
    "duration": 10,
    "start_time": "2024-05-13T15:00:55.976Z"
   },
   {
    "duration": 13,
    "start_time": "2024-05-13T15:00:55.988Z"
   },
   {
    "duration": 103,
    "start_time": "2024-05-13T15:00:56.003Z"
   },
   {
    "duration": 29,
    "start_time": "2024-05-13T15:00:56.108Z"
   },
   {
    "duration": 129,
    "start_time": "2024-05-13T15:00:56.139Z"
   },
   {
    "duration": 44,
    "start_time": "2024-05-13T15:00:56.269Z"
   },
   {
    "duration": 21,
    "start_time": "2024-05-13T15:00:56.315Z"
   },
   {
    "duration": 27,
    "start_time": "2024-05-13T15:00:56.338Z"
   },
   {
    "duration": 23,
    "start_time": "2024-05-13T15:00:56.367Z"
   },
   {
    "duration": 19,
    "start_time": "2024-05-13T15:00:56.391Z"
   },
   {
    "duration": 50,
    "start_time": "2024-05-13T15:00:56.411Z"
   },
   {
    "duration": 56,
    "start_time": "2024-05-13T15:00:56.462Z"
   },
   {
    "duration": 832,
    "start_time": "2024-05-13T15:00:56.519Z"
   },
   {
    "duration": 785,
    "start_time": "2024-05-13T15:00:57.353Z"
   },
   {
    "duration": 0,
    "start_time": "2024-05-13T15:00:58.140Z"
   },
   {
    "duration": 52,
    "start_time": "2024-05-13T15:03:16.933Z"
   },
   {
    "duration": 13,
    "start_time": "2024-05-13T15:04:14.747Z"
   },
   {
    "duration": 302,
    "start_time": "2024-05-13T15:04:59.948Z"
   },
   {
    "duration": 370,
    "start_time": "2024-05-13T15:05:12.555Z"
   },
   {
    "duration": 23,
    "start_time": "2024-05-13T15:05:24.516Z"
   },
   {
    "duration": 16,
    "start_time": "2024-05-13T15:05:35.715Z"
   },
   {
    "duration": 16,
    "start_time": "2024-05-13T15:06:03.188Z"
   },
   {
    "duration": 55,
    "start_time": "2024-05-13T15:06:09.331Z"
   },
   {
    "duration": 12,
    "start_time": "2024-05-13T15:06:09.968Z"
   },
   {
    "duration": 16,
    "start_time": "2024-05-13T15:07:53.253Z"
   },
   {
    "duration": 15,
    "start_time": "2024-05-13T15:08:14.179Z"
   },
   {
    "duration": 68,
    "start_time": "2024-05-13T15:16:17.101Z"
   },
   {
    "duration": 8,
    "start_time": "2024-05-13T15:16:20.578Z"
   },
   {
    "duration": 5,
    "start_time": "2024-05-13T15:16:27.276Z"
   },
   {
    "duration": 3,
    "start_time": "2024-05-13T15:16:35.717Z"
   },
   {
    "duration": 4,
    "start_time": "2024-05-13T15:18:43.716Z"
   },
   {
    "duration": 15,
    "start_time": "2024-05-13T15:18:49.540Z"
   },
   {
    "duration": 41,
    "start_time": "2024-05-13T15:20:46.956Z"
   },
   {
    "duration": 16,
    "start_time": "2024-05-13T15:21:05.069Z"
   },
   {
    "duration": 14,
    "start_time": "2024-05-13T15:21:20.590Z"
   },
   {
    "duration": 37,
    "start_time": "2024-05-13T15:21:28.998Z"
   },
   {
    "duration": 41,
    "start_time": "2024-05-13T15:21:32.910Z"
   },
   {
    "duration": 16,
    "start_time": "2024-05-13T15:21:52.670Z"
   },
   {
    "duration": 29,
    "start_time": "2024-05-13T15:25:26.403Z"
   },
   {
    "duration": 516,
    "start_time": "2024-05-13T15:25:41.076Z"
   },
   {
    "duration": 260,
    "start_time": "2024-05-13T15:25:45.884Z"
   },
   {
    "duration": 206,
    "start_time": "2024-05-13T15:31:22.121Z"
   },
   {
    "duration": 33,
    "start_time": "2024-05-13T15:32:18.498Z"
   },
   {
    "duration": 3,
    "start_time": "2024-05-13T15:32:35.255Z"
   },
   {
    "duration": 184,
    "start_time": "2024-05-13T15:32:35.322Z"
   },
   {
    "duration": 8,
    "start_time": "2024-05-13T15:32:35.508Z"
   },
   {
    "duration": 33,
    "start_time": "2024-05-13T15:32:35.518Z"
   },
   {
    "duration": 60,
    "start_time": "2024-05-13T15:32:35.560Z"
   },
   {
    "duration": 4,
    "start_time": "2024-05-13T15:32:35.623Z"
   },
   {
    "duration": 19,
    "start_time": "2024-05-13T15:32:35.629Z"
   },
   {
    "duration": 92,
    "start_time": "2024-05-13T15:32:35.660Z"
   },
   {
    "duration": 9,
    "start_time": "2024-05-13T15:32:35.753Z"
   },
   {
    "duration": 123,
    "start_time": "2024-05-13T15:32:35.764Z"
   },
   {
    "duration": 39,
    "start_time": "2024-05-13T15:32:35.889Z"
   },
   {
    "duration": 35,
    "start_time": "2024-05-13T15:32:35.929Z"
   },
   {
    "duration": 14,
    "start_time": "2024-05-13T15:32:35.965Z"
   },
   {
    "duration": 33,
    "start_time": "2024-05-13T15:32:35.981Z"
   },
   {
    "duration": 22,
    "start_time": "2024-05-13T15:32:36.016Z"
   },
   {
    "duration": 33,
    "start_time": "2024-05-13T15:32:36.040Z"
   },
   {
    "duration": 58,
    "start_time": "2024-05-13T15:32:36.075Z"
   },
   {
    "duration": 775,
    "start_time": "2024-05-13T15:32:36.135Z"
   },
   {
    "duration": 28,
    "start_time": "2024-05-13T15:32:36.912Z"
   },
   {
    "duration": 37,
    "start_time": "2024-05-13T15:33:14.099Z"
   },
   {
    "duration": 57,
    "start_time": "2024-05-13T15:33:19.011Z"
   },
   {
    "duration": 32,
    "start_time": "2024-05-13T15:33:30.339Z"
   },
   {
    "duration": 33,
    "start_time": "2024-05-13T15:33:39.138Z"
   },
   {
    "duration": 19,
    "start_time": "2024-05-13T15:33:49.867Z"
   },
   {
    "duration": 18,
    "start_time": "2024-05-13T15:33:54.291Z"
   },
   {
    "duration": 8,
    "start_time": "2024-05-13T15:34:07.228Z"
   },
   {
    "duration": 33,
    "start_time": "2024-05-13T15:34:13.866Z"
   },
   {
    "duration": 5,
    "start_time": "2024-05-13T15:35:20.771Z"
   },
   {
    "duration": 4,
    "start_time": "2024-05-13T15:35:24.315Z"
   },
   {
    "duration": 6,
    "start_time": "2024-05-13T15:36:44.757Z"
   },
   {
    "duration": 9,
    "start_time": "2024-05-13T15:39:31.199Z"
   },
   {
    "duration": 9,
    "start_time": "2024-05-13T15:39:57.613Z"
   },
   {
    "duration": 5,
    "start_time": "2024-05-13T15:40:00.879Z"
   },
   {
    "duration": 56,
    "start_time": "2024-05-13T15:40:01.742Z"
   },
   {
    "duration": 7,
    "start_time": "2024-05-13T15:40:10.862Z"
   },
   {
    "duration": 66,
    "start_time": "2024-05-13T15:40:36.454Z"
   },
   {
    "duration": 62,
    "start_time": "2024-05-13T15:40:44.111Z"
   },
   {
    "duration": 66,
    "start_time": "2024-05-13T15:41:16.175Z"
   },
   {
    "duration": 70,
    "start_time": "2024-05-13T15:41:40.430Z"
   },
   {
    "duration": 79,
    "start_time": "2024-05-13T15:42:08.704Z"
   },
   {
    "duration": 77,
    "start_time": "2024-05-13T15:42:15.095Z"
   },
   {
    "duration": 75,
    "start_time": "2024-05-13T15:42:21.608Z"
   },
   {
    "duration": 97,
    "start_time": "2024-05-13T15:42:48.464Z"
   },
   {
    "duration": 27,
    "start_time": "2024-05-13T15:44:48.777Z"
   },
   {
    "duration": 27,
    "start_time": "2024-05-13T15:48:06.609Z"
   },
   {
    "duration": 40,
    "start_time": "2024-05-13T15:48:14.923Z"
   },
   {
    "duration": 29,
    "start_time": "2024-05-13T15:50:30.355Z"
   },
   {
    "duration": 112,
    "start_time": "2024-05-13T15:50:40.828Z"
   },
   {
    "duration": 108,
    "start_time": "2024-05-13T15:50:54.811Z"
   },
   {
    "duration": 105,
    "start_time": "2024-05-13T15:51:29.227Z"
   },
   {
    "duration": 11,
    "start_time": "2024-05-13T15:53:40.076Z"
   },
   {
    "duration": 10,
    "start_time": "2024-05-13T15:53:44.365Z"
   },
   {
    "duration": 28,
    "start_time": "2024-05-13T15:53:47.780Z"
   },
   {
    "duration": 57,
    "start_time": "2024-05-13T15:54:42.849Z"
   },
   {
    "duration": 79,
    "start_time": "2024-05-13T15:57:10.082Z"
   },
   {
    "duration": 12,
    "start_time": "2024-05-13T15:57:20.994Z"
   },
   {
    "duration": 16,
    "start_time": "2024-05-13T15:57:33.329Z"
   },
   {
    "duration": 14,
    "start_time": "2024-05-13T15:57:35.522Z"
   },
   {
    "duration": 13,
    "start_time": "2024-05-13T15:57:40.394Z"
   },
   {
    "duration": 1415,
    "start_time": "2024-05-13T23:26:29.331Z"
   },
   {
    "duration": 862,
    "start_time": "2024-05-13T23:26:30.748Z"
   },
   {
    "duration": 11,
    "start_time": "2024-05-13T23:26:31.612Z"
   },
   {
    "duration": 97,
    "start_time": "2024-05-13T23:26:31.625Z"
   },
   {
    "duration": 113,
    "start_time": "2024-05-13T23:26:31.725Z"
   },
   {
    "duration": 15,
    "start_time": "2024-05-13T23:26:31.840Z"
   },
   {
    "duration": 103,
    "start_time": "2024-05-13T23:26:31.857Z"
   },
   {
    "duration": 206,
    "start_time": "2024-05-13T23:26:31.962Z"
   },
   {
    "duration": 29,
    "start_time": "2024-05-13T23:26:32.170Z"
   },
   {
    "duration": 163,
    "start_time": "2024-05-13T23:26:32.201Z"
   },
   {
    "duration": 35,
    "start_time": "2024-05-13T23:26:32.366Z"
   },
   {
    "duration": 21,
    "start_time": "2024-05-13T23:26:32.403Z"
   },
   {
    "duration": 11,
    "start_time": "2024-05-13T23:26:32.426Z"
   },
   {
    "duration": 47,
    "start_time": "2024-05-13T23:26:32.441Z"
   },
   {
    "duration": 26,
    "start_time": "2024-05-13T23:26:32.490Z"
   },
   {
    "duration": 21,
    "start_time": "2024-05-13T23:26:32.518Z"
   },
   {
    "duration": 71,
    "start_time": "2024-05-13T23:26:32.540Z"
   },
   {
    "duration": 793,
    "start_time": "2024-05-13T23:26:32.613Z"
   },
   {
    "duration": 28,
    "start_time": "2024-05-13T23:26:33.408Z"
   },
   {
    "duration": 15,
    "start_time": "2024-05-13T23:26:33.438Z"
   },
   {
    "duration": 35,
    "start_time": "2024-05-13T23:26:33.455Z"
   },
   {
    "duration": 8,
    "start_time": "2024-05-13T23:26:33.492Z"
   },
   {
    "duration": 109,
    "start_time": "2024-05-13T23:26:33.502Z"
   },
   {
    "duration": 27,
    "start_time": "2024-05-13T23:26:33.612Z"
   },
   {
    "duration": 129,
    "start_time": "2024-05-13T23:26:33.641Z"
   },
   {
    "duration": 71,
    "start_time": "2024-05-13T23:26:33.773Z"
   },
   {
    "duration": 50,
    "start_time": "2024-05-13T23:27:11.300Z"
   },
   {
    "duration": 57,
    "start_time": "2024-05-13T23:27:17.749Z"
   },
   {
    "duration": 257,
    "start_time": "2024-05-13T23:28:08.629Z"
   },
   {
    "duration": 1118,
    "start_time": "2024-05-13T23:29:16.117Z"
   },
   {
    "duration": 110,
    "start_time": "2024-05-13T23:29:19.101Z"
   },
   {
    "duration": 55,
    "start_time": "2024-05-13T23:32:27.642Z"
   },
   {
    "duration": 7,
    "start_time": "2024-05-13T23:34:40.014Z"
   },
   {
    "duration": 121,
    "start_time": "2024-05-13T23:34:55.125Z"
   },
   {
    "duration": 6,
    "start_time": "2024-05-13T23:35:12.494Z"
   },
   {
    "duration": 8,
    "start_time": "2024-05-13T23:36:24.077Z"
   },
   {
    "duration": 6,
    "start_time": "2024-05-13T23:36:25.221Z"
   },
   {
    "duration": 1176,
    "start_time": "2024-05-14T02:39:46.133Z"
   },
   {
    "duration": 231,
    "start_time": "2024-05-14T02:39:47.311Z"
   },
   {
    "duration": 10,
    "start_time": "2024-05-14T02:39:47.544Z"
   },
   {
    "duration": 57,
    "start_time": "2024-05-14T02:39:47.556Z"
   },
   {
    "duration": 118,
    "start_time": "2024-05-14T02:39:47.615Z"
   },
   {
    "duration": 8,
    "start_time": "2024-05-14T02:39:47.734Z"
   },
   {
    "duration": 71,
    "start_time": "2024-05-14T02:39:47.744Z"
   },
   {
    "duration": 66,
    "start_time": "2024-05-14T02:39:47.817Z"
   },
   {
    "duration": 7,
    "start_time": "2024-05-14T02:39:47.885Z"
   },
   {
    "duration": 116,
    "start_time": "2024-05-14T02:39:47.893Z"
   },
   {
    "duration": 23,
    "start_time": "2024-05-14T02:39:48.010Z"
   },
   {
    "duration": 30,
    "start_time": "2024-05-14T02:39:48.034Z"
   },
   {
    "duration": 10,
    "start_time": "2024-05-14T02:39:48.065Z"
   },
   {
    "duration": 23,
    "start_time": "2024-05-14T02:39:48.077Z"
   },
   {
    "duration": 13,
    "start_time": "2024-05-14T02:39:48.101Z"
   },
   {
    "duration": 13,
    "start_time": "2024-05-14T02:39:48.115Z"
   },
   {
    "duration": 41,
    "start_time": "2024-05-14T02:39:48.129Z"
   },
   {
    "duration": 650,
    "start_time": "2024-05-14T02:39:48.171Z"
   },
   {
    "duration": 22,
    "start_time": "2024-05-14T02:39:48.823Z"
   },
   {
    "duration": 4,
    "start_time": "2024-05-14T02:39:48.846Z"
   },
   {
    "duration": 22,
    "start_time": "2024-05-14T02:39:48.851Z"
   },
   {
    "duration": 13,
    "start_time": "2024-05-14T02:39:48.875Z"
   },
   {
    "duration": 72,
    "start_time": "2024-05-14T02:39:48.901Z"
   },
   {
    "duration": 29,
    "start_time": "2024-05-14T02:39:48.975Z"
   },
   {
    "duration": 98,
    "start_time": "2024-05-14T02:39:49.005Z"
   },
   {
    "duration": 47,
    "start_time": "2024-05-14T02:39:49.105Z"
   },
   {
    "duration": 106,
    "start_time": "2024-05-14T02:39:49.154Z"
   },
   {
    "duration": 7,
    "start_time": "2024-05-14T02:39:49.261Z"
   },
   {
    "duration": 7,
    "start_time": "2024-05-14T02:39:49.269Z"
   },
   {
    "duration": 9,
    "start_time": "2024-05-14T02:39:56.095Z"
   },
   {
    "duration": 1292,
    "start_time": "2024-05-14T12:18:18.563Z"
   },
   {
    "duration": 804,
    "start_time": "2024-05-14T12:18:19.856Z"
   },
   {
    "duration": 11,
    "start_time": "2024-05-14T12:18:20.661Z"
   },
   {
    "duration": 31,
    "start_time": "2024-05-14T12:18:20.673Z"
   },
   {
    "duration": 61,
    "start_time": "2024-05-14T12:18:20.706Z"
   },
   {
    "duration": 19,
    "start_time": "2024-05-14T12:18:20.768Z"
   },
   {
    "duration": 11,
    "start_time": "2024-05-14T12:18:20.789Z"
   },
   {
    "duration": 57,
    "start_time": "2024-05-14T12:18:20.801Z"
   },
   {
    "duration": 8,
    "start_time": "2024-05-14T12:18:20.859Z"
   },
   {
    "duration": 106,
    "start_time": "2024-05-14T12:18:20.884Z"
   },
   {
    "duration": 26,
    "start_time": "2024-05-14T12:18:20.991Z"
   },
   {
    "duration": 18,
    "start_time": "2024-05-14T12:18:21.019Z"
   },
   {
    "duration": 32,
    "start_time": "2024-05-14T12:18:21.039Z"
   },
   {
    "duration": 41,
    "start_time": "2024-05-14T12:18:21.073Z"
   },
   {
    "duration": 13,
    "start_time": "2024-05-14T12:18:21.116Z"
   },
   {
    "duration": 22,
    "start_time": "2024-05-14T12:18:21.131Z"
   },
   {
    "duration": 43,
    "start_time": "2024-05-14T12:18:21.155Z"
   },
   {
    "duration": 659,
    "start_time": "2024-05-14T12:18:21.199Z"
   },
   {
    "duration": 26,
    "start_time": "2024-05-14T12:18:21.860Z"
   },
   {
    "duration": 4,
    "start_time": "2024-05-14T12:18:21.887Z"
   },
   {
    "duration": 18,
    "start_time": "2024-05-14T12:18:21.892Z"
   },
   {
    "duration": 5,
    "start_time": "2024-05-14T12:18:21.911Z"
   },
   {
    "duration": 86,
    "start_time": "2024-05-14T12:18:21.917Z"
   },
   {
    "duration": 18,
    "start_time": "2024-05-14T12:18:22.004Z"
   },
   {
    "duration": 94,
    "start_time": "2024-05-14T12:18:22.023Z"
   },
   {
    "duration": 51,
    "start_time": "2024-05-14T12:18:22.119Z"
   },
   {
    "duration": 112,
    "start_time": "2024-05-14T12:18:22.172Z"
   },
   {
    "duration": 6,
    "start_time": "2024-05-14T12:18:22.286Z"
   },
   {
    "duration": 14,
    "start_time": "2024-05-14T12:18:22.293Z"
   },
   {
    "duration": 4,
    "start_time": "2024-05-14T12:18:59.302Z"
   },
   {
    "duration": 5,
    "start_time": "2024-05-14T12:19:09.469Z"
   },
   {
    "duration": 23,
    "start_time": "2024-05-14T12:37:02.493Z"
   },
   {
    "duration": 20,
    "start_time": "2024-05-14T12:37:51.046Z"
   },
   {
    "duration": 92,
    "start_time": "2024-05-14T12:39:01.894Z"
   },
   {
    "duration": 8,
    "start_time": "2024-05-14T12:39:07.758Z"
   },
   {
    "duration": 2,
    "start_time": "2024-05-14T12:41:25.847Z"
   },
   {
    "duration": 7,
    "start_time": "2024-05-14T12:41:27.870Z"
   },
   {
    "duration": 2,
    "start_time": "2024-05-14T12:41:34.096Z"
   },
   {
    "duration": 21,
    "start_time": "2024-05-14T12:41:34.871Z"
   },
   {
    "duration": 23,
    "start_time": "2024-05-14T12:41:35.262Z"
   },
   {
    "duration": 38,
    "start_time": "2024-05-14T13:31:28.024Z"
   },
   {
    "duration": 3,
    "start_time": "2024-05-14T13:31:52.904Z"
   },
   {
    "duration": 22,
    "start_time": "2024-05-14T13:31:55.201Z"
   },
   {
    "duration": 34,
    "start_time": "2024-05-14T13:31:56.065Z"
   },
   {
    "duration": 3,
    "start_time": "2024-05-14T13:32:09.952Z"
   },
   {
    "duration": 45,
    "start_time": "2024-05-14T13:32:19.902Z"
   },
   {
    "duration": 89,
    "start_time": "2024-05-14T13:32:20.897Z"
   },
   {
    "duration": 6,
    "start_time": "2024-05-14T13:32:24.057Z"
   },
   {
    "duration": 5,
    "start_time": "2024-05-14T13:32:24.752Z"
   },
   {
    "duration": 3,
    "start_time": "2024-05-14T13:32:29.904Z"
   },
   {
    "duration": 21,
    "start_time": "2024-05-14T13:32:30.488Z"
   },
   {
    "duration": 35,
    "start_time": "2024-05-14T13:32:38.601Z"
   },
   {
    "duration": 2,
    "start_time": "2024-05-14T13:32:42.569Z"
   },
   {
    "duration": 6,
    "start_time": "2024-05-14T13:33:41.345Z"
   },
   {
    "duration": 1037,
    "start_time": "2024-05-14T13:33:56.810Z"
   },
   {
    "duration": 1012,
    "start_time": "2024-05-14T13:34:12.922Z"
   },
   {
    "duration": 6,
    "start_time": "2024-05-14T13:34:20.274Z"
   },
   {
    "duration": 4,
    "start_time": "2024-05-14T13:34:22.530Z"
   },
   {
    "duration": 4,
    "start_time": "2024-05-14T13:34:40.953Z"
   },
   {
    "duration": 68,
    "start_time": "2024-05-14T13:36:02.005Z"
   },
   {
    "duration": 3,
    "start_time": "2024-05-14T13:36:20.835Z"
   },
   {
    "duration": 3,
    "start_time": "2024-05-14T13:36:43.691Z"
   },
   {
    "duration": 3,
    "start_time": "2024-05-14T13:36:56.779Z"
   },
   {
    "duration": 4,
    "start_time": "2024-05-14T13:37:55.308Z"
   },
   {
    "duration": 4,
    "start_time": "2024-05-14T13:38:57.045Z"
   },
   {
    "duration": 1149,
    "start_time": "2024-05-15T00:16:29.724Z"
   },
   {
    "duration": 244,
    "start_time": "2024-05-15T00:16:30.875Z"
   },
   {
    "duration": 11,
    "start_time": "2024-05-15T00:16:31.120Z"
   },
   {
    "duration": 67,
    "start_time": "2024-05-15T00:16:31.132Z"
   },
   {
    "duration": 91,
    "start_time": "2024-05-15T00:16:31.201Z"
   },
   {
    "duration": 7,
    "start_time": "2024-05-15T00:16:31.293Z"
   },
   {
    "duration": 57,
    "start_time": "2024-05-15T00:16:31.301Z"
   },
   {
    "duration": 92,
    "start_time": "2024-05-15T00:16:31.359Z"
   },
   {
    "duration": 9,
    "start_time": "2024-05-15T00:16:31.453Z"
   },
   {
    "duration": 128,
    "start_time": "2024-05-15T00:16:31.462Z"
   },
   {
    "duration": 24,
    "start_time": "2024-05-15T00:16:31.591Z"
   },
   {
    "duration": 41,
    "start_time": "2024-05-15T00:16:31.616Z"
   },
   {
    "duration": 47,
    "start_time": "2024-05-15T00:16:31.659Z"
   },
   {
    "duration": 25,
    "start_time": "2024-05-15T00:16:31.709Z"
   },
   {
    "duration": 33,
    "start_time": "2024-05-15T00:16:31.735Z"
   },
   {
    "duration": 38,
    "start_time": "2024-05-15T00:16:31.769Z"
   },
   {
    "duration": 48,
    "start_time": "2024-05-15T00:16:31.808Z"
   },
   {
    "duration": 644,
    "start_time": "2024-05-15T00:16:31.857Z"
   },
   {
    "duration": 22,
    "start_time": "2024-05-15T00:16:32.503Z"
   },
   {
    "duration": 10,
    "start_time": "2024-05-15T00:16:32.526Z"
   },
   {
    "duration": 36,
    "start_time": "2024-05-15T00:16:32.537Z"
   },
   {
    "duration": 5,
    "start_time": "2024-05-15T00:16:32.574Z"
   },
   {
    "duration": 86,
    "start_time": "2024-05-15T00:16:32.580Z"
   },
   {
    "duration": 17,
    "start_time": "2024-05-15T00:16:32.667Z"
   },
   {
    "duration": 92,
    "start_time": "2024-05-15T00:16:32.685Z"
   },
   {
    "duration": 50,
    "start_time": "2024-05-15T00:16:32.778Z"
   },
   {
    "duration": 92,
    "start_time": "2024-05-15T00:16:32.830Z"
   },
   {
    "duration": 6,
    "start_time": "2024-05-15T00:16:32.923Z"
   },
   {
    "duration": 34,
    "start_time": "2024-05-15T00:16:32.930Z"
   },
   {
    "duration": 28,
    "start_time": "2024-05-15T00:16:32.965Z"
   },
   {
    "duration": 20,
    "start_time": "2024-05-15T00:16:32.994Z"
   },
   {
    "duration": 8,
    "start_time": "2024-05-15T00:16:33.015Z"
   },
   {
    "duration": 26,
    "start_time": "2024-05-15T00:17:38.704Z"
   },
   {
    "duration": 435,
    "start_time": "2024-05-15T00:17:54.823Z"
   },
   {
    "duration": 17,
    "start_time": "2024-05-15T00:18:04.135Z"
   },
   {
    "duration": 19,
    "start_time": "2024-05-15T00:18:15.175Z"
   },
   {
    "duration": 25,
    "start_time": "2024-05-15T00:19:50.210Z"
   },
   {
    "duration": 26,
    "start_time": "2024-05-15T00:20:00.848Z"
   },
   {
    "duration": 20,
    "start_time": "2024-05-15T00:20:19.439Z"
   },
   {
    "duration": 28,
    "start_time": "2024-05-15T00:21:39.376Z"
   },
   {
    "duration": 23,
    "start_time": "2024-05-15T00:21:52.264Z"
   },
   {
    "duration": 17,
    "start_time": "2024-05-15T00:21:59.888Z"
   },
   {
    "duration": 27,
    "start_time": "2024-05-15T00:22:15.920Z"
   },
   {
    "duration": 50,
    "start_time": "2024-05-15T00:22:39.256Z"
   },
   {
    "duration": 43,
    "start_time": "2024-05-15T00:22:54.313Z"
   },
   {
    "duration": 38,
    "start_time": "2024-05-15T00:22:59.560Z"
   },
   {
    "duration": 49,
    "start_time": "2024-05-15T00:23:08.288Z"
   },
   {
    "duration": 49,
    "start_time": "2024-05-15T00:23:17.023Z"
   },
   {
    "duration": 66,
    "start_time": "2024-05-15T00:23:34.880Z"
   },
   {
    "duration": 65,
    "start_time": "2024-05-15T00:23:39.569Z"
   },
   {
    "duration": 79,
    "start_time": "2024-05-15T00:24:03.313Z"
   },
   {
    "duration": 72,
    "start_time": "2024-05-15T00:24:15.544Z"
   },
   {
    "duration": 88,
    "start_time": "2024-05-15T00:24:55.193Z"
   },
   {
    "duration": 8,
    "start_time": "2024-05-15T00:25:29.241Z"
   },
   {
    "duration": 7,
    "start_time": "2024-05-15T00:25:43.272Z"
   },
   {
    "duration": 4,
    "start_time": "2024-05-15T02:41:42.611Z"
   },
   {
    "duration": 3,
    "start_time": "2024-05-15T02:46:55.846Z"
   },
   {
    "duration": 92,
    "start_time": "2024-05-15T02:52:31.161Z"
   },
   {
    "duration": 74,
    "start_time": "2024-05-15T02:53:09.896Z"
   },
   {
    "duration": 23,
    "start_time": "2024-05-15T02:53:35.761Z"
   },
   {
    "duration": 74,
    "start_time": "2024-05-15T02:53:49.697Z"
   },
   {
    "duration": 25,
    "start_time": "2024-05-15T02:53:56.912Z"
   },
   {
    "duration": 26,
    "start_time": "2024-05-15T02:54:37.930Z"
   },
   {
    "duration": 81,
    "start_time": "2024-05-15T02:54:44.681Z"
   },
   {
    "duration": 6,
    "start_time": "2024-05-15T02:56:30.601Z"
   },
   {
    "duration": 40,
    "start_time": "2024-05-15T02:58:34.883Z"
   },
   {
    "duration": 99,
    "start_time": "2024-05-15T02:58:36.458Z"
   },
   {
    "duration": 72,
    "start_time": "2024-05-15T02:59:00.788Z"
   },
   {
    "duration": 47,
    "start_time": "2024-05-15T02:59:31.395Z"
   },
   {
    "duration": 11,
    "start_time": "2024-05-15T03:09:34.286Z"
   },
   {
    "duration": 6,
    "start_time": "2024-05-15T03:09:48.382Z"
   },
   {
    "duration": 17,
    "start_time": "2024-05-15T03:11:04.591Z"
   },
   {
    "duration": 10,
    "start_time": "2024-05-15T03:11:11.447Z"
   },
   {
    "duration": 11,
    "start_time": "2024-05-15T03:11:15.118Z"
   },
   {
    "duration": 4,
    "start_time": "2024-05-15T03:11:20.015Z"
   },
   {
    "duration": 6,
    "start_time": "2024-05-15T03:11:38.446Z"
   },
   {
    "duration": 32,
    "start_time": "2024-05-15T03:12:00.370Z"
   },
   {
    "duration": 4,
    "start_time": "2024-05-15T03:12:49.942Z"
   },
   {
    "duration": 3,
    "start_time": "2024-05-15T03:13:16.344Z"
   },
   {
    "duration": 6,
    "start_time": "2024-05-15T03:14:24.960Z"
   },
   {
    "duration": 6,
    "start_time": "2024-05-15T03:15:02.144Z"
   },
   {
    "duration": 8,
    "start_time": "2024-05-15T03:15:10.672Z"
   },
   {
    "duration": 6,
    "start_time": "2024-05-15T03:15:19.375Z"
   },
   {
    "duration": 6,
    "start_time": "2024-05-15T03:15:35.663Z"
   },
   {
    "duration": 40,
    "start_time": "2024-05-15T03:18:42.251Z"
   },
   {
    "duration": 18,
    "start_time": "2024-05-15T03:18:49.393Z"
   },
   {
    "duration": 53,
    "start_time": "2024-05-15T03:19:42.369Z"
   },
   {
    "duration": 17,
    "start_time": "2024-05-15T03:19:48.737Z"
   },
   {
    "duration": 20,
    "start_time": "2024-05-15T03:19:53.505Z"
   },
   {
    "duration": 10,
    "start_time": "2024-05-15T03:21:59.634Z"
   },
   {
    "duration": 26,
    "start_time": "2024-05-15T03:22:29.010Z"
   },
   {
    "duration": 21,
    "start_time": "2024-05-15T03:23:13.520Z"
   },
   {
    "duration": 16,
    "start_time": "2024-05-15T03:23:41.547Z"
   },
   {
    "duration": 3,
    "start_time": "2024-05-15T03:28:01.806Z"
   },
   {
    "duration": 19,
    "start_time": "2024-05-15T03:28:05.317Z"
   },
   {
    "duration": 3,
    "start_time": "2024-05-15T03:29:04.110Z"
   },
   {
    "duration": 3,
    "start_time": "2024-05-15T03:29:09.142Z"
   },
   {
    "duration": 4,
    "start_time": "2024-05-15T03:29:16.332Z"
   },
   {
    "duration": 3,
    "start_time": "2024-05-15T03:29:20.925Z"
   },
   {
    "duration": 4,
    "start_time": "2024-05-15T03:30:40.670Z"
   },
   {
    "duration": 15,
    "start_time": "2024-05-15T04:11:36.458Z"
   },
   {
    "duration": 2,
    "start_time": "2024-05-15T04:12:22.210Z"
   },
   {
    "duration": 40,
    "start_time": "2024-05-15T04:14:21.032Z"
   },
   {
    "duration": 42,
    "start_time": "2024-05-15T04:14:25.261Z"
   },
   {
    "duration": 8,
    "start_time": "2024-05-15T04:14:38.810Z"
   },
   {
    "duration": 3,
    "start_time": "2024-05-15T04:14:45.907Z"
   },
   {
    "duration": 5,
    "start_time": "2024-05-15T04:14:50.555Z"
   },
   {
    "duration": 4,
    "start_time": "2024-05-15T04:15:00.107Z"
   },
   {
    "duration": 5,
    "start_time": "2024-05-15T04:15:15.755Z"
   },
   {
    "duration": 28,
    "start_time": "2024-05-15T04:15:30.364Z"
   },
   {
    "duration": 11,
    "start_time": "2024-05-15T04:15:31.018Z"
   },
   {
    "duration": 4,
    "start_time": "2024-05-15T04:15:59.371Z"
   },
   {
    "duration": 7,
    "start_time": "2024-05-15T04:16:13.803Z"
   },
   {
    "duration": 16,
    "start_time": "2024-05-15T04:16:23.851Z"
   },
   {
    "duration": 16,
    "start_time": "2024-05-15T04:17:27.876Z"
   },
   {
    "duration": 10,
    "start_time": "2024-05-15T04:17:41.923Z"
   },
   {
    "duration": 9,
    "start_time": "2024-05-15T04:17:59.971Z"
   },
   {
    "duration": 18,
    "start_time": "2024-05-15T04:18:33.157Z"
   },
   {
    "duration": 55,
    "start_time": "2024-05-15T04:23:09.996Z"
   },
   {
    "duration": 5,
    "start_time": "2024-05-15T04:23:28.451Z"
   },
   {
    "duration": 42,
    "start_time": "2024-05-15T04:24:16.858Z"
   },
   {
    "duration": 632,
    "start_time": "2024-05-15T04:24:49.449Z"
   },
   {
    "duration": 690,
    "start_time": "2024-05-15T04:25:01.105Z"
   },
   {
    "duration": 11,
    "start_time": "2024-05-15T04:25:14.040Z"
   },
   {
    "duration": 167,
    "start_time": "2024-05-15T04:25:18.122Z"
   },
   {
    "duration": 4,
    "start_time": "2024-05-15T04:25:32.542Z"
   },
   {
    "duration": 8,
    "start_time": "2024-05-15T04:25:53.184Z"
   },
   {
    "duration": 67,
    "start_time": "2024-05-15T04:25:56.841Z"
   },
   {
    "duration": 69,
    "start_time": "2024-05-15T04:26:52.561Z"
   },
   {
    "duration": 4,
    "start_time": "2024-05-15T04:27:58.491Z"
   },
   {
    "duration": 69,
    "start_time": "2024-05-15T04:28:02.023Z"
   },
   {
    "duration": 49,
    "start_time": "2024-05-15T04:29:10.319Z"
   },
   {
    "duration": 39,
    "start_time": "2024-05-15T04:29:17.278Z"
   },
   {
    "duration": 39,
    "start_time": "2024-05-15T04:29:24.102Z"
   },
   {
    "duration": 56,
    "start_time": "2024-05-15T04:29:29.894Z"
   },
   {
    "duration": 4,
    "start_time": "2024-05-15T04:29:37.294Z"
   },
   {
    "duration": 75,
    "start_time": "2024-05-15T04:29:40.077Z"
   },
   {
    "duration": 4,
    "start_time": "2024-05-15T04:30:26.935Z"
   },
   {
    "duration": 71,
    "start_time": "2024-05-15T04:30:27.645Z"
   },
   {
    "duration": 5,
    "start_time": "2024-05-15T04:30:52.581Z"
   },
   {
    "duration": 70,
    "start_time": "2024-05-15T04:30:53.221Z"
   },
   {
    "duration": 5,
    "start_time": "2024-05-15T04:31:11.468Z"
   },
   {
    "duration": 70,
    "start_time": "2024-05-15T04:31:12.029Z"
   },
   {
    "duration": 5,
    "start_time": "2024-05-15T04:31:18.461Z"
   },
   {
    "duration": 71,
    "start_time": "2024-05-15T04:31:19.013Z"
   },
   {
    "duration": 5,
    "start_time": "2024-05-15T04:31:27.821Z"
   },
   {
    "duration": 72,
    "start_time": "2024-05-15T04:31:28.236Z"
   },
   {
    "duration": 10,
    "start_time": "2024-05-15T05:14:21.380Z"
   },
   {
    "duration": 9,
    "start_time": "2024-05-15T05:14:31.901Z"
   },
   {
    "duration": 74,
    "start_time": "2024-05-15T05:15:22.846Z"
   },
   {
    "duration": 77,
    "start_time": "2024-05-15T05:15:30.382Z"
   },
   {
    "duration": 9,
    "start_time": "2024-05-15T05:19:13.094Z"
   },
   {
    "duration": 8,
    "start_time": "2024-05-15T05:19:20.174Z"
   },
   {
    "duration": 183,
    "start_time": "2024-05-15T05:20:49.078Z"
   },
   {
    "duration": 233,
    "start_time": "2024-05-15T05:21:04.495Z"
   },
   {
    "duration": 74,
    "start_time": "2024-05-15T05:23:06.014Z"
   },
   {
    "duration": 88,
    "start_time": "2024-05-15T05:23:33.131Z"
   },
   {
    "duration": 76,
    "start_time": "2024-05-15T05:23:41.686Z"
   },
   {
    "duration": 34,
    "start_time": "2024-05-15T05:29:33.000Z"
   },
   {
    "duration": 12,
    "start_time": "2024-05-15T05:31:14.954Z"
   },
   {
    "duration": 11,
    "start_time": "2024-05-15T05:31:18.130Z"
   },
   {
    "duration": 125,
    "start_time": "2024-05-15T05:32:24.561Z"
   },
   {
    "duration": 43,
    "start_time": "2024-05-15T05:32:37.517Z"
   },
   {
    "duration": 101,
    "start_time": "2024-05-15T05:32:42.107Z"
   },
   {
    "duration": 104,
    "start_time": "2024-05-15T05:32:53.132Z"
   },
   {
    "duration": 103,
    "start_time": "2024-05-15T05:33:17.195Z"
   },
   {
    "duration": 86,
    "start_time": "2024-05-15T05:34:57.230Z"
   },
   {
    "duration": 73,
    "start_time": "2024-05-15T05:35:03.440Z"
   },
   {
    "duration": 10,
    "start_time": "2024-05-15T05:35:05.311Z"
   },
   {
    "duration": 109,
    "start_time": "2024-05-15T05:35:06.670Z"
   },
   {
    "duration": 1029,
    "start_time": "2024-05-15T05:57:13.584Z"
   },
   {
    "duration": 146,
    "start_time": "2024-05-15T05:57:14.614Z"
   },
   {
    "duration": 9,
    "start_time": "2024-05-15T05:57:14.761Z"
   },
   {
    "duration": 20,
    "start_time": "2024-05-15T05:57:14.772Z"
   },
   {
    "duration": 67,
    "start_time": "2024-05-15T05:57:14.793Z"
   },
   {
    "duration": 7,
    "start_time": "2024-05-15T05:57:14.862Z"
   },
   {
    "duration": 20,
    "start_time": "2024-05-15T05:57:14.870Z"
   },
   {
    "duration": 72,
    "start_time": "2024-05-15T05:57:14.892Z"
   },
   {
    "duration": 8,
    "start_time": "2024-05-15T05:57:14.965Z"
   },
   {
    "duration": 100,
    "start_time": "2024-05-15T05:57:14.975Z"
   },
   {
    "duration": 46,
    "start_time": "2024-05-15T05:57:15.076Z"
   },
   {
    "duration": 16,
    "start_time": "2024-05-15T05:57:15.123Z"
   },
   {
    "duration": 26,
    "start_time": "2024-05-15T05:57:15.141Z"
   },
   {
    "duration": 69,
    "start_time": "2024-05-15T05:57:15.168Z"
   },
   {
    "duration": 20,
    "start_time": "2024-05-15T05:57:15.238Z"
   },
   {
    "duration": 85,
    "start_time": "2024-05-15T05:57:15.259Z"
   },
   {
    "duration": 34,
    "start_time": "2024-05-15T05:57:15.345Z"
   },
   {
    "duration": 656,
    "start_time": "2024-05-15T05:57:15.381Z"
   },
   {
    "duration": 19,
    "start_time": "2024-05-15T05:57:16.038Z"
   },
   {
    "duration": 57,
    "start_time": "2024-05-15T05:57:16.059Z"
   },
   {
    "duration": 20,
    "start_time": "2024-05-15T05:57:16.118Z"
   },
   {
    "duration": 38,
    "start_time": "2024-05-15T05:57:16.139Z"
   },
   {
    "duration": 74,
    "start_time": "2024-05-15T05:57:16.179Z"
   },
   {
    "duration": 20,
    "start_time": "2024-05-15T05:57:16.255Z"
   },
   {
    "duration": 102,
    "start_time": "2024-05-15T05:57:16.277Z"
   },
   {
    "duration": 62,
    "start_time": "2024-05-15T05:57:16.381Z"
   },
   {
    "duration": 103,
    "start_time": "2024-05-15T05:57:16.445Z"
   },
   {
    "duration": 7,
    "start_time": "2024-05-15T05:57:16.552Z"
   },
   {
    "duration": 6,
    "start_time": "2024-05-15T05:57:16.560Z"
   },
   {
    "duration": 7,
    "start_time": "2024-05-15T05:57:16.568Z"
   },
   {
    "duration": 27,
    "start_time": "2024-05-15T05:57:16.577Z"
   },
   {
    "duration": 4,
    "start_time": "2024-05-15T05:57:16.605Z"
   },
   {
    "duration": 78,
    "start_time": "2024-05-15T05:57:16.610Z"
   },
   {
    "duration": 6,
    "start_time": "2024-05-15T05:57:16.702Z"
   },
   {
    "duration": 6,
    "start_time": "2024-05-15T05:57:16.709Z"
   },
   {
    "duration": 40,
    "start_time": "2024-05-15T05:57:16.716Z"
   },
   {
    "duration": 7,
    "start_time": "2024-05-15T05:57:16.758Z"
   },
   {
    "duration": 56,
    "start_time": "2024-05-15T05:57:16.766Z"
   },
   {
    "duration": 6,
    "start_time": "2024-05-15T05:57:16.824Z"
   },
   {
    "duration": 18,
    "start_time": "2024-05-15T05:57:16.831Z"
   },
   {
    "duration": 15,
    "start_time": "2024-05-15T05:57:16.850Z"
   },
   {
    "duration": 11,
    "start_time": "2024-05-15T05:57:16.866Z"
   },
   {
    "duration": 204,
    "start_time": "2024-05-15T05:57:16.901Z"
   },
   {
    "duration": 12,
    "start_time": "2024-05-15T05:57:17.106Z"
   },
   {
    "duration": 89,
    "start_time": "2024-05-15T05:57:17.119Z"
   },
   {
    "duration": 120,
    "start_time": "2024-05-15T05:57:17.212Z"
   },
   {
    "duration": 83,
    "start_time": "2024-05-15T05:57:17.334Z"
   },
   {
    "duration": 13,
    "start_time": "2024-05-15T05:57:17.418Z"
   },
   {
    "duration": 127,
    "start_time": "2024-05-15T05:57:17.433Z"
   },
   {
    "duration": 3,
    "start_time": "2024-05-15T06:22:02.629Z"
   },
   {
    "duration": 155,
    "start_time": "2024-05-15T06:22:02.634Z"
   },
   {
    "duration": 6,
    "start_time": "2024-05-15T06:22:02.791Z"
   },
   {
    "duration": 30,
    "start_time": "2024-05-15T06:22:02.798Z"
   },
   {
    "duration": 53,
    "start_time": "2024-05-15T06:22:02.829Z"
   },
   {
    "duration": 3,
    "start_time": "2024-05-15T06:22:02.884Z"
   },
   {
    "duration": 26,
    "start_time": "2024-05-15T06:22:02.889Z"
   },
   {
    "duration": 91,
    "start_time": "2024-05-15T06:22:02.916Z"
   },
   {
    "duration": 8,
    "start_time": "2024-05-15T06:22:03.008Z"
   },
   {
    "duration": 101,
    "start_time": "2024-05-15T06:22:03.018Z"
   },
   {
    "duration": 28,
    "start_time": "2024-05-15T06:22:03.121Z"
   },
   {
    "duration": 16,
    "start_time": "2024-05-15T06:22:03.150Z"
   },
   {
    "duration": 6,
    "start_time": "2024-05-15T06:22:03.167Z"
   },
   {
    "duration": 31,
    "start_time": "2024-05-15T06:22:03.203Z"
   },
   {
    "duration": 13,
    "start_time": "2024-05-15T06:22:03.235Z"
   },
   {
    "duration": 23,
    "start_time": "2024-05-15T06:22:03.250Z"
   },
   {
    "duration": 68,
    "start_time": "2024-05-15T06:22:03.275Z"
   },
   {
    "duration": 661,
    "start_time": "2024-05-15T06:22:03.345Z"
   },
   {
    "duration": 34,
    "start_time": "2024-05-15T06:22:04.007Z"
   },
   {
    "duration": 14,
    "start_time": "2024-05-15T06:22:04.042Z"
   },
   {
    "duration": 12,
    "start_time": "2024-05-15T06:22:04.057Z"
   },
   {
    "duration": 58,
    "start_time": "2024-05-15T06:22:04.070Z"
   },
   {
    "duration": 81,
    "start_time": "2024-05-15T06:22:04.130Z"
   },
   {
    "duration": 28,
    "start_time": "2024-05-15T06:22:04.213Z"
   },
   {
    "duration": 169,
    "start_time": "2024-05-15T06:22:04.243Z"
   },
   {
    "duration": 52,
    "start_time": "2024-05-15T06:22:04.414Z"
   },
   {
    "duration": 113,
    "start_time": "2024-05-15T06:22:04.468Z"
   },
   {
    "duration": 6,
    "start_time": "2024-05-15T06:22:04.583Z"
   },
   {
    "duration": 19,
    "start_time": "2024-05-15T06:22:04.590Z"
   },
   {
    "duration": 5,
    "start_time": "2024-05-15T06:22:04.611Z"
   },
   {
    "duration": 16,
    "start_time": "2024-05-15T06:22:04.618Z"
   },
   {
    "duration": 13,
    "start_time": "2024-05-15T06:22:04.635Z"
   },
   {
    "duration": 135,
    "start_time": "2024-05-15T06:22:04.650Z"
   },
   {
    "duration": 7,
    "start_time": "2024-05-15T06:22:04.786Z"
   },
   {
    "duration": 22,
    "start_time": "2024-05-15T06:22:04.801Z"
   },
   {
    "duration": 49,
    "start_time": "2024-05-15T06:22:04.824Z"
   },
   {
    "duration": 5,
    "start_time": "2024-05-15T06:22:04.874Z"
   },
   {
    "duration": 33,
    "start_time": "2024-05-15T06:22:04.881Z"
   },
   {
    "duration": 9,
    "start_time": "2024-05-15T06:22:04.917Z"
   },
   {
    "duration": 26,
    "start_time": "2024-05-15T06:22:04.927Z"
   },
   {
    "duration": 24,
    "start_time": "2024-05-15T06:22:04.956Z"
   },
   {
    "duration": 12,
    "start_time": "2024-05-15T06:22:04.981Z"
   },
   {
    "duration": 213,
    "start_time": "2024-05-15T06:22:04.994Z"
   },
   {
    "duration": 9,
    "start_time": "2024-05-15T06:22:05.209Z"
   },
   {
    "duration": 107,
    "start_time": "2024-05-15T06:22:05.219Z"
   },
   {
    "duration": 92,
    "start_time": "2024-05-15T06:22:05.327Z"
   },
   {
    "duration": 85,
    "start_time": "2024-05-15T06:22:05.421Z"
   },
   {
    "duration": 13,
    "start_time": "2024-05-15T06:22:05.508Z"
   },
   {
    "duration": 133,
    "start_time": "2024-05-15T06:22:05.523Z"
   },
   {
    "duration": 1385,
    "start_time": "2024-05-15T07:26:47.138Z"
   },
   {
    "duration": 867,
    "start_time": "2024-05-15T07:26:48.525Z"
   },
   {
    "duration": 13,
    "start_time": "2024-05-15T07:26:49.394Z"
   },
   {
    "duration": 23,
    "start_time": "2024-05-15T07:26:49.408Z"
   },
   {
    "duration": 71,
    "start_time": "2024-05-15T07:26:49.434Z"
   },
   {
    "duration": 9,
    "start_time": "2024-05-15T07:26:49.507Z"
   },
   {
    "duration": 13,
    "start_time": "2024-05-15T07:26:49.518Z"
   },
   {
    "duration": 93,
    "start_time": "2024-05-15T07:26:49.532Z"
   },
   {
    "duration": 26,
    "start_time": "2024-05-15T07:26:49.626Z"
   },
   {
    "duration": 130,
    "start_time": "2024-05-15T07:26:49.654Z"
   },
   {
    "duration": 31,
    "start_time": "2024-05-15T07:26:49.786Z"
   },
   {
    "duration": 24,
    "start_time": "2024-05-15T07:26:49.819Z"
   },
   {
    "duration": 14,
    "start_time": "2024-05-15T07:26:49.845Z"
   },
   {
    "duration": 24,
    "start_time": "2024-05-15T07:26:49.872Z"
   },
   {
    "duration": 19,
    "start_time": "2024-05-15T07:26:49.898Z"
   },
   {
    "duration": 44,
    "start_time": "2024-05-15T07:26:49.919Z"
   },
   {
    "duration": 63,
    "start_time": "2024-05-15T07:26:49.965Z"
   },
   {
    "duration": 879,
    "start_time": "2024-05-15T07:26:50.030Z"
   },
   {
    "duration": 33,
    "start_time": "2024-05-15T07:26:50.910Z"
   },
   {
    "duration": 3,
    "start_time": "2024-05-15T07:26:50.945Z"
   },
   {
    "duration": 32,
    "start_time": "2024-05-15T07:26:50.950Z"
   },
   {
    "duration": 44,
    "start_time": "2024-05-15T07:26:50.984Z"
   },
   {
    "duration": 108,
    "start_time": "2024-05-15T07:26:51.030Z"
   },
   {
    "duration": 32,
    "start_time": "2024-05-15T07:26:51.140Z"
   },
   {
    "duration": 119,
    "start_time": "2024-05-15T07:26:51.174Z"
   },
   {
    "duration": 61,
    "start_time": "2024-05-15T07:26:51.295Z"
   },
   {
    "duration": 126,
    "start_time": "2024-05-15T07:26:51.357Z"
   },
   {
    "duration": 7,
    "start_time": "2024-05-15T07:26:51.484Z"
   },
   {
    "duration": 27,
    "start_time": "2024-05-15T07:26:51.492Z"
   },
   {
    "duration": 18,
    "start_time": "2024-05-15T07:26:51.521Z"
   },
   {
    "duration": 8,
    "start_time": "2024-05-15T07:26:51.540Z"
   },
   {
    "duration": 14,
    "start_time": "2024-05-15T07:26:51.549Z"
   },
   {
    "duration": 108,
    "start_time": "2024-05-15T07:26:51.564Z"
   },
   {
    "duration": 8,
    "start_time": "2024-05-15T07:26:51.674Z"
   },
   {
    "duration": 8,
    "start_time": "2024-05-15T07:26:51.683Z"
   },
   {
    "duration": 53,
    "start_time": "2024-05-15T07:26:51.693Z"
   },
   {
    "duration": 6,
    "start_time": "2024-05-15T07:26:51.749Z"
   },
   {
    "duration": 30,
    "start_time": "2024-05-15T07:26:51.770Z"
   },
   {
    "duration": 15,
    "start_time": "2024-05-15T07:26:51.801Z"
   },
   {
    "duration": 42,
    "start_time": "2024-05-15T07:26:51.818Z"
   },
   {
    "duration": 38,
    "start_time": "2024-05-15T07:26:51.871Z"
   },
   {
    "duration": 54,
    "start_time": "2024-05-15T07:26:51.911Z"
   },
   {
    "duration": 238,
    "start_time": "2024-05-15T07:26:51.967Z"
   },
   {
    "duration": 5,
    "start_time": "2024-05-15T07:26:52.207Z"
   },
   {
    "duration": 154,
    "start_time": "2024-05-15T07:26:52.214Z"
   },
   {
    "duration": 101,
    "start_time": "2024-05-15T07:26:52.370Z"
   },
   {
    "duration": 103,
    "start_time": "2024-05-15T07:26:52.472Z"
   },
   {
    "duration": 14,
    "start_time": "2024-05-15T07:26:52.577Z"
   },
   {
    "duration": 205,
    "start_time": "2024-05-15T07:26:52.592Z"
   },
   {
    "duration": 1415,
    "start_time": "2024-05-15T12:21:03.384Z"
   },
   {
    "duration": 854,
    "start_time": "2024-05-15T12:21:04.801Z"
   },
   {
    "duration": 12,
    "start_time": "2024-05-15T12:21:05.657Z"
   },
   {
    "duration": 39,
    "start_time": "2024-05-15T12:21:05.670Z"
   },
   {
    "duration": 68,
    "start_time": "2024-05-15T12:21:05.712Z"
   },
   {
    "duration": 9,
    "start_time": "2024-05-15T12:21:05.782Z"
   },
   {
    "duration": 44,
    "start_time": "2024-05-15T12:21:05.793Z"
   },
   {
    "duration": 91,
    "start_time": "2024-05-15T12:21:05.839Z"
   },
   {
    "duration": 9,
    "start_time": "2024-05-15T12:21:05.933Z"
   },
   {
    "duration": 135,
    "start_time": "2024-05-15T12:21:05.943Z"
   },
   {
    "duration": 32,
    "start_time": "2024-05-15T12:21:06.080Z"
   },
   {
    "duration": 22,
    "start_time": "2024-05-15T12:21:06.114Z"
   },
   {
    "duration": 33,
    "start_time": "2024-05-15T12:21:06.138Z"
   },
   {
    "duration": 45,
    "start_time": "2024-05-15T12:21:06.175Z"
   },
   {
    "duration": 24,
    "start_time": "2024-05-15T12:21:06.222Z"
   },
   {
    "duration": 36,
    "start_time": "2024-05-15T12:21:06.248Z"
   },
   {
    "duration": 69,
    "start_time": "2024-05-15T12:21:06.286Z"
   },
   {
    "duration": 860,
    "start_time": "2024-05-15T12:21:06.358Z"
   },
   {
    "duration": 29,
    "start_time": "2024-05-15T12:21:07.220Z"
   },
   {
    "duration": 21,
    "start_time": "2024-05-15T12:21:07.250Z"
   },
   {
    "duration": 22,
    "start_time": "2024-05-15T12:21:07.272Z"
   },
   {
    "duration": 47,
    "start_time": "2024-05-15T12:21:07.296Z"
   },
   {
    "duration": 113,
    "start_time": "2024-05-15T12:21:07.345Z"
   },
   {
    "duration": 36,
    "start_time": "2024-05-15T12:21:07.460Z"
   },
   {
    "duration": 125,
    "start_time": "2024-05-15T12:21:07.498Z"
   },
   {
    "duration": 76,
    "start_time": "2024-05-15T12:21:07.625Z"
   },
   {
    "duration": 125,
    "start_time": "2024-05-15T12:21:07.702Z"
   },
   {
    "duration": 8,
    "start_time": "2024-05-15T12:21:07.829Z"
   },
   {
    "duration": 14,
    "start_time": "2024-05-15T12:21:07.838Z"
   },
   {
    "duration": 5,
    "start_time": "2024-05-15T12:21:07.869Z"
   },
   {
    "duration": 7,
    "start_time": "2024-05-15T12:21:07.876Z"
   },
   {
    "duration": 9,
    "start_time": "2024-05-15T12:21:07.885Z"
   },
   {
    "duration": 123,
    "start_time": "2024-05-15T12:21:07.895Z"
   },
   {
    "duration": 8,
    "start_time": "2024-05-15T12:21:08.020Z"
   },
   {
    "duration": 4,
    "start_time": "2024-05-15T12:21:08.030Z"
   },
   {
    "duration": 80,
    "start_time": "2024-05-15T12:21:08.035Z"
   },
   {
    "duration": 7,
    "start_time": "2024-05-15T12:21:08.116Z"
   },
   {
    "duration": 56,
    "start_time": "2024-05-15T12:21:08.126Z"
   },
   {
    "duration": 8,
    "start_time": "2024-05-15T12:21:08.183Z"
   },
   {
    "duration": 38,
    "start_time": "2024-05-15T12:21:08.192Z"
   },
   {
    "duration": 22,
    "start_time": "2024-05-15T12:21:08.233Z"
   },
   {
    "duration": 23,
    "start_time": "2024-05-15T12:21:08.257Z"
   },
   {
    "duration": 235,
    "start_time": "2024-05-15T12:21:08.282Z"
   },
   {
    "duration": 6,
    "start_time": "2024-05-15T12:21:08.519Z"
   },
   {
    "duration": 119,
    "start_time": "2024-05-15T12:21:08.527Z"
   },
   {
    "duration": 105,
    "start_time": "2024-05-15T12:21:08.648Z"
   },
   {
    "duration": 118,
    "start_time": "2024-05-15T12:21:08.755Z"
   },
   {
    "duration": 16,
    "start_time": "2024-05-15T12:21:08.875Z"
   },
   {
    "duration": 171,
    "start_time": "2024-05-15T12:21:08.893Z"
   },
   {
    "duration": 20,
    "start_time": "2024-05-15T12:24:03.550Z"
   },
   {
    "duration": 12,
    "start_time": "2024-05-15T12:24:19.739Z"
   },
   {
    "duration": 31,
    "start_time": "2024-05-15T12:24:31.285Z"
   },
   {
    "duration": 20,
    "start_time": "2024-05-15T12:24:37.790Z"
   },
   {
    "duration": 11,
    "start_time": "2024-05-15T12:24:49.030Z"
   },
   {
    "duration": 34,
    "start_time": "2024-05-15T12:25:15.607Z"
   },
   {
    "duration": 65,
    "start_time": "2024-05-15T12:25:49.086Z"
   },
   {
    "duration": 99,
    "start_time": "2024-05-15T12:25:59.846Z"
   },
   {
    "duration": 87,
    "start_time": "2024-05-15T12:27:28.615Z"
   },
   {
    "duration": 95,
    "start_time": "2024-05-15T12:27:34.111Z"
   },
   {
    "duration": 1148,
    "start_time": "2024-05-15T12:27:52.778Z"
   },
   {
    "duration": 180,
    "start_time": "2024-05-15T12:27:54.801Z"
   },
   {
    "duration": 187,
    "start_time": "2024-05-15T12:27:57.207Z"
   },
   {
    "duration": 14,
    "start_time": "2024-05-15T12:27:58.107Z"
   },
   {
    "duration": 22,
    "start_time": "2024-05-15T12:28:00.079Z"
   },
   {
    "duration": 64,
    "start_time": "2024-05-15T12:28:01.360Z"
   },
   {
    "duration": 5,
    "start_time": "2024-05-15T12:28:07.471Z"
   },
   {
    "duration": 10,
    "start_time": "2024-05-15T12:28:08.102Z"
   },
   {
    "duration": 76,
    "start_time": "2024-05-15T12:28:08.646Z"
   },
   {
    "duration": 9,
    "start_time": "2024-05-15T12:28:09.191Z"
   },
   {
    "duration": 85,
    "start_time": "2024-05-15T12:28:13.134Z"
   },
   {
    "duration": 75,
    "start_time": "2024-05-15T12:28:17.751Z"
   },
   {
    "duration": 74,
    "start_time": "2024-05-15T12:28:35.999Z"
   },
   {
    "duration": 77,
    "start_time": "2024-05-15T12:28:39.775Z"
   },
   {
    "duration": 79,
    "start_time": "2024-05-15T12:28:47.705Z"
   },
   {
    "duration": 80,
    "start_time": "2024-05-15T12:29:17.687Z"
   },
   {
    "duration": 77,
    "start_time": "2024-05-15T12:29:27.391Z"
   },
   {
    "duration": 25,
    "start_time": "2024-05-15T12:32:02.480Z"
   },
   {
    "duration": 30,
    "start_time": "2024-05-15T12:32:16.893Z"
   },
   {
    "duration": 30,
    "start_time": "2024-05-15T12:33:13.328Z"
   },
   {
    "duration": 147,
    "start_time": "2024-05-15T12:33:24.945Z"
   },
   {
    "duration": 293,
    "start_time": "2024-05-15T12:33:43.976Z"
   },
   {
    "duration": 161,
    "start_time": "2024-05-15T12:34:05.265Z"
   },
   {
    "duration": 150,
    "start_time": "2024-05-15T12:38:33.675Z"
   },
   {
    "duration": 5,
    "start_time": "2024-05-15T12:41:09.458Z"
   },
   {
    "duration": 154,
    "start_time": "2024-05-15T12:41:29.299Z"
   },
   {
    "duration": 25,
    "start_time": "2024-05-15T12:44:42.234Z"
   },
   {
    "duration": 9,
    "start_time": "2024-05-15T12:44:58.676Z"
   },
   {
    "duration": 4,
    "start_time": "2024-05-15T12:45:03.174Z"
   },
   {
    "duration": 242,
    "start_time": "2024-05-15T12:45:03.181Z"
   },
   {
    "duration": 12,
    "start_time": "2024-05-15T12:45:03.424Z"
   },
   {
    "duration": 40,
    "start_time": "2024-05-15T12:45:03.438Z"
   },
   {
    "duration": 61,
    "start_time": "2024-05-15T12:45:03.481Z"
   },
   {
    "duration": 29,
    "start_time": "2024-05-15T12:45:03.544Z"
   },
   {
    "duration": 12,
    "start_time": "2024-05-15T12:45:03.575Z"
   },
   {
    "duration": 98,
    "start_time": "2024-05-15T12:45:03.589Z"
   },
   {
    "duration": 10,
    "start_time": "2024-05-15T12:45:03.689Z"
   },
   {
    "duration": 102,
    "start_time": "2024-05-15T12:45:03.700Z"
   },
   {
    "duration": 88,
    "start_time": "2024-05-15T12:45:03.804Z"
   },
   {
    "duration": 105,
    "start_time": "2024-05-15T12:45:03.893Z"
   },
   {
    "duration": 115,
    "start_time": "2024-05-15T12:45:03.999Z"
   },
   {
    "duration": 34,
    "start_time": "2024-05-15T12:45:04.118Z"
   },
   {
    "duration": 48,
    "start_time": "2024-05-15T12:45:04.154Z"
   },
   {
    "duration": 15,
    "start_time": "2024-05-15T12:45:04.204Z"
   },
   {
    "duration": 44,
    "start_time": "2024-05-15T12:45:04.221Z"
   },
   {
    "duration": 164,
    "start_time": "2024-05-15T12:45:04.267Z"
   },
   {
    "duration": 42,
    "start_time": "2024-05-15T12:45:04.433Z"
   },
   {
    "duration": 20,
    "start_time": "2024-05-15T12:45:04.477Z"
   },
   {
    "duration": 60,
    "start_time": "2024-05-15T12:45:04.499Z"
   },
   {
    "duration": 81,
    "start_time": "2024-05-15T12:45:04.561Z"
   },
   {
    "duration": 847,
    "start_time": "2024-05-15T12:45:04.645Z"
   },
   {
    "duration": 28,
    "start_time": "2024-05-15T12:45:05.494Z"
   },
   {
    "duration": 23,
    "start_time": "2024-05-15T12:45:05.524Z"
   },
   {
    "duration": 42,
    "start_time": "2024-05-15T12:45:05.549Z"
   },
   {
    "duration": 70,
    "start_time": "2024-05-15T12:45:05.593Z"
   },
   {
    "duration": 181,
    "start_time": "2024-05-15T12:45:05.665Z"
   },
   {
    "duration": 47,
    "start_time": "2024-05-15T12:45:05.848Z"
   },
   {
    "duration": 135,
    "start_time": "2024-05-15T12:45:05.897Z"
   },
   {
    "duration": 67,
    "start_time": "2024-05-15T12:45:06.034Z"
   },
   {
    "duration": 126,
    "start_time": "2024-05-15T12:45:06.103Z"
   },
   {
    "duration": 9,
    "start_time": "2024-05-15T12:45:06.230Z"
   },
   {
    "duration": 16,
    "start_time": "2024-05-15T12:45:06.241Z"
   },
   {
    "duration": 9,
    "start_time": "2024-05-15T12:45:06.270Z"
   },
   {
    "duration": 18,
    "start_time": "2024-05-15T12:45:06.281Z"
   },
   {
    "duration": 26,
    "start_time": "2024-05-15T12:45:06.301Z"
   },
   {
    "duration": 123,
    "start_time": "2024-05-15T12:45:06.328Z"
   },
   {
    "duration": 18,
    "start_time": "2024-05-15T12:45:06.453Z"
   },
   {
    "duration": 11,
    "start_time": "2024-05-15T12:45:06.473Z"
   },
   {
    "duration": 17,
    "start_time": "2024-05-15T12:45:06.488Z"
   },
   {
    "duration": 51,
    "start_time": "2024-05-15T12:45:06.507Z"
   },
   {
    "duration": 7,
    "start_time": "2024-05-15T12:45:06.570Z"
   },
   {
    "duration": 27,
    "start_time": "2024-05-15T12:45:06.578Z"
   },
   {
    "duration": 9,
    "start_time": "2024-05-15T12:45:06.607Z"
   },
   {
    "duration": 52,
    "start_time": "2024-05-15T12:45:06.619Z"
   },
   {
    "duration": 18,
    "start_time": "2024-05-15T12:45:06.673Z"
   },
   {
    "duration": 24,
    "start_time": "2024-05-15T12:45:06.693Z"
   },
   {
    "duration": 232,
    "start_time": "2024-05-15T12:45:06.719Z"
   },
   {
    "duration": 7,
    "start_time": "2024-05-15T12:45:06.952Z"
   },
   {
    "duration": 123,
    "start_time": "2024-05-15T12:45:06.960Z"
   },
   {
    "duration": 118,
    "start_time": "2024-05-15T12:45:07.084Z"
   },
   {
    "duration": 144,
    "start_time": "2024-05-15T12:45:07.204Z"
   },
   {
    "duration": 26,
    "start_time": "2024-05-15T12:45:07.350Z"
   },
   {
    "duration": 166,
    "start_time": "2024-05-15T12:45:07.377Z"
   },
   {
    "duration": 22,
    "start_time": "2024-05-15T12:49:23.830Z"
   },
   {
    "duration": 14,
    "start_time": "2024-05-15T12:49:38.438Z"
   },
   {
    "duration": 12,
    "start_time": "2024-05-15T12:50:06.118Z"
   },
   {
    "duration": 17,
    "start_time": "2024-05-15T12:51:29.807Z"
   },
   {
    "duration": 82,
    "start_time": "2024-05-15T12:51:44.959Z"
   },
   {
    "duration": 48,
    "start_time": "2024-05-15T12:51:59.535Z"
   },
   {
    "duration": 12,
    "start_time": "2024-05-15T12:52:06.934Z"
   },
   {
    "duration": 11,
    "start_time": "2024-05-15T12:52:12.311Z"
   },
   {
    "duration": 17,
    "start_time": "2024-05-15T12:53:46.783Z"
   },
   {
    "duration": 16,
    "start_time": "2024-05-15T12:55:17.479Z"
   },
   {
    "duration": 17,
    "start_time": "2024-05-15T12:55:50.807Z"
   },
   {
    "duration": 48,
    "start_time": "2024-05-15T12:56:00.999Z"
   },
   {
    "duration": 13,
    "start_time": "2024-05-15T13:00:10.240Z"
   },
   {
    "duration": 16,
    "start_time": "2024-05-15T13:01:47.146Z"
   },
   {
    "duration": 13,
    "start_time": "2024-05-15T13:02:28.270Z"
   },
   {
    "duration": 23,
    "start_time": "2024-05-15T13:02:42.450Z"
   },
   {
    "duration": 23,
    "start_time": "2024-05-15T13:02:45.723Z"
   },
   {
    "duration": 22,
    "start_time": "2024-05-15T13:02:58.185Z"
   },
   {
    "duration": 14,
    "start_time": "2024-05-15T13:05:35.969Z"
   },
   {
    "duration": 1172,
    "start_time": "2024-05-15T13:07:35.569Z"
   },
   {
    "duration": 184,
    "start_time": "2024-05-15T13:07:36.743Z"
   },
   {
    "duration": 13,
    "start_time": "2024-05-15T13:07:36.929Z"
   },
   {
    "duration": 38,
    "start_time": "2024-05-15T13:07:36.943Z"
   },
   {
    "duration": 74,
    "start_time": "2024-05-15T13:07:36.982Z"
   },
   {
    "duration": 9,
    "start_time": "2024-05-15T13:07:37.070Z"
   },
   {
    "duration": 25,
    "start_time": "2024-05-15T13:07:37.081Z"
   },
   {
    "duration": 92,
    "start_time": "2024-05-15T13:07:37.108Z"
   },
   {
    "duration": 20,
    "start_time": "2024-05-15T13:07:37.202Z"
   },
   {
    "duration": 94,
    "start_time": "2024-05-15T13:07:37.225Z"
   },
   {
    "duration": 85,
    "start_time": "2024-05-15T13:07:37.321Z"
   },
   {
    "duration": 102,
    "start_time": "2024-05-15T13:07:37.407Z"
   },
   {
    "duration": 100,
    "start_time": "2024-05-15T13:07:37.511Z"
   },
   {
    "duration": 31,
    "start_time": "2024-05-15T13:07:37.613Z"
   },
   {
    "duration": 39,
    "start_time": "2024-05-15T13:07:37.646Z"
   },
   {
    "duration": 9,
    "start_time": "2024-05-15T13:07:37.687Z"
   },
   {
    "duration": 31,
    "start_time": "2024-05-15T13:07:37.698Z"
   },
   {
    "duration": 191,
    "start_time": "2024-05-15T13:07:37.731Z"
   },
   {
    "duration": 26,
    "start_time": "2024-05-15T13:07:37.924Z"
   },
   {
    "duration": 22,
    "start_time": "2024-05-15T13:07:37.969Z"
   },
   {
    "duration": 34,
    "start_time": "2024-05-15T13:07:37.992Z"
   },
   {
    "duration": 59,
    "start_time": "2024-05-15T13:07:38.027Z"
   },
   {
    "duration": 835,
    "start_time": "2024-05-15T13:07:38.088Z"
   },
   {
    "duration": 44,
    "start_time": "2024-05-15T13:07:38.925Z"
   },
   {
    "duration": 8,
    "start_time": "2024-05-15T13:07:38.971Z"
   },
   {
    "duration": 25,
    "start_time": "2024-05-15T13:07:38.980Z"
   },
   {
    "duration": 45,
    "start_time": "2024-05-15T13:07:39.007Z"
   },
   {
    "duration": 114,
    "start_time": "2024-05-15T13:07:39.056Z"
   },
   {
    "duration": 27,
    "start_time": "2024-05-15T13:07:39.171Z"
   },
   {
    "duration": 120,
    "start_time": "2024-05-15T13:07:39.200Z"
   },
   {
    "duration": 77,
    "start_time": "2024-05-15T13:07:39.322Z"
   },
   {
    "duration": 128,
    "start_time": "2024-05-15T13:07:39.401Z"
   },
   {
    "duration": 8,
    "start_time": "2024-05-15T13:07:39.531Z"
   },
   {
    "duration": 18,
    "start_time": "2024-05-15T13:07:39.540Z"
   },
   {
    "duration": 19,
    "start_time": "2024-05-15T13:07:39.560Z"
   },
   {
    "duration": 6,
    "start_time": "2024-05-15T13:07:39.580Z"
   },
   {
    "duration": 18,
    "start_time": "2024-05-15T13:07:39.587Z"
   },
   {
    "duration": 116,
    "start_time": "2024-05-15T13:07:39.607Z"
   },
   {
    "duration": 10,
    "start_time": "2024-05-15T13:07:39.725Z"
   },
   {
    "duration": 19,
    "start_time": "2024-05-15T13:07:39.737Z"
   },
   {
    "duration": 190,
    "start_time": "2024-05-15T13:07:39.757Z"
   },
   {
    "duration": 64,
    "start_time": "2024-05-15T13:07:39.949Z"
   },
   {
    "duration": 7,
    "start_time": "2024-05-15T13:07:40.069Z"
   },
   {
    "duration": 108,
    "start_time": "2024-05-15T13:07:40.078Z"
   },
   {
    "duration": 10,
    "start_time": "2024-05-15T13:07:40.188Z"
   },
   {
    "duration": 26,
    "start_time": "2024-05-15T13:07:40.200Z"
   },
   {
    "duration": 45,
    "start_time": "2024-05-15T13:07:40.228Z"
   },
   {
    "duration": 14,
    "start_time": "2024-05-15T13:07:40.275Z"
   },
   {
    "duration": 278,
    "start_time": "2024-05-15T13:07:40.291Z"
   },
   {
    "duration": 6,
    "start_time": "2024-05-15T13:07:40.571Z"
   },
   {
    "duration": 117,
    "start_time": "2024-05-15T13:07:40.578Z"
   },
   {
    "duration": 199,
    "start_time": "2024-05-15T13:07:40.696Z"
   },
   {
    "duration": 114,
    "start_time": "2024-05-15T13:07:40.897Z"
   },
   {
    "duration": 12,
    "start_time": "2024-05-15T13:07:41.013Z"
   },
   {
    "duration": 174,
    "start_time": "2024-05-15T13:07:41.027Z"
   },
   {
    "duration": 1403,
    "start_time": "2024-05-15T18:52:25.251Z"
   },
   {
    "duration": 866,
    "start_time": "2024-05-15T18:52:26.656Z"
   },
   {
    "duration": 11,
    "start_time": "2024-05-15T18:52:27.524Z"
   },
   {
    "duration": 23,
    "start_time": "2024-05-15T18:52:27.537Z"
   },
   {
    "duration": 83,
    "start_time": "2024-05-15T18:52:27.561Z"
   },
   {
    "duration": 11,
    "start_time": "2024-05-15T18:52:27.646Z"
   },
   {
    "duration": 12,
    "start_time": "2024-05-15T18:52:27.658Z"
   },
   {
    "duration": 92,
    "start_time": "2024-05-15T18:52:27.672Z"
   },
   {
    "duration": 10,
    "start_time": "2024-05-15T18:52:27.766Z"
   },
   {
    "duration": 101,
    "start_time": "2024-05-15T18:52:27.791Z"
   },
   {
    "duration": 82,
    "start_time": "2024-05-15T18:52:27.893Z"
   },
   {
    "duration": 110,
    "start_time": "2024-05-15T18:52:27.976Z"
   },
   {
    "duration": 116,
    "start_time": "2024-05-15T18:52:28.092Z"
   },
   {
    "duration": 39,
    "start_time": "2024-05-15T18:52:28.210Z"
   },
   {
    "duration": 41,
    "start_time": "2024-05-15T18:52:28.251Z"
   },
   {
    "duration": 8,
    "start_time": "2024-05-15T18:52:28.294Z"
   },
   {
    "duration": 31,
    "start_time": "2024-05-15T18:52:28.303Z"
   },
   {
    "duration": 178,
    "start_time": "2024-05-15T18:52:28.336Z"
   },
   {
    "duration": 33,
    "start_time": "2024-05-15T18:52:28.516Z"
   },
   {
    "duration": 39,
    "start_time": "2024-05-15T18:52:28.552Z"
   },
   {
    "duration": 38,
    "start_time": "2024-05-15T18:52:28.593Z"
   },
   {
    "duration": 57,
    "start_time": "2024-05-15T18:52:28.633Z"
   },
   {
    "duration": 843,
    "start_time": "2024-05-15T18:52:28.692Z"
   },
   {
    "duration": 33,
    "start_time": "2024-05-15T18:52:29.536Z"
   },
   {
    "duration": 4,
    "start_time": "2024-05-15T18:52:29.571Z"
   },
   {
    "duration": 29,
    "start_time": "2024-05-15T18:52:29.577Z"
   },
   {
    "duration": 43,
    "start_time": "2024-05-15T18:52:29.607Z"
   },
   {
    "duration": 124,
    "start_time": "2024-05-15T18:52:29.654Z"
   },
   {
    "duration": 38,
    "start_time": "2024-05-15T18:52:29.780Z"
   },
   {
    "duration": 139,
    "start_time": "2024-05-15T18:52:29.820Z"
   },
   {
    "duration": 86,
    "start_time": "2024-05-15T18:52:29.960Z"
   },
   {
    "duration": 157,
    "start_time": "2024-05-15T18:52:30.048Z"
   },
   {
    "duration": 8,
    "start_time": "2024-05-15T18:52:30.207Z"
   },
   {
    "duration": 106,
    "start_time": "2024-05-15T18:52:30.216Z"
   },
   {
    "duration": 90,
    "start_time": "2024-05-15T18:52:30.324Z"
   },
   {
    "duration": 130,
    "start_time": "2024-05-15T18:52:30.415Z"
   },
   {
    "duration": 127,
    "start_time": "2024-05-15T18:52:30.547Z"
   },
   {
    "duration": 213,
    "start_time": "2024-05-15T18:52:30.676Z"
   },
   {
    "duration": 7,
    "start_time": "2024-05-15T18:52:30.891Z"
   },
   {
    "duration": 54,
    "start_time": "2024-05-15T18:52:30.899Z"
   },
   {
    "duration": 470,
    "start_time": "2024-05-15T18:52:30.955Z"
   },
   {
    "duration": 79,
    "start_time": "2024-05-15T18:52:31.428Z"
   },
   {
    "duration": 7,
    "start_time": "2024-05-15T18:52:31.509Z"
   },
   {
    "duration": 319,
    "start_time": "2024-05-15T18:52:31.518Z"
   },
   {
    "duration": 70,
    "start_time": "2024-05-15T18:52:31.839Z"
   },
   {
    "duration": 49,
    "start_time": "2024-05-15T18:52:31.911Z"
   },
   {
    "duration": 21,
    "start_time": "2024-05-15T18:52:31.962Z"
   },
   {
    "duration": 35,
    "start_time": "2024-05-15T18:52:31.985Z"
   },
   {
    "duration": 232,
    "start_time": "2024-05-15T18:52:32.022Z"
   },
   {
    "duration": 8,
    "start_time": "2024-05-15T18:52:32.256Z"
   },
   {
    "duration": 122,
    "start_time": "2024-05-15T18:52:32.265Z"
   },
   {
    "duration": 183,
    "start_time": "2024-05-15T18:52:32.389Z"
   },
   {
    "duration": 127,
    "start_time": "2024-05-15T18:52:32.574Z"
   },
   {
    "duration": 14,
    "start_time": "2024-05-15T18:52:32.703Z"
   },
   {
    "duration": 196,
    "start_time": "2024-05-15T18:52:32.719Z"
   }
  ],
  "kernelspec": {
   "display_name": "Python 3 (ipykernel)",
   "language": "python",
   "name": "python3"
  },
  "language_info": {
   "codemirror_mode": {
    "name": "ipython",
    "version": 3
   },
   "file_extension": ".py",
   "mimetype": "text/x-python",
   "name": "python",
   "nbconvert_exporter": "python",
   "pygments_lexer": "ipython3",
   "version": "3.9.12"
  },
  "toc": {
   "base_numbering": 1,
   "nav_menu": {},
   "number_sections": true,
   "sideBar": true,
   "skip_h1_title": true,
   "title_cell": "Table of Contents",
   "title_sidebar": "Contents",
   "toc_cell": false,
   "toc_position": {},
   "toc_section_display": true,
   "toc_window_display": false
  }
 },
 "nbformat": 4,
 "nbformat_minor": 2
}
