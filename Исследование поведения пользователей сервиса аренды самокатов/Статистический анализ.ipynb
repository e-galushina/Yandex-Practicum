{
 "cells": [
  {
   "cell_type": "markdown",
   "id": "8ed15a4c",
   "metadata": {},
   "source": [
    "# Проект: Исследование поведения пользователей сервиса аренды самокатов\n",
    "\n",
    "**Цель проекта:** провести анализ данных популярного сервиса аренды самокатов GoFast и проверить некоторые гипотезы, которые могут помочь бизнесу вырасти.\n",
    "**План работы:**\n",
    "1. Подключить необходимые библиотеки для работы\n",
    "2. Изучить общую информацию о наборе данных:\n",
    "    - загрузить файлы\n",
    "    - посмотреть количество данных, их тип, пропущенные значения\n",
    "    - оценить распределение данных и сделать предварительные выводы о корректности данных\n",
    "    - сделать вывод\n",
    "3. Провести предварительную обработку данных:\n",
    "    - переименовать столбцы в соответствии с правилами\n",
    "    - заполнить пропуски\n",
    "    - изменить тип данных\n",
    "    - убрать явные и неявные дубликаты\n",
    "    - изменить размерность столбцов (если это необходимо)\n",
    "    - создать новые столбцы\n",
    "    - сделать вывод\n",
    "4. Провести исследовательский анализ данных:\n",
    "    - Описать и визуализировать общую информацию о пользователях и поездках:\n",
    "        - частота встречаемости городов;\n",
    "        - соотношение пользователей с подпиской и без подписки;\n",
    "        - возраст пользователей;\n",
    "        - расстояние, которое пользователь преодолел за одну поездку;\n",
    "        - продолжительность поездок.\n",
    "    - сделать вывод\n",
    "5. Объединить данные\n",
    "6. Вычислить выручки по категориям пользователей\n",
    "7. Проверить статистические гипотезы:\n",
    "8. Решить задачи\n",
    "9. Написать общий вывод\n",
    "    \n",
    "**Описание данных**\n",
    "\n",
    "В основных данных есть информация о пользователях, их поездках и подписках."
   ]
  },
  {
   "cell_type": "code",
   "execution_count": 63,
   "id": "72576667",
   "metadata": {},
   "outputs": [],
   "source": [
    "#подключение библиотек\n",
    "import pandas as pd\n",
    "import matplotlib.pyplot as plt\n",
    "import numpy as np\n",
    "import seaborn as sns\n",
    "from math import factorial, sqrt\n",
    "from scipy import stats as st"
   ]
  },
  {
   "cell_type": "markdown",
   "id": "c42cbe00",
   "metadata": {},
   "source": [
    "#### Шаг 1. Загрузка данных"
   ]
  },
  {
   "cell_type": "markdown",
   "id": "bbd12fa9",
   "metadata": {},
   "source": [
    "**Набор данных users**"
   ]
  },
  {
   "cell_type": "code",
   "execution_count": 64,
   "id": "eff9f206",
   "metadata": {},
   "outputs": [],
   "source": [
    "try:\n",
    "    users = pd.read_csv('data.csv')\n",
    "except:\n",
    "    users = pd.read_csv('https://dataset.csv')   "
   ]
  },
  {
   "cell_type": "code",
   "execution_count": 65,
   "id": "ca8ab099",
   "metadata": {},
   "outputs": [
    {
     "data": {
      "text/html": [
       "<div>\n",
       "<style scoped>\n",
       "    .dataframe tbody tr th:only-of-type {\n",
       "        vertical-align: middle;\n",
       "    }\n",
       "\n",
       "    .dataframe tbody tr th {\n",
       "        vertical-align: top;\n",
       "    }\n",
       "\n",
       "    .dataframe thead th {\n",
       "        text-align: right;\n",
       "    }\n",
       "</style>\n",
       "<table border=\"1\" class=\"dataframe\">\n",
       "  <thead>\n",
       "    <tr style=\"text-align: right;\">\n",
       "      <th></th>\n",
       "      <th>user_id</th>\n",
       "      <th>name</th>\n",
       "      <th>age</th>\n",
       "      <th>city</th>\n",
       "      <th>subscription_type</th>\n",
       "    </tr>\n",
       "  </thead>\n",
       "  <tbody>\n",
       "    <tr>\n",
       "      <th>0</th>\n",
       "      <td>1</td>\n",
       "      <td>Кира</td>\n",
       "      <td>22</td>\n",
       "      <td>Тюмень</td>\n",
       "      <td>ultra</td>\n",
       "    </tr>\n",
       "    <tr>\n",
       "      <th>1</th>\n",
       "      <td>2</td>\n",
       "      <td>Станислав</td>\n",
       "      <td>31</td>\n",
       "      <td>Омск</td>\n",
       "      <td>ultra</td>\n",
       "    </tr>\n",
       "    <tr>\n",
       "      <th>2</th>\n",
       "      <td>3</td>\n",
       "      <td>Алексей</td>\n",
       "      <td>20</td>\n",
       "      <td>Москва</td>\n",
       "      <td>ultra</td>\n",
       "    </tr>\n",
       "    <tr>\n",
       "      <th>3</th>\n",
       "      <td>4</td>\n",
       "      <td>Константин</td>\n",
       "      <td>26</td>\n",
       "      <td>Ростов-на-Дону</td>\n",
       "      <td>ultra</td>\n",
       "    </tr>\n",
       "    <tr>\n",
       "      <th>4</th>\n",
       "      <td>5</td>\n",
       "      <td>Адель</td>\n",
       "      <td>28</td>\n",
       "      <td>Омск</td>\n",
       "      <td>ultra</td>\n",
       "    </tr>\n",
       "    <tr>\n",
       "      <th>5</th>\n",
       "      <td>6</td>\n",
       "      <td>Регина</td>\n",
       "      <td>25</td>\n",
       "      <td>Краснодар</td>\n",
       "      <td>ultra</td>\n",
       "    </tr>\n",
       "    <tr>\n",
       "      <th>6</th>\n",
       "      <td>7</td>\n",
       "      <td>Игорь</td>\n",
       "      <td>23</td>\n",
       "      <td>Омск</td>\n",
       "      <td>ultra</td>\n",
       "    </tr>\n",
       "    <tr>\n",
       "      <th>7</th>\n",
       "      <td>8</td>\n",
       "      <td>Юрий</td>\n",
       "      <td>23</td>\n",
       "      <td>Краснодар</td>\n",
       "      <td>ultra</td>\n",
       "    </tr>\n",
       "    <tr>\n",
       "      <th>8</th>\n",
       "      <td>9</td>\n",
       "      <td>Ян</td>\n",
       "      <td>21</td>\n",
       "      <td>Пятигорск</td>\n",
       "      <td>ultra</td>\n",
       "    </tr>\n",
       "    <tr>\n",
       "      <th>9</th>\n",
       "      <td>10</td>\n",
       "      <td>Валерий</td>\n",
       "      <td>18</td>\n",
       "      <td>Екатеринбург</td>\n",
       "      <td>ultra</td>\n",
       "    </tr>\n",
       "    <tr>\n",
       "      <th>10</th>\n",
       "      <td>11</td>\n",
       "      <td>Агата</td>\n",
       "      <td>31</td>\n",
       "      <td>Краснодар</td>\n",
       "      <td>ultra</td>\n",
       "    </tr>\n",
       "    <tr>\n",
       "      <th>11</th>\n",
       "      <td>12</td>\n",
       "      <td>Марк</td>\n",
       "      <td>27</td>\n",
       "      <td>Тюмень</td>\n",
       "      <td>ultra</td>\n",
       "    </tr>\n",
       "    <tr>\n",
       "      <th>12</th>\n",
       "      <td>13</td>\n",
       "      <td>Ева</td>\n",
       "      <td>24</td>\n",
       "      <td>Краснодар</td>\n",
       "      <td>ultra</td>\n",
       "    </tr>\n",
       "    <tr>\n",
       "      <th>13</th>\n",
       "      <td>14</td>\n",
       "      <td>Антонина</td>\n",
       "      <td>18</td>\n",
       "      <td>Пятигорск</td>\n",
       "      <td>ultra</td>\n",
       "    </tr>\n",
       "    <tr>\n",
       "      <th>14</th>\n",
       "      <td>15</td>\n",
       "      <td>Валерия</td>\n",
       "      <td>24</td>\n",
       "      <td>Тюмень</td>\n",
       "      <td>ultra</td>\n",
       "    </tr>\n",
       "    <tr>\n",
       "      <th>15</th>\n",
       "      <td>16</td>\n",
       "      <td>Амалия</td>\n",
       "      <td>27</td>\n",
       "      <td>Краснодар</td>\n",
       "      <td>ultra</td>\n",
       "    </tr>\n",
       "    <tr>\n",
       "      <th>16</th>\n",
       "      <td>17</td>\n",
       "      <td>Даниил</td>\n",
       "      <td>29</td>\n",
       "      <td>Москва</td>\n",
       "      <td>ultra</td>\n",
       "    </tr>\n",
       "    <tr>\n",
       "      <th>17</th>\n",
       "      <td>18</td>\n",
       "      <td>Аделина</td>\n",
       "      <td>24</td>\n",
       "      <td>Сочи</td>\n",
       "      <td>ultra</td>\n",
       "    </tr>\n",
       "    <tr>\n",
       "      <th>18</th>\n",
       "      <td>19</td>\n",
       "      <td>Регина</td>\n",
       "      <td>32</td>\n",
       "      <td>Тюмень</td>\n",
       "      <td>ultra</td>\n",
       "    </tr>\n",
       "    <tr>\n",
       "      <th>19</th>\n",
       "      <td>20</td>\n",
       "      <td>Игорь</td>\n",
       "      <td>23</td>\n",
       "      <td>Омск</td>\n",
       "      <td>ultra</td>\n",
       "    </tr>\n",
       "  </tbody>\n",
       "</table>\n",
       "</div>"
      ],
      "text/plain": [
       "    user_id        name  age            city subscription_type\n",
       "0         1        Кира   22          Тюмень             ultra\n",
       "1         2   Станислав   31            Омск             ultra\n",
       "2         3     Алексей   20          Москва             ultra\n",
       "3         4  Константин   26  Ростов-на-Дону             ultra\n",
       "4         5       Адель   28            Омск             ultra\n",
       "5         6      Регина   25       Краснодар             ultra\n",
       "6         7       Игорь   23            Омск             ultra\n",
       "7         8        Юрий   23       Краснодар             ultra\n",
       "8         9          Ян   21       Пятигорск             ultra\n",
       "9        10     Валерий   18    Екатеринбург             ultra\n",
       "10       11       Агата   31       Краснодар             ultra\n",
       "11       12        Марк   27          Тюмень             ultra\n",
       "12       13         Ева   24       Краснодар             ultra\n",
       "13       14    Антонина   18       Пятигорск             ultra\n",
       "14       15     Валерия   24          Тюмень             ultra\n",
       "15       16      Амалия   27       Краснодар             ultra\n",
       "16       17      Даниил   29          Москва             ultra\n",
       "17       18     Аделина   24            Сочи             ultra\n",
       "18       19      Регина   32          Тюмень             ultra\n",
       "19       20       Игорь   23            Омск             ultra"
      ]
     },
     "execution_count": 65,
     "metadata": {},
     "output_type": "execute_result"
    }
   ],
   "source": [
    "users.head(20)"
   ]
  },
  {
   "cell_type": "code",
   "execution_count": 66,
   "id": "80ba779d",
   "metadata": {},
   "outputs": [
    {
     "name": "stdout",
     "output_type": "stream",
     "text": [
      "<class 'pandas.core.frame.DataFrame'>\n",
      "RangeIndex: 1565 entries, 0 to 1564\n",
      "Data columns (total 5 columns):\n",
      " #   Column             Non-Null Count  Dtype \n",
      "---  ------             --------------  ----- \n",
      " 0   user_id            1565 non-null   int64 \n",
      " 1   name               1565 non-null   object\n",
      " 2   age                1565 non-null   int64 \n",
      " 3   city               1565 non-null   object\n",
      " 4   subscription_type  1565 non-null   object\n",
      "dtypes: int64(2), object(3)\n",
      "memory usage: 61.3+ KB\n"
     ]
    }
   ],
   "source": [
    "users.info()"
   ]
  },
  {
   "cell_type": "code",
   "execution_count": 67,
   "id": "2be992b4",
   "metadata": {},
   "outputs": [
    {
     "data": {
      "text/plain": [
       "31"
      ]
     },
     "execution_count": 67,
     "metadata": {},
     "output_type": "execute_result"
    }
   ],
   "source": [
    "users.duplicated().sum()"
   ]
  },
  {
   "cell_type": "markdown",
   "id": "75eaf883",
   "metadata": {},
   "source": [
    "<div class=\"alert alert-info\"  style=\"border-radius: 15px; border: 1px solid \">\n",
    "\n",
    "    \n",
    "В датасете users 5 столбцов и 1565 строк, пропущенных значений нет. 3 столбца имеют тип данных object, 2 - int64. В наборе данных есть явные дубликаты. Удалим их"
   ]
  },
  {
   "cell_type": "code",
   "execution_count": 68,
   "id": "031b5d20",
   "metadata": {},
   "outputs": [
    {
     "name": "stdout",
     "output_type": "stream",
     "text": [
      "0\n",
      "<class 'pandas.core.frame.DataFrame'>\n",
      "Int64Index: 1534 entries, 0 to 1533\n",
      "Data columns (total 5 columns):\n",
      " #   Column             Non-Null Count  Dtype \n",
      "---  ------             --------------  ----- \n",
      " 0   user_id            1534 non-null   int64 \n",
      " 1   name               1534 non-null   object\n",
      " 2   age                1534 non-null   int64 \n",
      " 3   city               1534 non-null   object\n",
      " 4   subscription_type  1534 non-null   object\n",
      "dtypes: int64(2), object(3)\n",
      "memory usage: 71.9+ KB\n"
     ]
    }
   ],
   "source": [
    "users = users.drop_duplicates()\n",
    "print(users.duplicated().sum())\n",
    "users.info()"
   ]
  },
  {
   "cell_type": "code",
   "execution_count": 69,
   "id": "bef7d358",
   "metadata": {},
   "outputs": [
    {
     "data": {
      "image/png": "[encoded data removed]",
      "text/plain": [
       "<Figure size 432x288 with 1 Axes>"
      ]
     },
     "metadata": {
      "needs_background": "light"
     },
     "output_type": "display_data"
    }
   ],
   "source": [
    "ax = sns.histplot(users['age'], color='purple')\n",
    "ax.set(xlabel='Возраст', ylabel='Абсолютная частота', title='Гистограмма возраста');"
   ]
  },
  {
   "cell_type": "markdown",
   "id": "48c026a2",
   "metadata": {},
   "source": [
    "**Набор данных rides**"
   ]
  },
  {
   "cell_type": "code",
   "execution_count": 70,
   "id": "50829fe9",
   "metadata": {},
   "outputs": [],
   "source": [
    "try:\n",
    "    rides = pd.read_csv('data.csv')\n",
    "except:\n",
    "    rides = pd.read_csv('https://dataset.csv')   "
   ]
  },
  {
   "cell_type": "code",
   "execution_count": 71,
   "id": "a5d3c429",
   "metadata": {},
   "outputs": [
    {
     "data": {
      "text/html": [
       "<div>\n",
       "<style scoped>\n",
       "    .dataframe tbody tr th:only-of-type {\n",
       "        vertical-align: middle;\n",
       "    }\n",
       "\n",
       "    .dataframe tbody tr th {\n",
       "        vertical-align: top;\n",
       "    }\n",
       "\n",
       "    .dataframe thead th {\n",
       "        text-align: right;\n",
       "    }\n",
       "</style>\n",
       "<table border=\"1\" class=\"dataframe\">\n",
       "  <thead>\n",
       "    <tr style=\"text-align: right;\">\n",
       "      <th></th>\n",
       "      <th>user_id</th>\n",
       "      <th>distance</th>\n",
       "      <th>duration</th>\n",
       "      <th>date</th>\n",
       "    </tr>\n",
       "  </thead>\n",
       "  <tbody>\n",
       "    <tr>\n",
       "      <th>0</th>\n",
       "      <td>1</td>\n",
       "      <td>4409.919140</td>\n",
       "      <td>25.599769</td>\n",
       "      <td>2021-01-01</td>\n",
       "    </tr>\n",
       "    <tr>\n",
       "      <th>1</th>\n",
       "      <td>1</td>\n",
       "      <td>2617.592153</td>\n",
       "      <td>15.816871</td>\n",
       "      <td>2021-01-18</td>\n",
       "    </tr>\n",
       "    <tr>\n",
       "      <th>2</th>\n",
       "      <td>1</td>\n",
       "      <td>754.159807</td>\n",
       "      <td>6.232113</td>\n",
       "      <td>2021-04-20</td>\n",
       "    </tr>\n",
       "    <tr>\n",
       "      <th>3</th>\n",
       "      <td>1</td>\n",
       "      <td>2694.783254</td>\n",
       "      <td>18.511000</td>\n",
       "      <td>2021-08-11</td>\n",
       "    </tr>\n",
       "    <tr>\n",
       "      <th>4</th>\n",
       "      <td>1</td>\n",
       "      <td>4028.687306</td>\n",
       "      <td>26.265803</td>\n",
       "      <td>2021-08-28</td>\n",
       "    </tr>\n",
       "    <tr>\n",
       "      <th>5</th>\n",
       "      <td>1</td>\n",
       "      <td>2770.890808</td>\n",
       "      <td>16.650138</td>\n",
       "      <td>2021-10-09</td>\n",
       "    </tr>\n",
       "    <tr>\n",
       "      <th>6</th>\n",
       "      <td>1</td>\n",
       "      <td>3039.020292</td>\n",
       "      <td>14.927879</td>\n",
       "      <td>2021-10-19</td>\n",
       "    </tr>\n",
       "    <tr>\n",
       "      <th>7</th>\n",
       "      <td>1</td>\n",
       "      <td>2842.118050</td>\n",
       "      <td>23.117468</td>\n",
       "      <td>2021-11-06</td>\n",
       "    </tr>\n",
       "    <tr>\n",
       "      <th>8</th>\n",
       "      <td>1</td>\n",
       "      <td>3412.690668</td>\n",
       "      <td>15.238072</td>\n",
       "      <td>2021-11-14</td>\n",
       "    </tr>\n",
       "    <tr>\n",
       "      <th>9</th>\n",
       "      <td>1</td>\n",
       "      <td>748.690645</td>\n",
       "      <td>15.041884</td>\n",
       "      <td>2021-11-22</td>\n",
       "    </tr>\n",
       "    <tr>\n",
       "      <th>10</th>\n",
       "      <td>1</td>\n",
       "      <td>4031.020195</td>\n",
       "      <td>17.674448</td>\n",
       "      <td>2021-12-14</td>\n",
       "    </tr>\n",
       "    <tr>\n",
       "      <th>11</th>\n",
       "      <td>1</td>\n",
       "      <td>2720.609748</td>\n",
       "      <td>9.529463</td>\n",
       "      <td>2021-12-22</td>\n",
       "    </tr>\n",
       "    <tr>\n",
       "      <th>12</th>\n",
       "      <td>2</td>\n",
       "      <td>3105.086678</td>\n",
       "      <td>24.307514</td>\n",
       "      <td>2021-03-15</td>\n",
       "    </tr>\n",
       "    <tr>\n",
       "      <th>13</th>\n",
       "      <td>2</td>\n",
       "      <td>3053.519401</td>\n",
       "      <td>11.543256</td>\n",
       "      <td>2021-03-18</td>\n",
       "    </tr>\n",
       "    <tr>\n",
       "      <th>14</th>\n",
       "      <td>2</td>\n",
       "      <td>4029.116927</td>\n",
       "      <td>25.109188</td>\n",
       "      <td>2021-03-23</td>\n",
       "    </tr>\n",
       "    <tr>\n",
       "      <th>15</th>\n",
       "      <td>2</td>\n",
       "      <td>2805.786329</td>\n",
       "      <td>20.652145</td>\n",
       "      <td>2021-04-08</td>\n",
       "    </tr>\n",
       "    <tr>\n",
       "      <th>16</th>\n",
       "      <td>2</td>\n",
       "      <td>3358.595495</td>\n",
       "      <td>18.396489</td>\n",
       "      <td>2021-04-13</td>\n",
       "    </tr>\n",
       "    <tr>\n",
       "      <th>17</th>\n",
       "      <td>2</td>\n",
       "      <td>3255.338202</td>\n",
       "      <td>13.851127</td>\n",
       "      <td>2021-06-20</td>\n",
       "    </tr>\n",
       "    <tr>\n",
       "      <th>18</th>\n",
       "      <td>2</td>\n",
       "      <td>3942.817648</td>\n",
       "      <td>20.142725</td>\n",
       "      <td>2021-07-02</td>\n",
       "    </tr>\n",
       "    <tr>\n",
       "      <th>19</th>\n",
       "      <td>2</td>\n",
       "      <td>2837.905316</td>\n",
       "      <td>26.027432</td>\n",
       "      <td>2021-07-18</td>\n",
       "    </tr>\n",
       "  </tbody>\n",
       "</table>\n",
       "</div>"
      ],
      "text/plain": [
       "    user_id     distance   duration        date\n",
       "0         1  4409.919140  25.599769  2021-01-01\n",
       "1         1  2617.592153  15.816871  2021-01-18\n",
       "2         1   754.159807   6.232113  2021-04-20\n",
       "3         1  2694.783254  18.511000  2021-08-11\n",
       "4         1  4028.687306  26.265803  2021-08-28\n",
       "5         1  2770.890808  16.650138  2021-10-09\n",
       "6         1  3039.020292  14.927879  2021-10-19\n",
       "7         1  2842.118050  23.117468  2021-11-06\n",
       "8         1  3412.690668  15.238072  2021-11-14\n",
       "9         1   748.690645  15.041884  2021-11-22\n",
       "10        1  4031.020195  17.674448  2021-12-14\n",
       "11        1  2720.609748   9.529463  2021-12-22\n",
       "12        2  3105.086678  24.307514  2021-03-15\n",
       "13        2  3053.519401  11.543256  2021-03-18\n",
       "14        2  4029.116927  25.109188  2021-03-23\n",
       "15        2  2805.786329  20.652145  2021-04-08\n",
       "16        2  3358.595495  18.396489  2021-04-13\n",
       "17        2  3255.338202  13.851127  2021-06-20\n",
       "18        2  3942.817648  20.142725  2021-07-02\n",
       "19        2  2837.905316  26.027432  2021-07-18"
      ]
     },
     "execution_count": 71,
     "metadata": {},
     "output_type": "execute_result"
    }
   ],
   "source": [
    "rides.head(20)"
   ]
  },
  {
   "cell_type": "code",
   "execution_count": 72,
   "id": "99c4be17",
   "metadata": {},
   "outputs": [
    {
     "name": "stdout",
     "output_type": "stream",
     "text": [
      "<class 'pandas.core.frame.DataFrame'>\n",
      "RangeIndex: 18068 entries, 0 to 18067\n",
      "Data columns (total 4 columns):\n",
      " #   Column    Non-Null Count  Dtype  \n",
      "---  ------    --------------  -----  \n",
      " 0   user_id   18068 non-null  int64  \n",
      " 1   distance  18068 non-null  float64\n",
      " 2   duration  18068 non-null  float64\n",
      " 3   date      18068 non-null  object \n",
      "dtypes: float64(2), int64(1), object(1)\n",
      "memory usage: 564.8+ KB\n"
     ]
    }
   ],
   "source": [
    "rides.info()"
   ]
  },
  {
   "cell_type": "code",
   "execution_count": 73,
   "id": "f199813b",
   "metadata": {},
   "outputs": [
    {
     "data": {
      "text/plain": [
       "0"
      ]
     },
     "execution_count": 73,
     "metadata": {},
     "output_type": "execute_result"
    }
   ],
   "source": [
    "rides.duplicated().sum()"
   ]
  },
  {
   "cell_type": "markdown",
   "id": "6d987e5f",
   "metadata": {},
   "source": [
    "<div class=\"alert alert-info\"  style=\"border-radius: 15px; border: 1px solid \">\n",
    "В датасете rides 4 столбца и 18068 строк, пропущенных значений нет. 2 столбца имеют тип данных float64, 1 - int64, 1 - object. \n",
    "Столбец date с типом object нужно будет привести к типу данных даты. Явных дубликатов нет."
   ]
  },
  {
   "cell_type": "code",
   "execution_count": 74,
   "id": "9d0c3b00",
   "metadata": {},
   "outputs": [
    {
     "data": {
      "image/png": "[encoded data removed]",
      "text/plain": [
       "<Figure size 432x288 with 1 Axes>"
      ]
     },
     "metadata": {
      "needs_background": "light"
     },
     "output_type": "display_data"
    }
   ],
   "source": [
    "ax = sns.histplot(data=rides, x='distance')\n",
    "ax.set(xlabel='Расстояние, м', ylabel='Абсолютная частота', title='Гистограмма расстояний поездок');"
   ]
  },
  {
   "cell_type": "code",
   "execution_count": 75,
   "id": "e2b272a2",
   "metadata": {},
   "outputs": [
    {
     "data": {
      "image/png": "[encoded data removed]",
      "text/plain": [
       "<Figure size 432x288 with 1 Axes>"
      ]
     },
     "metadata": {
      "needs_background": "light"
     },
     "output_type": "display_data"
    }
   ],
   "source": [
    "ax = sns.histplot(data=rides, x='duration', color='purple')\n",
    "ax.set(xlabel='Продолжительность, мин', ylabel='Абсолютная частота', title='Гистограмма продолжительности поездок');"
   ]
  },
  {
   "cell_type": "markdown",
   "id": "6e913fd2",
   "metadata": {},
   "source": [
    "<div class=\"alert alert-info\"  style=\"border-radius: 15px; border: 1px solid \">\n",
    "На гистограмме расстояние видно, что есть около 1000 пользователей, которые не проехали и метра, на гистограмме продолжительности поездок есть около 150 записей с нулевой продолжительности поездки."
   ]
  },
  {
   "cell_type": "markdown",
   "id": "657bcb13",
   "metadata": {},
   "source": [
    "**Набор данных subscriptions**"
   ]
  },
  {
   "cell_type": "code",
   "execution_count": 76,
   "id": "a39f48fd",
   "metadata": {},
   "outputs": [],
   "source": [
    "try:\n",
    "    subscriptions = pd.read_csv('datacsv')\n",
    "except:\n",
    "    subscriptions = pd.read_csv('https://dataset.csv')   "
   ]
  },
  {
   "cell_type": "code",
   "execution_count": 77,
   "id": "16712565",
   "metadata": {},
   "outputs": [
    {
     "data": {
      "text/html": [
       "<div>\n",
       "<style scoped>\n",
       "    .dataframe tbody tr th:only-of-type {\n",
       "        vertical-align: middle;\n",
       "    }\n",
       "\n",
       "    .dataframe tbody tr th {\n",
       "        vertical-align: top;\n",
       "    }\n",
       "\n",
       "    .dataframe thead th {\n",
       "        text-align: right;\n",
       "    }\n",
       "</style>\n",
       "<table border=\"1\" class=\"dataframe\">\n",
       "  <thead>\n",
       "    <tr style=\"text-align: right;\">\n",
       "      <th></th>\n",
       "      <th>subscription_type</th>\n",
       "      <th>minute_price</th>\n",
       "      <th>start_ride_price</th>\n",
       "      <th>subscription_fee</th>\n",
       "    </tr>\n",
       "  </thead>\n",
       "  <tbody>\n",
       "    <tr>\n",
       "      <th>0</th>\n",
       "      <td>free</td>\n",
       "      <td>8</td>\n",
       "      <td>50</td>\n",
       "      <td>0</td>\n",
       "    </tr>\n",
       "    <tr>\n",
       "      <th>1</th>\n",
       "      <td>ultra</td>\n",
       "      <td>6</td>\n",
       "      <td>0</td>\n",
       "      <td>199</td>\n",
       "    </tr>\n",
       "  </tbody>\n",
       "</table>\n",
       "</div>"
      ],
      "text/plain": [
       "  subscription_type  minute_price  start_ride_price  subscription_fee\n",
       "0              free             8                50                 0\n",
       "1             ultra             6                 0               199"
      ]
     },
     "execution_count": 77,
     "metadata": {},
     "output_type": "execute_result"
    }
   ],
   "source": [
    "subscriptions.head()"
   ]
  },
  {
   "cell_type": "code",
   "execution_count": 78,
   "id": "c955b5bc",
   "metadata": {},
   "outputs": [
    {
     "name": "stdout",
     "output_type": "stream",
     "text": [
      "<class 'pandas.core.frame.DataFrame'>\n",
      "RangeIndex: 2 entries, 0 to 1\n",
      "Data columns (total 4 columns):\n",
      " #   Column             Non-Null Count  Dtype \n",
      "---  ------             --------------  ----- \n",
      " 0   subscription_type  2 non-null      object\n",
      " 1   minute_price       2 non-null      int64 \n",
      " 2   start_ride_price   2 non-null      int64 \n",
      " 3   subscription_fee   2 non-null      int64 \n",
      "dtypes: int64(3), object(1)\n",
      "memory usage: 192.0+ bytes\n"
     ]
    }
   ],
   "source": [
    "subscriptions.info()"
   ]
  },
  {
   "cell_type": "markdown",
   "id": "95b108f9",
   "metadata": {},
   "source": [
    "<div class=\"alert alert-info\"  style=\"border-radius: 15px; border: 1px solid \">\n",
    "Набор данных subscriptions_go представляет собой сводную таблицу о типа подписках и ее характеристиках. Набор состоит из двух строк (двух типов подписки) и 4 столбцов. Дубликатов и пропущенных значений нет."
   ]
  },
  {
   "cell_type": "markdown",
   "id": "b29bdbec",
   "metadata": {},
   "source": [
    "<div class=\"alert alert-success\"  style=\"border-radius: 15px; border: 1px solid \">\n",
    "Вывод:\n",
    "    \n",
    "У нас три набора данных. Пропущенных значений в них нет, явные дубликаты были удалены из таблицы users. В датасете rides нужно поменять тип данных у переменной date. 3-я таблица представляет справочную информацию. В таблице rides нужно посмотреть расстояние и продолжительность поездки поподробнее, там есть подозрение на аномальные данные.\n"
   ]
  },
  {
   "cell_type": "markdown",
   "id": "e95ebca7",
   "metadata": {},
   "source": [
    "#### Шаг 2. Предобработка данных"
   ]
  },
  {
   "cell_type": "code",
   "execution_count": 79,
   "id": "0edd5694",
   "metadata": {},
   "outputs": [
    {
     "name": "stdout",
     "output_type": "stream",
     "text": [
      "<class 'pandas.core.frame.DataFrame'>\n",
      "RangeIndex: 18068 entries, 0 to 18067\n",
      "Data columns (total 4 columns):\n",
      " #   Column    Non-Null Count  Dtype         \n",
      "---  ------    --------------  -----         \n",
      " 0   user_id   18068 non-null  int64         \n",
      " 1   distance  18068 non-null  float64       \n",
      " 2   duration  18068 non-null  float64       \n",
      " 3   date      18068 non-null  datetime64[ns]\n",
      "dtypes: datetime64[ns](1), float64(2), int64(1)\n",
      "memory usage: 564.8 KB\n"
     ]
    }
   ],
   "source": [
    "#меняем тип данных у переменной date в датасете rides\n",
    "rides['date'] = pd.to_datetime(rides['date'], format='%Y-%m-%dT')\n",
    "rides.info()"
   ]
  },
  {
   "cell_type": "code",
   "execution_count": 80,
   "id": "af6d202c",
   "metadata": {
    "scrolled": true
   },
   "outputs": [
    {
     "data": {
      "text/html": [
       "<div>\n",
       "<style scoped>\n",
       "    .dataframe tbody tr th:only-of-type {\n",
       "        vertical-align: middle;\n",
       "    }\n",
       "\n",
       "    .dataframe tbody tr th {\n",
       "        vertical-align: top;\n",
       "    }\n",
       "\n",
       "    .dataframe thead th {\n",
       "        text-align: right;\n",
       "    }\n",
       "</style>\n",
       "<table border=\"1\" class=\"dataframe\">\n",
       "  <thead>\n",
       "    <tr style=\"text-align: right;\">\n",
       "      <th></th>\n",
       "      <th>user_id</th>\n",
       "      <th>distance</th>\n",
       "      <th>duration</th>\n",
       "      <th>date</th>\n",
       "      <th>month</th>\n",
       "    </tr>\n",
       "  </thead>\n",
       "  <tbody>\n",
       "    <tr>\n",
       "      <th>0</th>\n",
       "      <td>1</td>\n",
       "      <td>4409.919140</td>\n",
       "      <td>25.599769</td>\n",
       "      <td>2021-01-01</td>\n",
       "      <td>1</td>\n",
       "    </tr>\n",
       "    <tr>\n",
       "      <th>1</th>\n",
       "      <td>1</td>\n",
       "      <td>2617.592153</td>\n",
       "      <td>15.816871</td>\n",
       "      <td>2021-01-18</td>\n",
       "      <td>1</td>\n",
       "    </tr>\n",
       "    <tr>\n",
       "      <th>2</th>\n",
       "      <td>1</td>\n",
       "      <td>754.159807</td>\n",
       "      <td>6.232113</td>\n",
       "      <td>2021-04-20</td>\n",
       "      <td>4</td>\n",
       "    </tr>\n",
       "    <tr>\n",
       "      <th>3</th>\n",
       "      <td>1</td>\n",
       "      <td>2694.783254</td>\n",
       "      <td>18.511000</td>\n",
       "      <td>2021-08-11</td>\n",
       "      <td>8</td>\n",
       "    </tr>\n",
       "    <tr>\n",
       "      <th>4</th>\n",
       "      <td>1</td>\n",
       "      <td>4028.687306</td>\n",
       "      <td>26.265803</td>\n",
       "      <td>2021-08-28</td>\n",
       "      <td>8</td>\n",
       "    </tr>\n",
       "  </tbody>\n",
       "</table>\n",
       "</div>"
      ],
      "text/plain": [
       "   user_id     distance   duration       date  month\n",
       "0        1  4409.919140  25.599769 2021-01-01      1\n",
       "1        1  2617.592153  15.816871 2021-01-18      1\n",
       "2        1   754.159807   6.232113 2021-04-20      4\n",
       "3        1  2694.783254  18.511000 2021-08-11      8\n",
       "4        1  4028.687306  26.265803 2021-08-28      8"
      ]
     },
     "execution_count": 80,
     "metadata": {},
     "output_type": "execute_result"
    }
   ],
   "source": [
    "#создаем столбец с номером месяца\n",
    "rides['month'] = rides['date']. dt.month\n",
    "rides.head()"
   ]
  },
  {
   "cell_type": "code",
   "execution_count": 81,
   "id": "a3f3e8d8",
   "metadata": {},
   "outputs": [
    {
     "data": {
      "text/plain": [
       "Timestamp('2021-01-01 00:00:00')"
      ]
     },
     "execution_count": 81,
     "metadata": {},
     "output_type": "execute_result"
    }
   ],
   "source": [
    "rides['date'].min()"
   ]
  },
  {
   "cell_type": "code",
   "execution_count": 82,
   "id": "a19330e7",
   "metadata": {},
   "outputs": [
    {
     "data": {
      "text/plain": [
       "Timestamp('2021-12-30 00:00:00')"
      ]
     },
     "execution_count": 82,
     "metadata": {},
     "output_type": "execute_result"
    }
   ],
   "source": [
    "rides['date'].max()"
   ]
  },
  {
   "cell_type": "markdown",
   "id": "b32d1328",
   "metadata": {},
   "source": [
    "<div class=\"alert alert-info\"  style=\"border-radius: 15px; border: 1px solid \">\n",
    "Данные охватывают временной промежуток с 1 января 2021 по 30 декабря этого же года, поэтому добавлять столбец с годом не нужно."
   ]
  },
  {
   "cell_type": "code",
   "execution_count": 83,
   "id": "9cd0de35",
   "metadata": {},
   "outputs": [
    {
     "data": {
      "text/plain": [
       "array(['Тюмень', 'Омск', 'Москва', 'Ростов-на-Дону', 'Краснодар',\n",
       "       'Пятигорск', 'Екатеринбург', 'Сочи'], dtype=object)"
      ]
     },
     "execution_count": 83,
     "metadata": {},
     "output_type": "execute_result"
    }
   ],
   "source": [
    "users['city'].unique()"
   ]
  },
  {
   "cell_type": "code",
   "execution_count": 84,
   "id": "b6b89706",
   "metadata": {},
   "outputs": [
    {
     "data": {
      "text/plain": [
       "array(['Агата', 'Аделина', 'Адель', 'Айдар', 'Александр', 'Александра',\n",
       "       'Алексей', 'Алина', 'Алиса', 'Алия', 'Алла', 'Альберт', 'Альбина',\n",
       "       'Алёна', 'Амалия', 'Амина', 'Амир', 'Анастасия', 'Анатолий',\n",
       "       'Ангелина', 'Андрей', 'Анжелика', 'Анна', 'Антон', 'Антонина',\n",
       "       'Ариана', 'Арина', 'Арсен', 'Арсений', 'Артемий', 'Артур', 'Артём',\n",
       "       'Богдан', 'Борис', 'Вадим', 'Валентина', 'Валерий', 'Валерия',\n",
       "       'Варвара', 'Василий', 'Василина', 'Василиса', 'Вера', 'Вероника',\n",
       "       'Виктор', 'Виктория', 'Виолетта', 'Виталий', 'Виталина', 'Влад',\n",
       "       'Влада', 'Владимир', 'Владислав', 'Владислава', 'Всеволод',\n",
       "       'Вячеслав', 'Галина', 'Георгий', 'Герман', 'Глеб', 'Гордей',\n",
       "       'Григорий', 'Давид', 'Дамир', 'Даниил', 'Данил', 'Данила',\n",
       "       'Даниэль', 'Дарина', 'Дарья', 'Демид', 'Денис', 'Диана', 'Дмитрий',\n",
       "       'Ева', 'Евгений', 'Евгения', 'Егор', 'Екатерина', 'Елена',\n",
       "       'Елизавета', 'Елисей', 'Есения', 'Жанна', 'Зарина', 'Захар',\n",
       "       'Злата', 'Иван', 'Игнат', 'Игорь', 'Ильдар', 'Илья', 'Инна',\n",
       "       'Ирина', 'Камилла', 'Карина', 'Каролина', 'Кира', 'Кирилл',\n",
       "       'Константин', 'Кристина', 'Ксения', 'Лариса', 'Лев', 'Леонид',\n",
       "       'Лиана', 'Лидия', 'Лилия', 'Любовь', 'Людмила', 'Мадина', 'Майя',\n",
       "       'Макар', 'Максим', 'Марат', 'Маргарита', 'Марина', 'Мария', 'Марк',\n",
       "       'Марсель', 'Матвей', 'Мелания', 'Милана', 'Милена', 'Мирон',\n",
       "       'Мирослав', 'Мирослава', 'Михаил', 'Назар', 'Наталия', 'Наталья',\n",
       "       'Наташа', 'Нелли', 'Ника', 'Никита', 'Николай', 'Нина', 'Одиссей',\n",
       "       'Оксана', 'Олег', 'Олеся', 'Ольга', 'Павел', 'Петр', 'Платон',\n",
       "       'Полина', 'Радмир', 'Рамиль', 'Регина', 'Роберт', 'Родион',\n",
       "       'Роман', 'Ростислав', 'Руслан', 'Рустам', 'Савелий', 'Самир',\n",
       "       'Самира', 'Светлана', 'Святогор', 'Святослав', 'Семен', 'Сергей',\n",
       "       'Снежана', 'София', 'Софья', 'Станислав', 'Степан', 'Стефания',\n",
       "       'Таисия', 'Тамара', 'Тамерлан', 'Татьяна', 'Тимофей', 'Тимур',\n",
       "       'Тихон', 'Ульяна', 'Федор', 'Эвелина', 'Эдуард', 'Элина',\n",
       "       'Эльвира', 'Эльмира', 'Эмилия', 'Эмиль', 'Юлиана', 'Юлия', 'Юрий',\n",
       "       'Ян', 'Яна', 'Яромир', 'Ярослав', 'Ярослава', 'Ясмина'],\n",
       "      dtype=object)"
      ]
     },
     "execution_count": 84,
     "metadata": {},
     "output_type": "execute_result"
    }
   ],
   "source": [
    "users['name'].sort_values().unique()"
   ]
  },
  {
   "cell_type": "markdown",
   "id": "6bfa54a4",
   "metadata": {},
   "source": [
    "<div class=\"alert alert-info\"  style=\"border-radius: 15px; border: 1px solid \">\n",
    "\n",
    "Неявных дубликатов в названиях городов и именах пользователей нет."
   ]
  },
  {
   "cell_type": "markdown",
   "id": "b4513124",
   "metadata": {},
   "source": [
    "<div class=\"alert alert-success\"  style=\"border-radius: 15px; border: 1px solid \">Вывод:\n",
    "    \n",
    "    \n",
    "Столбец date в таблице rides приведен к типу даты pandas. На его основе создан новый столбец с номером месяца. В таблицах нет  пропущенных значений и дубликатов.\n",
    "\n",
    "    "
   ]
  },
  {
   "cell_type": "markdown",
   "id": "212593c7",
   "metadata": {},
   "source": [
    "#### Шаг 3. Исследовательский анализ данных"
   ]
  },
  {
   "cell_type": "code",
   "execution_count": 85,
   "id": "e3a4274c",
   "metadata": {},
   "outputs": [
    {
     "data": {
      "text/plain": [
       "Москва            168\n",
       "Тюмень            180\n",
       "Омск              183\n",
       "Сочи              189\n",
       "Краснодар         193\n",
       "Ростов-на-Дону    198\n",
       "Екатеринбург      204\n",
       "Пятигорск         219\n",
       "Name: city, dtype: int64"
      ]
     },
     "execution_count": 85,
     "metadata": {},
     "output_type": "execute_result"
    }
   ],
   "source": [
    "#частоты встречаемости городов\n",
    "users['city'].value_counts().sort_values()"
   ]
  },
  {
   "cell_type": "code",
   "execution_count": 86,
   "id": "3e32b305",
   "metadata": {},
   "outputs": [
    {
     "data": {
      "image/png": "[encoded data removed]",
      "text/plain": [
       "<Figure size 432x288 with 1 Axes>"
      ]
     },
     "metadata": {
      "needs_background": "light"
     },
     "output_type": "display_data"
    }
   ],
   "source": [
    "sns.countplot(y='city', data=users, order = users['city'].value_counts().index)\n",
    "plt.title('Частота встречаемости городов')\n",
    "plt.xlabel('Абсолютная частота')\n",
    "plt.ylabel('Название города');"
   ]
  },
  {
   "cell_type": "markdown",
   "id": "c1df18d7",
   "metadata": {},
   "source": [
    "<div class=\"alert alert-info\"  style=\"border-radius: 15px; border: 1px solid \">\n",
    "Меньше всего пользователей из Москвы, больше всего - Пятигорск."
   ]
  },
  {
   "cell_type": "code",
   "execution_count": 87,
   "id": "ba03c55b",
   "metadata": {
    "scrolled": true
   },
   "outputs": [
    {
     "data": {
      "text/plain": [
       "free     0.544329\n",
       "ultra    0.455671\n",
       "Name: subscription_type, dtype: float64"
      ]
     },
     "execution_count": 87,
     "metadata": {},
     "output_type": "execute_result"
    }
   ],
   "source": [
    "users['subscription_type'].value_counts()/users.shape[0]"
   ]
  },
  {
   "cell_type": "code",
   "execution_count": 88,
   "id": "fb830943",
   "metadata": {
    "scrolled": true
   },
   "outputs": [
    {
     "data": {
      "image/png": "[encoded data removed]",
      "text/plain": [
       "<Figure size 432x288 with 1 Axes>"
      ]
     },
     "metadata": {},
     "output_type": "display_data"
    }
   ],
   "source": [
    "fig, ax = plt.subplots()\n",
    "sizes = users['subscription_type'].value_counts()\n",
    "labels = 'Без подписки', 'С подпиской ultra'\n",
    "ax.pie(sizes, labels=labels, colors = ['pink', 'grey'], autopct='%1.1f%%')\n",
    "plt.title('Соотношение пользователей с подпиской и без неё');"
   ]
  },
  {
   "cell_type": "markdown",
   "id": "6b7809aa",
   "metadata": {},
   "source": [
    "<div class=\"alert alert-info\"  style=\"border-radius: 15px; border: 1px solid \">\n",
    "Пользователей без подписки на 9% больше, чем пользователей с подпиской."
   ]
  },
  {
   "cell_type": "code",
   "execution_count": 89,
   "id": "53d979b1",
   "metadata": {},
   "outputs": [
    {
     "data": {
      "text/plain": [
       "count    1534.000000\n",
       "mean       24.903520\n",
       "std         4.572367\n",
       "min        12.000000\n",
       "25%        22.000000\n",
       "50%        25.000000\n",
       "75%        28.000000\n",
       "max        43.000000\n",
       "Name: age, dtype: float64"
      ]
     },
     "execution_count": 89,
     "metadata": {},
     "output_type": "execute_result"
    }
   ],
   "source": [
    "users['age'].describe()"
   ]
  },
  {
   "cell_type": "code",
   "execution_count": 90,
   "id": "d17b8443",
   "metadata": {},
   "outputs": [
    {
     "data": {
      "image/png": "[encoded data removed]",
      "text/plain": [
       "<Figure size 432x288 with 1 Axes>"
      ]
     },
     "metadata": {
      "needs_background": "light"
     },
     "output_type": "display_data"
    },
    {
     "data": {
      "image/png": "[encoded data removed]",
      "text/plain": [
       "<Figure size 432x288 with 1 Axes>"
      ]
     },
     "metadata": {
      "needs_background": "light"
     },
     "output_type": "display_data"
    }
   ],
   "source": [
    "ax = sns.histplot(users['age'], color='purple')\n",
    "ax.set(xlabel='Возраст', ylabel='Абсолютная частота', title='Гистограмма возраста');\n",
    "plt.show()\n",
    "sns.boxplot(data=users, y='age', color='purple')\n",
    "plt.title('Диаграмма размаха возраста')\n",
    "plt.ylabel('Возраст')\n",
    "plt.show()"
   ]
  },
  {
   "cell_type": "markdown",
   "id": "430e638d",
   "metadata": {},
   "source": [
    "<div class=\"alert alert-info\"  style=\"border-radius: 15px; border: 1px solid \">\n",
    "\n",
    "Распределение данных по возрасту напоминает нормальное, это же подтверждается малой разницей между средним значением (24.9) и медианой (25). Судя по диаграмме размаха есть некоторое количество экстремальных значений, например, 12 лет и свыше 36. Не вижу смысла считать такие значения выбросами, так как такие данные могут быть реальны. Минимальный возраст клиентов 12 лет, максимальный - 43. Около 50% клиентов составляют возрастную группу от 22 до 28 лет. "
   ]
  },
  {
   "cell_type": "code",
   "execution_count": 91,
   "id": "6ca2b704",
   "metadata": {},
   "outputs": [
    {
     "data": {
      "image/png": "[encoded data removed]",
      "text/plain": [
       "<Figure size 432x288 with 1 Axes>"
      ]
     },
     "metadata": {
      "needs_background": "light"
     },
     "output_type": "display_data"
    },
    {
     "data": {
      "image/png": "[encoded data removed]",
      "text/plain": [
       "<Figure size 432x288 with 1 Axes>"
      ]
     },
     "metadata": {
      "needs_background": "light"
     },
     "output_type": "display_data"
    }
   ],
   "source": [
    "ax = sns.histplot(rides['distance'], color='purple')\n",
    "ax.set(xlabel='Расстояние, м', ylabel='Абсолютная частота', title='Гистограмма расстояния поездок');\n",
    "plt.show()\n",
    "sns.boxplot(data=rides, y='distance', color='purple')\n",
    "plt.title('Диаграмма размаха расстояния поездок')\n",
    "plt.ylabel('Расстояние поездок')\n",
    "plt.grid(True)\n",
    "plt.show()"
   ]
  },
  {
   "cell_type": "code",
   "execution_count": 92,
   "id": "817bb734",
   "metadata": {},
   "outputs": [
    {
     "data": {
      "text/plain": [
       "count    18068.000000\n",
       "mean      3070.659976\n",
       "std       1116.831209\n",
       "min          0.855683\n",
       "25%       2543.226360\n",
       "50%       3133.609994\n",
       "75%       3776.222735\n",
       "max       7211.007745\n",
       "Name: distance, dtype: float64"
      ]
     },
     "execution_count": 92,
     "metadata": {},
     "output_type": "execute_result"
    }
   ],
   "source": [
    "rides['distance'].describe()"
   ]
  },
  {
   "cell_type": "markdown",
   "id": "353b751e",
   "metadata": {},
   "source": [
    "<div class=\"alert alert-info\"  style=\"border-radius: 15px; border: 1px solid \">\n",
    "\n",
    "Для характеристики расстояния поездки воспользуемся медианой, так как на диаграмме размаха довольно большое количество выбросов. Медианное расстояние поездки - 3133 м, минимальное - меньше метра, максимальное свыше 7 км. \n",
    "Кроме того, на гистограмме два выраженных всплеска - смесь двух распределений: от 0 до 1500 м, и от 1500 м до 7300м. Это может быть вызвано тем, что в первом случае люди пользуются самокатом для того, чтобы попробовать / повеселиться. Во втором случае люди пользуются самокатом для быстрого перемещения по городу.\n",
    "\n",
    "Посмотрим, как изменится медиана без выбросов."
   ]
  },
  {
   "cell_type": "code",
   "execution_count": 93,
   "id": "11d45fcb",
   "metadata": {},
   "outputs": [
    {
     "data": {
      "image/png": "[encoded data removed]",
      "text/plain": [
       "<Figure size 432x288 with 1 Axes>"
      ]
     },
     "metadata": {
      "needs_background": "light"
     },
     "output_type": "display_data"
    },
    {
     "data": {
      "image/png": "[encoded data removed]",
      "text/plain": [
       "<Figure size 432x288 with 1 Axes>"
      ]
     },
     "metadata": {
      "needs_background": "light"
     },
     "output_type": "display_data"
    }
   ],
   "source": [
    "data = rides.loc[(rides['distance']>1000) & (rides['distance']<5500), ]\n",
    "ax = sns.histplot(data['distance'], color='purple')\n",
    "ax.set(xlabel='Расстояние, м', ylabel='Абсолютная частота', title='Гистограмма расстояния поездок без выбросов');\n",
    "plt.show()\n",
    "sns.boxplot(data=data, y='distance', color='purple')\n",
    "plt.title('Диаграмма размаха расстояния поездок без выбросов')\n",
    "plt.ylabel('Расстояние поездок')\n",
    "plt.grid(True)\n",
    "plt.show()"
   ]
  },
  {
   "cell_type": "code",
   "execution_count": 94,
   "id": "4c98aff4",
   "metadata": {},
   "outputs": [
    {
     "data": {
      "text/plain": [
       "8.534425503652866"
      ]
     },
     "execution_count": 94,
     "metadata": {},
     "output_type": "execute_result"
    }
   ],
   "source": [
    "(rides.shape[0] - data['distance'].count()) / rides.shape[0] * 100"
   ]
  },
  {
   "cell_type": "raw",
   "id": "3fcc8d15",
   "metadata": {},
   "source": [
    "Около 9% всех расстояний попадают в экстремальные значения."
   ]
  },
  {
   "cell_type": "code",
   "execution_count": 95,
   "id": "7bc200bb",
   "metadata": {},
   "outputs": [
    {
     "data": {
      "text/plain": [
       "7.593535532433031"
      ]
     },
     "execution_count": 95,
     "metadata": {},
     "output_type": "execute_result"
    }
   ],
   "source": [
    "rides.loc[(rides['distance']<1000), ]['distance'].count() / rides.shape[0] * 100"
   ]
  },
  {
   "cell_type": "code",
   "execution_count": 96,
   "id": "e578dcfc",
   "metadata": {},
   "outputs": [
    {
     "data": {
      "image/png": "[encoded data removed]",
      "text/plain": [
       "<Figure size 432x288 with 1 Axes>"
      ]
     },
     "metadata": {
      "needs_background": "light"
     },
     "output_type": "display_data"
    }
   ],
   "source": [
    "data = rides.loc[(rides['distance']<1000), ]\n",
    "ax = sns.histplot(data['distance'], color='purple')\n",
    "ax.set(xlabel='Расстояние, м', ylabel='Абсолютная частота', title='Гистограмма расстояния поездок до 1 км');\n",
    "plt.show()"
   ]
  },
  {
   "cell_type": "markdown",
   "id": "3369e9e6",
   "metadata": {},
   "source": [
    "<div class=\"alert alert-info\"  style=\"border-radius: 15px; border: 1px solid \">\n",
    "\n",
    "В значения меньше 1 км и больше 5.5 км попадает 8.5% записей, при этом большая часть 7.6% приходится на дистанцию меньше 1км."
   ]
  },
  {
   "cell_type": "code",
   "execution_count": 97,
   "id": "ca30b33b",
   "metadata": {},
   "outputs": [
    {
     "data": {
      "image/png": "[encoded data removed]",
      "text/plain": [
       "<Figure size 432x288 with 1 Axes>"
      ]
     },
     "metadata": {
      "needs_background": "light"
     },
     "output_type": "display_data"
    },
    {
     "data": {
      "image/png": "[encoded data removed]",
      "text/plain": [
       "<Figure size 432x288 with 1 Axes>"
      ]
     },
     "metadata": {
      "needs_background": "light"
     },
     "output_type": "display_data"
    }
   ],
   "source": [
    "ax = sns.histplot(rides['duration'], color='purple')\n",
    "ax.set(xlabel='Расстояние, м', ylabel='Абсолютная частота', title='Гистограмма продолжительности поездок');\n",
    "plt.show()\n",
    "sns.boxplot(data=rides, y='duration', color='purple')\n",
    "plt.title('Диаграмма размаха продолжительности поездок')\n",
    "plt.ylabel('Расстояние поездок')\n",
    "plt.grid(True)\n",
    "plt.show()"
   ]
  },
  {
   "cell_type": "code",
   "execution_count": 98,
   "id": "da5cfa38",
   "metadata": {},
   "outputs": [
    {
     "data": {
      "text/plain": [
       "count    18068.000000\n",
       "mean        17.805011\n",
       "std          6.091051\n",
       "min          0.500000\n",
       "25%         13.597563\n",
       "50%         17.678395\n",
       "75%         21.724800\n",
       "max         40.823963\n",
       "Name: duration, dtype: float64"
      ]
     },
     "execution_count": 98,
     "metadata": {},
     "output_type": "execute_result"
    }
   ],
   "source": [
    "rides['duration'].describe()"
   ]
  },
  {
   "cell_type": "markdown",
   "id": "80e20da6",
   "metadata": {},
   "source": [
    "<div class=\"alert alert-info\"  style=\"border-radius: 15px; border: 1px solid \">\n",
    "\n",
    "Минимальное время - полминуты, максимальное - 40 минут. Несмотря на наличиие выбросов, график похож на график нормального распределения, среднее значение и медиана имеют минимальное различие в значениях, 17.8 и 17.7, соответственно. 50% всех поездок длятся от 13.6 до 21.7 минут. Посмотрим, сколько имеется экстремальных значений."
   ]
  },
  {
   "cell_type": "code",
   "execution_count": 99,
   "id": "3c6fddb5",
   "metadata": {},
   "outputs": [
    {
     "data": {
      "text/plain": [
       "1.333849900376356"
      ]
     },
     "execution_count": 99,
     "metadata": {},
     "output_type": "execute_result"
    }
   ],
   "source": [
    "(rides.shape[0] - rides.loc[(rides['duration']>2) & (rides['duration']<33), ]['duration'].count()) / rides.shape[0] * 100"
   ]
  },
  {
   "cell_type": "code",
   "execution_count": 100,
   "id": "185eebd7",
   "metadata": {},
   "outputs": [
    {
     "data": {
      "image/png": "[encoded data removed]",
      "text/plain": [
       "<Figure size 432x288 with 1 Axes>"
      ]
     },
     "metadata": {
      "needs_background": "light"
     },
     "output_type": "display_data"
    },
    {
     "data": {
      "image/png": "[encoded data removed]",
      "text/plain": [
       "<Figure size 432x288 with 1 Axes>"
      ]
     },
     "metadata": {
      "needs_background": "light"
     },
     "output_type": "display_data"
    },
    {
     "data": {
      "text/plain": [
       "count    17827.000000\n",
       "mean        17.761281\n",
       "std          5.807972\n",
       "min          2.035632\n",
       "25%         13.637344\n",
       "50%         17.651571\n",
       "75%         21.627438\n",
       "max         32.998485\n",
       "Name: duration, dtype: float64"
      ]
     },
     "execution_count": 100,
     "metadata": {},
     "output_type": "execute_result"
    }
   ],
   "source": [
    "data = rides.loc[(rides['duration']>2) & (rides['duration']<33), ]\n",
    "\n",
    "ax = sns.histplot(data['duration'], color='purple')\n",
    "ax.set(xlabel='Расстояние, м', ylabel='Абсолютная частота', title='Гистограмма продолжительности поездок без выбросов');\n",
    "plt.show()\n",
    "sns.boxplot(data=data, y='duration', color='purple')\n",
    "plt.title('Диаграмма размаха продолжительности поездок без выбросов')\n",
    "plt.ylabel('Расстояние поездок')\n",
    "plt.grid(True)\n",
    "plt.show()\n",
    "data['duration'].describe()"
   ]
  },
  {
   "cell_type": "markdown",
   "id": "5428c916",
   "metadata": {},
   "source": [
    "<div class=\"alert alert-info\"  style=\"border-radius: 15px; border: 1px solid \">\n",
    "\n",
    "В экстремальные значения попало чуть больше 1%. При этом среднее и медиана практически не изменились."
   ]
  },
  {
   "cell_type": "code",
   "execution_count": 101,
   "id": "61495fe4",
   "metadata": {},
   "outputs": [
    {
     "name": "stdout",
     "output_type": "stream",
     "text": [
      "Коэффициент корреляции: 0.54\n"
     ]
    }
   ],
   "source": [
    "print('Коэффициент корреляции:',  round(rides['duration'].corr(rides['distance']), 2))"
   ]
  },
  {
   "cell_type": "code",
   "execution_count": 102,
   "id": "619331aa",
   "metadata": {},
   "outputs": [
    {
     "data": {
      "image/png": "[encoded data removed]",
      "text/plain": [
       "<Figure size 432x288 with 1 Axes>"
      ]
     },
     "metadata": {
      "needs_background": "light"
     },
     "output_type": "display_data"
    }
   ],
   "source": [
    "sns.scatterplot(data=rides, x='duration',  y='distance', alpha=0.5, color='purple')\n",
    "plt.title('Диаграмма рассеяния продолжительности и расстояния поездок')\n",
    "plt.xlabel('Продолжительность, мин')\n",
    "plt.ylabel('Расстояние, м');"
   ]
  },
  {
   "cell_type": "markdown",
   "id": "7b030990",
   "metadata": {},
   "source": [
    "<div class=\"alert alert-info\"  style=\"border-radius: 15px; border: 1px solid \">\n",
    "\n",
    "На диаграмме рассеяния интересная зависимость: для продолжительности поездки 1-2 минуты расстояние поездки занимало от 4 до 7 км."
   ]
  },
  {
   "cell_type": "code",
   "execution_count": 103,
   "id": "ccceab85",
   "metadata": {},
   "outputs": [
    {
     "data": {
      "text/plain": [
       "count      95.000000\n",
       "mean     5113.176549\n",
       "std       658.254104\n",
       "min      4030.308008\n",
       "25%      4611.510820\n",
       "50%      5052.769411\n",
       "75%      5488.459099\n",
       "max      7211.007745\n",
       "Name: distance, dtype: float64"
      ]
     },
     "execution_count": 103,
     "metadata": {},
     "output_type": "execute_result"
    }
   ],
   "source": [
    "rides.loc[(rides['duration']<2), ]['distance'].describe()"
   ]
  },
  {
   "cell_type": "markdown",
   "id": "d3605132",
   "metadata": {},
   "source": [
    "<div class=\"alert alert-info\"  style=\"border-radius: 15px; border: 1px solid \">\n",
    "Таких записей 95."
   ]
  },
  {
   "cell_type": "markdown",
   "id": "54b0d670",
   "metadata": {},
   "source": [
    "<div class=\"alert alert-success\"  style=\"border-radius: 15px; border: 1px solid \">\n",
    "    Вывод:\n",
    "\n",
    "Чаще всего среди городов клиентов встречается Пятигорск, реже - Москва. При этом пользователей без подписки всего на 9% больше, чем с подпиской. Возраст клиентов от 12 до 43 лет, в среднем это люди 25 лет. Около 50% клиентов составляют возрастную группу от 22 до 28 лет.\n",
    "    \n",
    "    \n",
    "Медианное расстояние поездки - 3133 м, минимальное - меньше метра, максимальное свыше 7 км. Минимальное время поездки - полминуты, максимальное - 40 минут. Медианное время -  17.7 минут. 50% всех поездок длятся от 13.6 до 21.7 минут.\n",
    "    \n",
    "    \n",
    "На диаграмме рассеяния для продолжительности и расстояния поездки видна интересная зависимость, для продолжительности поездки 1-2 минуты расстояние поездки занимало от 4 до 7 км. На это нужно обратить внимание заказчика, возможен сбой работы самокатов, геосистемы, обмана клиентами и др.Так как таких записей всего 95, я решила не убирать их из набора данных.\n"
   ]
  },
  {
   "cell_type": "markdown",
   "id": "4ef51331",
   "metadata": {},
   "source": [
    "#### Шаг 4. Объединение данных"
   ]
  },
  {
   "cell_type": "code",
   "execution_count": 104,
   "id": "d5fc8499",
   "metadata": {},
   "outputs": [
    {
     "name": "stdout",
     "output_type": "stream",
     "text": [
      "<class 'pandas.core.frame.DataFrame'>\n",
      "Int64Index: 18068 entries, 0 to 18067\n",
      "Data columns (total 9 columns):\n",
      " #   Column             Non-Null Count  Dtype         \n",
      "---  ------             --------------  -----         \n",
      " 0   user_id            18068 non-null  int64         \n",
      " 1   name               18068 non-null  object        \n",
      " 2   age                18068 non-null  int64         \n",
      " 3   city               18068 non-null  object        \n",
      " 4   subscription_type  18068 non-null  object        \n",
      " 5   distance           18068 non-null  float64       \n",
      " 6   duration           18068 non-null  float64       \n",
      " 7   date               18068 non-null  datetime64[ns]\n",
      " 8   month              18068 non-null  int64         \n",
      "dtypes: datetime64[ns](1), float64(2), int64(3), object(3)\n",
      "memory usage: 1.4+ MB\n"
     ]
    }
   ],
   "source": [
    "df = users.merge(rides, on='user_id')\n",
    "df.info()"
   ]
  },
  {
   "cell_type": "code",
   "execution_count": 105,
   "id": "a4c4230a",
   "metadata": {},
   "outputs": [
    {
     "data": {
      "text/html": [
       "<div>\n",
       "<style scoped>\n",
       "    .dataframe tbody tr th:only-of-type {\n",
       "        vertical-align: middle;\n",
       "    }\n",
       "\n",
       "    .dataframe tbody tr th {\n",
       "        vertical-align: top;\n",
       "    }\n",
       "\n",
       "    .dataframe thead th {\n",
       "        text-align: right;\n",
       "    }\n",
       "</style>\n",
       "<table border=\"1\" class=\"dataframe\">\n",
       "  <thead>\n",
       "    <tr style=\"text-align: right;\">\n",
       "      <th></th>\n",
       "      <th>user_id</th>\n",
       "      <th>name</th>\n",
       "      <th>age</th>\n",
       "      <th>city</th>\n",
       "      <th>subscription_type</th>\n",
       "      <th>distance</th>\n",
       "      <th>duration</th>\n",
       "      <th>date</th>\n",
       "      <th>month</th>\n",
       "    </tr>\n",
       "  </thead>\n",
       "  <tbody>\n",
       "    <tr>\n",
       "      <th>0</th>\n",
       "      <td>1</td>\n",
       "      <td>Кира</td>\n",
       "      <td>22</td>\n",
       "      <td>Тюмень</td>\n",
       "      <td>ultra</td>\n",
       "      <td>4409.919140</td>\n",
       "      <td>25.599769</td>\n",
       "      <td>2021-01-01</td>\n",
       "      <td>1</td>\n",
       "    </tr>\n",
       "    <tr>\n",
       "      <th>1</th>\n",
       "      <td>1</td>\n",
       "      <td>Кира</td>\n",
       "      <td>22</td>\n",
       "      <td>Тюмень</td>\n",
       "      <td>ultra</td>\n",
       "      <td>2617.592153</td>\n",
       "      <td>15.816871</td>\n",
       "      <td>2021-01-18</td>\n",
       "      <td>1</td>\n",
       "    </tr>\n",
       "    <tr>\n",
       "      <th>2</th>\n",
       "      <td>1</td>\n",
       "      <td>Кира</td>\n",
       "      <td>22</td>\n",
       "      <td>Тюмень</td>\n",
       "      <td>ultra</td>\n",
       "      <td>754.159807</td>\n",
       "      <td>6.232113</td>\n",
       "      <td>2021-04-20</td>\n",
       "      <td>4</td>\n",
       "    </tr>\n",
       "    <tr>\n",
       "      <th>3</th>\n",
       "      <td>1</td>\n",
       "      <td>Кира</td>\n",
       "      <td>22</td>\n",
       "      <td>Тюмень</td>\n",
       "      <td>ultra</td>\n",
       "      <td>2694.783254</td>\n",
       "      <td>18.511000</td>\n",
       "      <td>2021-08-11</td>\n",
       "      <td>8</td>\n",
       "    </tr>\n",
       "    <tr>\n",
       "      <th>4</th>\n",
       "      <td>1</td>\n",
       "      <td>Кира</td>\n",
       "      <td>22</td>\n",
       "      <td>Тюмень</td>\n",
       "      <td>ultra</td>\n",
       "      <td>4028.687306</td>\n",
       "      <td>26.265803</td>\n",
       "      <td>2021-08-28</td>\n",
       "      <td>8</td>\n",
       "    </tr>\n",
       "    <tr>\n",
       "      <th>5</th>\n",
       "      <td>1</td>\n",
       "      <td>Кира</td>\n",
       "      <td>22</td>\n",
       "      <td>Тюмень</td>\n",
       "      <td>ultra</td>\n",
       "      <td>2770.890808</td>\n",
       "      <td>16.650138</td>\n",
       "      <td>2021-10-09</td>\n",
       "      <td>10</td>\n",
       "    </tr>\n",
       "    <tr>\n",
       "      <th>6</th>\n",
       "      <td>1</td>\n",
       "      <td>Кира</td>\n",
       "      <td>22</td>\n",
       "      <td>Тюмень</td>\n",
       "      <td>ultra</td>\n",
       "      <td>3039.020292</td>\n",
       "      <td>14.927879</td>\n",
       "      <td>2021-10-19</td>\n",
       "      <td>10</td>\n",
       "    </tr>\n",
       "    <tr>\n",
       "      <th>7</th>\n",
       "      <td>1</td>\n",
       "      <td>Кира</td>\n",
       "      <td>22</td>\n",
       "      <td>Тюмень</td>\n",
       "      <td>ultra</td>\n",
       "      <td>2842.118050</td>\n",
       "      <td>23.117468</td>\n",
       "      <td>2021-11-06</td>\n",
       "      <td>11</td>\n",
       "    </tr>\n",
       "    <tr>\n",
       "      <th>8</th>\n",
       "      <td>1</td>\n",
       "      <td>Кира</td>\n",
       "      <td>22</td>\n",
       "      <td>Тюмень</td>\n",
       "      <td>ultra</td>\n",
       "      <td>3412.690668</td>\n",
       "      <td>15.238072</td>\n",
       "      <td>2021-11-14</td>\n",
       "      <td>11</td>\n",
       "    </tr>\n",
       "    <tr>\n",
       "      <th>9</th>\n",
       "      <td>1</td>\n",
       "      <td>Кира</td>\n",
       "      <td>22</td>\n",
       "      <td>Тюмень</td>\n",
       "      <td>ultra</td>\n",
       "      <td>748.690645</td>\n",
       "      <td>15.041884</td>\n",
       "      <td>2021-11-22</td>\n",
       "      <td>11</td>\n",
       "    </tr>\n",
       "    <tr>\n",
       "      <th>10</th>\n",
       "      <td>1</td>\n",
       "      <td>Кира</td>\n",
       "      <td>22</td>\n",
       "      <td>Тюмень</td>\n",
       "      <td>ultra</td>\n",
       "      <td>4031.020195</td>\n",
       "      <td>17.674448</td>\n",
       "      <td>2021-12-14</td>\n",
       "      <td>12</td>\n",
       "    </tr>\n",
       "    <tr>\n",
       "      <th>11</th>\n",
       "      <td>1</td>\n",
       "      <td>Кира</td>\n",
       "      <td>22</td>\n",
       "      <td>Тюмень</td>\n",
       "      <td>ultra</td>\n",
       "      <td>2720.609748</td>\n",
       "      <td>9.529463</td>\n",
       "      <td>2021-12-22</td>\n",
       "      <td>12</td>\n",
       "    </tr>\n",
       "    <tr>\n",
       "      <th>12</th>\n",
       "      <td>2</td>\n",
       "      <td>Станислав</td>\n",
       "      <td>31</td>\n",
       "      <td>Омск</td>\n",
       "      <td>ultra</td>\n",
       "      <td>3105.086678</td>\n",
       "      <td>24.307514</td>\n",
       "      <td>2021-03-15</td>\n",
       "      <td>3</td>\n",
       "    </tr>\n",
       "    <tr>\n",
       "      <th>13</th>\n",
       "      <td>2</td>\n",
       "      <td>Станислав</td>\n",
       "      <td>31</td>\n",
       "      <td>Омск</td>\n",
       "      <td>ultra</td>\n",
       "      <td>3053.519401</td>\n",
       "      <td>11.543256</td>\n",
       "      <td>2021-03-18</td>\n",
       "      <td>3</td>\n",
       "    </tr>\n",
       "    <tr>\n",
       "      <th>14</th>\n",
       "      <td>2</td>\n",
       "      <td>Станислав</td>\n",
       "      <td>31</td>\n",
       "      <td>Омск</td>\n",
       "      <td>ultra</td>\n",
       "      <td>4029.116927</td>\n",
       "      <td>25.109188</td>\n",
       "      <td>2021-03-23</td>\n",
       "      <td>3</td>\n",
       "    </tr>\n",
       "    <tr>\n",
       "      <th>15</th>\n",
       "      <td>2</td>\n",
       "      <td>Станислав</td>\n",
       "      <td>31</td>\n",
       "      <td>Омск</td>\n",
       "      <td>ultra</td>\n",
       "      <td>2805.786329</td>\n",
       "      <td>20.652145</td>\n",
       "      <td>2021-04-08</td>\n",
       "      <td>4</td>\n",
       "    </tr>\n",
       "    <tr>\n",
       "      <th>16</th>\n",
       "      <td>2</td>\n",
       "      <td>Станислав</td>\n",
       "      <td>31</td>\n",
       "      <td>Омск</td>\n",
       "      <td>ultra</td>\n",
       "      <td>3358.595495</td>\n",
       "      <td>18.396489</td>\n",
       "      <td>2021-04-13</td>\n",
       "      <td>4</td>\n",
       "    </tr>\n",
       "    <tr>\n",
       "      <th>17</th>\n",
       "      <td>2</td>\n",
       "      <td>Станислав</td>\n",
       "      <td>31</td>\n",
       "      <td>Омск</td>\n",
       "      <td>ultra</td>\n",
       "      <td>3255.338202</td>\n",
       "      <td>13.851127</td>\n",
       "      <td>2021-06-20</td>\n",
       "      <td>6</td>\n",
       "    </tr>\n",
       "    <tr>\n",
       "      <th>18</th>\n",
       "      <td>2</td>\n",
       "      <td>Станислав</td>\n",
       "      <td>31</td>\n",
       "      <td>Омск</td>\n",
       "      <td>ultra</td>\n",
       "      <td>3942.817648</td>\n",
       "      <td>20.142725</td>\n",
       "      <td>2021-07-02</td>\n",
       "      <td>7</td>\n",
       "    </tr>\n",
       "    <tr>\n",
       "      <th>19</th>\n",
       "      <td>2</td>\n",
       "      <td>Станислав</td>\n",
       "      <td>31</td>\n",
       "      <td>Омск</td>\n",
       "      <td>ultra</td>\n",
       "      <td>2837.905316</td>\n",
       "      <td>26.027432</td>\n",
       "      <td>2021-07-18</td>\n",
       "      <td>7</td>\n",
       "    </tr>\n",
       "  </tbody>\n",
       "</table>\n",
       "</div>"
      ],
      "text/plain": [
       "    user_id       name  age    city subscription_type     distance   duration  \\\n",
       "0         1       Кира   22  Тюмень             ultra  4409.919140  25.599769   \n",
       "1         1       Кира   22  Тюмень             ultra  2617.592153  15.816871   \n",
       "2         1       Кира   22  Тюмень             ultra   754.159807   6.232113   \n",
       "3         1       Кира   22  Тюмень             ultra  2694.783254  18.511000   \n",
       "4         1       Кира   22  Тюмень             ultra  4028.687306  26.265803   \n",
       "5         1       Кира   22  Тюмень             ultra  2770.890808  16.650138   \n",
       "6         1       Кира   22  Тюмень             ultra  3039.020292  14.927879   \n",
       "7         1       Кира   22  Тюмень             ultra  2842.118050  23.117468   \n",
       "8         1       Кира   22  Тюмень             ultra  3412.690668  15.238072   \n",
       "9         1       Кира   22  Тюмень             ultra   748.690645  15.041884   \n",
       "10        1       Кира   22  Тюмень             ultra  4031.020195  17.674448   \n",
       "11        1       Кира   22  Тюмень             ultra  2720.609748   9.529463   \n",
       "12        2  Станислав   31    Омск             ultra  3105.086678  24.307514   \n",
       "13        2  Станислав   31    Омск             ultra  3053.519401  11.543256   \n",
       "14        2  Станислав   31    Омск             ultra  4029.116927  25.109188   \n",
       "15        2  Станислав   31    Омск             ultra  2805.786329  20.652145   \n",
       "16        2  Станислав   31    Омск             ultra  3358.595495  18.396489   \n",
       "17        2  Станислав   31    Омск             ultra  3255.338202  13.851127   \n",
       "18        2  Станислав   31    Омск             ultra  3942.817648  20.142725   \n",
       "19        2  Станислав   31    Омск             ultra  2837.905316  26.027432   \n",
       "\n",
       "         date  month  \n",
       "0  2021-01-01      1  \n",
       "1  2021-01-18      1  \n",
       "2  2021-04-20      4  \n",
       "3  2021-08-11      8  \n",
       "4  2021-08-28      8  \n",
       "5  2021-10-09     10  \n",
       "6  2021-10-19     10  \n",
       "7  2021-11-06     11  \n",
       "8  2021-11-14     11  \n",
       "9  2021-11-22     11  \n",
       "10 2021-12-14     12  \n",
       "11 2021-12-22     12  \n",
       "12 2021-03-15      3  \n",
       "13 2021-03-18      3  \n",
       "14 2021-03-23      3  \n",
       "15 2021-04-08      4  \n",
       "16 2021-04-13      4  \n",
       "17 2021-06-20      6  \n",
       "18 2021-07-02      7  \n",
       "19 2021-07-18      7  "
      ]
     },
     "execution_count": 105,
     "metadata": {},
     "output_type": "execute_result"
    }
   ],
   "source": [
    "df.head(20)"
   ]
  },
  {
   "cell_type": "code",
   "execution_count": 106,
   "id": "2f5d2b7a",
   "metadata": {},
   "outputs": [
    {
     "name": "stdout",
     "output_type": "stream",
     "text": [
      "<class 'pandas.core.frame.DataFrame'>\n",
      "Int64Index: 18068 entries, 0 to 18067\n",
      "Data columns (total 12 columns):\n",
      " #   Column             Non-Null Count  Dtype         \n",
      "---  ------             --------------  -----         \n",
      " 0   user_id            18068 non-null  int64         \n",
      " 1   name               18068 non-null  object        \n",
      " 2   age                18068 non-null  int64         \n",
      " 3   city               18068 non-null  object        \n",
      " 4   subscription_type  18068 non-null  object        \n",
      " 5   distance           18068 non-null  float64       \n",
      " 6   duration           18068 non-null  float64       \n",
      " 7   date               18068 non-null  datetime64[ns]\n",
      " 8   month              18068 non-null  int64         \n",
      " 9   minute_price       18068 non-null  int64         \n",
      " 10  start_ride_price   18068 non-null  int64         \n",
      " 11  subscription_fee   18068 non-null  int64         \n",
      "dtypes: datetime64[ns](1), float64(2), int64(6), object(3)\n",
      "memory usage: 1.8+ MB\n"
     ]
    }
   ],
   "source": [
    "df = df.merge(subscriptions, on='subscription_type')\n",
    "df.info()"
   ]
  },
  {
   "cell_type": "code",
   "execution_count": 107,
   "id": "9e382519",
   "metadata": {
    "scrolled": true
   },
   "outputs": [
    {
     "data": {
      "text/html": [
       "<div>\n",
       "<style scoped>\n",
       "    .dataframe tbody tr th:only-of-type {\n",
       "        vertical-align: middle;\n",
       "    }\n",
       "\n",
       "    .dataframe tbody tr th {\n",
       "        vertical-align: top;\n",
       "    }\n",
       "\n",
       "    .dataframe thead th {\n",
       "        text-align: right;\n",
       "    }\n",
       "</style>\n",
       "<table border=\"1\" class=\"dataframe\">\n",
       "  <thead>\n",
       "    <tr style=\"text-align: right;\">\n",
       "      <th></th>\n",
       "      <th>user_id</th>\n",
       "      <th>name</th>\n",
       "      <th>age</th>\n",
       "      <th>city</th>\n",
       "      <th>subscription_type</th>\n",
       "      <th>distance</th>\n",
       "      <th>duration</th>\n",
       "      <th>date</th>\n",
       "      <th>month</th>\n",
       "      <th>minute_price</th>\n",
       "      <th>start_ride_price</th>\n",
       "      <th>subscription_fee</th>\n",
       "    </tr>\n",
       "  </thead>\n",
       "  <tbody>\n",
       "    <tr>\n",
       "      <th>0</th>\n",
       "      <td>1</td>\n",
       "      <td>Кира</td>\n",
       "      <td>22</td>\n",
       "      <td>Тюмень</td>\n",
       "      <td>ultra</td>\n",
       "      <td>4409.919140</td>\n",
       "      <td>25.599769</td>\n",
       "      <td>2021-01-01</td>\n",
       "      <td>1</td>\n",
       "      <td>6</td>\n",
       "      <td>0</td>\n",
       "      <td>199</td>\n",
       "    </tr>\n",
       "    <tr>\n",
       "      <th>1</th>\n",
       "      <td>1</td>\n",
       "      <td>Кира</td>\n",
       "      <td>22</td>\n",
       "      <td>Тюмень</td>\n",
       "      <td>ultra</td>\n",
       "      <td>2617.592153</td>\n",
       "      <td>15.816871</td>\n",
       "      <td>2021-01-18</td>\n",
       "      <td>1</td>\n",
       "      <td>6</td>\n",
       "      <td>0</td>\n",
       "      <td>199</td>\n",
       "    </tr>\n",
       "    <tr>\n",
       "      <th>2</th>\n",
       "      <td>1</td>\n",
       "      <td>Кира</td>\n",
       "      <td>22</td>\n",
       "      <td>Тюмень</td>\n",
       "      <td>ultra</td>\n",
       "      <td>754.159807</td>\n",
       "      <td>6.232113</td>\n",
       "      <td>2021-04-20</td>\n",
       "      <td>4</td>\n",
       "      <td>6</td>\n",
       "      <td>0</td>\n",
       "      <td>199</td>\n",
       "    </tr>\n",
       "    <tr>\n",
       "      <th>3</th>\n",
       "      <td>1</td>\n",
       "      <td>Кира</td>\n",
       "      <td>22</td>\n",
       "      <td>Тюмень</td>\n",
       "      <td>ultra</td>\n",
       "      <td>2694.783254</td>\n",
       "      <td>18.511000</td>\n",
       "      <td>2021-08-11</td>\n",
       "      <td>8</td>\n",
       "      <td>6</td>\n",
       "      <td>0</td>\n",
       "      <td>199</td>\n",
       "    </tr>\n",
       "    <tr>\n",
       "      <th>4</th>\n",
       "      <td>1</td>\n",
       "      <td>Кира</td>\n",
       "      <td>22</td>\n",
       "      <td>Тюмень</td>\n",
       "      <td>ultra</td>\n",
       "      <td>4028.687306</td>\n",
       "      <td>26.265803</td>\n",
       "      <td>2021-08-28</td>\n",
       "      <td>8</td>\n",
       "      <td>6</td>\n",
       "      <td>0</td>\n",
       "      <td>199</td>\n",
       "    </tr>\n",
       "  </tbody>\n",
       "</table>\n",
       "</div>"
      ],
      "text/plain": [
       "   user_id  name  age    city subscription_type     distance   duration  \\\n",
       "0        1  Кира   22  Тюмень             ultra  4409.919140  25.599769   \n",
       "1        1  Кира   22  Тюмень             ultra  2617.592153  15.816871   \n",
       "2        1  Кира   22  Тюмень             ultra   754.159807   6.232113   \n",
       "3        1  Кира   22  Тюмень             ultra  2694.783254  18.511000   \n",
       "4        1  Кира   22  Тюмень             ultra  4028.687306  26.265803   \n",
       "\n",
       "        date  month  minute_price  start_ride_price  subscription_fee  \n",
       "0 2021-01-01      1             6                 0               199  \n",
       "1 2021-01-18      1             6                 0               199  \n",
       "2 2021-04-20      4             6                 0               199  \n",
       "3 2021-08-11      8             6                 0               199  \n",
       "4 2021-08-28      8             6                 0               199  "
      ]
     },
     "execution_count": 107,
     "metadata": {},
     "output_type": "execute_result"
    }
   ],
   "source": [
    "df.head()"
   ]
  },
  {
   "cell_type": "code",
   "execution_count": 108,
   "id": "bea806d1",
   "metadata": {},
   "outputs": [
    {
     "name": "stdout",
     "output_type": "stream",
     "text": [
      "True\n",
      "True\n"
     ]
    }
   ],
   "source": [
    "print(df.shape[0] == rides.shape[0] or df.shape[0] == users.shape[0] or df.shape[0] == subscriptions.shape[0] )\n",
    "print(df.shape[1] == rides.shape[1] + users.shape[1] + subscriptions.shape[1] - 2)"
   ]
  },
  {
   "cell_type": "markdown",
   "id": "bef0de58",
   "metadata": {},
   "source": [
    "<div class=\"alert alert-info\"  style=\"border-radius: 15px; border: 1px solid \">\n",
    "После объединения таблиц количество записей новой таблице совпадает с количеством записей одной из таблиц (rides), количество столбцов также совпадает с суммой столбцов объединенных таблиц (за исключением повтора ключевых, по которым объединяем). Пропущенных значений нет. "
   ]
  },
  {
   "cell_type": "code",
   "execution_count": 109,
   "id": "d07c5f00",
   "metadata": {},
   "outputs": [
    {
     "name": "stdout",
     "output_type": "stream",
     "text": [
      "<class 'pandas.core.frame.DataFrame'>\n",
      "Int64Index: 6500 entries, 0 to 6499\n",
      "Data columns (total 12 columns):\n",
      " #   Column             Non-Null Count  Dtype         \n",
      "---  ------             --------------  -----         \n",
      " 0   user_id            6500 non-null   int64         \n",
      " 1   name               6500 non-null   object        \n",
      " 2   age                6500 non-null   int64         \n",
      " 3   city               6500 non-null   object        \n",
      " 4   subscription_type  6500 non-null   object        \n",
      " 5   distance           6500 non-null   float64       \n",
      " 6   duration           6500 non-null   float64       \n",
      " 7   date               6500 non-null   datetime64[ns]\n",
      " 8   month              6500 non-null   int64         \n",
      " 9   minute_price       6500 non-null   int64         \n",
      " 10  start_ride_price   6500 non-null   int64         \n",
      " 11  subscription_fee   6500 non-null   int64         \n",
      "dtypes: datetime64[ns](1), float64(2), int64(6), object(3)\n",
      "memory usage: 660.2+ KB\n"
     ]
    }
   ],
   "source": [
    "df_ultra = df.loc[df['subscription_type'] == 'ultra',]\n",
    "df_ultra.info()"
   ]
  },
  {
   "cell_type": "code",
   "execution_count": 110,
   "id": "8770a57a",
   "metadata": {
    "scrolled": true
   },
   "outputs": [
    {
     "name": "stdout",
     "output_type": "stream",
     "text": [
      "<class 'pandas.core.frame.DataFrame'>\n",
      "Int64Index: 11568 entries, 6500 to 18067\n",
      "Data columns (total 12 columns):\n",
      " #   Column             Non-Null Count  Dtype         \n",
      "---  ------             --------------  -----         \n",
      " 0   user_id            11568 non-null  int64         \n",
      " 1   name               11568 non-null  object        \n",
      " 2   age                11568 non-null  int64         \n",
      " 3   city               11568 non-null  object        \n",
      " 4   subscription_type  11568 non-null  object        \n",
      " 5   distance           11568 non-null  float64       \n",
      " 6   duration           11568 non-null  float64       \n",
      " 7   date               11568 non-null  datetime64[ns]\n",
      " 8   month              11568 non-null  int64         \n",
      " 9   minute_price       11568 non-null  int64         \n",
      " 10  start_ride_price   11568 non-null  int64         \n",
      " 11  subscription_fee   11568 non-null  int64         \n",
      "dtypes: datetime64[ns](1), float64(2), int64(6), object(3)\n",
      "memory usage: 1.1+ MB\n"
     ]
    }
   ],
   "source": [
    "df_free = df.loc[df['subscription_type'] == 'free',]\n",
    "df_free.info()"
   ]
  },
  {
   "cell_type": "code",
   "execution_count": 111,
   "id": "a302800f",
   "metadata": {},
   "outputs": [
    {
     "name": "stdout",
     "output_type": "stream",
     "text": [
      "True\n",
      "True\n",
      "True\n"
     ]
    }
   ],
   "source": [
    "print(df_free.shape[0] + df_ultra.shape[0] == df.shape[0])\n",
    "print(df_free.shape[1] == df.shape[1])\n",
    "print(df_ultra.shape[1] == df.shape[1])"
   ]
  },
  {
   "cell_type": "markdown",
   "id": "312b7663",
   "metadata": {},
   "source": [
    "<div class=\"alert alert-info\"  style=\"border-radius: 15px; border: 1px solid \">\n",
    "Количество столбцов в таблицах, полученных разделением по категориям из одного датафрейма, совпадает с количество столбцов исходного датафрейма. Сумма строк в новых датафреймах равна количеству строк исходного датафрейма."
   ]
  },
  {
   "cell_type": "code",
   "execution_count": 112,
   "id": "558c8695",
   "metadata": {},
   "outputs": [
    {
     "name": "stdout",
     "output_type": "stream",
     "text": [
      "<class 'pandas.core.frame.DataFrame'>\n",
      "Int64Index: 18068 entries, 0 to 18067\n",
      "Data columns (total 12 columns):\n",
      " #   Column             Non-Null Count  Dtype         \n",
      "---  ------             --------------  -----         \n",
      " 0   user_id            18068 non-null  int64         \n",
      " 1   name               18068 non-null  object        \n",
      " 2   age                18068 non-null  int64         \n",
      " 3   city               18068 non-null  object        \n",
      " 4   subscription_type  18068 non-null  object        \n",
      " 5   distance           18068 non-null  float64       \n",
      " 6   duration           18068 non-null  float64       \n",
      " 7   date               18068 non-null  datetime64[ns]\n",
      " 8   month              18068 non-null  int64         \n",
      " 9   minute_price       18068 non-null  int64         \n",
      " 10  start_ride_price   18068 non-null  int64         \n",
      " 11  subscription_fee   18068 non-null  int64         \n",
      "dtypes: datetime64[ns](1), float64(2), int64(6), object(3)\n",
      "memory usage: 1.8+ MB\n"
     ]
    }
   ],
   "source": [
    "df.info()"
   ]
  },
  {
   "cell_type": "code",
   "execution_count": 113,
   "id": "a8962b0a",
   "metadata": {},
   "outputs": [
    {
     "data": {
      "image/png": "[encoded data removed]",
      "text/plain": [
       "<Figure size 432x288 with 1 Axes>"
      ]
     },
     "metadata": {
      "needs_background": "light"
     },
     "output_type": "display_data"
    }
   ],
   "source": [
    "ax = sns.histplot(data = df, x='duration', hue='subscription_type', bins=30, alpha=0.5, element=\"step\")\n",
    "\n",
    "ax.set(xlabel='Расстояние, м', ylabel='Абсолютная частота', title='Гистограмма продолжительности поездок без выбросов');\n",
    "plt.show()"
   ]
  },
  {
   "cell_type": "code",
   "execution_count": 114,
   "id": "3c9d9ad7",
   "metadata": {
    "scrolled": true
   },
   "outputs": [
    {
     "data": {
      "image/png": "[encoded data removed]",
      "text/plain": [
       "<Figure size 432x288 with 1 Axes>"
      ]
     },
     "metadata": {
      "needs_background": "light"
     },
     "output_type": "display_data"
    }
   ],
   "source": [
    "plt.hist(df_free['duration'], bins=30, alpha=0.5, label='Без подписки', color='pink')\n",
    "plt.hist(df_ultra['duration'], bins=30, alpha=0.5, label='С подпиской ультра', color='purple')\n",
    "plt.legend(loc='upper right')\n",
    "plt.title('Гистограмма продолжительности поездок без подписки и с подпиской Ультра')\n",
    "plt.xlabel('Продолжительность, мин')\n",
    "plt.ylabel('Абсолютная частота')\n",
    "plt.show()"
   ]
  },
  {
   "cell_type": "code",
   "execution_count": 115,
   "id": "3557995a",
   "metadata": {},
   "outputs": [
    {
     "data": {
      "image/png": "[encoded data removed]",
      "text/plain": [
       "<Figure size 432x288 with 1 Axes>"
      ]
     },
     "metadata": {
      "needs_background": "light"
     },
     "output_type": "display_data"
    }
   ],
   "source": [
    "fig = plt.figure()\n",
    "data = [df_free['duration'], df_ultra['duration']]\n",
    "ax = fig.add_axes([0, 0, 1, 1])\n",
    "\n",
    "colors = ['pink', 'purple']\n",
    "bp = ax.boxplot(data, patch_artist = True,)\n",
    "for patch, color in zip(bp['boxes'], colors):\n",
    "    patch.set_facecolor(color)\n",
    "    \n",
    "for whisker in bp['whiskers']:\n",
    "    whisker.set(color ='#8B008B',\n",
    "                linewidth = 1.5,\n",
    "                linestyle =\":\")    \n",
    "plt.title('Диаграмма размаха продолжительности поездок без подписки и с подпиской Ультра')\n",
    "ax.set_xticklabels(['Без подписки', 'С подпиской Ультра'])\n",
    "plt.ylabel('Продолжительность, мин')\n",
    "plt.grid(True)\n",
    "plt.show()"
   ]
  },
  {
   "cell_type": "code",
   "execution_count": 116,
   "id": "ecea02b5",
   "metadata": {},
   "outputs": [
    {
     "data": {
      "text/plain": [
       "count    11568.000000\n",
       "mean        17.390909\n",
       "std          6.326803\n",
       "min          0.500000\n",
       "25%         12.958437\n",
       "50%         17.326890\n",
       "75%         21.594071\n",
       "max         34.948498\n",
       "Name: duration, dtype: float64"
      ]
     },
     "execution_count": 116,
     "metadata": {},
     "output_type": "execute_result"
    }
   ],
   "source": [
    "df_free['duration'].describe()"
   ]
  },
  {
   "cell_type": "code",
   "execution_count": 117,
   "id": "239302f1",
   "metadata": {},
   "outputs": [
    {
     "data": {
      "text/plain": [
       "count    6500.000000\n",
       "mean       18.541985\n",
       "std         5.572048\n",
       "min         3.760353\n",
       "25%        14.524654\n",
       "50%        18.178153\n",
       "75%        21.884129\n",
       "max        40.823963\n",
       "Name: duration, dtype: float64"
      ]
     },
     "execution_count": 117,
     "metadata": {},
     "output_type": "execute_result"
    }
   ],
   "source": [
    "df_ultra['duration'].describe()"
   ]
  },
  {
   "cell_type": "markdown",
   "id": "92148384",
   "metadata": {},
   "source": [
    "<div class=\"alert alert-info\"  style=\"border-radius: 15px; border: 1px solid \">\n",
    "Минимальное время поездок у пользователей без подписки - 0.5 минуты, максимальное - 35 минут; минимальное время поездок у пользователей с подпиской - 3.7 минуты, максимальное - 41 минута. \n",
    "\n",
    "50% пользователей без подписки тратят на поездки от 13 до 21.6 минуты, с подпиской - от 14.5 до 22 минут.\n",
    "\n",
    "Медианное время у пользователей без подписки - 17.3, с подпиской - 18.2 (берем медиану, так как по диаграмме размаха есть выбросы. Хотя среднее значение отличается на 0.1 и на 0.3 от медианы, соотвественно). Кроме того, отметим, что диаграмма размаха довольно симметричная. Гистограмма также напоминает график нормального распределения.\n",
    "\n",
    "\n",
    "\n",
    "Минимальное время поездок у пользователей с подпиской - 3.7 минуты, максимальное - 41 минута. 50% пользователей тратят на поездки от 14.5 до 22 минут. Медианное время - 18.2 (берем медиану, так как по диаграмме размаха есть выбросы. Хотя среднее значение отличается от медианы всего лишь на 0.3). Кроме того, отметим, что диаграммы размаха довольно симметричные. Гистограммы также напоминает график нормального распределения. "
   ]
  },
  {
   "cell_type": "code",
   "execution_count": 118,
   "id": "23b92425",
   "metadata": {},
   "outputs": [
    {
     "data": {
      "image/png": "[encoded data removed]",
      "text/plain": [
       "<Figure size 432x288 with 1 Axes>"
      ]
     },
     "metadata": {
      "needs_background": "light"
     },
     "output_type": "display_data"
    }
   ],
   "source": [
    "plt.hist(df_free['distance'], bins=30, alpha=0.5, label='Без подписки', color='pink')\n",
    "plt.hist(df_ultra['distance'], bins=30, alpha=0.5, label='С подпиской ультра', color='purple')\n",
    "plt.legend(loc='upper right')\n",
    "plt.title('Гистограмма расстояния поездок без подписки и с подпиской Ультра')\n",
    "plt.xlabel('Расстояние, м')\n",
    "plt.ylabel('Абсолютная частота');"
   ]
  },
  {
   "cell_type": "code",
   "execution_count": 119,
   "id": "390f5cbd",
   "metadata": {},
   "outputs": [
    {
     "data": {
      "image/png": "[encoded data removed]",
      "text/plain": [
       "<Figure size 432x288 with 1 Axes>"
      ]
     },
     "metadata": {
      "needs_background": "light"
     },
     "output_type": "display_data"
    }
   ],
   "source": [
    "fig = plt.figure()\n",
    "data = [df_free['distance'], df_ultra['distance']]\n",
    "ax = fig.add_axes([0, 0, 1, 1])\n",
    "\n",
    "colors = ['pink', 'purple']\n",
    "bp = ax.boxplot(data, patch_artist = True,)\n",
    "for patch, color in zip(bp['boxes'], colors):\n",
    "    patch.set_facecolor(color)\n",
    "    \n",
    "for whisker in bp['whiskers']:\n",
    "    whisker.set(color ='#8B008B',\n",
    "                linewidth = 1.5,\n",
    "                linestyle =\":\")    \n",
    "plt.title('Диаграмма размаха расстояния поездок без подписки и с подпиской Ультра')\n",
    "ax.set_xticklabels(['Без подписки', 'С подпиской Ультра'])\n",
    "plt.ylabel('Расстояние, м')\n",
    "plt.grid(True)\n",
    "plt.show()"
   ]
  },
  {
   "cell_type": "markdown",
   "id": "8d09a841",
   "metadata": {},
   "source": [
    "<div class=\"alert alert-info\"  style=\"border-radius: 15px; border: 1px solid \">\n",
    "Минимальное расстояние поездок у пользователей без подписки - 0.8 метра, максимальное - 7.2 км; у пользователей с подпиской: минимальное - 244 метра, максимальное - 5.7 км.\n",
    "\n",
    "\n",
    "50% пользователей без подписки проезжают от 2.4 до 3.9 км, с подпиской - от 2.8 до 3.6 км.\n",
    "\n",
    "\n",
    "Медианное расстояние у пользователей обеих категорий совпадает - 3.1 км (берем медиану, так как по диаграмме размаха есть выбросы). \n",
    "\n",
    "Кроме того, отметим, что диаграммы размаха довольно симметричная. Гистограммы напоминают смесь двух гистограмм нормального распределения: от 0 до 2 кмм и свыше 2км.\n"
   ]
  },
  {
   "cell_type": "code",
   "execution_count": 120,
   "id": "502a31e7",
   "metadata": {},
   "outputs": [
    {
     "data": {
      "image/png": "[encoded data removed]",
      "text/plain": [
       "<Figure size 432x288 with 1 Axes>"
      ]
     },
     "metadata": {
      "needs_background": "light"
     },
     "output_type": "display_data"
    },
    {
     "name": "stdout",
     "output_type": "stream",
     "text": [
      "Коэффициент корреляции: 0.56\n"
     ]
    }
   ],
   "source": [
    "df_free.plot(x='duration',  y='distance',  kind='scatter', grid=True, alpha=0.5)\n",
    "plt.title('Диаграмма рассеяния продолжительности и расстояния поездок пользователей без подписки')\n",
    "plt.xlabel('Продолжительность, мин')\n",
    "plt.ylabel('Расстояние, м')\n",
    "plt.show()\n",
    "print('Коэффициент корреляции:',  round(df_free['duration'].corr(df_free['distance']), 2))"
   ]
  },
  {
   "cell_type": "code",
   "execution_count": 121,
   "id": "7de5c50a",
   "metadata": {},
   "outputs": [
    {
     "data": {
      "image/png": "[encoded data removed]",
      "text/plain": [
       "<Figure size 432x288 with 1 Axes>"
      ]
     },
     "metadata": {
      "needs_background": "light"
     },
     "output_type": "display_data"
    },
    {
     "name": "stdout",
     "output_type": "stream",
     "text": [
      "Коэффициент корреляции: 0.49\n"
     ]
    }
   ],
   "source": [
    "df_ultra.plot(x='duration',  y='distance',  kind='scatter', grid=True, alpha=0.5)\n",
    "plt.title('Диаграмма рассеяния продолжительности и расстояния поездок пользователей с подпиской')\n",
    "plt.xlabel('Продолжительность, мин')\n",
    "plt.ylabel('Расстояние, м')\n",
    "plt.show()\n",
    "print('Коэффициент корреляции:',  round(df_ultra['duration'].corr(df_ultra['distance']), 2))"
   ]
  },
  {
   "cell_type": "markdown",
   "id": "a2c1d18f",
   "metadata": {},
   "source": [
    "<div class=\"alert alert-info\"  style=\"border-radius: 15px; border: 1px solid \">\n",
    "Именно для пользователей без подписки характерна аномальная взаимосвязь, для продолжительности поездки менее 2 минут расстояние в пределах от 4 до 7 км."
   ]
  },
  {
   "cell_type": "markdown",
   "id": "1b0ad493",
   "metadata": {},
   "source": [
    "<div class=\"alert alert-success\"  style=\"border-radius: 15px; border: 1px solid \">\n",
    "    Вывод:\n",
    "    \n",
    "Все три таблицы были объединены в одну. Таблицы users и rides были объединены по столбцу user_id, получившая таблица была объединена с таблицей subscription по столбцу subscription_type. Были созданы еще 2 таблицы для пользователей с подпиской и без нее. Объединение и разбиение произведено корректно.\n",
    "    \n",
    "Экстремальные значение продолжительности поездок у пользователей с подпиской и без нее различается: минимальное время 3.7 минуты и 0.5 минуты, максимальное - 41 минуты и 35 минут, соответственно. Медианное время также отличается: у пользователей с подпиской оно больше: 18.2 против 17.3 минуты у пользователей без подписки. \n",
    "\n",
    "Экстремальные значения расстояния также отличаются. У пользователей с подпиской: минимальное 244 метра, максимальное - 5.7 км, без подписки: минимальное - 0.8 метра, максимальное - 7.2 км. Тем не менее медианное расстояние совпадает - 3.1 км."
   ]
  },
  {
   "cell_type": "markdown",
   "id": "402d620f",
   "metadata": {},
   "source": [
    "#### Шаг 5. Подсчёт выручки"
   ]
  },
  {
   "cell_type": "code",
   "execution_count": 122,
   "id": "e524de82",
   "metadata": {},
   "outputs": [
    {
     "data": {
      "text/plain": [
       "0    26.0\n",
       "1    16.0\n",
       "2     7.0\n",
       "3    19.0\n",
       "4    27.0\n",
       "Name: duration, dtype: float64"
      ]
     },
     "execution_count": 122,
     "metadata": {},
     "output_type": "execute_result"
    }
   ],
   "source": [
    "df['duration'] = np.ceil(df['duration']) \n",
    "df['duration'].head()"
   ]
  },
  {
   "cell_type": "code",
   "execution_count": 123,
   "id": "2c3a5545",
   "metadata": {},
   "outputs": [
    {
     "data": {
      "text/html": [
       "<div>\n",
       "<style scoped>\n",
       "    .dataframe tbody tr th:only-of-type {\n",
       "        vertical-align: middle;\n",
       "    }\n",
       "\n",
       "    .dataframe tbody tr th {\n",
       "        vertical-align: top;\n",
       "    }\n",
       "\n",
       "    .dataframe thead th {\n",
       "        text-align: right;\n",
       "    }\n",
       "</style>\n",
       "<table border=\"1\" class=\"dataframe\">\n",
       "  <thead>\n",
       "    <tr style=\"text-align: right;\">\n",
       "      <th></th>\n",
       "      <th>user_id</th>\n",
       "      <th>name</th>\n",
       "      <th>age</th>\n",
       "      <th>city</th>\n",
       "      <th>subscription_type</th>\n",
       "      <th>distance</th>\n",
       "      <th>duration</th>\n",
       "      <th>date</th>\n",
       "      <th>month</th>\n",
       "      <th>minute_price</th>\n",
       "      <th>start_ride_price</th>\n",
       "      <th>subscription_fee</th>\n",
       "    </tr>\n",
       "  </thead>\n",
       "  <tbody>\n",
       "    <tr>\n",
       "      <th>0</th>\n",
       "      <td>1</td>\n",
       "      <td>Кира</td>\n",
       "      <td>22</td>\n",
       "      <td>Тюмень</td>\n",
       "      <td>ultra</td>\n",
       "      <td>4409.919140</td>\n",
       "      <td>26.0</td>\n",
       "      <td>2021-01-01</td>\n",
       "      <td>1</td>\n",
       "      <td>6</td>\n",
       "      <td>0</td>\n",
       "      <td>199</td>\n",
       "    </tr>\n",
       "    <tr>\n",
       "      <th>1</th>\n",
       "      <td>1</td>\n",
       "      <td>Кира</td>\n",
       "      <td>22</td>\n",
       "      <td>Тюмень</td>\n",
       "      <td>ultra</td>\n",
       "      <td>2617.592153</td>\n",
       "      <td>16.0</td>\n",
       "      <td>2021-01-18</td>\n",
       "      <td>1</td>\n",
       "      <td>6</td>\n",
       "      <td>0</td>\n",
       "      <td>199</td>\n",
       "    </tr>\n",
       "    <tr>\n",
       "      <th>2</th>\n",
       "      <td>1</td>\n",
       "      <td>Кира</td>\n",
       "      <td>22</td>\n",
       "      <td>Тюмень</td>\n",
       "      <td>ultra</td>\n",
       "      <td>754.159807</td>\n",
       "      <td>7.0</td>\n",
       "      <td>2021-04-20</td>\n",
       "      <td>4</td>\n",
       "      <td>6</td>\n",
       "      <td>0</td>\n",
       "      <td>199</td>\n",
       "    </tr>\n",
       "    <tr>\n",
       "      <th>3</th>\n",
       "      <td>1</td>\n",
       "      <td>Кира</td>\n",
       "      <td>22</td>\n",
       "      <td>Тюмень</td>\n",
       "      <td>ultra</td>\n",
       "      <td>2694.783254</td>\n",
       "      <td>19.0</td>\n",
       "      <td>2021-08-11</td>\n",
       "      <td>8</td>\n",
       "      <td>6</td>\n",
       "      <td>0</td>\n",
       "      <td>199</td>\n",
       "    </tr>\n",
       "    <tr>\n",
       "      <th>4</th>\n",
       "      <td>1</td>\n",
       "      <td>Кира</td>\n",
       "      <td>22</td>\n",
       "      <td>Тюмень</td>\n",
       "      <td>ultra</td>\n",
       "      <td>4028.687306</td>\n",
       "      <td>27.0</td>\n",
       "      <td>2021-08-28</td>\n",
       "      <td>8</td>\n",
       "      <td>6</td>\n",
       "      <td>0</td>\n",
       "      <td>199</td>\n",
       "    </tr>\n",
       "    <tr>\n",
       "      <th>5</th>\n",
       "      <td>1</td>\n",
       "      <td>Кира</td>\n",
       "      <td>22</td>\n",
       "      <td>Тюмень</td>\n",
       "      <td>ultra</td>\n",
       "      <td>2770.890808</td>\n",
       "      <td>17.0</td>\n",
       "      <td>2021-10-09</td>\n",
       "      <td>10</td>\n",
       "      <td>6</td>\n",
       "      <td>0</td>\n",
       "      <td>199</td>\n",
       "    </tr>\n",
       "    <tr>\n",
       "      <th>6</th>\n",
       "      <td>1</td>\n",
       "      <td>Кира</td>\n",
       "      <td>22</td>\n",
       "      <td>Тюмень</td>\n",
       "      <td>ultra</td>\n",
       "      <td>3039.020292</td>\n",
       "      <td>15.0</td>\n",
       "      <td>2021-10-19</td>\n",
       "      <td>10</td>\n",
       "      <td>6</td>\n",
       "      <td>0</td>\n",
       "      <td>199</td>\n",
       "    </tr>\n",
       "    <tr>\n",
       "      <th>7</th>\n",
       "      <td>1</td>\n",
       "      <td>Кира</td>\n",
       "      <td>22</td>\n",
       "      <td>Тюмень</td>\n",
       "      <td>ultra</td>\n",
       "      <td>2842.118050</td>\n",
       "      <td>24.0</td>\n",
       "      <td>2021-11-06</td>\n",
       "      <td>11</td>\n",
       "      <td>6</td>\n",
       "      <td>0</td>\n",
       "      <td>199</td>\n",
       "    </tr>\n",
       "    <tr>\n",
       "      <th>8</th>\n",
       "      <td>1</td>\n",
       "      <td>Кира</td>\n",
       "      <td>22</td>\n",
       "      <td>Тюмень</td>\n",
       "      <td>ultra</td>\n",
       "      <td>3412.690668</td>\n",
       "      <td>16.0</td>\n",
       "      <td>2021-11-14</td>\n",
       "      <td>11</td>\n",
       "      <td>6</td>\n",
       "      <td>0</td>\n",
       "      <td>199</td>\n",
       "    </tr>\n",
       "    <tr>\n",
       "      <th>9</th>\n",
       "      <td>1</td>\n",
       "      <td>Кира</td>\n",
       "      <td>22</td>\n",
       "      <td>Тюмень</td>\n",
       "      <td>ultra</td>\n",
       "      <td>748.690645</td>\n",
       "      <td>16.0</td>\n",
       "      <td>2021-11-22</td>\n",
       "      <td>11</td>\n",
       "      <td>6</td>\n",
       "      <td>0</td>\n",
       "      <td>199</td>\n",
       "    </tr>\n",
       "  </tbody>\n",
       "</table>\n",
       "</div>"
      ],
      "text/plain": [
       "   user_id  name  age    city subscription_type     distance  duration  \\\n",
       "0        1  Кира   22  Тюмень             ultra  4409.919140      26.0   \n",
       "1        1  Кира   22  Тюмень             ultra  2617.592153      16.0   \n",
       "2        1  Кира   22  Тюмень             ultra   754.159807       7.0   \n",
       "3        1  Кира   22  Тюмень             ultra  2694.783254      19.0   \n",
       "4        1  Кира   22  Тюмень             ultra  4028.687306      27.0   \n",
       "5        1  Кира   22  Тюмень             ultra  2770.890808      17.0   \n",
       "6        1  Кира   22  Тюмень             ultra  3039.020292      15.0   \n",
       "7        1  Кира   22  Тюмень             ultra  2842.118050      24.0   \n",
       "8        1  Кира   22  Тюмень             ultra  3412.690668      16.0   \n",
       "9        1  Кира   22  Тюмень             ultra   748.690645      16.0   \n",
       "\n",
       "        date  month  minute_price  start_ride_price  subscription_fee  \n",
       "0 2021-01-01      1             6                 0               199  \n",
       "1 2021-01-18      1             6                 0               199  \n",
       "2 2021-04-20      4             6                 0               199  \n",
       "3 2021-08-11      8             6                 0               199  \n",
       "4 2021-08-28      8             6                 0               199  \n",
       "5 2021-10-09     10             6                 0               199  \n",
       "6 2021-10-19     10             6                 0               199  \n",
       "7 2021-11-06     11             6                 0               199  \n",
       "8 2021-11-14     11             6                 0               199  \n",
       "9 2021-11-22     11             6                 0               199  "
      ]
     },
     "execution_count": 123,
     "metadata": {},
     "output_type": "execute_result"
    }
   ],
   "source": [
    "df.head(10)"
   ]
  },
  {
   "cell_type": "code",
   "execution_count": 124,
   "id": "53049e0a",
   "metadata": {},
   "outputs": [
    {
     "name": "stdout",
     "output_type": "stream",
     "text": [
      "<class 'pandas.core.frame.DataFrame'>\n",
      "MultiIndex: 11331 entries, (1, 1) to (1534, 12)\n",
      "Data columns (total 7 columns):\n",
      " #   Column             Non-Null Count  Dtype  \n",
      "---  ------             --------------  -----  \n",
      " 0   distance           11331 non-null  float64\n",
      " 1   user_id            11331 non-null  int64  \n",
      " 2   duration           11331 non-null  float64\n",
      " 3   subscription_type  11331 non-null  object \n",
      " 4   minute_price       11331 non-null  int64  \n",
      " 5   start_ride_price   11331 non-null  int64  \n",
      " 6   subscription_fee   11331 non-null  int64  \n",
      "dtypes: float64(2), int64(4), object(1)\n",
      "memory usage: 665.0+ KB\n"
     ]
    }
   ],
   "source": [
    "travels = df.groupby(['user_id','month'])\\\n",
    "            .agg({'distance':'sum', \n",
    "                  'user_id':'count', \n",
    "                  'duration':'sum', \n",
    "                  'subscription_type': 'min',\n",
    "                  'minute_price': 'min',\n",
    "                  'start_ride_price': 'min',\n",
    "                  'subscription_fee': 'min'\n",
    "                 })\n",
    "travels.info()"
   ]
  },
  {
   "cell_type": "code",
   "execution_count": 125,
   "id": "29ed764c",
   "metadata": {},
   "outputs": [
    {
     "name": "stdout",
     "output_type": "stream",
     "text": [
      "<class 'pandas.core.frame.DataFrame'>\n",
      "MultiIndex: 11331 entries, (1, 1) to (1534, 12)\n",
      "Data columns (total 7 columns):\n",
      " #   Column             Non-Null Count  Dtype  \n",
      "---  ------             --------------  -----  \n",
      " 0   distance_sum       11331 non-null  float64\n",
      " 1   travels_count      11331 non-null  int64  \n",
      " 2   duration_sum       11331 non-null  float64\n",
      " 3   subscription_type  11331 non-null  object \n",
      " 4   minute_price       11331 non-null  int64  \n",
      " 5   start_ride_price   11331 non-null  int64  \n",
      " 6   subscription_fee   11331 non-null  int64  \n",
      "dtypes: float64(2), int64(4), object(1)\n",
      "memory usage: 665.0+ KB\n"
     ]
    }
   ],
   "source": [
    "travels = travels.rename(columns={'distance':'distance_sum', \n",
    "                        'user_id': 'travels_count', \n",
    "                        'duration': 'duration_sum'})\n",
    "travels.head(20)\n",
    "travels.info()"
   ]
  },
  {
   "cell_type": "code",
   "execution_count": 126,
   "id": "adad9ebb",
   "metadata": {},
   "outputs": [
    {
     "name": "stdout",
     "output_type": "stream",
     "text": [
      "<class 'pandas.core.frame.DataFrame'>\n",
      "RangeIndex: 11331 entries, 0 to 11330\n",
      "Data columns (total 9 columns):\n",
      " #   Column             Non-Null Count  Dtype  \n",
      "---  ------             --------------  -----  \n",
      " 0   user_id            11331 non-null  int64  \n",
      " 1   month              11331 non-null  int64  \n",
      " 2   distance_sum       11331 non-null  float64\n",
      " 3   travels_count      11331 non-null  int64  \n",
      " 4   duration_sum       11331 non-null  float64\n",
      " 5   subscription_type  11331 non-null  object \n",
      " 6   minute_price       11331 non-null  int64  \n",
      " 7   start_ride_price   11331 non-null  int64  \n",
      " 8   subscription_fee   11331 non-null  int64  \n",
      "dtypes: float64(2), int64(6), object(1)\n",
      "memory usage: 796.8+ KB\n"
     ]
    }
   ],
   "source": [
    "travels.reset_index(inplace= True )\n",
    "travels.info()"
   ]
  },
  {
   "cell_type": "code",
   "execution_count": 127,
   "id": "523bc71f",
   "metadata": {},
   "outputs": [
    {
     "data": {
      "text/html": [
       "<div>\n",
       "<style scoped>\n",
       "    .dataframe tbody tr th:only-of-type {\n",
       "        vertical-align: middle;\n",
       "    }\n",
       "\n",
       "    .dataframe tbody tr th {\n",
       "        vertical-align: top;\n",
       "    }\n",
       "\n",
       "    .dataframe thead th {\n",
       "        text-align: right;\n",
       "    }\n",
       "</style>\n",
       "<table border=\"1\" class=\"dataframe\">\n",
       "  <thead>\n",
       "    <tr style=\"text-align: right;\">\n",
       "      <th></th>\n",
       "      <th>user_id</th>\n",
       "      <th>month</th>\n",
       "      <th>distance_sum</th>\n",
       "      <th>travels_count</th>\n",
       "      <th>duration_sum</th>\n",
       "      <th>subscription_type</th>\n",
       "      <th>minute_price</th>\n",
       "      <th>start_ride_price</th>\n",
       "      <th>subscription_fee</th>\n",
       "    </tr>\n",
       "  </thead>\n",
       "  <tbody>\n",
       "    <tr>\n",
       "      <th>0</th>\n",
       "      <td>1</td>\n",
       "      <td>1</td>\n",
       "      <td>7027.511294</td>\n",
       "      <td>2</td>\n",
       "      <td>42.0</td>\n",
       "      <td>ultra</td>\n",
       "      <td>6</td>\n",
       "      <td>0</td>\n",
       "      <td>199</td>\n",
       "    </tr>\n",
       "    <tr>\n",
       "      <th>1</th>\n",
       "      <td>1</td>\n",
       "      <td>4</td>\n",
       "      <td>754.159807</td>\n",
       "      <td>1</td>\n",
       "      <td>7.0</td>\n",
       "      <td>ultra</td>\n",
       "      <td>6</td>\n",
       "      <td>0</td>\n",
       "      <td>199</td>\n",
       "    </tr>\n",
       "    <tr>\n",
       "      <th>2</th>\n",
       "      <td>1</td>\n",
       "      <td>8</td>\n",
       "      <td>6723.470560</td>\n",
       "      <td>2</td>\n",
       "      <td>46.0</td>\n",
       "      <td>ultra</td>\n",
       "      <td>6</td>\n",
       "      <td>0</td>\n",
       "      <td>199</td>\n",
       "    </tr>\n",
       "    <tr>\n",
       "      <th>3</th>\n",
       "      <td>1</td>\n",
       "      <td>10</td>\n",
       "      <td>5809.911100</td>\n",
       "      <td>2</td>\n",
       "      <td>32.0</td>\n",
       "      <td>ultra</td>\n",
       "      <td>6</td>\n",
       "      <td>0</td>\n",
       "      <td>199</td>\n",
       "    </tr>\n",
       "    <tr>\n",
       "      <th>4</th>\n",
       "      <td>1</td>\n",
       "      <td>11</td>\n",
       "      <td>7003.499363</td>\n",
       "      <td>3</td>\n",
       "      <td>56.0</td>\n",
       "      <td>ultra</td>\n",
       "      <td>6</td>\n",
       "      <td>0</td>\n",
       "      <td>199</td>\n",
       "    </tr>\n",
       "    <tr>\n",
       "      <th>5</th>\n",
       "      <td>1</td>\n",
       "      <td>12</td>\n",
       "      <td>6751.629942</td>\n",
       "      <td>2</td>\n",
       "      <td>28.0</td>\n",
       "      <td>ultra</td>\n",
       "      <td>6</td>\n",
       "      <td>0</td>\n",
       "      <td>199</td>\n",
       "    </tr>\n",
       "    <tr>\n",
       "      <th>6</th>\n",
       "      <td>2</td>\n",
       "      <td>3</td>\n",
       "      <td>10187.723006</td>\n",
       "      <td>3</td>\n",
       "      <td>63.0</td>\n",
       "      <td>ultra</td>\n",
       "      <td>6</td>\n",
       "      <td>0</td>\n",
       "      <td>199</td>\n",
       "    </tr>\n",
       "    <tr>\n",
       "      <th>7</th>\n",
       "      <td>2</td>\n",
       "      <td>4</td>\n",
       "      <td>6164.381824</td>\n",
       "      <td>2</td>\n",
       "      <td>40.0</td>\n",
       "      <td>ultra</td>\n",
       "      <td>6</td>\n",
       "      <td>0</td>\n",
       "      <td>199</td>\n",
       "    </tr>\n",
       "    <tr>\n",
       "      <th>8</th>\n",
       "      <td>2</td>\n",
       "      <td>6</td>\n",
       "      <td>3255.338202</td>\n",
       "      <td>1</td>\n",
       "      <td>14.0</td>\n",
       "      <td>ultra</td>\n",
       "      <td>6</td>\n",
       "      <td>0</td>\n",
       "      <td>199</td>\n",
       "    </tr>\n",
       "    <tr>\n",
       "      <th>9</th>\n",
       "      <td>2</td>\n",
       "      <td>7</td>\n",
       "      <td>6780.722964</td>\n",
       "      <td>2</td>\n",
       "      <td>48.0</td>\n",
       "      <td>ultra</td>\n",
       "      <td>6</td>\n",
       "      <td>0</td>\n",
       "      <td>199</td>\n",
       "    </tr>\n",
       "    <tr>\n",
       "      <th>10</th>\n",
       "      <td>2</td>\n",
       "      <td>8</td>\n",
       "      <td>923.007439</td>\n",
       "      <td>1</td>\n",
       "      <td>7.0</td>\n",
       "      <td>ultra</td>\n",
       "      <td>6</td>\n",
       "      <td>0</td>\n",
       "      <td>199</td>\n",
       "    </tr>\n",
       "    <tr>\n",
       "      <th>11</th>\n",
       "      <td>2</td>\n",
       "      <td>10</td>\n",
       "      <td>2824.636598</td>\n",
       "      <td>1</td>\n",
       "      <td>19.0</td>\n",
       "      <td>ultra</td>\n",
       "      <td>6</td>\n",
       "      <td>0</td>\n",
       "      <td>199</td>\n",
       "    </tr>\n",
       "    <tr>\n",
       "      <th>12</th>\n",
       "      <td>2</td>\n",
       "      <td>12</td>\n",
       "      <td>3828.248580</td>\n",
       "      <td>1</td>\n",
       "      <td>12.0</td>\n",
       "      <td>ultra</td>\n",
       "      <td>6</td>\n",
       "      <td>0</td>\n",
       "      <td>199</td>\n",
       "    </tr>\n",
       "    <tr>\n",
       "      <th>13</th>\n",
       "      <td>3</td>\n",
       "      <td>1</td>\n",
       "      <td>3061.777147</td>\n",
       "      <td>1</td>\n",
       "      <td>13.0</td>\n",
       "      <td>ultra</td>\n",
       "      <td>6</td>\n",
       "      <td>0</td>\n",
       "      <td>199</td>\n",
       "    </tr>\n",
       "    <tr>\n",
       "      <th>14</th>\n",
       "      <td>3</td>\n",
       "      <td>2</td>\n",
       "      <td>5421.152016</td>\n",
       "      <td>2</td>\n",
       "      <td>39.0</td>\n",
       "      <td>ultra</td>\n",
       "      <td>6</td>\n",
       "      <td>0</td>\n",
       "      <td>199</td>\n",
       "    </tr>\n",
       "    <tr>\n",
       "      <th>15</th>\n",
       "      <td>3</td>\n",
       "      <td>4</td>\n",
       "      <td>2956.651632</td>\n",
       "      <td>1</td>\n",
       "      <td>21.0</td>\n",
       "      <td>ultra</td>\n",
       "      <td>6</td>\n",
       "      <td>0</td>\n",
       "      <td>199</td>\n",
       "    </tr>\n",
       "    <tr>\n",
       "      <th>16</th>\n",
       "      <td>3</td>\n",
       "      <td>5</td>\n",
       "      <td>9064.026918</td>\n",
       "      <td>3</td>\n",
       "      <td>63.0</td>\n",
       "      <td>ultra</td>\n",
       "      <td>6</td>\n",
       "      <td>0</td>\n",
       "      <td>199</td>\n",
       "    </tr>\n",
       "    <tr>\n",
       "      <th>17</th>\n",
       "      <td>3</td>\n",
       "      <td>7</td>\n",
       "      <td>10919.595403</td>\n",
       "      <td>3</td>\n",
       "      <td>67.0</td>\n",
       "      <td>ultra</td>\n",
       "      <td>6</td>\n",
       "      <td>0</td>\n",
       "      <td>199</td>\n",
       "    </tr>\n",
       "    <tr>\n",
       "      <th>18</th>\n",
       "      <td>3</td>\n",
       "      <td>9</td>\n",
       "      <td>2891.012822</td>\n",
       "      <td>1</td>\n",
       "      <td>23.0</td>\n",
       "      <td>ultra</td>\n",
       "      <td>6</td>\n",
       "      <td>0</td>\n",
       "      <td>199</td>\n",
       "    </tr>\n",
       "    <tr>\n",
       "      <th>19</th>\n",
       "      <td>3</td>\n",
       "      <td>12</td>\n",
       "      <td>2593.381928</td>\n",
       "      <td>1</td>\n",
       "      <td>13.0</td>\n",
       "      <td>ultra</td>\n",
       "      <td>6</td>\n",
       "      <td>0</td>\n",
       "      <td>199</td>\n",
       "    </tr>\n",
       "  </tbody>\n",
       "</table>\n",
       "</div>"
      ],
      "text/plain": [
       "    user_id  month  distance_sum  travels_count  duration_sum  \\\n",
       "0         1      1   7027.511294              2          42.0   \n",
       "1         1      4    754.159807              1           7.0   \n",
       "2         1      8   6723.470560              2          46.0   \n",
       "3         1     10   5809.911100              2          32.0   \n",
       "4         1     11   7003.499363              3          56.0   \n",
       "5         1     12   6751.629942              2          28.0   \n",
       "6         2      3  10187.723006              3          63.0   \n",
       "7         2      4   6164.381824              2          40.0   \n",
       "8         2      6   3255.338202              1          14.0   \n",
       "9         2      7   6780.722964              2          48.0   \n",
       "10        2      8    923.007439              1           7.0   \n",
       "11        2     10   2824.636598              1          19.0   \n",
       "12        2     12   3828.248580              1          12.0   \n",
       "13        3      1   3061.777147              1          13.0   \n",
       "14        3      2   5421.152016              2          39.0   \n",
       "15        3      4   2956.651632              1          21.0   \n",
       "16        3      5   9064.026918              3          63.0   \n",
       "17        3      7  10919.595403              3          67.0   \n",
       "18        3      9   2891.012822              1          23.0   \n",
       "19        3     12   2593.381928              1          13.0   \n",
       "\n",
       "   subscription_type  minute_price  start_ride_price  subscription_fee  \n",
       "0              ultra             6                 0               199  \n",
       "1              ultra             6                 0               199  \n",
       "2              ultra             6                 0               199  \n",
       "3              ultra             6                 0               199  \n",
       "4              ultra             6                 0               199  \n",
       "5              ultra             6                 0               199  \n",
       "6              ultra             6                 0               199  \n",
       "7              ultra             6                 0               199  \n",
       "8              ultra             6                 0               199  \n",
       "9              ultra             6                 0               199  \n",
       "10             ultra             6                 0               199  \n",
       "11             ultra             6                 0               199  \n",
       "12             ultra             6                 0               199  \n",
       "13             ultra             6                 0               199  \n",
       "14             ultra             6                 0               199  \n",
       "15             ultra             6                 0               199  \n",
       "16             ultra             6                 0               199  \n",
       "17             ultra             6                 0               199  \n",
       "18             ultra             6                 0               199  \n",
       "19             ultra             6                 0               199  "
      ]
     },
     "execution_count": 127,
     "metadata": {},
     "output_type": "execute_result"
    }
   ],
   "source": [
    "travels.head(20)"
   ]
  },
  {
   "cell_type": "code",
   "execution_count": 128,
   "id": "c8eda02d",
   "metadata": {},
   "outputs": [],
   "source": [
    "#функция для подсчёта выручки\n",
    "def money(row):   \n",
    "    return row['start_ride_price'] * row['travels_count'] + row['minute_price'] * row['duration_sum'] + row['subscription_fee']"
   ]
  },
  {
   "cell_type": "code",
   "execution_count": 129,
   "id": "391c35f7",
   "metadata": {
    "scrolled": false
   },
   "outputs": [
    {
     "data": {
      "text/html": [
       "<div>\n",
       "<style scoped>\n",
       "    .dataframe tbody tr th:only-of-type {\n",
       "        vertical-align: middle;\n",
       "    }\n",
       "\n",
       "    .dataframe tbody tr th {\n",
       "        vertical-align: top;\n",
       "    }\n",
       "\n",
       "    .dataframe thead th {\n",
       "        text-align: right;\n",
       "    }\n",
       "</style>\n",
       "<table border=\"1\" class=\"dataframe\">\n",
       "  <thead>\n",
       "    <tr style=\"text-align: right;\">\n",
       "      <th></th>\n",
       "      <th>user_id</th>\n",
       "      <th>month</th>\n",
       "      <th>distance_sum</th>\n",
       "      <th>travels_count</th>\n",
       "      <th>duration_sum</th>\n",
       "      <th>subscription_type</th>\n",
       "      <th>minute_price</th>\n",
       "      <th>start_ride_price</th>\n",
       "      <th>subscription_fee</th>\n",
       "      <th>profit_month</th>\n",
       "    </tr>\n",
       "  </thead>\n",
       "  <tbody>\n",
       "    <tr>\n",
       "      <th>0</th>\n",
       "      <td>1</td>\n",
       "      <td>1</td>\n",
       "      <td>7027.511294</td>\n",
       "      <td>2</td>\n",
       "      <td>42.0</td>\n",
       "      <td>ultra</td>\n",
       "      <td>6</td>\n",
       "      <td>0</td>\n",
       "      <td>199</td>\n",
       "      <td>451.0</td>\n",
       "    </tr>\n",
       "    <tr>\n",
       "      <th>1</th>\n",
       "      <td>1</td>\n",
       "      <td>4</td>\n",
       "      <td>754.159807</td>\n",
       "      <td>1</td>\n",
       "      <td>7.0</td>\n",
       "      <td>ultra</td>\n",
       "      <td>6</td>\n",
       "      <td>0</td>\n",
       "      <td>199</td>\n",
       "      <td>241.0</td>\n",
       "    </tr>\n",
       "    <tr>\n",
       "      <th>2</th>\n",
       "      <td>1</td>\n",
       "      <td>8</td>\n",
       "      <td>6723.470560</td>\n",
       "      <td>2</td>\n",
       "      <td>46.0</td>\n",
       "      <td>ultra</td>\n",
       "      <td>6</td>\n",
       "      <td>0</td>\n",
       "      <td>199</td>\n",
       "      <td>475.0</td>\n",
       "    </tr>\n",
       "    <tr>\n",
       "      <th>3</th>\n",
       "      <td>1</td>\n",
       "      <td>10</td>\n",
       "      <td>5809.911100</td>\n",
       "      <td>2</td>\n",
       "      <td>32.0</td>\n",
       "      <td>ultra</td>\n",
       "      <td>6</td>\n",
       "      <td>0</td>\n",
       "      <td>199</td>\n",
       "      <td>391.0</td>\n",
       "    </tr>\n",
       "    <tr>\n",
       "      <th>4</th>\n",
       "      <td>1</td>\n",
       "      <td>11</td>\n",
       "      <td>7003.499363</td>\n",
       "      <td>3</td>\n",
       "      <td>56.0</td>\n",
       "      <td>ultra</td>\n",
       "      <td>6</td>\n",
       "      <td>0</td>\n",
       "      <td>199</td>\n",
       "      <td>535.0</td>\n",
       "    </tr>\n",
       "    <tr>\n",
       "      <th>5</th>\n",
       "      <td>1</td>\n",
       "      <td>12</td>\n",
       "      <td>6751.629942</td>\n",
       "      <td>2</td>\n",
       "      <td>28.0</td>\n",
       "      <td>ultra</td>\n",
       "      <td>6</td>\n",
       "      <td>0</td>\n",
       "      <td>199</td>\n",
       "      <td>367.0</td>\n",
       "    </tr>\n",
       "    <tr>\n",
       "      <th>6</th>\n",
       "      <td>2</td>\n",
       "      <td>3</td>\n",
       "      <td>10187.723006</td>\n",
       "      <td>3</td>\n",
       "      <td>63.0</td>\n",
       "      <td>ultra</td>\n",
       "      <td>6</td>\n",
       "      <td>0</td>\n",
       "      <td>199</td>\n",
       "      <td>577.0</td>\n",
       "    </tr>\n",
       "    <tr>\n",
       "      <th>7</th>\n",
       "      <td>2</td>\n",
       "      <td>4</td>\n",
       "      <td>6164.381824</td>\n",
       "      <td>2</td>\n",
       "      <td>40.0</td>\n",
       "      <td>ultra</td>\n",
       "      <td>6</td>\n",
       "      <td>0</td>\n",
       "      <td>199</td>\n",
       "      <td>439.0</td>\n",
       "    </tr>\n",
       "    <tr>\n",
       "      <th>8</th>\n",
       "      <td>2</td>\n",
       "      <td>6</td>\n",
       "      <td>3255.338202</td>\n",
       "      <td>1</td>\n",
       "      <td>14.0</td>\n",
       "      <td>ultra</td>\n",
       "      <td>6</td>\n",
       "      <td>0</td>\n",
       "      <td>199</td>\n",
       "      <td>283.0</td>\n",
       "    </tr>\n",
       "    <tr>\n",
       "      <th>9</th>\n",
       "      <td>2</td>\n",
       "      <td>7</td>\n",
       "      <td>6780.722964</td>\n",
       "      <td>2</td>\n",
       "      <td>48.0</td>\n",
       "      <td>ultra</td>\n",
       "      <td>6</td>\n",
       "      <td>0</td>\n",
       "      <td>199</td>\n",
       "      <td>487.0</td>\n",
       "    </tr>\n",
       "  </tbody>\n",
       "</table>\n",
       "</div>"
      ],
      "text/plain": [
       "   user_id  month  distance_sum  travels_count  duration_sum  \\\n",
       "0        1      1   7027.511294              2          42.0   \n",
       "1        1      4    754.159807              1           7.0   \n",
       "2        1      8   6723.470560              2          46.0   \n",
       "3        1     10   5809.911100              2          32.0   \n",
       "4        1     11   7003.499363              3          56.0   \n",
       "5        1     12   6751.629942              2          28.0   \n",
       "6        2      3  10187.723006              3          63.0   \n",
       "7        2      4   6164.381824              2          40.0   \n",
       "8        2      6   3255.338202              1          14.0   \n",
       "9        2      7   6780.722964              2          48.0   \n",
       "\n",
       "  subscription_type  minute_price  start_ride_price  subscription_fee  \\\n",
       "0             ultra             6                 0               199   \n",
       "1             ultra             6                 0               199   \n",
       "2             ultra             6                 0               199   \n",
       "3             ultra             6                 0               199   \n",
       "4             ultra             6                 0               199   \n",
       "5             ultra             6                 0               199   \n",
       "6             ultra             6                 0               199   \n",
       "7             ultra             6                 0               199   \n",
       "8             ultra             6                 0               199   \n",
       "9             ultra             6                 0               199   \n",
       "\n",
       "   profit_month  \n",
       "0         451.0  \n",
       "1         241.0  \n",
       "2         475.0  \n",
       "3         391.0  \n",
       "4         535.0  \n",
       "5         367.0  \n",
       "6         577.0  \n",
       "7         439.0  \n",
       "8         283.0  \n",
       "9         487.0  "
      ]
     },
     "execution_count": 129,
     "metadata": {},
     "output_type": "execute_result"
    }
   ],
   "source": [
    "travels['profit_month'] = travels.apply(money, axis=1)\n",
    "travels.head(10)"
   ]
  },
  {
   "cell_type": "markdown",
   "id": "cf43611d",
   "metadata": {},
   "source": [
    "<div class=\"alert alert-success\"  style=\"border-radius: 15px; border: 1px solid \">Вывод:\n",
    "    \n",
    "Был создан датафрейм с агрегированными данными о поездках со столбцами суммарное расстояние, количество поездок и суммарное время для каждого пользователя за каждый месяц, помесячной выручкой."
   ]
  },
  {
   "cell_type": "markdown",
   "id": "41545ac0",
   "metadata": {},
   "source": [
    "#### Шаг 6. Проверка гипотез"
   ]
  },
  {
   "cell_type": "markdown",
   "id": "68494155",
   "metadata": {},
   "source": [
    "*6.1 Важно понять, тратят ли пользователи с подпиской больше времени на поездки? Если да, то пользователи с подпиской могут быть «выгоднее» для компании. Проверьте гипотезу. Используйте исходные данные о продолжительности каждой сессии — отдельно для подписчиков и тех, у кого нет подписки.*"
   ]
  },
  {
   "cell_type": "markdown",
   "id": "a0a37407",
   "metadata": {},
   "source": [
    "<div class=\"alert alert-info\"  style=\"border-radius: 15px; border: 1px solid \">\n",
    "\n",
    "**Нулевая гипотеза:** пользователи с подпиской и пользователи без подписки тратят в среднем одинаковое время на поездки.\n",
    "\n",
    "\n",
    "**Альтернативная гипотеза:** пользователи с подпиской тратят больше времени в среднем на поездки, чем пользователи без подписки.\n",
    "\n",
    "\n",
    "Для проверки гипотезы воспользуется односторонним t-тестом Стьюдента для двух независимых выборки на уровне значимости 0.01. "
   ]
  },
  {
   "cell_type": "code",
   "execution_count": 130,
   "id": "0d7a384a",
   "metadata": {},
   "outputs": [
    {
     "name": "stdout",
     "output_type": "stream",
     "text": [
      "6500\n",
      "11568\n",
      "Минимальное:  3.76 максимальное:  40.82 стандартное отклонение:  5.57\n",
      "Минимальное:  0.5 максимальное:  34.95 стандартное отклонение:  6.33\n"
     ]
    },
    {
     "data": {
      "text/plain": [
       "12.006319115323851"
      ]
     },
     "execution_count": 130,
     "metadata": {},
     "output_type": "execute_result"
    }
   ],
   "source": [
    "print(df_ultra.shape[0])\n",
    "print(df_free.shape[0])\n",
    "df_free.shape[0] / df_ultra.shape[0]\n",
    "print('Минимальное: ', round(df_ultra['duration'].min(), 2), \n",
    "      'максимальное: ', round(df_ultra['duration'].max(), 2), \n",
    "      'стандартное отклонение: ', round(df_ultra['duration'].std(), 2))\n",
    "print('Минимальное: ', round(df_free['duration'].min(), 2), \n",
    "      'максимальное: ', round(df_free['duration'].max(), 2),\n",
    "     'стандартное отклонение: ', round(df_free['duration'].std(), 2))\n",
    "\n",
    "(round(df_free['duration'].std(), 2) - round(df_ultra['duration'].std(), 2)) / round(df_free['duration'].std(), 2) * 100"
   ]
  },
  {
   "cell_type": "markdown",
   "id": "f9f0e2e4",
   "metadata": {},
   "source": [
    "<div class=\"alert alert-info\"  style=\"border-radius: 15px; border: 1px solid \">\n",
    "Поскольку сравниваемые выборки различаются размером (в 1.8 раза), категории пользователей разные (с подпиской и без), размах значений у них разный, стандартное отклонение различается на 12%, я возьму критерий без предположения о равенстве дисперсий."
   ]
  },
  {
   "cell_type": "code",
   "execution_count": 131,
   "id": "24c9b488",
   "metadata": {
    "scrolled": true
   },
   "outputs": [
    {
     "name": "stdout",
     "output_type": "stream",
     "text": [
      "p-значение: 5.6757813771289775e-37\n",
      "Отвергаем нулевую гипотезу\n"
     ]
    }
   ],
   "source": [
    "alpha = 0.01 # уровень статистической значимости\n",
    "# если p-value окажется меньше него, отвергнем гипотезу\n",
    "\n",
    "results = st.ttest_ind(df_ultra['duration'], df_free['duration'], alternative='greater', equal_var=False)\n",
    "\n",
    "print('p-значение:', results.pvalue)\n",
    "\n",
    "if results.pvalue < alpha:\n",
    "    print('Отвергаем нулевую гипотезу')\n",
    "else:\n",
    "    print('Не получилось отвергнуть нулевую гипотезу')"
   ]
  },
  {
   "cell_type": "markdown",
   "id": "be573309",
   "metadata": {},
   "source": [
    "<div class=\"alert alert-success\"  style=\"border-radius: 15px; border: 1px solid \">\n",
    "\n",
    "Получили очень маленькое p-значение, то есть вероятность получить такие значения при верной нулевой гипотезы, очень мала. Поэтому мы отвергаем нулевую гипотезу и не отклоняем альтернативную на уровне значимости 0.01. Другими словами, пользователи с подпиской тратят больше времени на поездки."
   ]
  },
  {
   "cell_type": "markdown",
   "id": "757ce304",
   "metadata": {},
   "source": [
    "*6.2 Расстояние одной поездки в 3130 метров — оптимальное с точки зрения износа самоката. Можно ли сказать, что среднее расстояние, которое проезжают пользователи с подпиской за одну поездку, не превышает 3130 метров? Проверьте гипотезу и сделайте выводы.*"
   ]
  },
  {
   "cell_type": "markdown",
   "id": "4b06d864",
   "metadata": {},
   "source": [
    "<div class=\"alert alert-info\"  style=\"border-radius: 15px; border: 1px solid \">\n",
    "\n",
    "**Нулевая гипотеза:** пользователи с подпиской за одну поездку в среднем проезжают 3130 метров.\n",
    "\n",
    "**Альтернативная гипотеза:** пользователи с подпиской за одну поездку проезжают больше 3130 метров.\n",
    "\n",
    "Для проверки гипотезы воспользуется односторонним t-тестом Стьюдента для одной выборки на уровне значимости 0.01."
   ]
  },
  {
   "cell_type": "code",
   "execution_count": 132,
   "id": "a7b65647",
   "metadata": {},
   "outputs": [
    {
     "name": "stdout",
     "output_type": "stream",
     "text": [
      "p-значение: 0.9195368847849785\n",
      "Не получилось отвергнуть нулевую гипотезу\n"
     ]
    }
   ],
   "source": [
    "alpha = 0.051 # уровень статистической значимости\n",
    "# если p-value окажется меньше него, отвергнем гипотезу\n",
    "\n",
    "results = st.ttest_1samp(df_ultra['distance'], 3130, alternative='greater')\n",
    "\n",
    "print('p-значение:', results.pvalue)\n",
    "\n",
    "if results.pvalue < alpha:\n",
    "    print('Отвергаем нулевую гипотезу')\n",
    "else:\n",
    "    print('Не получилось отвергнуть нулевую гипотезу')"
   ]
  },
  {
   "cell_type": "markdown",
   "id": "7c64281f",
   "metadata": {},
   "source": [
    "<div class=\"alert alert-success\"  style=\"border-radius: 15px; border: 1px solid \">\n",
    "    \n",
    "p-значение: 0.9 > 0.01, значит, нулевую гипотезу нельзя отвергать, то есть пользователи с подпиской за одну поездку в среднем проезжают 3130 метров. К слову, это и медианное значение выборки. То есть среднее расстояние в пределах нормы, а, значит, самокаты не будут сильно изнашиваться."
   ]
  },
  {
   "cell_type": "markdown",
   "id": "c8008e48",
   "metadata": {},
   "source": [
    "*6.3. Проверьте гипотезу о том, будет ли помесячная выручка от пользователей с подпиской по месяцам выше, чем выручка от пользователей без подписки. Сделайте вывод.*"
   ]
  },
  {
   "cell_type": "markdown",
   "id": "56cec5c8",
   "metadata": {},
   "source": [
    "<div class=\"alert alert-info\"  style=\"border-radius: 15px; border: 1px solid \">\n",
    "\n",
    "**Нулевая гипотеза:** средняя помесячная выручка от пользователей с подпиской по месяцам не отличается от выручки от пользователей без подписки.\n",
    "\n",
    "**Альтернативная гипотеза:** средняя помесячная выручка от пользователей с подпиской по месяцам выше, чем выручка от пользователей без подписки.\n",
    "\n",
    "Для проверки гипотезы воспользуется односторонним t-тестом Стьюдента для двух независимых выборки на уровне значимости 0.01."
   ]
  },
  {
   "cell_type": "code",
   "execution_count": 133,
   "id": "e29b5bcd",
   "metadata": {},
   "outputs": [
    {
     "name": "stdout",
     "output_type": "stream",
     "text": [
      "6500\n",
      "11568\n",
      "Минимальное:  223.0 максимальное:  955.0 стандартное отклонение:  88.26\n",
      "Минимальное:  58.0 максимальное:  1444.0 стандартное отклонение:  183.87\n"
     ]
    },
    {
     "data": {
      "text/plain": [
       "51.998694729972264"
      ]
     },
     "execution_count": 133,
     "metadata": {},
     "output_type": "execute_result"
    }
   ],
   "source": [
    "print(df_ultra.shape[0])\n",
    "print(df_free.shape[0])\n",
    "df_free.shape[0] / df_ultra.shape[0]\n",
    "print('Минимальное: ', round(travels.loc[ travels['subscription_type'] == 'ultra','profit_month'].min(), 2), \n",
    "      'максимальное: ', round(travels.loc[ travels['subscription_type'] == 'ultra','profit_month'].max(), 2), \n",
    "      'стандартное отклонение: ', round(travels.loc[ travels['subscription_type'] == 'ultra','profit_month'].std(), 2))\n",
    "print('Минимальное: ', round(travels.loc[ travels['subscription_type'] == 'free','profit_month'].min(), 2), \n",
    "      'максимальное: ', round(travels.loc[ travels['subscription_type'] == 'free','profit_month'].max(), 2),\n",
    "     'стандартное отклонение: ', round(travels.loc[ travels['subscription_type'] == 'free','profit_month'].std(), 2))\n",
    "\n",
    "(round(travels.loc[ travels['subscription_type'] == 'free','profit_month'].std(), 2) - round(travels.loc[ travels['subscription_type'] == 'ultra','profit_month'].std(), 2)) / round(travels.loc[ travels['subscription_type'] == 'free','profit_month'].std(), 2) * 100"
   ]
  },
  {
   "cell_type": "markdown",
   "id": "f8b8cdb7",
   "metadata": {},
   "source": [
    "<div class=\"alert alert-info\"  style=\"border-radius: 15px; border: 1px solid \">\n",
    "\n",
    "Поскольку сравниваемые выборки различаются размером (в 1.8 раза), категории пользователей разные (с подпиской и без), размах значений у них разный, стандартное отклонение различается на 52%, я возьму критерий без предположения о равенстве дисперсий."
   ]
  },
  {
   "cell_type": "code",
   "execution_count": 134,
   "id": "10628aeb",
   "metadata": {},
   "outputs": [
    {
     "name": "stdout",
     "output_type": "stream",
     "text": [
      "p-значение: 8.874140893976874e-40\n",
      "Отвергаем нулевую гипотезу\n"
     ]
    }
   ],
   "source": [
    "alpha = 0.01 # уровень статистической значимости\n",
    "# если p-value окажется меньше него, отвергнем гипотезу\n",
    "\n",
    "results = st.ttest_ind(travels.loc[ travels['subscription_type'] == 'ultra','profit_month'], \n",
    "                       travels.loc[ travels['subscription_type'] == 'free','profit_month'], \n",
    "                       alternative='greater', equal_var=False)\n",
    "\n",
    "print('p-значение:', results.pvalue)\n",
    "\n",
    "if results.pvalue < alpha:\n",
    "    print('Отвергаем нулевую гипотезу')\n",
    "else:\n",
    "    print('Не получилось отвергнуть нулевую гипотезу')"
   ]
  },
  {
   "cell_type": "markdown",
   "id": "53abc1f0",
   "metadata": {},
   "source": [
    "<div class=\"alert alert-success\"  style=\"border-radius: 15px; border: 1px solid \">\n",
    "\n",
    "Получили очень маленькое p-значение, то есть вероятность получить такие значения при верной нулевой гипотезы, очень мала. Поэтому мы отвергаем нулевую гипотезу и не отклоняем альтернативную на уровне значимости 0.01. Другими словами, помесячная выручка от пользователей с подпиской по месяцам выше, чем выручка от пользователей без подписки."
   ]
  },
  {
   "cell_type": "markdown",
   "id": "e35befff",
   "metadata": {},
   "source": [
    "*6.4 Представьте такую ситуацию: техническая команда сервиса обновила сервера, с которыми взаимодействует мобильное приложение. Она надеется, что из-за этого количество обращений в техподдержку значимо снизилось. Некоторый файл содержит для каждого пользователя данные о количестве обращений до обновления и после него. Какой тест вам понадобился бы для проверки этой гипотезы?*"
   ]
  },
  {
   "cell_type": "markdown",
   "id": "c040e60a",
   "metadata": {},
   "source": [
    "<div class=\"alert alert-success\"  style=\"border-radius: 15px; border: 1px solid \">\n",
    "\n",
    "Поскольку одна и та же переменная (количество обращений в техподдержку) измеряется на одной и той же выборки, то нужно воспользоваться t-тестом Стьюдента для зависимых выборок. Поскольку важно узнать именно, снизилось ли значение, то нужно воспользоваться односторонним критерием."
   ]
  },
  {
   "cell_type": "markdown",
   "id": "87e33179",
   "metadata": {},
   "source": [
    "<div class=\"alert alert-success\"  style=\"border-radius: 15px; border: 1px solid \">\n",
    "\n",
    "**Вывод:**\n",
    "    \n",
    "Статистические критерии подтверждают что:\n",
    "* пользователи с подпиской тратят больше времени на поездки.\n",
    "* пользователи с подпиской за одну поездку в среднем проезжают 3130 метров.\n",
    "* помесячная выручка от пользователей с подпиской по месяцам выше, чем выручка от пользователей без подписки.\n"
   ]
  },
  {
   "cell_type": "markdown",
   "id": "61213c5e",
   "metadata": {},
   "source": [
    "#### Шаг 7. Распределения"
   ]
  },
  {
   "cell_type": "markdown",
   "id": "84cf5bdf",
   "metadata": {},
   "source": [
    "*7.1 Отделу маркетинга GoFast поставили задачу: нужно провести акцию с раздачей промокодов на один бесплатный месяц подписки, в рамках которой как минимум 100 существующих клиентов должны продлить эту подписку. То есть по завершении периода действия подписки пользователь может либо отказаться от неё, либо продлить, совершив соответствующий платёж. \n",
    "Эта акция уже проводилась ранее и по итогу выяснилось, что после бесплатного пробного периода подписку продлевают \n",
    "10% пользователей. Выясните, какое минимальное количество промокодов нужно разослать, чтобы вероятность не выполнить план была примерно 5 %. Подберите параметры распределения, описывающего эту ситуацию, постройте график распределения и сформулируйте ответ на вопрос о количестве промокодов.*"
   ]
  },
  {
   "cell_type": "markdown",
   "id": "a9be6009",
   "metadata": {},
   "source": [
    "<div class=\"alert alert-info\"  style=\"border-radius: 15px; border: 1px solid \">\n",
    "\n",
    "Так как в эксперименте, продлит ли клиент подписку возможно только 2 исхода: или продлит, или нет, то это эксперимент Бернулли. Так как у нас не один клиент, а несколько независимых клиентов - то это схема Бернулли, или биномиальное распределение. Вероятность успеха p = 0.1, следовательно, вероятность неудачи q = 1 - p = 0.9."
   ]
  },
  {
   "cell_type": "code",
   "execution_count": 135,
   "id": "d9cd91fe",
   "metadata": {},
   "outputs": [
    {
     "data": {
      "image/png": "[encoded data removed]",
      "text/plain": [
       "<Figure size 432x288 with 1 Axes>"
      ]
     },
     "metadata": {
      "needs_background": "light"
     },
     "output_type": "display_data"
    }
   ],
   "source": [
    "p = 0.1\n",
    "n = 1000\n",
    "\n",
    "distr = []\n",
    "\n",
    "for k in range(0, n + 1):\n",
    "    choose = factorial(n) / (factorial(k) * factorial(n - k))\n",
    "    prob = choose * p**k * (1-p)**(n-k) \n",
    "    distr.append(prob)\n",
    "       \n",
    "plt.bar(range(0, n + 1), distr)\n",
    "plt.title('Гистограмма относительных частот количества продленных подписок')\n",
    "plt.xlabel('Количество продленных подписок')\n",
    "plt.ylabel('Относительная частота');"
   ]
  },
  {
   "cell_type": "code",
   "execution_count": 136,
   "id": "ab30b9a5",
   "metadata": {
    "scrolled": true
   },
   "outputs": [
    {
     "name": "stdout",
     "output_type": "stream",
     "text": [
      "0.0507443655394362\n"
     ]
    }
   ],
   "source": [
    "# задаём параметры биномиального распределения\n",
    "n = 1160\n",
    "p = 0.1\n",
    "\n",
    "distr = st.binom(n, p) \n",
    "# считаем вероятность хвоста слева от 100\n",
    "result = distr.cdf(99)\n",
    "print(result)"
   ]
  },
  {
   "cell_type": "markdown",
   "id": "53175b9d",
   "metadata": {},
   "source": [
    "<div class=\"alert alert-success\"  style=\"border-radius: 15px; border: 1px solid \">\n",
    "\n",
    "При раздаче 1160 промокодов вероятность не выполнить план о продлении подписки 100 клиентов меньше 5%."
   ]
  },
  {
   "cell_type": "markdown",
   "id": "dbf85bf6",
   "metadata": {},
   "source": [
    "<div class=\"alert alert-success\" style=\"border-radius: 15px; box-shadow: 4px 4px 4px; border: 1px solid \">\n",
    "<h2> Комментарий ревьюера v_2: <a class=\"tocSkip\"> </h2>\n",
    "    \n",
    "✅ Чтобы рассчитать минимальное количество промокодов, лучше в цикле выбрать какое-нибудь количество промокодов (n) и увеличивать его на единицу, пока binom.cdf не станет равным или меньше 0.05 (в аргументах функции cdf стоит указать 99, n и p). "
   ]
  },
  {
   "cell_type": "markdown",
   "id": "2bab633a",
   "metadata": {},
   "source": [
    "*Отдел маркетинга рассылает клиентам push-уведомления в мобильном приложении. Клиенты могут открыть его или не открывать. Известно, что уведомления открывают около 40 % получивших клиентов. Отдел планирует разослать 1 млн уведомлений. С помощью аппроксимации постройте примерный график распределения и оцените вероятность того, что уведомление откроют не более 399,5 тыс. пользователей.*"
   ]
  },
  {
   "cell_type": "markdown",
   "id": "264d8714",
   "metadata": {},
   "source": [
    "<div class=\"alert alert-info\"  style=\"border-radius: 15px; border: 1px solid \">\n",
    "\n",
    "Так как в эксперименте возможно только 2 исхода: клиент может открыть уведомление или нет, то это эксперимент Бернулли. Так как у нас не один клиент, а несколько независимых клиентов - то это схема Бернулли, или биномиальное распределение. Вероятность успеха p = 0.4, следовательно, вероятность неудачи q = 1 - p = 0.6. Так как n очень велико, а вероятность успеха близка к 0.5, то это распределение можно аппроксимировать нормальным распределением. "
   ]
  },
  {
   "cell_type": "code",
   "execution_count": 137,
   "id": "029e33cd",
   "metadata": {},
   "outputs": [
    {
     "name": "stdout",
     "output_type": "stream",
     "text": [
      "0.15371708296369768\n"
     ]
    }
   ],
   "source": [
    "# задаём параметры биномиального распределения\n",
    "n = 1000000\n",
    "p = 0.4\n",
    "\n",
    "# зададим мат.ожидание и ст.отклонение нормального распределения равными\n",
    "# мат.ожиданию и ст.отклонению биномиального распределения\n",
    "mu = n * p\n",
    "sigma = sqrt(n * p * (1 - p))\n",
    "\n",
    "# задаём нормальное распределение\n",
    "distr = st.norm(mu, sigma) \n",
    "\n",
    "# считаем вероятность хвоста слева от 399.5 тысяч\n",
    "result = distr.cdf(399500)\n",
    "print(result)\n"
   ]
  },
  {
   "cell_type": "code",
   "execution_count": 138,
   "id": "310d3f23",
   "metadata": {},
   "outputs": [
    {
     "data": {
      "image/png": "[encoded data removed]",
      "text/plain": [
       "<Figure size 432x288 with 1 Axes>"
      ]
     },
     "metadata": {
      "needs_background": "light"
     },
     "output_type": "display_data"
    }
   ],
   "source": [
    "n = 1000000\n",
    "p = 0.4\n",
    "\n",
    "lst = []\n",
    "\n",
    "mu = n * p\n",
    "sigma = sqrt(n * p * (1 - p))\n",
    "distr = st.norm(mu, sigma)\n",
    "\n",
    "for k in range(int(mu-3*sigma), int(mu + 3*sigma)):\n",
    "    lst.append(distr.pdf(k))\n",
    "\n",
    "plt.bar(range(int(mu-3*sigma), int(mu + 3*sigma)), lst)\n",
    "plt.title('Полигон относительных частот количества открытых уведомлений')\n",
    "plt.xlabel('Количество открытых уведомлений')\n",
    "plt.ylabel('Относительная частота');"
   ]
  },
  {
   "cell_type": "markdown",
   "id": "a081182a",
   "metadata": {},
   "source": [
    "<div class=\"alert alert-success\"  style=\"border-radius: 15px; border: 1px solid \">\n",
    "\n",
    "Вероятность того, что уведомление откроют не более 399,5 тыс. пользователей, равна 15.4%."
   ]
  },
  {
   "cell_type": "markdown",
   "id": "d9440978",
   "metadata": {},
   "source": [
    "<div class=\"alert alert-success\"  style=\"border-radius: 15px; border: 1px solid \">\n",
    "\n",
    "**Вывод:** \n",
    "1. Для анализа был предоставлена 3 набора данных. В датасете users 5 столбцов и 1565 строк, пропущенных значений нет. 3 столбцы имеют тип данных object, 2 - int64.  В наборе данных есть явные дубликаты. В датасете rides 4 столбца и 18068 строк, пропущенных значений нет. 2 столбца имеют тип данных float64, 1 - int64, 1 - object. Столбец object нужно будет привести к типу данных даты. Явных дубликатов нет. Набор данных subscriptions_go представляет собой сводную таблицу о типа подписках и ее характеристиках. Набор состоит из двух строк (двух типов подписки) и 4 столбцов. Дубликатов и пропущенных значений нет. В ходе исследования были намечены столбцы для изменения типа данных, а также выявлены столбцы с аномальными значениями.\n",
    "2. На этапе предобработки данных были изменены типы данных столбцов, добавлены новые. Явные дубликаты были удалены, неявных дубликтов нет.\n",
    "3. Исследовательский анализ данных показал, что чаще всего среди городов клиентов встречается Пятигорск, реже - Москва. При этом пользователей без подписки всего на 9% больше, чем с подпиской. Возраст клиентов от 12 до 43 лет, в среднем это люди 25 лет. Около 50% клиентов составляют возрастную группу от 22 до 28 лет. Медианное расстояние поездки - 3133 м, минимальное - меньше метра, максимальное свыше 7 км. Кроме того, на гистограмме расстояния поездки два выраженных всплеска - смесь двух распределений: от 0 до 1500 м, и от 1500 м до 7300м. Это может быть вызвано тем, что в первом случае люди пользуются самокатом для того, чтобы попробовать / повеселиться. Во втором случае люди пользуются самокатом для быстрого перемещения по городу. Минимальное время поездки - полминуты, максимальное - 40 минут. Медианное время -  17.7 минут. 50% всех поездок длятся от 13.6 до 21.7 минут. На диаграмме рассеяния для продолжительности и расстояния поездки видна интересная зависимость, для продолжительности поездки 1-2 минуты расстояние поездки занимало от 4 до 7 км. На это нужно обратить внимание заказчика, возможен сбой работы самокатов, геосистемы, обмана клиентами и др. Эти данные было решено не удалять.\n",
    "4. Все три таблицы были объединены в одну. Таблицы users и rides были объединены по столбцу user_id, получившая таблица была объединена с таблицей subscription по столбцу subscription_type. Были созданы еще 2 таблицы для пользователей с подпиской и без нее. Все объединения и разбиения таблиц были проведены корректно. Экстремальные значение продолжительности поездок у пользователей с подпиской и без нее различается: минимальное время 3.7 минуты и 0.5 минуты, максимальное - 41 минуты и 35 минут, соответственно. Медианное время также отличается: у пользователей с подпиской оно больше: 18.2 против 17.3 минуты у пользователей без подписки. Экстремальные значения расстояния также отличаются. У пользователей с подпиской: минимальное 244 метра, максимальное - 5.7 км, без подписки: минимальное - 0.8 метра, максимальное - 7.2 км. Тем не менее медианное расстояние совпадает - 3.1 км.\n",
    "5. Был создан датафрейм с агрегированными данными о поездках со столбцами суммарное расстояние, количество поездок и суммарное время для каждого пользователя за каждый месяц, помесячной выручкой.\n",
    "6. Статистические критерии подтверждают что:\n",
    "* пользователи с подпиской тратят больше времени на поездки.\n",
    "* пользователи с подпиской за одну поездку в среднем проезжают 3130 метров, а, значит, среднее расстояние в пределах нормы, и самокаты не будут сильно изнашиваться.\n",
    "* помесячная выручка от пользователей с подпиской по месяцам выше, чем выручка от пользователей без подписки, поэтому пользователи с подпиской более выгодня для сервиса аренды самокатов.\n",
    "    \n",
    "    Пользователи с подпиской выгоднее.\n",
    "7. При раздаче 1160 промокодов вероятность не выполнить план о продлении подписки 100 клиентов меньше 5%. Вероятность того, что уведомление откроют не более 399.5 тыс. пользователей из 1 млн, равна 15.4%.\n",
    "\n"
   ]
  }
 ],
 "metadata": {
  "ExecuteTimeLog": [
   {
    "duration": 853,
    "start_time": "2024-02-08T04:35:12.420Z"
   },
   {
    "duration": 249,
    "start_time": "2024-02-08T04:36:22.551Z"
   },
   {
    "duration": 10,
    "start_time": "2024-02-08T04:36:32.544Z"
   },
   {
    "duration": 89,
    "start_time": "2024-02-08T04:36:43.284Z"
   },
   {
    "duration": 9,
    "start_time": "2024-02-08T04:36:44.193Z"
   },
   {
    "duration": 11,
    "start_time": "2024-02-08T04:37:02.551Z"
   },
   {
    "duration": 5,
    "start_time": "2024-02-08T04:37:44.513Z"
   },
   {
    "duration": 65,
    "start_time": "2024-02-08T04:40:27.641Z"
   },
   {
    "duration": 5,
    "start_time": "2024-02-08T04:40:32.430Z"
   },
   {
    "duration": 10,
    "start_time": "2024-02-08T04:40:37.920Z"
   },
   {
    "duration": 12,
    "start_time": "2024-02-08T04:40:59.809Z"
   },
   {
    "duration": 9,
    "start_time": "2024-02-08T04:41:19.161Z"
   },
   {
    "duration": 11,
    "start_time": "2024-02-08T04:41:24.574Z"
   },
   {
    "duration": 9,
    "start_time": "2024-02-08T04:41:30.201Z"
   },
   {
    "duration": 354,
    "start_time": "2024-02-08T04:42:29.705Z"
   },
   {
    "duration": 222,
    "start_time": "2024-02-08T04:42:41.050Z"
   },
   {
    "duration": 116,
    "start_time": "2024-02-08T04:42:58.481Z"
   },
   {
    "duration": 181,
    "start_time": "2024-02-08T04:44:10.793Z"
   },
   {
    "duration": 129,
    "start_time": "2024-02-08T04:44:34.074Z"
   },
   {
    "duration": 8,
    "start_time": "2024-02-08T04:44:34.883Z"
   },
   {
    "duration": 10,
    "start_time": "2024-02-08T04:44:36.762Z"
   },
   {
    "duration": 6,
    "start_time": "2024-02-08T04:44:37.705Z"
   },
   {
    "duration": 13,
    "start_time": "2024-02-08T04:44:39.257Z"
   },
   {
    "duration": 167,
    "start_time": "2024-02-08T04:44:40.474Z"
   },
   {
    "duration": 119,
    "start_time": "2024-02-08T04:44:41.817Z"
   },
   {
    "duration": 10,
    "start_time": "2024-02-08T04:44:48.968Z"
   },
   {
    "duration": 10,
    "start_time": "2024-02-08T04:45:16.026Z"
   },
   {
    "duration": 111,
    "start_time": "2024-02-08T04:59:13.181Z"
   },
   {
    "duration": 8,
    "start_time": "2024-02-08T04:59:40.949Z"
   },
   {
    "duration": 183,
    "start_time": "2024-02-08T05:01:14.397Z"
   },
   {
    "duration": 625,
    "start_time": "2024-02-08T05:08:13.373Z"
   },
   {
    "duration": 8,
    "start_time": "2024-02-08T05:08:21.564Z"
   },
   {
    "duration": 6,
    "start_time": "2024-02-08T05:08:28.682Z"
   },
   {
    "duration": 9,
    "start_time": "2024-02-08T05:08:31.285Z"
   },
   {
    "duration": 9,
    "start_time": "2024-02-08T05:09:05.878Z"
   },
   {
    "duration": 8,
    "start_time": "2024-02-08T05:23:56.876Z"
   },
   {
    "duration": 17,
    "start_time": "2024-02-08T05:24:10.059Z"
   },
   {
    "duration": 1902,
    "start_time": "2024-02-08T05:26:08.548Z"
   },
   {
    "duration": 10,
    "start_time": "2024-02-08T05:26:18.596Z"
   },
   {
    "duration": 5,
    "start_time": "2024-02-08T05:45:33.742Z"
   },
   {
    "duration": 4,
    "start_time": "2024-02-08T05:46:25.589Z"
   },
   {
    "duration": 5,
    "start_time": "2024-02-08T05:47:07.741Z"
   },
   {
    "duration": 111,
    "start_time": "2024-02-08T05:47:27.590Z"
   },
   {
    "duration": 11,
    "start_time": "2024-02-08T05:47:33.494Z"
   },
   {
    "duration": 130,
    "start_time": "2024-02-08T05:48:11.989Z"
   },
   {
    "duration": 131,
    "start_time": "2024-02-08T05:48:32.542Z"
   },
   {
    "duration": 6,
    "start_time": "2024-02-08T05:50:07.373Z"
   },
   {
    "duration": 8,
    "start_time": "2024-02-08T05:50:24.125Z"
   },
   {
    "duration": 98,
    "start_time": "2024-02-08T05:50:27.055Z"
   },
   {
    "duration": 61,
    "start_time": "2024-02-08T05:50:48.061Z"
   },
   {
    "duration": 64,
    "start_time": "2024-02-08T05:53:31.535Z"
   },
   {
    "duration": 81,
    "start_time": "2024-02-08T05:53:52.455Z"
   },
   {
    "duration": 79,
    "start_time": "2024-02-08T05:53:58.912Z"
   },
   {
    "duration": 148,
    "start_time": "2024-02-08T05:54:31.136Z"
   },
   {
    "duration": 81,
    "start_time": "2024-02-08T05:54:36.944Z"
   },
   {
    "duration": 7,
    "start_time": "2024-02-08T05:54:54.831Z"
   },
   {
    "duration": 70,
    "start_time": "2024-02-08T05:55:58.151Z"
   },
   {
    "duration": 8,
    "start_time": "2024-02-08T05:58:25.095Z"
   },
   {
    "duration": 127,
    "start_time": "2024-02-08T05:58:57.048Z"
   },
   {
    "duration": 135,
    "start_time": "2024-02-08T06:00:20.856Z"
   },
   {
    "duration": 129,
    "start_time": "2024-02-08T06:00:47.984Z"
   },
   {
    "duration": 206,
    "start_time": "2024-02-08T06:01:12.880Z"
   },
   {
    "duration": 228,
    "start_time": "2024-02-08T06:05:43.097Z"
   },
   {
    "duration": 508,
    "start_time": "2024-02-08T06:09:45.801Z"
   },
   {
    "duration": 126,
    "start_time": "2024-02-08T06:09:59.513Z"
   },
   {
    "duration": 210,
    "start_time": "2024-02-08T06:10:31.745Z"
   },
   {
    "duration": 6,
    "start_time": "2024-02-08T06:11:50.849Z"
   },
   {
    "duration": 13,
    "start_time": "2024-02-08T06:55:37.974Z"
   },
   {
    "duration": 7,
    "start_time": "2024-02-08T06:55:55.261Z"
   },
   {
    "duration": 12,
    "start_time": "2024-02-08T06:55:59.086Z"
   },
   {
    "duration": 13,
    "start_time": "2024-02-08T06:56:34.183Z"
   },
   {
    "duration": 9,
    "start_time": "2024-02-08T06:57:07.473Z"
   },
   {
    "duration": 7,
    "start_time": "2024-02-08T06:57:11.575Z"
   },
   {
    "duration": 7,
    "start_time": "2024-02-08T06:57:17.327Z"
   },
   {
    "duration": 10,
    "start_time": "2024-02-08T06:57:25.872Z"
   },
   {
    "duration": 5,
    "start_time": "2024-02-08T06:57:30.273Z"
   },
   {
    "duration": 9,
    "start_time": "2024-02-08T06:57:54.769Z"
   },
   {
    "duration": 4,
    "start_time": "2024-02-08T06:57:59.024Z"
   },
   {
    "duration": 8,
    "start_time": "2024-02-08T06:58:20.506Z"
   },
   {
    "duration": 4,
    "start_time": "2024-02-08T06:58:56.377Z"
   },
   {
    "duration": 7,
    "start_time": "2024-02-08T06:58:59.618Z"
   },
   {
    "duration": 13,
    "start_time": "2024-02-08T06:59:07.443Z"
   },
   {
    "duration": 72,
    "start_time": "2024-02-08T06:59:32.523Z"
   },
   {
    "duration": 13,
    "start_time": "2024-02-08T06:59:36.560Z"
   },
   {
    "duration": 67,
    "start_time": "2024-02-08T06:59:50.747Z"
   },
   {
    "duration": 4,
    "start_time": "2024-02-08T06:59:54.619Z"
   },
   {
    "duration": 115,
    "start_time": "2024-02-08T08:39:49.748Z"
   },
   {
    "duration": 1600,
    "start_time": "2024-02-08T08:41:05.794Z"
   },
   {
    "duration": 884,
    "start_time": "2024-02-08T08:41:11.794Z"
   },
   {
    "duration": 10,
    "start_time": "2024-02-08T08:42:06.923Z"
   },
   {
    "duration": 395,
    "start_time": "2024-02-08T08:42:32.062Z"
   },
   {
    "duration": 889,
    "start_time": "2024-02-08T08:42:39.290Z"
   },
   {
    "duration": 433,
    "start_time": "2024-02-08T08:43:11.034Z"
   },
   {
    "duration": 609,
    "start_time": "2024-02-08T08:43:17.578Z"
   },
   {
    "duration": 398,
    "start_time": "2024-02-08T08:44:02.938Z"
   },
   {
    "duration": 4,
    "start_time": "2024-02-08T08:44:09.306Z"
   },
   {
    "duration": 383,
    "start_time": "2024-02-08T08:44:13.897Z"
   },
   {
    "duration": 490,
    "start_time": "2024-02-08T08:44:30.738Z"
   },
   {
    "duration": 79,
    "start_time": "2024-02-08T08:45:09.844Z"
   },
   {
    "duration": 79,
    "start_time": "2024-02-08T08:45:17.282Z"
   },
   {
    "duration": 10,
    "start_time": "2024-02-08T08:45:21.515Z"
   },
   {
    "duration": 10,
    "start_time": "2024-02-08T08:45:53.971Z"
   },
   {
    "duration": 53,
    "start_time": "2024-02-08T14:01:44.890Z"
   },
   {
    "duration": 856,
    "start_time": "2024-02-08T14:04:05.744Z"
   },
   {
    "duration": 139,
    "start_time": "2024-02-08T14:04:06.602Z"
   },
   {
    "duration": 14,
    "start_time": "2024-02-08T14:04:06.743Z"
   },
   {
    "duration": 11,
    "start_time": "2024-02-08T14:04:06.759Z"
   },
   {
    "duration": 8,
    "start_time": "2024-02-08T14:04:06.773Z"
   },
   {
    "duration": 16,
    "start_time": "2024-02-08T14:04:06.782Z"
   },
   {
    "duration": 167,
    "start_time": "2024-02-08T14:04:06.800Z"
   },
   {
    "duration": 176,
    "start_time": "2024-02-08T14:04:06.970Z"
   },
   {
    "duration": 14,
    "start_time": "2024-02-08T14:04:07.153Z"
   },
   {
    "duration": 29,
    "start_time": "2024-02-08T14:04:07.169Z"
   },
   {
    "duration": 19,
    "start_time": "2024-02-08T14:04:07.200Z"
   },
   {
    "duration": 243,
    "start_time": "2024-02-08T14:04:07.221Z"
   },
   {
    "duration": 111,
    "start_time": "2024-02-08T14:04:07.466Z"
   },
   {
    "duration": 8,
    "start_time": "2024-02-08T14:04:07.580Z"
   },
   {
    "duration": 15,
    "start_time": "2024-02-08T14:04:07.590Z"
   },
   {
    "duration": 19,
    "start_time": "2024-02-08T14:04:07.607Z"
   },
   {
    "duration": 12,
    "start_time": "2024-02-08T14:04:07.628Z"
   },
   {
    "duration": 4,
    "start_time": "2024-02-08T14:04:07.641Z"
   },
   {
    "duration": 34,
    "start_time": "2024-02-08T14:04:07.647Z"
   },
   {
    "duration": 139,
    "start_time": "2024-02-08T14:04:07.683Z"
   },
   {
    "duration": 7,
    "start_time": "2024-02-08T14:04:07.824Z"
   },
   {
    "duration": 103,
    "start_time": "2024-02-08T14:04:07.833Z"
   },
   {
    "duration": 8,
    "start_time": "2024-02-08T14:04:07.937Z"
   },
   {
    "duration": 297,
    "start_time": "2024-02-08T14:04:07.946Z"
   },
   {
    "duration": 262,
    "start_time": "2024-02-08T14:04:08.245Z"
   },
   {
    "duration": 299,
    "start_time": "2024-02-08T14:04:08.509Z"
   },
   {
    "duration": 6,
    "start_time": "2024-02-08T14:04:08.809Z"
   },
   {
    "duration": 5,
    "start_time": "2024-02-08T14:04:08.817Z"
   },
   {
    "duration": 6,
    "start_time": "2024-02-08T14:06:43.574Z"
   },
   {
    "duration": 149,
    "start_time": "2024-02-08T14:07:14.967Z"
   },
   {
    "duration": 158,
    "start_time": "2024-02-08T14:07:35.936Z"
   },
   {
    "duration": 6,
    "start_time": "2024-02-08T14:08:10.223Z"
   },
   {
    "duration": 5,
    "start_time": "2024-02-08T14:08:17.256Z"
   },
   {
    "duration": 7,
    "start_time": "2024-02-08T14:08:45.255Z"
   },
   {
    "duration": 797,
    "start_time": "2024-02-09T07:34:56.781Z"
   },
   {
    "duration": 117,
    "start_time": "2024-02-09T07:34:57.580Z"
   },
   {
    "duration": 14,
    "start_time": "2024-02-09T07:34:57.698Z"
   },
   {
    "duration": 11,
    "start_time": "2024-02-09T07:34:57.713Z"
   },
   {
    "duration": 11,
    "start_time": "2024-02-09T07:34:57.726Z"
   },
   {
    "duration": 13,
    "start_time": "2024-02-09T07:34:57.738Z"
   },
   {
    "duration": 159,
    "start_time": "2024-02-09T07:34:57.752Z"
   },
   {
    "duration": 121,
    "start_time": "2024-02-09T07:34:57.912Z"
   },
   {
    "duration": 10,
    "start_time": "2024-02-09T07:34:58.035Z"
   },
   {
    "duration": 12,
    "start_time": "2024-02-09T07:34:58.046Z"
   },
   {
    "duration": 8,
    "start_time": "2024-02-09T07:34:58.059Z"
   },
   {
    "duration": 185,
    "start_time": "2024-02-09T07:34:58.068Z"
   },
   {
    "duration": 109,
    "start_time": "2024-02-09T07:34:58.255Z"
   },
   {
    "duration": 6,
    "start_time": "2024-02-09T07:34:58.367Z"
   },
   {
    "duration": 13,
    "start_time": "2024-02-09T07:34:58.374Z"
   },
   {
    "duration": 15,
    "start_time": "2024-02-09T07:34:58.389Z"
   },
   {
    "duration": 10,
    "start_time": "2024-02-09T07:34:58.406Z"
   },
   {
    "duration": 6,
    "start_time": "2024-02-09T07:34:58.418Z"
   },
   {
    "duration": 23,
    "start_time": "2024-02-09T07:34:58.426Z"
   },
   {
    "duration": 123,
    "start_time": "2024-02-09T07:34:58.451Z"
   },
   {
    "duration": 12,
    "start_time": "2024-02-09T07:34:58.576Z"
   },
   {
    "duration": 76,
    "start_time": "2024-02-09T07:34:58.589Z"
   },
   {
    "duration": 21,
    "start_time": "2024-02-09T07:34:58.667Z"
   },
   {
    "duration": 265,
    "start_time": "2024-02-09T07:34:58.689Z"
   },
   {
    "duration": 243,
    "start_time": "2024-02-09T07:34:58.955Z"
   },
   {
    "duration": 229,
    "start_time": "2024-02-09T07:34:59.200Z"
   },
   {
    "duration": 7,
    "start_time": "2024-02-09T07:34:59.430Z"
   },
   {
    "duration": 6,
    "start_time": "2024-02-09T07:34:59.438Z"
   },
   {
    "duration": 9,
    "start_time": "2024-02-09T07:34:59.445Z"
   },
   {
    "duration": 176,
    "start_time": "2024-02-09T07:34:59.456Z"
   },
   {
    "duration": 4,
    "start_time": "2024-02-09T07:34:59.634Z"
   },
   {
    "duration": 225,
    "start_time": "2024-02-09T07:35:38.440Z"
   },
   {
    "duration": 7,
    "start_time": "2024-02-09T07:40:07.522Z"
   },
   {
    "duration": 7,
    "start_time": "2024-02-09T07:40:21.969Z"
   },
   {
    "duration": 229,
    "start_time": "2024-02-09T07:41:12.459Z"
   },
   {
    "duration": 286,
    "start_time": "2024-02-09T07:41:33.474Z"
   },
   {
    "duration": 219,
    "start_time": "2024-02-09T07:41:40.026Z"
   },
   {
    "duration": 218,
    "start_time": "2024-02-09T07:41:43.002Z"
   },
   {
    "duration": 214,
    "start_time": "2024-02-09T07:41:46.339Z"
   },
   {
    "duration": 5,
    "start_time": "2024-02-09T12:07:57.028Z"
   },
   {
    "duration": 716,
    "start_time": "2024-02-09T12:10:03.132Z"
   },
   {
    "duration": 695,
    "start_time": "2024-02-09T12:10:34.973Z"
   },
   {
    "duration": 3,
    "start_time": "2024-02-09T12:10:59.158Z"
   },
   {
    "duration": 200,
    "start_time": "2024-02-09T12:10:59.163Z"
   },
   {
    "duration": 10,
    "start_time": "2024-02-09T12:10:59.365Z"
   },
   {
    "duration": 12,
    "start_time": "2024-02-09T12:10:59.376Z"
   },
   {
    "duration": 6,
    "start_time": "2024-02-09T12:10:59.391Z"
   },
   {
    "duration": 14,
    "start_time": "2024-02-09T12:10:59.398Z"
   },
   {
    "duration": 155,
    "start_time": "2024-02-09T12:10:59.414Z"
   },
   {
    "duration": 134,
    "start_time": "2024-02-09T12:10:59.571Z"
   },
   {
    "duration": 10,
    "start_time": "2024-02-09T12:10:59.707Z"
   },
   {
    "duration": 11,
    "start_time": "2024-02-09T12:10:59.719Z"
   },
   {
    "duration": 7,
    "start_time": "2024-02-09T12:10:59.732Z"
   },
   {
    "duration": 289,
    "start_time": "2024-02-09T12:10:59.740Z"
   },
   {
    "duration": 104,
    "start_time": "2024-02-09T12:11:00.031Z"
   },
   {
    "duration": 7,
    "start_time": "2024-02-09T12:11:00.138Z"
   },
   {
    "duration": 72,
    "start_time": "2024-02-09T12:11:00.147Z"
   },
   {
    "duration": 37,
    "start_time": "2024-02-09T12:11:00.220Z"
   },
   {
    "duration": 37,
    "start_time": "2024-02-09T12:11:00.259Z"
   },
   {
    "duration": 19,
    "start_time": "2024-02-09T12:11:00.297Z"
   },
   {
    "duration": 41,
    "start_time": "2024-02-09T12:11:00.317Z"
   },
   {
    "duration": 164,
    "start_time": "2024-02-09T12:11:00.360Z"
   },
   {
    "duration": 6,
    "start_time": "2024-02-09T12:11:00.525Z"
   },
   {
    "duration": 121,
    "start_time": "2024-02-09T12:11:00.532Z"
   },
   {
    "duration": 12,
    "start_time": "2024-02-09T12:11:00.654Z"
   },
   {
    "duration": 262,
    "start_time": "2024-02-09T12:11:00.668Z"
   },
   {
    "duration": 258,
    "start_time": "2024-02-09T12:11:00.931Z"
   },
   {
    "duration": 254,
    "start_time": "2024-02-09T12:11:01.191Z"
   },
   {
    "duration": 7,
    "start_time": "2024-02-09T12:11:01.446Z"
   },
   {
    "duration": 41,
    "start_time": "2024-02-09T12:11:01.455Z"
   },
   {
    "duration": 202,
    "start_time": "2024-02-09T12:11:01.498Z"
   },
   {
    "duration": 6,
    "start_time": "2024-02-09T12:11:01.702Z"
   },
   {
    "duration": 378,
    "start_time": "2024-02-09T12:11:01.710Z"
   },
   {
    "duration": 6,
    "start_time": "2024-02-09T12:11:02.090Z"
   },
   {
    "duration": 286,
    "start_time": "2024-02-09T12:11:02.098Z"
   },
   {
    "duration": 694,
    "start_time": "2024-02-09T12:11:02.385Z"
   },
   {
    "duration": 175,
    "start_time": "2024-02-09T12:12:20.261Z"
   },
   {
    "duration": 4,
    "start_time": "2024-02-09T12:12:50.677Z"
   },
   {
    "duration": 185,
    "start_time": "2024-02-09T12:12:57.150Z"
   },
   {
    "duration": 8,
    "start_time": "2024-02-09T12:18:24.478Z"
   },
   {
    "duration": 11,
    "start_time": "2024-02-09T12:18:37.750Z"
   },
   {
    "duration": 70,
    "start_time": "2024-02-09T12:30:48.338Z"
   },
   {
    "duration": 20,
    "start_time": "2024-02-09T12:31:13.554Z"
   },
   {
    "duration": 13,
    "start_time": "2024-02-09T12:31:29.811Z"
   },
   {
    "duration": 19,
    "start_time": "2024-02-09T12:32:43.098Z"
   },
   {
    "duration": 12,
    "start_time": "2024-02-09T12:32:47.899Z"
   },
   {
    "duration": 16,
    "start_time": "2024-02-09T12:33:54.812Z"
   },
   {
    "duration": 6,
    "start_time": "2024-02-09T12:34:33.355Z"
   },
   {
    "duration": 14,
    "start_time": "2024-02-09T12:35:17.764Z"
   },
   {
    "duration": 15,
    "start_time": "2024-02-09T12:35:34.955Z"
   },
   {
    "duration": 236,
    "start_time": "2024-02-09T12:38:01.101Z"
   },
   {
    "duration": 169,
    "start_time": "2024-02-09T12:39:06.262Z"
   },
   {
    "duration": 244,
    "start_time": "2024-02-09T12:39:25.806Z"
   },
   {
    "duration": 334,
    "start_time": "2024-02-09T12:40:35.583Z"
   },
   {
    "duration": 211,
    "start_time": "2024-02-09T12:41:28.591Z"
   },
   {
    "duration": 13,
    "start_time": "2024-02-09T14:43:14.129Z"
   },
   {
    "duration": 13,
    "start_time": "2024-02-09T14:43:34.200Z"
   },
   {
    "duration": 12,
    "start_time": "2024-02-09T14:43:55.112Z"
   },
   {
    "duration": 15,
    "start_time": "2024-02-09T14:43:59.409Z"
   },
   {
    "duration": 12,
    "start_time": "2024-02-09T14:47:08.370Z"
   },
   {
    "duration": 13,
    "start_time": "2024-02-09T14:47:19.882Z"
   },
   {
    "duration": 16,
    "start_time": "2024-02-09T14:47:34.466Z"
   },
   {
    "duration": 9,
    "start_time": "2024-02-09T14:48:44.747Z"
   },
   {
    "duration": 12,
    "start_time": "2024-02-09T14:48:52.316Z"
   },
   {
    "duration": 7,
    "start_time": "2024-02-09T14:50:22.563Z"
   },
   {
    "duration": 2,
    "start_time": "2024-02-09T14:50:36.139Z"
   },
   {
    "duration": 6,
    "start_time": "2024-02-09T14:50:40.444Z"
   },
   {
    "duration": 11,
    "start_time": "2024-02-09T14:50:47.999Z"
   },
   {
    "duration": 19,
    "start_time": "2024-02-09T14:50:53.371Z"
   },
   {
    "duration": 11,
    "start_time": "2024-02-09T14:50:55.108Z"
   },
   {
    "duration": 17,
    "start_time": "2024-02-09T14:55:27.198Z"
   },
   {
    "duration": 4,
    "start_time": "2024-02-09T14:57:55.517Z"
   },
   {
    "duration": 6,
    "start_time": "2024-02-09T14:58:00.254Z"
   },
   {
    "duration": 12,
    "start_time": "2024-02-09T15:02:27.828Z"
   },
   {
    "duration": 24,
    "start_time": "2024-02-09T15:03:00.438Z"
   },
   {
    "duration": 22,
    "start_time": "2024-02-09T15:04:03.752Z"
   },
   {
    "duration": 13,
    "start_time": "2024-02-09T15:04:11.313Z"
   },
   {
    "duration": 1385,
    "start_time": "2024-02-09T15:04:24.607Z"
   },
   {
    "duration": 5,
    "start_time": "2024-02-09T15:05:51.472Z"
   },
   {
    "duration": 11,
    "start_time": "2024-02-09T15:05:58.208Z"
   },
   {
    "duration": 892,
    "start_time": "2024-02-10T10:11:27.621Z"
   },
   {
    "duration": 131,
    "start_time": "2024-02-10T10:11:28.515Z"
   },
   {
    "duration": 17,
    "start_time": "2024-02-10T10:11:28.647Z"
   },
   {
    "duration": 12,
    "start_time": "2024-02-10T10:11:28.666Z"
   },
   {
    "duration": 6,
    "start_time": "2024-02-10T10:11:28.681Z"
   },
   {
    "duration": 15,
    "start_time": "2024-02-10T10:11:28.688Z"
   },
   {
    "duration": 188,
    "start_time": "2024-02-10T10:11:28.705Z"
   },
   {
    "duration": 160,
    "start_time": "2024-02-10T10:11:28.894Z"
   },
   {
    "duration": 10,
    "start_time": "2024-02-10T10:11:29.056Z"
   },
   {
    "duration": 14,
    "start_time": "2024-02-10T10:11:29.068Z"
   },
   {
    "duration": 8,
    "start_time": "2024-02-10T10:11:29.084Z"
   },
   {
    "duration": 239,
    "start_time": "2024-02-10T10:11:29.093Z"
   },
   {
    "duration": 106,
    "start_time": "2024-02-10T10:11:29.334Z"
   },
   {
    "duration": 8,
    "start_time": "2024-02-10T10:11:29.443Z"
   },
   {
    "duration": 23,
    "start_time": "2024-02-10T10:11:29.453Z"
   },
   {
    "duration": 21,
    "start_time": "2024-02-10T10:11:29.478Z"
   },
   {
    "duration": 12,
    "start_time": "2024-02-10T10:11:29.501Z"
   },
   {
    "duration": 6,
    "start_time": "2024-02-10T10:11:29.515Z"
   },
   {
    "duration": 15,
    "start_time": "2024-02-10T10:11:29.523Z"
   },
   {
    "duration": 163,
    "start_time": "2024-02-10T10:11:29.540Z"
   },
   {
    "duration": 7,
    "start_time": "2024-02-10T10:11:29.705Z"
   },
   {
    "duration": 101,
    "start_time": "2024-02-10T10:11:29.714Z"
   },
   {
    "duration": 7,
    "start_time": "2024-02-10T10:11:29.817Z"
   },
   {
    "duration": 312,
    "start_time": "2024-02-10T10:11:29.826Z"
   },
   {
    "duration": 274,
    "start_time": "2024-02-10T10:11:30.140Z"
   },
   {
    "duration": 277,
    "start_time": "2024-02-10T10:11:30.416Z"
   },
   {
    "duration": 9,
    "start_time": "2024-02-10T10:11:30.695Z"
   },
   {
    "duration": 53,
    "start_time": "2024-02-10T10:11:30.706Z"
   },
   {
    "duration": 195,
    "start_time": "2024-02-10T10:11:30.760Z"
   },
   {
    "duration": 6,
    "start_time": "2024-02-10T10:11:30.957Z"
   },
   {
    "duration": 332,
    "start_time": "2024-02-10T10:11:30.965Z"
   },
   {
    "duration": 7,
    "start_time": "2024-02-10T10:11:31.299Z"
   },
   {
    "duration": 266,
    "start_time": "2024-02-10T10:11:31.307Z"
   },
   {
    "duration": 280,
    "start_time": "2024-02-10T10:11:31.574Z"
   },
   {
    "duration": 9,
    "start_time": "2024-02-10T10:11:31.859Z"
   },
   {
    "duration": 43,
    "start_time": "2024-02-10T10:11:31.869Z"
   },
   {
    "duration": 39,
    "start_time": "2024-02-10T10:11:31.914Z"
   },
   {
    "duration": 55,
    "start_time": "2024-02-10T10:11:31.955Z"
   },
   {
    "duration": 16,
    "start_time": "2024-02-10T10:11:32.012Z"
   },
   {
    "duration": 41,
    "start_time": "2024-02-10T10:11:32.030Z"
   },
   {
    "duration": 15,
    "start_time": "2024-02-10T10:11:32.075Z"
   },
   {
    "duration": 292,
    "start_time": "2024-02-10T10:11:32.092Z"
   },
   {
    "duration": 274,
    "start_time": "2024-02-10T10:11:32.385Z"
   },
   {
    "duration": 192,
    "start_time": "2024-02-10T10:11:32.661Z"
   },
   {
    "duration": 279,
    "start_time": "2024-02-10T10:11:32.854Z"
   },
   {
    "duration": 248,
    "start_time": "2024-02-10T10:11:33.135Z"
   },
   {
    "duration": 6,
    "start_time": "2024-02-10T10:11:33.385Z"
   },
   {
    "duration": 33,
    "start_time": "2024-02-10T10:11:33.392Z"
   },
   {
    "duration": 11,
    "start_time": "2024-02-10T10:11:33.427Z"
   },
   {
    "duration": 28,
    "start_time": "2024-02-10T10:11:33.440Z"
   },
   {
    "duration": 5,
    "start_time": "2024-02-10T10:11:33.470Z"
   },
   {
    "duration": 9,
    "start_time": "2024-02-10T10:11:33.476Z"
   },
   {
    "duration": 20,
    "start_time": "2024-02-10T10:11:33.486Z"
   },
   {
    "duration": 10,
    "start_time": "2024-02-10T10:11:58.119Z"
   },
   {
    "duration": 13,
    "start_time": "2024-02-10T10:14:11.821Z"
   },
   {
    "duration": 4,
    "start_time": "2024-02-10T10:14:21.334Z"
   },
   {
    "duration": 51,
    "start_time": "2024-02-10T10:16:52.944Z"
   },
   {
    "duration": 730,
    "start_time": "2024-02-10T10:17:06.434Z"
   },
   {
    "duration": 85,
    "start_time": "2024-02-10T10:17:07.166Z"
   },
   {
    "duration": 14,
    "start_time": "2024-02-10T10:17:07.253Z"
   },
   {
    "duration": 12,
    "start_time": "2024-02-10T10:17:07.268Z"
   },
   {
    "duration": 11,
    "start_time": "2024-02-10T10:17:07.282Z"
   },
   {
    "duration": 25,
    "start_time": "2024-02-10T10:17:07.294Z"
   },
   {
    "duration": 177,
    "start_time": "2024-02-10T10:17:07.321Z"
   },
   {
    "duration": 100,
    "start_time": "2024-02-10T10:17:07.500Z"
   },
   {
    "duration": 10,
    "start_time": "2024-02-10T10:17:07.602Z"
   },
   {
    "duration": 13,
    "start_time": "2024-02-10T10:17:07.614Z"
   },
   {
    "duration": 8,
    "start_time": "2024-02-10T10:17:07.628Z"
   },
   {
    "duration": 214,
    "start_time": "2024-02-10T10:17:07.638Z"
   },
   {
    "duration": 72,
    "start_time": "2024-02-10T10:17:07.858Z"
   },
   {
    "duration": 8,
    "start_time": "2024-02-10T10:17:07.933Z"
   },
   {
    "duration": 15,
    "start_time": "2024-02-10T10:17:07.942Z"
   },
   {
    "duration": 16,
    "start_time": "2024-02-10T10:17:07.959Z"
   },
   {
    "duration": 12,
    "start_time": "2024-02-10T10:17:07.976Z"
   },
   {
    "duration": 4,
    "start_time": "2024-02-10T10:17:07.989Z"
   },
   {
    "duration": 7,
    "start_time": "2024-02-10T10:17:07.995Z"
   },
   {
    "duration": 163,
    "start_time": "2024-02-10T10:17:08.003Z"
   },
   {
    "duration": 7,
    "start_time": "2024-02-10T10:17:08.167Z"
   },
   {
    "duration": 103,
    "start_time": "2024-02-10T10:17:08.176Z"
   },
   {
    "duration": 7,
    "start_time": "2024-02-10T10:17:08.281Z"
   },
   {
    "duration": 296,
    "start_time": "2024-02-10T10:17:08.289Z"
   },
   {
    "duration": 277,
    "start_time": "2024-02-10T10:17:08.587Z"
   },
   {
    "duration": 264,
    "start_time": "2024-02-10T10:17:08.865Z"
   },
   {
    "duration": 7,
    "start_time": "2024-02-10T10:17:09.130Z"
   },
   {
    "duration": 21,
    "start_time": "2024-02-10T10:17:09.139Z"
   },
   {
    "duration": 184,
    "start_time": "2024-02-10T10:17:09.162Z"
   },
   {
    "duration": 11,
    "start_time": "2024-02-10T10:17:09.348Z"
   },
   {
    "duration": 274,
    "start_time": "2024-02-10T10:17:09.361Z"
   },
   {
    "duration": 7,
    "start_time": "2024-02-10T10:17:09.636Z"
   },
   {
    "duration": 266,
    "start_time": "2024-02-10T10:17:09.645Z"
   },
   {
    "duration": 277,
    "start_time": "2024-02-10T10:17:09.912Z"
   },
   {
    "duration": 9,
    "start_time": "2024-02-10T10:17:10.190Z"
   },
   {
    "duration": 25,
    "start_time": "2024-02-10T10:17:10.200Z"
   },
   {
    "duration": 32,
    "start_time": "2024-02-10T10:17:10.227Z"
   },
   {
    "duration": 21,
    "start_time": "2024-02-10T10:17:10.261Z"
   },
   {
    "duration": 13,
    "start_time": "2024-02-10T10:17:10.284Z"
   },
   {
    "duration": 23,
    "start_time": "2024-02-10T10:17:10.299Z"
   },
   {
    "duration": 46,
    "start_time": "2024-02-10T10:17:10.327Z"
   },
   {
    "duration": 258,
    "start_time": "2024-02-10T10:17:10.374Z"
   },
   {
    "duration": 266,
    "start_time": "2024-02-10T10:17:10.633Z"
   },
   {
    "duration": 190,
    "start_time": "2024-02-10T10:17:10.900Z"
   },
   {
    "duration": 279,
    "start_time": "2024-02-10T10:17:11.092Z"
   },
   {
    "duration": 236,
    "start_time": "2024-02-10T10:17:11.373Z"
   },
   {
    "duration": 6,
    "start_time": "2024-02-10T10:17:11.610Z"
   },
   {
    "duration": 22,
    "start_time": "2024-02-10T10:17:11.618Z"
   },
   {
    "duration": 25,
    "start_time": "2024-02-10T10:17:11.641Z"
   },
   {
    "duration": 11,
    "start_time": "2024-02-10T10:17:11.668Z"
   },
   {
    "duration": 11,
    "start_time": "2024-02-10T10:17:11.680Z"
   },
   {
    "duration": 3,
    "start_time": "2024-02-10T10:17:11.693Z"
   },
   {
    "duration": 665,
    "start_time": "2024-02-10T10:17:58.003Z"
   },
   {
    "duration": 82,
    "start_time": "2024-02-10T10:17:58.670Z"
   },
   {
    "duration": 14,
    "start_time": "2024-02-10T10:17:58.754Z"
   },
   {
    "duration": 12,
    "start_time": "2024-02-10T10:17:58.769Z"
   },
   {
    "duration": 6,
    "start_time": "2024-02-10T10:17:58.783Z"
   },
   {
    "duration": 15,
    "start_time": "2024-02-10T10:17:58.791Z"
   },
   {
    "duration": 199,
    "start_time": "2024-02-10T10:17:58.808Z"
   },
   {
    "duration": 105,
    "start_time": "2024-02-10T10:17:59.009Z"
   },
   {
    "duration": 15,
    "start_time": "2024-02-10T10:17:59.116Z"
   },
   {
    "duration": 15,
    "start_time": "2024-02-10T10:17:59.133Z"
   },
   {
    "duration": 9,
    "start_time": "2024-02-10T10:17:59.150Z"
   },
   {
    "duration": 224,
    "start_time": "2024-02-10T10:17:59.160Z"
   },
   {
    "duration": 78,
    "start_time": "2024-02-10T10:17:59.386Z"
   },
   {
    "duration": 7,
    "start_time": "2024-02-10T10:17:59.468Z"
   },
   {
    "duration": 11,
    "start_time": "2024-02-10T10:17:59.476Z"
   },
   {
    "duration": 16,
    "start_time": "2024-02-10T10:17:59.489Z"
   },
   {
    "duration": 11,
    "start_time": "2024-02-10T10:17:59.507Z"
   },
   {
    "duration": 5,
    "start_time": "2024-02-10T10:17:59.520Z"
   },
   {
    "duration": 36,
    "start_time": "2024-02-10T10:17:59.526Z"
   },
   {
    "duration": 153,
    "start_time": "2024-02-10T10:17:59.564Z"
   },
   {
    "duration": 7,
    "start_time": "2024-02-10T10:17:59.719Z"
   },
   {
    "duration": 104,
    "start_time": "2024-02-10T10:17:59.728Z"
   },
   {
    "duration": 8,
    "start_time": "2024-02-10T10:17:59.834Z"
   },
   {
    "duration": 317,
    "start_time": "2024-02-10T10:17:59.859Z"
   },
   {
    "duration": 280,
    "start_time": "2024-02-10T10:18:00.178Z"
   },
   {
    "duration": 268,
    "start_time": "2024-02-10T10:18:00.460Z"
   },
   {
    "duration": 7,
    "start_time": "2024-02-10T10:18:00.730Z"
   },
   {
    "duration": 57,
    "start_time": "2024-02-10T10:18:00.738Z"
   },
   {
    "duration": 213,
    "start_time": "2024-02-10T10:18:00.796Z"
   },
   {
    "duration": 6,
    "start_time": "2024-02-10T10:18:01.011Z"
   },
   {
    "duration": 327,
    "start_time": "2024-02-10T10:18:01.019Z"
   },
   {
    "duration": 15,
    "start_time": "2024-02-10T10:18:01.348Z"
   },
   {
    "duration": 277,
    "start_time": "2024-02-10T10:18:01.365Z"
   },
   {
    "duration": 282,
    "start_time": "2024-02-10T10:18:01.644Z"
   },
   {
    "duration": 10,
    "start_time": "2024-02-10T10:18:01.927Z"
   },
   {
    "duration": 100,
    "start_time": "2024-02-10T10:18:01.938Z"
   },
   {
    "duration": 57,
    "start_time": "2024-02-10T10:18:02.039Z"
   },
   {
    "duration": 56,
    "start_time": "2024-02-10T10:18:02.097Z"
   },
   {
    "duration": 21,
    "start_time": "2024-02-10T10:18:02.156Z"
   },
   {
    "duration": 30,
    "start_time": "2024-02-10T10:18:02.179Z"
   },
   {
    "duration": 158,
    "start_time": "2024-02-10T10:18:02.214Z"
   },
   {
    "duration": 369,
    "start_time": "2024-02-10T10:18:02.374Z"
   },
   {
    "duration": 276,
    "start_time": "2024-02-10T10:18:02.745Z"
   },
   {
    "duration": 211,
    "start_time": "2024-02-10T10:18:03.023Z"
   },
   {
    "duration": 285,
    "start_time": "2024-02-10T10:18:03.236Z"
   },
   {
    "duration": 258,
    "start_time": "2024-02-10T10:18:03.523Z"
   },
   {
    "duration": 6,
    "start_time": "2024-02-10T10:18:03.782Z"
   },
   {
    "duration": 18,
    "start_time": "2024-02-10T10:18:03.790Z"
   },
   {
    "duration": 11,
    "start_time": "2024-02-10T10:18:03.810Z"
   },
   {
    "duration": 43,
    "start_time": "2024-02-10T10:18:03.823Z"
   },
   {
    "duration": 12,
    "start_time": "2024-02-10T10:18:03.868Z"
   },
   {
    "duration": 4,
    "start_time": "2024-02-10T10:18:03.882Z"
   },
   {
    "duration": 678,
    "start_time": "2024-02-10T10:18:45.592Z"
   },
   {
    "duration": 77,
    "start_time": "2024-02-10T10:18:46.272Z"
   },
   {
    "duration": 15,
    "start_time": "2024-02-10T10:18:46.351Z"
   },
   {
    "duration": 13,
    "start_time": "2024-02-10T10:18:46.367Z"
   },
   {
    "duration": 6,
    "start_time": "2024-02-10T10:18:46.383Z"
   },
   {
    "duration": 19,
    "start_time": "2024-02-10T10:18:46.391Z"
   },
   {
    "duration": 173,
    "start_time": "2024-02-10T10:18:46.412Z"
   },
   {
    "duration": 105,
    "start_time": "2024-02-10T10:18:46.587Z"
   },
   {
    "duration": 11,
    "start_time": "2024-02-10T10:18:46.694Z"
   },
   {
    "duration": 23,
    "start_time": "2024-02-10T10:18:46.707Z"
   },
   {
    "duration": 9,
    "start_time": "2024-02-10T10:18:46.731Z"
   },
   {
    "duration": 242,
    "start_time": "2024-02-10T10:18:46.742Z"
   },
   {
    "duration": 89,
    "start_time": "2024-02-10T10:18:46.986Z"
   },
   {
    "duration": 8,
    "start_time": "2024-02-10T10:18:47.078Z"
   },
   {
    "duration": 22,
    "start_time": "2024-02-10T10:18:47.088Z"
   },
   {
    "duration": 19,
    "start_time": "2024-02-10T10:18:47.113Z"
   },
   {
    "duration": 13,
    "start_time": "2024-02-10T10:18:47.134Z"
   },
   {
    "duration": 13,
    "start_time": "2024-02-10T10:18:47.149Z"
   },
   {
    "duration": 7,
    "start_time": "2024-02-10T10:18:47.163Z"
   },
   {
    "duration": 170,
    "start_time": "2024-02-10T10:18:47.171Z"
   },
   {
    "duration": 16,
    "start_time": "2024-02-10T10:18:47.343Z"
   },
   {
    "duration": 110,
    "start_time": "2024-02-10T10:18:47.361Z"
   },
   {
    "duration": 11,
    "start_time": "2024-02-10T10:18:47.473Z"
   },
   {
    "duration": 313,
    "start_time": "2024-02-10T10:18:47.486Z"
   },
   {
    "duration": 284,
    "start_time": "2024-02-10T10:18:47.801Z"
   },
   {
    "duration": 259,
    "start_time": "2024-02-10T10:18:48.087Z"
   },
   {
    "duration": 14,
    "start_time": "2024-02-10T10:18:48.348Z"
   },
   {
    "duration": 13,
    "start_time": "2024-02-10T10:18:48.364Z"
   },
   {
    "duration": 197,
    "start_time": "2024-02-10T10:18:48.379Z"
   },
   {
    "duration": 6,
    "start_time": "2024-02-10T10:18:48.578Z"
   },
   {
    "duration": 280,
    "start_time": "2024-02-10T10:18:48.586Z"
   },
   {
    "duration": 8,
    "start_time": "2024-02-10T10:18:48.868Z"
   },
   {
    "duration": 267,
    "start_time": "2024-02-10T10:18:48.877Z"
   },
   {
    "duration": 284,
    "start_time": "2024-02-10T10:18:49.145Z"
   },
   {
    "duration": 10,
    "start_time": "2024-02-10T10:18:49.431Z"
   },
   {
    "duration": 35,
    "start_time": "2024-02-10T10:18:49.443Z"
   },
   {
    "duration": 15,
    "start_time": "2024-02-10T10:18:49.480Z"
   },
   {
    "duration": 21,
    "start_time": "2024-02-10T10:18:49.497Z"
   },
   {
    "duration": 47,
    "start_time": "2024-02-10T10:18:49.520Z"
   },
   {
    "duration": 18,
    "start_time": "2024-02-10T10:18:49.569Z"
   },
   {
    "duration": 17,
    "start_time": "2024-02-10T10:18:49.592Z"
   },
   {
    "duration": 289,
    "start_time": "2024-02-10T10:18:49.610Z"
   },
   {
    "duration": 268,
    "start_time": "2024-02-10T10:18:49.901Z"
   },
   {
    "duration": 196,
    "start_time": "2024-02-10T10:18:50.171Z"
   },
   {
    "duration": 283,
    "start_time": "2024-02-10T10:18:50.369Z"
   },
   {
    "duration": 243,
    "start_time": "2024-02-10T10:18:50.654Z"
   },
   {
    "duration": 6,
    "start_time": "2024-02-10T10:18:50.899Z"
   },
   {
    "duration": 38,
    "start_time": "2024-02-10T10:18:50.906Z"
   },
   {
    "duration": 16,
    "start_time": "2024-02-10T10:18:50.945Z"
   },
   {
    "duration": 25,
    "start_time": "2024-02-10T10:18:50.963Z"
   },
   {
    "duration": 15,
    "start_time": "2024-02-10T10:18:50.990Z"
   },
   {
    "duration": 32,
    "start_time": "2024-02-10T10:18:51.008Z"
   },
   {
    "duration": 10,
    "start_time": "2024-02-10T10:18:51.042Z"
   },
   {
    "duration": 16,
    "start_time": "2024-02-10T10:18:51.054Z"
   },
   {
    "duration": 13,
    "start_time": "2024-02-10T10:24:37.466Z"
   },
   {
    "duration": 3,
    "start_time": "2024-02-10T10:25:19.737Z"
   },
   {
    "duration": 94,
    "start_time": "2024-02-10T10:25:22.449Z"
   },
   {
    "duration": 5,
    "start_time": "2024-02-10T10:26:19.555Z"
   },
   {
    "duration": 5,
    "start_time": "2024-02-10T10:27:11.354Z"
   },
   {
    "duration": 4,
    "start_time": "2024-02-10T10:27:15.841Z"
   },
   {
    "duration": 1202,
    "start_time": "2024-02-10T10:27:21.418Z"
   },
   {
    "duration": 5,
    "start_time": "2024-02-10T10:28:44.538Z"
   },
   {
    "duration": 6,
    "start_time": "2024-02-10T10:28:54.187Z"
   },
   {
    "duration": 5,
    "start_time": "2024-02-10T10:29:08.218Z"
   },
   {
    "duration": 3,
    "start_time": "2024-02-10T10:29:23.690Z"
   },
   {
    "duration": 1315,
    "start_time": "2024-02-10T10:29:29.810Z"
   },
   {
    "duration": 71,
    "start_time": "2024-02-10T10:32:13.003Z"
   },
   {
    "duration": 4,
    "start_time": "2024-02-10T10:32:23.332Z"
   },
   {
    "duration": 1180,
    "start_time": "2024-02-10T10:32:26.708Z"
   },
   {
    "duration": 72,
    "start_time": "2024-02-10T10:34:08.300Z"
   },
   {
    "duration": 77,
    "start_time": "2024-02-10T10:34:12.484Z"
   },
   {
    "duration": 4,
    "start_time": "2024-02-10T10:34:15.756Z"
   },
   {
    "duration": 16,
    "start_time": "2024-02-10T10:34:19.411Z"
   },
   {
    "duration": 8,
    "start_time": "2024-02-10T10:34:45.084Z"
   },
   {
    "duration": 5,
    "start_time": "2024-02-10T10:34:50.324Z"
   },
   {
    "duration": 6,
    "start_time": "2024-02-10T10:35:00.512Z"
   },
   {
    "duration": 5,
    "start_time": "2024-02-10T10:35:06.316Z"
   },
   {
    "duration": 1542,
    "start_time": "2024-02-10T10:35:10.147Z"
   },
   {
    "duration": 5,
    "start_time": "2024-02-10T10:35:51.892Z"
   },
   {
    "duration": 7,
    "start_time": "2024-02-10T10:46:54.086Z"
   },
   {
    "duration": 17,
    "start_time": "2024-02-10T10:49:21.687Z"
   },
   {
    "duration": 6,
    "start_time": "2024-02-10T10:49:58.176Z"
   },
   {
    "duration": 6,
    "start_time": "2024-02-10T10:50:20.823Z"
   },
   {
    "duration": 7,
    "start_time": "2024-02-10T10:50:40.199Z"
   },
   {
    "duration": 7,
    "start_time": "2024-02-10T10:50:48.503Z"
   },
   {
    "duration": 5,
    "start_time": "2024-02-10T10:51:07.104Z"
   },
   {
    "duration": 5,
    "start_time": "2024-02-10T10:51:13.632Z"
   },
   {
    "duration": 6,
    "start_time": "2024-02-10T10:51:30.448Z"
   },
   {
    "duration": 4,
    "start_time": "2024-02-10T10:51:34.775Z"
   },
   {
    "duration": 1134,
    "start_time": "2024-02-10T10:51:44.607Z"
   },
   {
    "duration": 919,
    "start_time": "2024-02-10T10:56:13.841Z"
   },
   {
    "duration": 13,
    "start_time": "2024-02-10T10:56:22.137Z"
   },
   {
    "duration": 13,
    "start_time": "2024-02-10T10:56:30.788Z"
   },
   {
    "duration": 3,
    "start_time": "2024-02-10T10:57:11.906Z"
   },
   {
    "duration": 154,
    "start_time": "2024-02-10T10:57:20.147Z"
   },
   {
    "duration": 150,
    "start_time": "2024-02-10T10:57:30.218Z"
   },
   {
    "duration": 7,
    "start_time": "2024-02-10T11:01:02.987Z"
   },
   {
    "duration": 11,
    "start_time": "2024-02-10T11:02:24.844Z"
   },
   {
    "duration": 150,
    "start_time": "2024-02-10T11:02:31.651Z"
   },
   {
    "duration": 363,
    "start_time": "2024-02-10T11:10:51.424Z"
   },
   {
    "duration": 264,
    "start_time": "2024-02-10T11:16:12.273Z"
   },
   {
    "duration": 406,
    "start_time": "2024-02-10T11:26:06.191Z"
   },
   {
    "duration": 6,
    "start_time": "2024-02-10T11:29:46.104Z"
   },
   {
    "duration": 7,
    "start_time": "2024-02-10T11:34:30.784Z"
   },
   {
    "duration": 5,
    "start_time": "2024-02-10T11:34:54.113Z"
   },
   {
    "duration": 1264,
    "start_time": "2024-02-10T12:17:25.939Z"
   },
   {
    "duration": 6,
    "start_time": "2024-02-10T12:17:41.185Z"
   },
   {
    "duration": 1481,
    "start_time": "2024-02-10T12:23:26.219Z"
   },
   {
    "duration": 9,
    "start_time": "2024-02-10T12:23:54.340Z"
   },
   {
    "duration": 3,
    "start_time": "2024-02-10T12:46:09.184Z"
   },
   {
    "duration": 350,
    "start_time": "2024-02-10T12:46:34.176Z"
   },
   {
    "duration": 1629,
    "start_time": "2024-02-10T12:46:50.617Z"
   },
   {
    "duration": 196,
    "start_time": "2024-02-10T12:46:58.264Z"
   },
   {
    "duration": 264,
    "start_time": "2024-02-10T12:47:07.897Z"
   },
   {
    "duration": 1629,
    "start_time": "2024-02-10T12:54:13.273Z"
   },
   {
    "duration": 3,
    "start_time": "2024-02-10T13:02:53.653Z"
   },
   {
    "duration": 10,
    "start_time": "2024-02-10T13:05:16.670Z"
   },
   {
    "duration": 3,
    "start_time": "2024-02-10T13:05:47.556Z"
   },
   {
    "duration": 6,
    "start_time": "2024-02-10T13:05:53.173Z"
   },
   {
    "duration": 6,
    "start_time": "2024-02-10T13:05:59.461Z"
   },
   {
    "duration": 5,
    "start_time": "2024-02-10T13:06:36.255Z"
   },
   {
    "duration": 6,
    "start_time": "2024-02-10T13:06:39.638Z"
   },
   {
    "duration": 6,
    "start_time": "2024-02-10T13:06:50.053Z"
   },
   {
    "duration": 5,
    "start_time": "2024-02-10T13:06:58.949Z"
   },
   {
    "duration": 5,
    "start_time": "2024-02-10T13:07:04.422Z"
   },
   {
    "duration": 7,
    "start_time": "2024-02-10T13:07:09.149Z"
   },
   {
    "duration": 5,
    "start_time": "2024-02-10T13:07:16.494Z"
   },
   {
    "duration": 5,
    "start_time": "2024-02-10T13:07:20.694Z"
   },
   {
    "duration": 5,
    "start_time": "2024-02-10T13:07:24.349Z"
   },
   {
    "duration": 7,
    "start_time": "2024-02-10T13:07:28.509Z"
   },
   {
    "duration": 6,
    "start_time": "2024-02-10T13:07:32.309Z"
   },
   {
    "duration": 6,
    "start_time": "2024-02-10T13:07:41.317Z"
   },
   {
    "duration": 6,
    "start_time": "2024-02-10T13:07:44.470Z"
   },
   {
    "duration": 1696,
    "start_time": "2024-02-10T13:09:00.086Z"
   },
   {
    "duration": 6,
    "start_time": "2024-02-10T13:14:31.607Z"
   },
   {
    "duration": 0,
    "start_time": "2024-02-10T13:15:49.608Z"
   },
   {
    "duration": 5,
    "start_time": "2024-02-10T13:15:53.360Z"
   },
   {
    "duration": 41986,
    "start_time": "2024-02-10T13:16:02.207Z"
   },
   {
    "duration": 30328,
    "start_time": "2024-02-10T13:22:15.123Z"
   },
   {
    "duration": 316,
    "start_time": "2024-02-10T13:22:48.938Z"
   },
   {
    "duration": 283,
    "start_time": "2024-02-10T13:27:11.952Z"
   },
   {
    "duration": 243,
    "start_time": "2024-02-10T13:27:49.986Z"
   },
   {
    "duration": 1803,
    "start_time": "2024-02-10T13:28:16.722Z"
   },
   {
    "duration": 1854,
    "start_time": "2024-02-10T13:28:24.002Z"
   },
   {
    "duration": 18327,
    "start_time": "2024-02-10T13:28:38.362Z"
   },
   {
    "duration": 16435,
    "start_time": "2024-02-10T13:29:10.298Z"
   },
   {
    "duration": 2482,
    "start_time": "2024-02-10T13:29:40.066Z"
   },
   {
    "duration": 1611,
    "start_time": "2024-02-10T13:30:16.698Z"
   },
   {
    "duration": 1637,
    "start_time": "2024-02-10T13:30:30.650Z"
   },
   {
    "duration": 55862,
    "start_time": "2024-02-10T13:30:57.419Z"
   },
   {
    "duration": 196,
    "start_time": "2024-02-10T13:33:18.605Z"
   },
   {
    "duration": 2571,
    "start_time": "2024-02-10T13:33:44.373Z"
   },
   {
    "duration": 1658,
    "start_time": "2024-02-10T13:34:15.093Z"
   },
   {
    "duration": 1572,
    "start_time": "2024-02-10T13:34:29.947Z"
   },
   {
    "duration": 19019,
    "start_time": "2024-02-10T13:34:44.804Z"
   },
   {
    "duration": 1571,
    "start_time": "2024-02-10T13:35:12.541Z"
   },
   {
    "duration": 9,
    "start_time": "2024-02-10T14:17:14.181Z"
   },
   {
    "duration": 11,
    "start_time": "2024-02-10T14:17:28.995Z"
   },
   {
    "duration": 7,
    "start_time": "2024-02-10T14:17:40.420Z"
   },
   {
    "duration": 11,
    "start_time": "2024-02-10T14:21:23.468Z"
   },
   {
    "duration": 10,
    "start_time": "2024-02-10T14:21:28.859Z"
   },
   {
    "duration": 13,
    "start_time": "2024-02-10T14:48:42.502Z"
   },
   {
    "duration": 4303,
    "start_time": "2024-02-10T14:49:04.327Z"
   },
   {
    "duration": 6583,
    "start_time": "2024-02-10T14:49:33.254Z"
   },
   {
    "duration": 1249,
    "start_time": "2024-02-10T15:41:34.922Z"
   },
   {
    "duration": 78,
    "start_time": "2024-02-10T15:41:36.173Z"
   },
   {
    "duration": 19,
    "start_time": "2024-02-10T15:41:36.253Z"
   },
   {
    "duration": 15,
    "start_time": "2024-02-10T15:41:36.275Z"
   },
   {
    "duration": 7,
    "start_time": "2024-02-10T15:41:36.292Z"
   },
   {
    "duration": 15,
    "start_time": "2024-02-10T15:41:36.301Z"
   },
   {
    "duration": 190,
    "start_time": "2024-02-10T15:41:36.318Z"
   },
   {
    "duration": 102,
    "start_time": "2024-02-10T15:41:36.510Z"
   },
   {
    "duration": 11,
    "start_time": "2024-02-10T15:41:36.614Z"
   },
   {
    "duration": 14,
    "start_time": "2024-02-10T15:41:36.628Z"
   },
   {
    "duration": 17,
    "start_time": "2024-02-10T15:41:36.644Z"
   },
   {
    "duration": 234,
    "start_time": "2024-02-10T15:41:36.662Z"
   },
   {
    "duration": 112,
    "start_time": "2024-02-10T15:41:36.899Z"
   },
   {
    "duration": 10,
    "start_time": "2024-02-10T15:41:37.013Z"
   },
   {
    "duration": 18,
    "start_time": "2024-02-10T15:41:37.025Z"
   },
   {
    "duration": 23,
    "start_time": "2024-02-10T15:41:37.045Z"
   },
   {
    "duration": 37,
    "start_time": "2024-02-10T15:41:37.070Z"
   },
   {
    "duration": 15,
    "start_time": "2024-02-10T15:41:37.109Z"
   },
   {
    "duration": 9,
    "start_time": "2024-02-10T15:41:37.127Z"
   },
   {
    "duration": 7,
    "start_time": "2024-02-10T15:41:37.138Z"
   },
   {
    "duration": 160,
    "start_time": "2024-02-10T15:41:37.148Z"
   },
   {
    "duration": 8,
    "start_time": "2024-02-10T15:41:37.310Z"
   },
   {
    "duration": 102,
    "start_time": "2024-02-10T15:41:37.319Z"
   },
   {
    "duration": 8,
    "start_time": "2024-02-10T15:41:37.422Z"
   },
   {
    "duration": 268,
    "start_time": "2024-02-10T15:41:37.432Z"
   },
   {
    "duration": 293,
    "start_time": "2024-02-10T15:41:37.702Z"
   },
   {
    "duration": 347,
    "start_time": "2024-02-10T15:41:37.997Z"
   },
   {
    "duration": 9,
    "start_time": "2024-02-10T15:41:38.358Z"
   },
   {
    "duration": 17,
    "start_time": "2024-02-10T15:41:38.369Z"
   },
   {
    "duration": 182,
    "start_time": "2024-02-10T15:41:38.388Z"
   },
   {
    "duration": 6,
    "start_time": "2024-02-10T15:41:38.572Z"
   },
   {
    "duration": 283,
    "start_time": "2024-02-10T15:41:38.579Z"
   },
   {
    "duration": 7,
    "start_time": "2024-02-10T15:41:38.864Z"
   },
   {
    "duration": 275,
    "start_time": "2024-02-10T15:41:38.872Z"
   },
   {
    "duration": 209,
    "start_time": "2024-02-10T15:41:39.149Z"
   },
   {
    "duration": 9,
    "start_time": "2024-02-10T15:41:39.360Z"
   },
   {
    "duration": 27,
    "start_time": "2024-02-10T15:41:39.371Z"
   },
   {
    "duration": 16,
    "start_time": "2024-02-10T15:41:39.400Z"
   },
   {
    "duration": 47,
    "start_time": "2024-02-10T15:41:39.419Z"
   },
   {
    "duration": 14,
    "start_time": "2024-02-10T15:41:39.468Z"
   },
   {
    "duration": 33,
    "start_time": "2024-02-10T15:41:39.483Z"
   },
   {
    "duration": 21,
    "start_time": "2024-02-10T15:41:39.518Z"
   },
   {
    "duration": 297,
    "start_time": "2024-02-10T15:41:39.541Z"
   },
   {
    "duration": 387,
    "start_time": "2024-02-10T15:41:39.839Z"
   },
   {
    "duration": 202,
    "start_time": "2024-02-10T15:41:40.228Z"
   },
   {
    "duration": 281,
    "start_time": "2024-02-10T15:41:40.432Z"
   },
   {
    "duration": 279,
    "start_time": "2024-02-10T15:41:40.715Z"
   },
   {
    "duration": 7,
    "start_time": "2024-02-10T15:41:40.996Z"
   },
   {
    "duration": 990,
    "start_time": "2024-02-10T15:41:41.004Z"
   },
   {
    "duration": 12,
    "start_time": "2024-02-10T15:41:41.996Z"
   },
   {
    "duration": 14,
    "start_time": "2024-02-10T15:41:42.010Z"
   },
   {
    "duration": 36,
    "start_time": "2024-02-10T15:41:42.027Z"
   },
   {
    "duration": 5,
    "start_time": "2024-02-10T15:41:42.065Z"
   },
   {
    "duration": 175,
    "start_time": "2024-02-10T15:41:42.071Z"
   },
   {
    "duration": 124,
    "start_time": "2024-02-10T15:41:42.248Z"
   },
   {
    "duration": 0,
    "start_time": "2024-02-10T15:41:42.374Z"
   },
   {
    "duration": 0,
    "start_time": "2024-02-10T15:41:42.375Z"
   },
   {
    "duration": 0,
    "start_time": "2024-02-10T15:41:42.376Z"
   },
   {
    "duration": 0,
    "start_time": "2024-02-10T15:41:42.377Z"
   },
   {
    "duration": 0,
    "start_time": "2024-02-10T15:41:42.379Z"
   },
   {
    "duration": 0,
    "start_time": "2024-02-10T15:41:42.380Z"
   },
   {
    "duration": 0,
    "start_time": "2024-02-10T15:41:42.381Z"
   },
   {
    "duration": 12,
    "start_time": "2024-02-10T16:09:06.462Z"
   },
   {
    "duration": 1581,
    "start_time": "2024-02-10T16:18:17.792Z"
   },
   {
    "duration": 214,
    "start_time": "2024-02-10T16:18:19.375Z"
   },
   {
    "duration": 10,
    "start_time": "2024-02-10T16:18:19.590Z"
   },
   {
    "duration": 0,
    "start_time": "2024-02-10T16:18:19.602Z"
   },
   {
    "duration": 0,
    "start_time": "2024-02-10T16:18:19.603Z"
   },
   {
    "duration": 10,
    "start_time": "2024-02-10T16:21:17.796Z"
   },
   {
    "duration": 1171,
    "start_time": "2024-02-10T16:23:44.793Z"
   },
   {
    "duration": 218,
    "start_time": "2024-02-10T16:23:45.966Z"
   },
   {
    "duration": 14,
    "start_time": "2024-02-10T16:23:46.186Z"
   },
   {
    "duration": 12,
    "start_time": "2024-02-10T16:23:46.202Z"
   },
   {
    "duration": 7,
    "start_time": "2024-02-10T16:23:46.216Z"
   },
   {
    "duration": 14,
    "start_time": "2024-02-10T16:23:46.224Z"
   },
   {
    "duration": 178,
    "start_time": "2024-02-10T16:23:46.240Z"
   },
   {
    "duration": 139,
    "start_time": "2024-02-10T16:23:46.419Z"
   },
   {
    "duration": 11,
    "start_time": "2024-02-10T16:23:46.560Z"
   },
   {
    "duration": 14,
    "start_time": "2024-02-10T16:23:46.572Z"
   },
   {
    "duration": 17,
    "start_time": "2024-02-10T16:23:46.588Z"
   },
   {
    "duration": 266,
    "start_time": "2024-02-10T16:23:46.607Z"
   },
   {
    "duration": 78,
    "start_time": "2024-02-10T16:23:46.875Z"
   },
   {
    "duration": 8,
    "start_time": "2024-02-10T16:23:46.957Z"
   },
   {
    "duration": 26,
    "start_time": "2024-02-10T16:23:46.966Z"
   },
   {
    "duration": 27,
    "start_time": "2024-02-10T16:23:46.994Z"
   },
   {
    "duration": 12,
    "start_time": "2024-02-10T16:23:47.023Z"
   },
   {
    "duration": 4,
    "start_time": "2024-02-10T16:23:47.037Z"
   },
   {
    "duration": 16,
    "start_time": "2024-02-10T16:23:47.043Z"
   },
   {
    "duration": 7,
    "start_time": "2024-02-10T16:23:47.061Z"
   },
   {
    "duration": 160,
    "start_time": "2024-02-10T16:23:47.070Z"
   },
   {
    "duration": 7,
    "start_time": "2024-02-10T16:23:47.232Z"
   },
   {
    "duration": 98,
    "start_time": "2024-02-10T16:23:47.241Z"
   },
   {
    "duration": 20,
    "start_time": "2024-02-10T16:23:47.340Z"
   },
   {
    "duration": 257,
    "start_time": "2024-02-10T16:23:47.361Z"
   },
   {
    "duration": 277,
    "start_time": "2024-02-10T16:23:47.620Z"
   },
   {
    "duration": 330,
    "start_time": "2024-02-10T16:23:47.899Z"
   },
   {
    "duration": 7,
    "start_time": "2024-02-10T16:23:48.231Z"
   },
   {
    "duration": 22,
    "start_time": "2024-02-10T16:23:48.240Z"
   },
   {
    "duration": 177,
    "start_time": "2024-02-10T16:23:48.264Z"
   },
   {
    "duration": 5,
    "start_time": "2024-02-10T16:23:48.443Z"
   },
   {
    "duration": 276,
    "start_time": "2024-02-10T16:23:48.459Z"
   },
   {
    "duration": 7,
    "start_time": "2024-02-10T16:23:48.737Z"
   },
   {
    "duration": 275,
    "start_time": "2024-02-10T16:23:48.746Z"
   },
   {
    "duration": 204,
    "start_time": "2024-02-10T16:23:49.023Z"
   },
   {
    "duration": 10,
    "start_time": "2024-02-10T16:23:49.228Z"
   },
   {
    "duration": 42,
    "start_time": "2024-02-10T16:23:49.239Z"
   },
   {
    "duration": 15,
    "start_time": "2024-02-10T16:23:49.283Z"
   },
   {
    "duration": 22,
    "start_time": "2024-02-10T16:23:49.300Z"
   },
   {
    "duration": 12,
    "start_time": "2024-02-10T16:23:49.324Z"
   },
   {
    "duration": 17,
    "start_time": "2024-02-10T16:23:49.358Z"
   },
   {
    "duration": 25,
    "start_time": "2024-02-10T16:23:49.377Z"
   },
   {
    "duration": 281,
    "start_time": "2024-02-10T16:23:49.403Z"
   },
   {
    "duration": 290,
    "start_time": "2024-02-10T16:23:49.686Z"
   },
   {
    "duration": 280,
    "start_time": "2024-02-10T16:23:49.978Z"
   },
   {
    "duration": 288,
    "start_time": "2024-02-10T16:23:50.260Z"
   },
   {
    "duration": 265,
    "start_time": "2024-02-10T16:23:50.550Z"
   },
   {
    "duration": 6,
    "start_time": "2024-02-10T16:23:50.817Z"
   },
   {
    "duration": 982,
    "start_time": "2024-02-10T16:23:50.825Z"
   },
   {
    "duration": 11,
    "start_time": "2024-02-10T16:23:51.809Z"
   },
   {
    "duration": 21,
    "start_time": "2024-02-10T16:23:51.822Z"
   },
   {
    "duration": 12,
    "start_time": "2024-02-10T16:23:51.859Z"
   },
   {
    "duration": 29,
    "start_time": "2024-02-10T16:23:51.872Z"
   },
   {
    "duration": 170,
    "start_time": "2024-02-10T16:23:51.903Z"
   },
   {
    "duration": 110,
    "start_time": "2024-02-10T16:23:52.075Z"
   },
   {
    "duration": 0,
    "start_time": "2024-02-10T16:23:52.187Z"
   },
   {
    "duration": 0,
    "start_time": "2024-02-10T16:23:52.188Z"
   },
   {
    "duration": 0,
    "start_time": "2024-02-10T16:23:52.189Z"
   },
   {
    "duration": 0,
    "start_time": "2024-02-10T16:23:52.191Z"
   },
   {
    "duration": 0,
    "start_time": "2024-02-10T16:23:52.192Z"
   },
   {
    "duration": 0,
    "start_time": "2024-02-10T16:23:52.193Z"
   },
   {
    "duration": 0,
    "start_time": "2024-02-10T16:23:52.194Z"
   },
   {
    "duration": 1511,
    "start_time": "2024-02-11T03:55:32.919Z"
   },
   {
    "duration": 119,
    "start_time": "2024-02-11T03:55:34.432Z"
   },
   {
    "duration": 13,
    "start_time": "2024-02-11T03:55:34.553Z"
   },
   {
    "duration": 18,
    "start_time": "2024-02-11T03:55:34.567Z"
   },
   {
    "duration": 5,
    "start_time": "2024-02-11T03:55:34.588Z"
   },
   {
    "duration": 13,
    "start_time": "2024-02-11T03:55:34.595Z"
   },
   {
    "duration": 166,
    "start_time": "2024-02-11T03:55:34.609Z"
   },
   {
    "duration": 460,
    "start_time": "2024-02-11T03:55:34.776Z"
   },
   {
    "duration": 10,
    "start_time": "2024-02-11T03:55:35.237Z"
   },
   {
    "duration": 15,
    "start_time": "2024-02-11T03:55:35.248Z"
   },
   {
    "duration": 9,
    "start_time": "2024-02-11T03:55:35.265Z"
   },
   {
    "duration": 226,
    "start_time": "2024-02-11T03:55:35.275Z"
   },
   {
    "duration": 114,
    "start_time": "2024-02-11T03:55:35.503Z"
   },
   {
    "duration": 7,
    "start_time": "2024-02-11T03:55:35.620Z"
   },
   {
    "duration": 11,
    "start_time": "2024-02-11T03:55:35.628Z"
   },
   {
    "duration": 19,
    "start_time": "2024-02-11T03:55:35.640Z"
   },
   {
    "duration": 11,
    "start_time": "2024-02-11T03:55:35.660Z"
   },
   {
    "duration": 4,
    "start_time": "2024-02-11T03:55:35.672Z"
   },
   {
    "duration": 8,
    "start_time": "2024-02-11T03:55:35.677Z"
   },
   {
    "duration": 5,
    "start_time": "2024-02-11T03:55:35.686Z"
   },
   {
    "duration": 167,
    "start_time": "2024-02-11T03:55:35.693Z"
   },
   {
    "duration": 12,
    "start_time": "2024-02-11T03:55:35.862Z"
   },
   {
    "duration": 78,
    "start_time": "2024-02-11T03:55:35.875Z"
   },
   {
    "duration": 22,
    "start_time": "2024-02-11T03:55:35.955Z"
   },
   {
    "duration": 272,
    "start_time": "2024-02-11T03:55:35.979Z"
   },
   {
    "duration": 274,
    "start_time": "2024-02-11T03:55:36.253Z"
   },
   {
    "duration": 318,
    "start_time": "2024-02-11T03:55:36.529Z"
   },
   {
    "duration": 6,
    "start_time": "2024-02-11T03:55:36.849Z"
   },
   {
    "duration": 19,
    "start_time": "2024-02-11T03:55:36.856Z"
   },
   {
    "duration": 200,
    "start_time": "2024-02-11T03:55:36.877Z"
   },
   {
    "duration": 12,
    "start_time": "2024-02-11T03:55:37.079Z"
   },
   {
    "duration": 267,
    "start_time": "2024-02-11T03:55:37.093Z"
   },
   {
    "duration": 17,
    "start_time": "2024-02-11T03:55:37.362Z"
   },
   {
    "duration": 265,
    "start_time": "2024-02-11T03:55:37.381Z"
   },
   {
    "duration": 195,
    "start_time": "2024-02-11T03:55:37.647Z"
   },
   {
    "duration": 8,
    "start_time": "2024-02-11T03:55:37.844Z"
   },
   {
    "duration": 35,
    "start_time": "2024-02-11T03:55:37.853Z"
   },
   {
    "duration": 13,
    "start_time": "2024-02-11T03:55:37.890Z"
   },
   {
    "duration": 47,
    "start_time": "2024-02-11T03:55:37.905Z"
   },
   {
    "duration": 13,
    "start_time": "2024-02-11T03:55:37.954Z"
   },
   {
    "duration": 28,
    "start_time": "2024-02-11T03:55:37.972Z"
   },
   {
    "duration": 19,
    "start_time": "2024-02-11T03:55:38.001Z"
   },
   {
    "duration": 259,
    "start_time": "2024-02-11T03:55:38.022Z"
   },
   {
    "duration": 297,
    "start_time": "2024-02-11T03:55:38.283Z"
   },
   {
    "duration": 294,
    "start_time": "2024-02-11T03:55:38.582Z"
   },
   {
    "duration": 264,
    "start_time": "2024-02-11T03:55:38.877Z"
   },
   {
    "duration": 261,
    "start_time": "2024-02-11T03:55:39.143Z"
   },
   {
    "duration": 5,
    "start_time": "2024-02-11T03:55:39.406Z"
   },
   {
    "duration": 883,
    "start_time": "2024-02-11T03:55:39.413Z"
   },
   {
    "duration": 12,
    "start_time": "2024-02-11T03:55:40.298Z"
   },
   {
    "duration": 12,
    "start_time": "2024-02-11T03:55:40.312Z"
   },
   {
    "duration": 13,
    "start_time": "2024-02-11T03:55:40.326Z"
   },
   {
    "duration": 5,
    "start_time": "2024-02-11T03:55:40.341Z"
   },
   {
    "duration": 163,
    "start_time": "2024-02-11T03:55:40.374Z"
   },
   {
    "duration": 5,
    "start_time": "2024-02-11T03:55:40.538Z"
   },
   {
    "duration": 24,
    "start_time": "2024-02-11T03:55:40.545Z"
   },
   {
    "duration": 18,
    "start_time": "2024-02-11T03:55:40.571Z"
   },
   {
    "duration": 1558,
    "start_time": "2024-02-11T03:55:40.591Z"
   },
   {
    "duration": 227,
    "start_time": "2024-02-11T03:55:42.151Z"
   },
   {
    "duration": 0,
    "start_time": "2024-02-11T03:55:42.380Z"
   },
   {
    "duration": 0,
    "start_time": "2024-02-11T03:55:42.381Z"
   },
   {
    "duration": 0,
    "start_time": "2024-02-11T03:55:42.383Z"
   },
   {
    "duration": 114,
    "start_time": "2024-02-11T03:56:11.992Z"
   },
   {
    "duration": 206,
    "start_time": "2024-02-11T03:56:19.983Z"
   },
   {
    "duration": 3,
    "start_time": "2024-02-11T03:56:25.771Z"
   },
   {
    "duration": 70,
    "start_time": "2024-02-11T03:56:25.786Z"
   },
   {
    "duration": 10,
    "start_time": "2024-02-11T03:56:25.857Z"
   },
   {
    "duration": 23,
    "start_time": "2024-02-11T03:56:25.869Z"
   },
   {
    "duration": 13,
    "start_time": "2024-02-11T03:56:25.894Z"
   },
   {
    "duration": 16,
    "start_time": "2024-02-11T03:56:25.909Z"
   },
   {
    "duration": 163,
    "start_time": "2024-02-11T03:56:25.927Z"
   },
   {
    "duration": 115,
    "start_time": "2024-02-11T03:56:26.092Z"
   },
   {
    "duration": 15,
    "start_time": "2024-02-11T03:56:26.208Z"
   },
   {
    "duration": 19,
    "start_time": "2024-02-11T03:56:26.224Z"
   },
   {
    "duration": 8,
    "start_time": "2024-02-11T03:56:26.244Z"
   },
   {
    "duration": 208,
    "start_time": "2024-02-11T03:56:26.253Z"
   },
   {
    "duration": 83,
    "start_time": "2024-02-11T03:56:26.463Z"
   },
   {
    "duration": 7,
    "start_time": "2024-02-11T03:56:26.549Z"
   },
   {
    "duration": 14,
    "start_time": "2024-02-11T03:56:26.557Z"
   },
   {
    "duration": 19,
    "start_time": "2024-02-11T03:56:26.573Z"
   },
   {
    "duration": 10,
    "start_time": "2024-02-11T03:56:26.593Z"
   },
   {
    "duration": 4,
    "start_time": "2024-02-11T03:56:26.604Z"
   },
   {
    "duration": 126,
    "start_time": "2024-02-11T03:56:26.609Z"
   },
   {
    "duration": 5,
    "start_time": "2024-02-11T03:56:26.737Z"
   },
   {
    "duration": 166,
    "start_time": "2024-02-11T03:56:26.744Z"
   },
   {
    "duration": 7,
    "start_time": "2024-02-11T03:56:26.912Z"
   },
   {
    "duration": 108,
    "start_time": "2024-02-11T03:56:26.920Z"
   },
   {
    "duration": 8,
    "start_time": "2024-02-11T03:56:27.029Z"
   },
   {
    "duration": 256,
    "start_time": "2024-02-11T03:56:27.038Z"
   },
   {
    "duration": 281,
    "start_time": "2024-02-11T03:56:27.296Z"
   },
   {
    "duration": 245,
    "start_time": "2024-02-11T03:56:27.579Z"
   },
   {
    "duration": 7,
    "start_time": "2024-02-11T03:56:27.826Z"
   },
   {
    "duration": 7,
    "start_time": "2024-02-11T03:56:27.834Z"
   },
   {
    "duration": 190,
    "start_time": "2024-02-11T03:56:27.842Z"
   },
   {
    "duration": 6,
    "start_time": "2024-02-11T03:56:28.033Z"
   },
   {
    "duration": 293,
    "start_time": "2024-02-11T03:56:28.041Z"
   },
   {
    "duration": 6,
    "start_time": "2024-02-11T03:56:28.336Z"
   },
   {
    "duration": 272,
    "start_time": "2024-02-11T03:56:28.343Z"
   },
   {
    "duration": 192,
    "start_time": "2024-02-11T03:56:28.616Z"
   },
   {
    "duration": 8,
    "start_time": "2024-02-11T03:56:28.810Z"
   },
   {
    "duration": 25,
    "start_time": "2024-02-11T03:56:28.820Z"
   },
   {
    "duration": 28,
    "start_time": "2024-02-11T03:56:28.847Z"
   },
   {
    "duration": 25,
    "start_time": "2024-02-11T03:56:28.876Z"
   },
   {
    "duration": 11,
    "start_time": "2024-02-11T03:56:28.902Z"
   },
   {
    "duration": 15,
    "start_time": "2024-02-11T03:56:28.917Z"
   },
   {
    "duration": 43,
    "start_time": "2024-02-11T03:56:28.934Z"
   },
   {
    "duration": 268,
    "start_time": "2024-02-11T03:56:28.978Z"
   },
   {
    "duration": 426,
    "start_time": "2024-02-11T03:56:29.248Z"
   },
   {
    "duration": 197,
    "start_time": "2024-02-11T03:56:29.676Z"
   },
   {
    "duration": 265,
    "start_time": "2024-02-11T03:56:29.874Z"
   },
   {
    "duration": 274,
    "start_time": "2024-02-11T03:56:30.141Z"
   },
   {
    "duration": 5,
    "start_time": "2024-02-11T03:56:30.416Z"
   },
   {
    "duration": 981,
    "start_time": "2024-02-11T03:56:30.423Z"
   },
   {
    "duration": 12,
    "start_time": "2024-02-11T03:56:31.406Z"
   },
   {
    "duration": 41,
    "start_time": "2024-02-11T03:56:31.419Z"
   },
   {
    "duration": 32,
    "start_time": "2024-02-11T03:56:31.461Z"
   },
   {
    "duration": 41,
    "start_time": "2024-02-11T03:56:31.495Z"
   },
   {
    "duration": 192,
    "start_time": "2024-02-11T03:56:31.537Z"
   },
   {
    "duration": 7,
    "start_time": "2024-02-11T03:56:31.731Z"
   },
   {
    "duration": 5,
    "start_time": "2024-02-11T03:56:31.740Z"
   },
   {
    "duration": 28,
    "start_time": "2024-02-11T03:56:31.747Z"
   },
   {
    "duration": 1662,
    "start_time": "2024-02-11T03:56:31.777Z"
   },
   {
    "duration": 217,
    "start_time": "2024-02-11T03:56:33.440Z"
   },
   {
    "duration": 6,
    "start_time": "2024-02-11T03:56:33.658Z"
   },
   {
    "duration": 12,
    "start_time": "2024-02-11T03:56:33.665Z"
   },
   {
    "duration": 5181,
    "start_time": "2024-02-11T03:56:33.682Z"
   },
   {
    "duration": 148,
    "start_time": "2024-02-11T04:10:13.129Z"
   },
   {
    "duration": 145,
    "start_time": "2024-02-11T04:10:54.633Z"
   },
   {
    "duration": 144,
    "start_time": "2024-02-11T04:11:18.968Z"
   },
   {
    "duration": 126,
    "start_time": "2024-02-11T04:11:46.928Z"
   },
   {
    "duration": 153,
    "start_time": "2024-02-11T04:12:38.529Z"
   },
   {
    "duration": 147,
    "start_time": "2024-02-11T04:12:45.770Z"
   },
   {
    "duration": 178,
    "start_time": "2024-02-11T04:13:14.010Z"
   },
   {
    "duration": 170,
    "start_time": "2024-02-11T04:15:18.666Z"
   },
   {
    "duration": 194,
    "start_time": "2024-02-11T04:16:27.130Z"
   },
   {
    "duration": 145,
    "start_time": "2024-02-11T04:16:58.947Z"
   },
   {
    "duration": 173,
    "start_time": "2024-02-11T04:17:20.075Z"
   },
   {
    "duration": 149,
    "start_time": "2024-02-11T04:18:10.955Z"
   },
   {
    "duration": 5,
    "start_time": "2024-02-11T04:19:58.787Z"
   },
   {
    "duration": 5,
    "start_time": "2024-02-11T04:20:11.562Z"
   },
   {
    "duration": 126,
    "start_time": "2024-02-11T04:22:12.948Z"
   },
   {
    "duration": 11,
    "start_time": "2024-02-11T04:23:03.124Z"
   },
   {
    "duration": 434,
    "start_time": "2024-02-11T04:23:06.988Z"
   },
   {
    "duration": 132,
    "start_time": "2024-02-11T04:23:42.292Z"
   },
   {
    "duration": 135,
    "start_time": "2024-02-11T04:23:47.828Z"
   },
   {
    "duration": 144,
    "start_time": "2024-02-11T04:24:06.356Z"
   },
   {
    "duration": 153,
    "start_time": "2024-02-11T04:24:26.972Z"
   },
   {
    "duration": 140,
    "start_time": "2024-02-11T04:24:50.654Z"
   },
   {
    "duration": 158,
    "start_time": "2024-02-11T04:25:01.445Z"
   },
   {
    "duration": 84,
    "start_time": "2024-02-11T04:26:31.205Z"
   },
   {
    "duration": 61,
    "start_time": "2024-02-11T04:28:14.502Z"
   },
   {
    "duration": 64,
    "start_time": "2024-02-11T04:28:36.278Z"
   },
   {
    "duration": 79,
    "start_time": "2024-02-11T04:28:54.276Z"
   },
   {
    "duration": 111,
    "start_time": "2024-02-11T04:29:47.116Z"
   },
   {
    "duration": 81,
    "start_time": "2024-02-11T04:30:14.397Z"
   },
   {
    "duration": 78,
    "start_time": "2024-02-11T04:30:18.859Z"
   },
   {
    "duration": 237,
    "start_time": "2024-02-11T04:32:06.730Z"
   },
   {
    "duration": 272,
    "start_time": "2024-02-11T04:32:30.466Z"
   },
   {
    "duration": 250,
    "start_time": "2024-02-11T04:32:45.129Z"
   },
   {
    "duration": 247,
    "start_time": "2024-02-11T04:33:36.624Z"
   },
   {
    "duration": 245,
    "start_time": "2024-02-11T04:33:43.033Z"
   },
   {
    "duration": 269,
    "start_time": "2024-02-11T04:33:54.745Z"
   },
   {
    "duration": 9,
    "start_time": "2024-02-11T04:35:16.448Z"
   },
   {
    "duration": 278,
    "start_time": "2024-02-11T04:36:27.888Z"
   },
   {
    "duration": 253,
    "start_time": "2024-02-11T04:36:59.072Z"
   },
   {
    "duration": 258,
    "start_time": "2024-02-11T04:37:06.703Z"
   },
   {
    "duration": 258,
    "start_time": "2024-02-11T04:37:25.199Z"
   },
   {
    "duration": 260,
    "start_time": "2024-02-11T04:43:51.526Z"
   },
   {
    "duration": 294,
    "start_time": "2024-02-11T04:44:36.422Z"
   },
   {
    "duration": 259,
    "start_time": "2024-02-11T04:48:15.966Z"
   },
   {
    "duration": 267,
    "start_time": "2024-02-11T04:49:20.862Z"
   },
   {
    "duration": 315,
    "start_time": "2024-02-11T04:49:56.901Z"
   },
   {
    "duration": 604,
    "start_time": "2024-02-11T04:50:34.526Z"
   },
   {
    "duration": 340,
    "start_time": "2024-02-11T04:51:13.798Z"
   },
   {
    "duration": 347,
    "start_time": "2024-02-11T04:51:50.918Z"
   },
   {
    "duration": 292,
    "start_time": "2024-02-11T04:53:02.134Z"
   },
   {
    "duration": 197,
    "start_time": "2024-02-11T04:53:36.485Z"
   },
   {
    "duration": 198,
    "start_time": "2024-02-11T04:54:05.631Z"
   },
   {
    "duration": 110,
    "start_time": "2024-02-11T04:54:47.061Z"
   },
   {
    "duration": 83,
    "start_time": "2024-02-11T04:54:59.158Z"
   },
   {
    "duration": 201,
    "start_time": "2024-02-11T04:55:24.572Z"
   },
   {
    "duration": 207,
    "start_time": "2024-02-11T04:55:42.030Z"
   },
   {
    "duration": 194,
    "start_time": "2024-02-11T04:55:59.518Z"
   },
   {
    "duration": 3,
    "start_time": "2024-02-11T04:59:47.966Z"
   },
   {
    "duration": 4,
    "start_time": "2024-02-11T05:00:20.142Z"
   },
   {
    "duration": 4,
    "start_time": "2024-02-11T05:00:31.902Z"
   },
   {
    "duration": 4,
    "start_time": "2024-02-11T05:02:13.214Z"
   },
   {
    "duration": 3,
    "start_time": "2024-02-11T05:05:17.970Z"
   },
   {
    "duration": 95,
    "start_time": "2024-02-11T05:05:52.227Z"
   },
   {
    "duration": 4,
    "start_time": "2024-02-11T05:05:57.700Z"
   },
   {
    "duration": 9,
    "start_time": "2024-02-11T05:41:10.634Z"
   },
   {
    "duration": 209,
    "start_time": "2024-02-11T05:41:22.280Z"
   },
   {
    "duration": 257,
    "start_time": "2024-02-11T05:42:00.041Z"
   },
   {
    "duration": 264,
    "start_time": "2024-02-11T05:42:18.761Z"
   },
   {
    "duration": 214,
    "start_time": "2024-02-11T05:42:36.624Z"
   },
   {
    "duration": 217,
    "start_time": "2024-02-11T05:42:48.713Z"
   },
   {
    "duration": 227,
    "start_time": "2024-02-11T05:43:17.784Z"
   },
   {
    "duration": 249,
    "start_time": "2024-02-11T05:44:04.783Z"
   },
   {
    "duration": 238,
    "start_time": "2024-02-11T05:44:12.960Z"
   },
   {
    "duration": 257,
    "start_time": "2024-02-11T05:44:44.480Z"
   },
   {
    "duration": 8,
    "start_time": "2024-02-11T05:45:22.456Z"
   },
   {
    "duration": 8,
    "start_time": "2024-02-11T05:45:36.223Z"
   },
   {
    "duration": 11,
    "start_time": "2024-02-11T05:46:10.439Z"
   },
   {
    "duration": 10,
    "start_time": "2024-02-11T05:46:26.559Z"
   },
   {
    "duration": 10,
    "start_time": "2024-02-11T05:46:34.519Z"
   },
   {
    "duration": 49,
    "start_time": "2024-02-11T05:46:40.990Z"
   },
   {
    "duration": 40,
    "start_time": "2024-02-11T05:46:47.880Z"
   },
   {
    "duration": 37,
    "start_time": "2024-02-11T05:46:57.991Z"
   },
   {
    "duration": 229,
    "start_time": "2024-02-11T05:47:32.406Z"
   },
   {
    "duration": 621,
    "start_time": "2024-02-11T05:47:44.599Z"
   },
   {
    "duration": 112,
    "start_time": "2024-02-11T05:50:17.069Z"
   },
   {
    "duration": 9,
    "start_time": "2024-02-11T05:51:16.998Z"
   },
   {
    "duration": 120,
    "start_time": "2024-02-11T05:55:32.574Z"
   },
   {
    "duration": 14,
    "start_time": "2024-02-11T05:56:01.286Z"
   },
   {
    "duration": 13,
    "start_time": "2024-02-11T05:56:13.109Z"
   },
   {
    "duration": 14,
    "start_time": "2024-02-11T05:56:16.206Z"
   },
   {
    "duration": 11,
    "start_time": "2024-02-11T05:56:27.187Z"
   },
   {
    "duration": 114,
    "start_time": "2024-02-11T05:56:50.229Z"
   },
   {
    "duration": 121,
    "start_time": "2024-02-11T05:57:43.413Z"
   },
   {
    "duration": 113,
    "start_time": "2024-02-11T05:58:45.646Z"
   },
   {
    "duration": 131,
    "start_time": "2024-02-11T05:59:28.725Z"
   },
   {
    "duration": 128,
    "start_time": "2024-02-11T06:05:26.249Z"
   },
   {
    "duration": 136,
    "start_time": "2024-02-11T06:06:06.853Z"
   },
   {
    "duration": 144,
    "start_time": "2024-02-11T06:08:19.246Z"
   },
   {
    "duration": 124,
    "start_time": "2024-02-11T06:10:58.102Z"
   },
   {
    "duration": 139,
    "start_time": "2024-02-11T06:11:45.335Z"
   },
   {
    "duration": 142,
    "start_time": "2024-02-11T06:12:14.839Z"
   },
   {
    "duration": 146,
    "start_time": "2024-02-11T06:13:01.993Z"
   },
   {
    "duration": 147,
    "start_time": "2024-02-11T06:13:45.531Z"
   },
   {
    "duration": 139,
    "start_time": "2024-02-11T06:14:11.394Z"
   },
   {
    "duration": 149,
    "start_time": "2024-02-11T06:14:32.260Z"
   },
   {
    "duration": 309,
    "start_time": "2024-02-11T06:22:41.115Z"
   },
   {
    "duration": 232,
    "start_time": "2024-02-11T06:22:47.938Z"
   },
   {
    "duration": 178,
    "start_time": "2024-02-11T06:23:25.962Z"
   },
   {
    "duration": 183,
    "start_time": "2024-02-11T06:23:48.124Z"
   },
   {
    "duration": 13,
    "start_time": "2024-02-11T06:26:30.725Z"
   },
   {
    "duration": 85,
    "start_time": "2024-02-11T06:27:28.294Z"
   },
   {
    "duration": 882,
    "start_time": "2024-02-11T06:27:36.245Z"
   },
   {
    "duration": 12,
    "start_time": "2024-02-11T06:27:53.117Z"
   },
   {
    "duration": 14,
    "start_time": "2024-02-11T06:27:55.565Z"
   },
   {
    "duration": 13,
    "start_time": "2024-02-11T06:28:00.030Z"
   },
   {
    "duration": 3,
    "start_time": "2024-02-11T06:29:21.774Z"
   },
   {
    "duration": 257,
    "start_time": "2024-02-11T06:29:23.415Z"
   },
   {
    "duration": 3,
    "start_time": "2024-02-11T06:29:53.430Z"
   },
   {
    "duration": 4,
    "start_time": "2024-02-11T06:36:40.594Z"
   },
   {
    "duration": 10,
    "start_time": "2024-02-11T06:36:51.577Z"
   },
   {
    "duration": 4,
    "start_time": "2024-02-11T06:36:54.656Z"
   },
   {
    "duration": 5,
    "start_time": "2024-02-11T06:37:57.057Z"
   },
   {
    "duration": 88,
    "start_time": "2024-02-11T06:38:14.266Z"
   },
   {
    "duration": 6,
    "start_time": "2024-02-11T06:38:17.497Z"
   },
   {
    "duration": 5,
    "start_time": "2024-02-11T06:39:35.841Z"
   },
   {
    "duration": 7,
    "start_time": "2024-02-11T06:41:17.130Z"
   },
   {
    "duration": 5,
    "start_time": "2024-02-11T06:41:45.195Z"
   },
   {
    "duration": 6,
    "start_time": "2024-02-11T06:41:52.739Z"
   },
   {
    "duration": 8,
    "start_time": "2024-02-11T06:42:06.458Z"
   },
   {
    "duration": 13,
    "start_time": "2024-02-11T06:42:40.179Z"
   },
   {
    "duration": 7,
    "start_time": "2024-02-11T06:42:46.907Z"
   },
   {
    "duration": 8,
    "start_time": "2024-02-11T06:43:29.076Z"
   },
   {
    "duration": 9,
    "start_time": "2024-02-11T06:43:58.636Z"
   },
   {
    "duration": 14,
    "start_time": "2024-02-11T06:44:37.616Z"
   },
   {
    "duration": 12,
    "start_time": "2024-02-11T06:44:59.956Z"
   },
   {
    "duration": 14,
    "start_time": "2024-02-11T06:45:06.476Z"
   },
   {
    "duration": 4,
    "start_time": "2024-02-11T06:50:53.695Z"
   },
   {
    "duration": 14,
    "start_time": "2024-02-11T06:51:23.310Z"
   },
   {
    "duration": 9,
    "start_time": "2024-02-11T06:51:34.445Z"
   },
   {
    "duration": 6,
    "start_time": "2024-02-11T06:52:08.237Z"
   },
   {
    "duration": 15,
    "start_time": "2024-02-11T06:52:51.814Z"
   },
   {
    "duration": 91,
    "start_time": "2024-02-11T06:53:38.798Z"
   },
   {
    "duration": 25,
    "start_time": "2024-02-11T06:53:46.526Z"
   },
   {
    "duration": 24,
    "start_time": "2024-02-11T06:54:11.326Z"
   },
   {
    "duration": 5,
    "start_time": "2024-02-11T06:54:28.382Z"
   },
   {
    "duration": 6,
    "start_time": "2024-02-11T06:54:31.478Z"
   },
   {
    "duration": 6,
    "start_time": "2024-02-11T06:55:51.246Z"
   },
   {
    "duration": 5,
    "start_time": "2024-02-11T06:56:03.007Z"
   },
   {
    "duration": 5,
    "start_time": "2024-02-11T06:56:06.558Z"
   },
   {
    "duration": 5,
    "start_time": "2024-02-11T06:56:10.848Z"
   },
   {
    "duration": 6,
    "start_time": "2024-02-11T06:56:13.462Z"
   },
   {
    "duration": 5,
    "start_time": "2024-02-11T06:56:17.639Z"
   },
   {
    "duration": 7,
    "start_time": "2024-02-11T06:56:22.110Z"
   },
   {
    "duration": 730,
    "start_time": "2024-02-11T06:57:33.081Z"
   },
   {
    "duration": 724,
    "start_time": "2024-02-11T06:57:41.334Z"
   },
   {
    "duration": 9,
    "start_time": "2024-02-11T06:57:51.616Z"
   },
   {
    "duration": 1103,
    "start_time": "2024-02-11T06:57:55.230Z"
   },
   {
    "duration": 1437,
    "start_time": "2024-02-11T07:07:29.080Z"
   },
   {
    "duration": 5,
    "start_time": "2024-02-11T07:13:32.196Z"
   },
   {
    "duration": 5,
    "start_time": "2024-02-11T07:15:53.223Z"
   },
   {
    "duration": 6,
    "start_time": "2024-02-11T07:15:58.412Z"
   },
   {
    "duration": 5,
    "start_time": "2024-02-11T07:16:03.101Z"
   },
   {
    "duration": 5,
    "start_time": "2024-02-11T07:16:08.229Z"
   },
   {
    "duration": 5,
    "start_time": "2024-02-11T07:16:18.950Z"
   },
   {
    "duration": 5,
    "start_time": "2024-02-11T07:16:21.820Z"
   },
   {
    "duration": 4,
    "start_time": "2024-02-11T07:16:26.389Z"
   },
   {
    "duration": 5,
    "start_time": "2024-02-11T07:16:30.229Z"
   },
   {
    "duration": 5,
    "start_time": "2024-02-11T07:16:34.164Z"
   },
   {
    "duration": 4,
    "start_time": "2024-02-11T07:16:37.845Z"
   },
   {
    "duration": 4,
    "start_time": "2024-02-11T07:16:40.956Z"
   },
   {
    "duration": 4,
    "start_time": "2024-02-11T07:16:46.229Z"
   },
   {
    "duration": 3,
    "start_time": "2024-02-11T07:23:18.009Z"
   },
   {
    "duration": 200,
    "start_time": "2024-02-11T07:23:18.014Z"
   },
   {
    "duration": 12,
    "start_time": "2024-02-11T07:23:18.216Z"
   },
   {
    "duration": 12,
    "start_time": "2024-02-11T07:23:18.231Z"
   },
   {
    "duration": 6,
    "start_time": "2024-02-11T07:23:18.245Z"
   },
   {
    "duration": 14,
    "start_time": "2024-02-11T07:23:18.253Z"
   },
   {
    "duration": 164,
    "start_time": "2024-02-11T07:23:18.268Z"
   },
   {
    "duration": 128,
    "start_time": "2024-02-11T07:23:18.434Z"
   },
   {
    "duration": 11,
    "start_time": "2024-02-11T07:23:18.563Z"
   },
   {
    "duration": 12,
    "start_time": "2024-02-11T07:23:18.577Z"
   },
   {
    "duration": 9,
    "start_time": "2024-02-11T07:23:18.591Z"
   },
   {
    "duration": 182,
    "start_time": "2024-02-11T07:23:18.602Z"
   },
   {
    "duration": 159,
    "start_time": "2024-02-11T07:23:18.786Z"
   },
   {
    "duration": 124,
    "start_time": "2024-02-11T07:23:18.946Z"
   },
   {
    "duration": 7,
    "start_time": "2024-02-11T07:23:19.072Z"
   },
   {
    "duration": 10,
    "start_time": "2024-02-11T07:23:19.081Z"
   },
   {
    "duration": 15,
    "start_time": "2024-02-11T07:23:19.093Z"
   },
   {
    "duration": 12,
    "start_time": "2024-02-11T07:23:19.110Z"
   },
   {
    "duration": 5,
    "start_time": "2024-02-11T07:23:19.123Z"
   },
   {
    "duration": 7,
    "start_time": "2024-02-11T07:23:19.130Z"
   },
   {
    "duration": 6,
    "start_time": "2024-02-11T07:23:19.173Z"
   },
   {
    "duration": 8,
    "start_time": "2024-02-11T07:23:19.181Z"
   },
   {
    "duration": 8,
    "start_time": "2024-02-11T07:23:19.191Z"
   },
   {
    "duration": 175,
    "start_time": "2024-02-11T07:23:19.201Z"
   },
   {
    "duration": 7,
    "start_time": "2024-02-11T07:23:19.377Z"
   },
   {
    "duration": 497,
    "start_time": "2024-02-11T07:23:19.385Z"
   },
   {
    "duration": 8,
    "start_time": "2024-02-11T07:23:19.884Z"
   },
   {
    "duration": 267,
    "start_time": "2024-02-11T07:23:19.896Z"
   },
   {
    "duration": 338,
    "start_time": "2024-02-11T07:23:20.164Z"
   },
   {
    "duration": 9,
    "start_time": "2024-02-11T07:23:20.504Z"
   },
   {
    "duration": 309,
    "start_time": "2024-02-11T07:23:20.514Z"
   },
   {
    "duration": 6,
    "start_time": "2024-02-11T07:23:20.825Z"
   },
   {
    "duration": 6,
    "start_time": "2024-02-11T07:23:20.833Z"
   },
   {
    "duration": 187,
    "start_time": "2024-02-11T07:23:20.840Z"
   },
   {
    "duration": 6,
    "start_time": "2024-02-11T07:23:21.029Z"
   },
   {
    "duration": 347,
    "start_time": "2024-02-11T07:23:21.036Z"
   },
   {
    "duration": 7,
    "start_time": "2024-02-11T07:23:21.385Z"
   },
   {
    "duration": 305,
    "start_time": "2024-02-11T07:23:21.394Z"
   },
   {
    "duration": 204,
    "start_time": "2024-02-11T07:23:21.701Z"
   },
   {
    "duration": 9,
    "start_time": "2024-02-11T07:23:21.907Z"
   },
   {
    "duration": 22,
    "start_time": "2024-02-11T07:23:21.917Z"
   },
   {
    "duration": 34,
    "start_time": "2024-02-11T07:23:21.940Z"
   },
   {
    "duration": 43,
    "start_time": "2024-02-11T07:23:21.975Z"
   },
   {
    "duration": 12,
    "start_time": "2024-02-11T07:23:22.020Z"
   },
   {
    "duration": 6,
    "start_time": "2024-02-11T07:23:22.033Z"
   },
   {
    "duration": 29,
    "start_time": "2024-02-11T07:23:22.041Z"
   },
   {
    "duration": 19,
    "start_time": "2024-02-11T07:23:22.072Z"
   },
   {
    "duration": 4,
    "start_time": "2024-02-11T07:23:22.093Z"
   },
   {
    "duration": 277,
    "start_time": "2024-02-11T07:23:22.099Z"
   },
   {
    "duration": 160,
    "start_time": "2024-02-11T07:23:22.378Z"
   },
   {
    "duration": 8,
    "start_time": "2024-02-11T07:23:22.539Z"
   },
   {
    "duration": 25,
    "start_time": "2024-02-11T07:23:22.549Z"
   },
   {
    "duration": 259,
    "start_time": "2024-02-11T07:23:22.575Z"
   },
   {
    "duration": 156,
    "start_time": "2024-02-11T07:23:22.835Z"
   },
   {
    "duration": 208,
    "start_time": "2024-02-11T07:23:22.992Z"
   },
   {
    "duration": 198,
    "start_time": "2024-02-11T07:23:23.202Z"
   },
   {
    "duration": 7,
    "start_time": "2024-02-11T07:23:23.402Z"
   },
   {
    "duration": 19,
    "start_time": "2024-02-11T07:23:23.411Z"
   },
   {
    "duration": 907,
    "start_time": "2024-02-11T07:23:23.431Z"
   },
   {
    "duration": 12,
    "start_time": "2024-02-11T07:23:24.340Z"
   },
   {
    "duration": 28,
    "start_time": "2024-02-11T07:23:24.354Z"
   },
   {
    "duration": 13,
    "start_time": "2024-02-11T07:23:24.384Z"
   },
   {
    "duration": 7,
    "start_time": "2024-02-11T07:23:24.398Z"
   },
   {
    "duration": 234,
    "start_time": "2024-02-11T07:23:24.407Z"
   },
   {
    "duration": 13,
    "start_time": "2024-02-11T07:23:24.643Z"
   },
   {
    "duration": 19,
    "start_time": "2024-02-11T07:23:24.658Z"
   },
   {
    "duration": 29,
    "start_time": "2024-02-11T07:23:24.679Z"
   },
   {
    "duration": 38,
    "start_time": "2024-02-11T07:23:24.710Z"
   },
   {
    "duration": 25,
    "start_time": "2024-02-11T07:23:24.749Z"
   },
   {
    "duration": 1508,
    "start_time": "2024-02-11T07:23:24.776Z"
   },
   {
    "duration": 5,
    "start_time": "2024-02-11T07:23:26.286Z"
   },
   {
    "duration": 12,
    "start_time": "2024-02-11T07:23:26.293Z"
   },
   {
    "duration": 5234,
    "start_time": "2024-02-11T07:23:26.306Z"
   },
   {
    "duration": 4847,
    "start_time": "2024-02-11T07:23:37.653Z"
   },
   {
    "duration": 5831,
    "start_time": "2024-02-11T07:25:13.556Z"
   },
   {
    "duration": 5281,
    "start_time": "2024-02-11T07:25:37.932Z"
   },
   {
    "duration": 5312,
    "start_time": "2024-02-11T07:26:17.301Z"
   },
   {
    "duration": 1483,
    "start_time": "2024-02-11T07:26:59.973Z"
   },
   {
    "duration": 335,
    "start_time": "2024-02-11T07:28:17.661Z"
   },
   {
    "duration": 367,
    "start_time": "2024-02-11T07:28:46.870Z"
   },
   {
    "duration": 358,
    "start_time": "2024-02-11T07:29:05.157Z"
   },
   {
    "duration": 380,
    "start_time": "2024-02-11T07:29:23.781Z"
   },
   {
    "duration": 339,
    "start_time": "2024-02-11T07:29:28.876Z"
   },
   {
    "duration": 330,
    "start_time": "2024-02-11T07:29:42.661Z"
   },
   {
    "duration": 1159,
    "start_time": "2024-02-11T15:41:54.566Z"
   },
   {
    "duration": 100,
    "start_time": "2024-02-11T15:41:55.728Z"
   },
   {
    "duration": 13,
    "start_time": "2024-02-11T15:41:55.830Z"
   },
   {
    "duration": 11,
    "start_time": "2024-02-11T15:41:55.844Z"
   },
   {
    "duration": 5,
    "start_time": "2024-02-11T15:41:55.857Z"
   },
   {
    "duration": 16,
    "start_time": "2024-02-11T15:41:55.863Z"
   },
   {
    "duration": 163,
    "start_time": "2024-02-11T15:41:55.880Z"
   },
   {
    "duration": 164,
    "start_time": "2024-02-11T15:41:56.044Z"
   },
   {
    "duration": 11,
    "start_time": "2024-02-11T15:41:56.210Z"
   },
   {
    "duration": 11,
    "start_time": "2024-02-11T15:41:56.222Z"
   },
   {
    "duration": 13,
    "start_time": "2024-02-11T15:41:56.234Z"
   },
   {
    "duration": 150,
    "start_time": "2024-02-11T15:41:56.249Z"
   },
   {
    "duration": 160,
    "start_time": "2024-02-11T15:41:56.401Z"
   },
   {
    "duration": 108,
    "start_time": "2024-02-11T15:41:56.563Z"
   },
   {
    "duration": 7,
    "start_time": "2024-02-11T15:41:56.673Z"
   },
   {
    "duration": 9,
    "start_time": "2024-02-11T15:41:56.682Z"
   },
   {
    "duration": 16,
    "start_time": "2024-02-11T15:41:56.692Z"
   },
   {
    "duration": 10,
    "start_time": "2024-02-11T15:41:56.710Z"
   },
   {
    "duration": 9,
    "start_time": "2024-02-11T15:41:56.721Z"
   },
   {
    "duration": 5,
    "start_time": "2024-02-11T15:41:56.732Z"
   },
   {
    "duration": 36,
    "start_time": "2024-02-11T15:41:56.739Z"
   },
   {
    "duration": 7,
    "start_time": "2024-02-11T15:41:56.777Z"
   },
   {
    "duration": 12,
    "start_time": "2024-02-11T15:41:56.785Z"
   },
   {
    "duration": 158,
    "start_time": "2024-02-11T15:41:56.799Z"
   },
   {
    "duration": 7,
    "start_time": "2024-02-11T15:41:56.959Z"
   },
   {
    "duration": 87,
    "start_time": "2024-02-11T15:41:56.973Z"
   },
   {
    "duration": 8,
    "start_time": "2024-02-11T15:41:57.076Z"
   },
   {
    "duration": 263,
    "start_time": "2024-02-11T15:41:57.086Z"
   },
   {
    "duration": 304,
    "start_time": "2024-02-11T15:41:57.350Z"
   },
   {
    "duration": 26,
    "start_time": "2024-02-11T15:41:57.656Z"
   },
   {
    "duration": 356,
    "start_time": "2024-02-11T15:41:57.684Z"
   },
   {
    "duration": 6,
    "start_time": "2024-02-11T15:41:58.042Z"
   },
   {
    "duration": 6,
    "start_time": "2024-02-11T15:41:58.049Z"
   },
   {
    "duration": 202,
    "start_time": "2024-02-11T15:41:58.056Z"
   },
   {
    "duration": 5,
    "start_time": "2024-02-11T15:41:58.259Z"
   },
   {
    "duration": 338,
    "start_time": "2024-02-11T15:41:58.273Z"
   },
   {
    "duration": 5,
    "start_time": "2024-02-11T15:41:58.613Z"
   },
   {
    "duration": 309,
    "start_time": "2024-02-11T15:41:58.620Z"
   },
   {
    "duration": 207,
    "start_time": "2024-02-11T15:41:58.931Z"
   },
   {
    "duration": 8,
    "start_time": "2024-02-11T15:41:59.139Z"
   },
   {
    "duration": 33,
    "start_time": "2024-02-11T15:41:59.149Z"
   },
   {
    "duration": 14,
    "start_time": "2024-02-11T15:41:59.183Z"
   },
   {
    "duration": 42,
    "start_time": "2024-02-11T15:41:59.199Z"
   },
   {
    "duration": 12,
    "start_time": "2024-02-11T15:41:59.243Z"
   },
   {
    "duration": 5,
    "start_time": "2024-02-11T15:41:59.256Z"
   },
   {
    "duration": 21,
    "start_time": "2024-02-11T15:41:59.262Z"
   },
   {
    "duration": 15,
    "start_time": "2024-02-11T15:41:59.284Z"
   },
   {
    "duration": 3,
    "start_time": "2024-02-11T15:41:59.301Z"
   },
   {
    "duration": 281,
    "start_time": "2024-02-11T15:41:59.306Z"
   },
   {
    "duration": 159,
    "start_time": "2024-02-11T15:41:59.589Z"
   },
   {
    "duration": 8,
    "start_time": "2024-02-11T15:41:59.750Z"
   },
   {
    "duration": 16,
    "start_time": "2024-02-11T15:41:59.759Z"
   },
   {
    "duration": 351,
    "start_time": "2024-02-11T15:41:59.776Z"
   },
   {
    "duration": 150,
    "start_time": "2024-02-11T15:42:00.128Z"
   },
   {
    "duration": 227,
    "start_time": "2024-02-11T15:42:00.279Z"
   },
   {
    "duration": 183,
    "start_time": "2024-02-11T15:42:00.507Z"
   },
   {
    "duration": 6,
    "start_time": "2024-02-11T15:42:00.692Z"
   },
   {
    "duration": 103,
    "start_time": "2024-02-11T15:42:00.700Z"
   },
   {
    "duration": 949,
    "start_time": "2024-02-11T15:42:00.805Z"
   },
   {
    "duration": 32,
    "start_time": "2024-02-11T15:42:01.756Z"
   },
   {
    "duration": 63,
    "start_time": "2024-02-11T15:42:01.790Z"
   },
   {
    "duration": 55,
    "start_time": "2024-02-11T15:42:01.854Z"
   },
   {
    "duration": 51,
    "start_time": "2024-02-11T15:42:01.912Z"
   },
   {
    "duration": 228,
    "start_time": "2024-02-11T15:42:01.964Z"
   },
   {
    "duration": 15,
    "start_time": "2024-02-11T15:42:02.193Z"
   },
   {
    "duration": 31,
    "start_time": "2024-02-11T15:42:02.210Z"
   },
   {
    "duration": 62,
    "start_time": "2024-02-11T15:42:02.243Z"
   },
   {
    "duration": 55,
    "start_time": "2024-02-11T15:42:02.306Z"
   },
   {
    "duration": 22,
    "start_time": "2024-02-11T15:42:02.363Z"
   },
   {
    "duration": 1617,
    "start_time": "2024-02-11T15:42:02.387Z"
   },
   {
    "duration": 5,
    "start_time": "2024-02-11T15:42:04.005Z"
   },
   {
    "duration": 8,
    "start_time": "2024-02-11T15:42:04.012Z"
   },
   {
    "duration": 4651,
    "start_time": "2024-02-11T15:42:04.022Z"
   },
   {
    "duration": 5,
    "start_time": "2024-02-11T15:45:51.065Z"
   },
   {
    "duration": 6,
    "start_time": "2024-02-11T15:45:55.031Z"
   },
   {
    "duration": 1168,
    "start_time": "2024-02-11T15:47:53.745Z"
   },
   {
    "duration": 77,
    "start_time": "2024-02-11T15:47:54.915Z"
   },
   {
    "duration": 14,
    "start_time": "2024-02-11T15:47:54.994Z"
   },
   {
    "duration": 11,
    "start_time": "2024-02-11T15:47:55.010Z"
   },
   {
    "duration": 17,
    "start_time": "2024-02-11T15:47:55.023Z"
   },
   {
    "duration": 18,
    "start_time": "2024-02-11T15:47:55.042Z"
   },
   {
    "duration": 164,
    "start_time": "2024-02-11T15:47:55.061Z"
   },
   {
    "duration": 90,
    "start_time": "2024-02-11T15:47:55.227Z"
   },
   {
    "duration": 11,
    "start_time": "2024-02-11T15:47:55.318Z"
   },
   {
    "duration": 31,
    "start_time": "2024-02-11T15:47:55.331Z"
   },
   {
    "duration": 11,
    "start_time": "2024-02-11T15:47:55.364Z"
   },
   {
    "duration": 147,
    "start_time": "2024-02-11T15:47:55.377Z"
   },
   {
    "duration": 157,
    "start_time": "2024-02-11T15:47:55.525Z"
   },
   {
    "duration": 62,
    "start_time": "2024-02-11T15:47:55.684Z"
   },
   {
    "duration": 7,
    "start_time": "2024-02-11T15:47:55.748Z"
   },
   {
    "duration": 15,
    "start_time": "2024-02-11T15:47:55.756Z"
   },
   {
    "duration": 14,
    "start_time": "2024-02-11T15:47:55.773Z"
   },
   {
    "duration": 11,
    "start_time": "2024-02-11T15:47:55.789Z"
   },
   {
    "duration": 20,
    "start_time": "2024-02-11T15:47:55.801Z"
   },
   {
    "duration": 28,
    "start_time": "2024-02-11T15:47:55.823Z"
   },
   {
    "duration": 23,
    "start_time": "2024-02-11T15:47:55.852Z"
   },
   {
    "duration": 33,
    "start_time": "2024-02-11T15:47:55.876Z"
   },
   {
    "duration": 44,
    "start_time": "2024-02-11T15:47:55.911Z"
   },
   {
    "duration": 154,
    "start_time": "2024-02-11T15:47:55.956Z"
   },
   {
    "duration": 7,
    "start_time": "2024-02-11T15:47:56.112Z"
   },
   {
    "duration": 96,
    "start_time": "2024-02-11T15:47:56.121Z"
   },
   {
    "duration": 7,
    "start_time": "2024-02-11T15:47:56.219Z"
   },
   {
    "duration": 288,
    "start_time": "2024-02-11T15:47:56.230Z"
   },
   {
    "duration": 308,
    "start_time": "2024-02-11T15:47:56.520Z"
   },
   {
    "duration": 9,
    "start_time": "2024-02-11T15:47:56.830Z"
   },
   {
    "duration": 385,
    "start_time": "2024-02-11T15:47:56.840Z"
   },
   {
    "duration": 6,
    "start_time": "2024-02-11T15:47:57.227Z"
   },
   {
    "duration": 6,
    "start_time": "2024-02-11T15:47:57.235Z"
   },
   {
    "duration": 195,
    "start_time": "2024-02-11T15:47:57.242Z"
   },
   {
    "duration": 6,
    "start_time": "2024-02-11T15:47:57.438Z"
   },
   {
    "duration": 337,
    "start_time": "2024-02-11T15:47:57.445Z"
   },
   {
    "duration": 6,
    "start_time": "2024-02-11T15:47:57.784Z"
   },
   {
    "duration": 291,
    "start_time": "2024-02-11T15:47:57.792Z"
   },
   {
    "duration": 212,
    "start_time": "2024-02-11T15:47:58.085Z"
   },
   {
    "duration": 9,
    "start_time": "2024-02-11T15:47:58.298Z"
   },
   {
    "duration": 39,
    "start_time": "2024-02-11T15:47:58.308Z"
   },
   {
    "duration": 20,
    "start_time": "2024-02-11T15:47:58.349Z"
   },
   {
    "duration": 29,
    "start_time": "2024-02-11T15:47:58.373Z"
   },
   {
    "duration": 16,
    "start_time": "2024-02-11T15:47:58.404Z"
   },
   {
    "duration": 5,
    "start_time": "2024-02-11T15:47:58.422Z"
   },
   {
    "duration": 46,
    "start_time": "2024-02-11T15:47:58.428Z"
   },
   {
    "duration": 15,
    "start_time": "2024-02-11T15:47:58.476Z"
   },
   {
    "duration": 4,
    "start_time": "2024-02-11T15:47:58.493Z"
   },
   {
    "duration": 281,
    "start_time": "2024-02-11T15:47:58.499Z"
   },
   {
    "duration": 165,
    "start_time": "2024-02-11T15:47:58.781Z"
   },
   {
    "duration": 8,
    "start_time": "2024-02-11T15:47:58.948Z"
   },
   {
    "duration": 16,
    "start_time": "2024-02-11T15:47:58.958Z"
   },
   {
    "duration": 322,
    "start_time": "2024-02-11T15:47:58.976Z"
   },
   {
    "duration": 150,
    "start_time": "2024-02-11T15:47:59.300Z"
   },
   {
    "duration": 235,
    "start_time": "2024-02-11T15:47:59.451Z"
   },
   {
    "duration": 183,
    "start_time": "2024-02-11T15:47:59.688Z"
   },
   {
    "duration": 6,
    "start_time": "2024-02-11T15:47:59.873Z"
   },
   {
    "duration": 15,
    "start_time": "2024-02-11T15:47:59.880Z"
   },
   {
    "duration": 917,
    "start_time": "2024-02-11T15:47:59.896Z"
   },
   {
    "duration": 12,
    "start_time": "2024-02-11T15:48:00.814Z"
   },
   {
    "duration": 51,
    "start_time": "2024-02-11T15:48:00.828Z"
   },
   {
    "duration": 35,
    "start_time": "2024-02-11T15:48:00.881Z"
   },
   {
    "duration": 86,
    "start_time": "2024-02-11T15:48:00.918Z"
   },
   {
    "duration": 324,
    "start_time": "2024-02-11T15:48:01.006Z"
   },
   {
    "duration": 12,
    "start_time": "2024-02-11T15:48:01.332Z"
   },
   {
    "duration": 78,
    "start_time": "2024-02-11T15:48:01.346Z"
   },
   {
    "duration": 70,
    "start_time": "2024-02-11T15:48:01.426Z"
   },
   {
    "duration": 66,
    "start_time": "2024-02-11T15:48:01.498Z"
   },
   {
    "duration": 61,
    "start_time": "2024-02-11T15:48:01.566Z"
   },
   {
    "duration": 1566,
    "start_time": "2024-02-11T15:48:01.628Z"
   },
   {
    "duration": 6,
    "start_time": "2024-02-11T15:48:03.195Z"
   },
   {
    "duration": 10,
    "start_time": "2024-02-11T15:48:03.202Z"
   },
   {
    "duration": 4732,
    "start_time": "2024-02-11T15:48:03.214Z"
   }
  ],
  "kernelspec": {
   "display_name": "Python 3 (ipykernel)",
   "language": "python",
   "name": "python3"
  },
  "language_info": {
   "codemirror_mode": {
    "name": "ipython",
    "version": 3
   },
   "file_extension": ".py",
   "mimetype": "text/x-python",
   "name": "python",
   "nbconvert_exporter": "python",
   "pygments_lexer": "ipython3",
   "version": "3.9.12"
  },
  "toc": {
   "base_numbering": 1,
   "nav_menu": {},
   "number_sections": true,
   "sideBar": true,
   "skip_h1_title": true,
   "title_cell": "Table of Contents",
   "title_sidebar": "Contents",
   "toc_cell": false,
   "toc_position": {},
   "toc_section_display": true,
   "toc_window_display": false
  }
 },
 "nbformat": 4,
 "nbformat_minor": 5
}
