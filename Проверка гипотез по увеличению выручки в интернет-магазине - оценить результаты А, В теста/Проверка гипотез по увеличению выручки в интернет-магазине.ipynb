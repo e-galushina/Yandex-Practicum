{
 "cells": [
  {
   "cell_type": "markdown",
   "metadata": {},
   "source": [
    "# Самостоятельный проект. Принятие решений в бизнесе"
   ]
  },
  {
   "cell_type": "markdown",
   "metadata": {},
   "source": [
    "**Цель проекта:** приоритизировать список подготовленных гипотез для увеличения выручки, запустить А/В тест и проанализироват результаты. \n",
    "\n",
    "\n",
    "План работы:\n",
    "1. Подключить необходимые библиотеки для работы\n",
    "2. Изучить общую информацию о наборах данных:\n",
    "    * загрузить файлы\n",
    "    * посмотреть количество данных, их тип, пропущенные значения, дубликаты, название столбцов\n",
    "    * сделать вывод\n",
    "3. Провести предварительную обработку данных:\n",
    "    * переименовать столбцы в соответствии с правилами\n",
    "    * обработать пропуски\n",
    "    * изменить тип данных\n",
    "    * обработать дубликаты\n",
    "    * сделать вывод\n",
    "4. Приоритизация гипотез с помощью фреймворка ICE и фреймворка RICE. \n",
    "5. Проанализировать A/B-тест.\n",
    "    \n",
    "Предоставлено 3 набора данных\n",
    "Структура /datasets/hypothesis.csv:\n",
    "* Hypothesis — краткое описание гипотезы;\n",
    "* Reach — охват пользователей по 10-балльной шкале;\n",
    "* Impact — влияние на пользователей по 10-балльной шкале;\n",
    "* Confidence — уверенность в гипотезе по 10-балльной шкале;\n",
    "* Efforts — затраты ресурсов на проверку гипотезы по 10-балльной шкале. Чем больше значение Efforts, тем дороже проверка гипотезы.\n",
    "\n",
    "\n",
    "Структура /datasets/orders.csv:\n",
    "* transactionId — идентификатор заказа;\n",
    "* visitorId — идентификатор пользователя, совершившего заказ;\n",
    "* date — дата, когда был совершён заказ;\n",
    "* revenue — выручка заказа;\n",
    "* group — группа A/B-теста, в которую попал заказ.\n",
    "\n",
    "\n",
    "Структура /datasets/visitors.csv:\n",
    "* date — дата;\n",
    "* group — группа A/B-теста;\n",
    "* visitors — количество пользователей в указанную дату в указанной группе A/B-теста"
   ]
  },
  {
   "cell_type": "code",
   "execution_count": 8,
   "metadata": {},
   "outputs": [],
   "source": [
    "#подключение библиотек\n",
    "import pandas as pd\n",
    "import numpy as np\n",
    "import matplotlib.pyplot as plt\n",
    "import scipy.stats as stats\n",
    "import datetime as dt\n",
    "from pandas.plotting import register_matplotlib_converters\n",
    "import warnings\n",
    "pd.options.display.max_colwidth = 150"
   ]
  },
  {
   "cell_type": "markdown",
   "metadata": {},
   "source": [
    "##  часть. Приоритизация гипотез"
   ]
  },
  {
   "cell_type": "code",
   "execution_count": 9,
   "metadata": {},
   "outputs": [],
   "source": [
    "#чтение набора данных\n",
    "try:\n",
    "    hypothesis = pd.read_csv('dataset.csv')\n",
    "except:\n",
    "    hypothesis = pd.read_csv('https://dataset.csv')"
   ]
  },
  {
   "cell_type": "code",
   "execution_count": 10,
   "metadata": {},
   "outputs": [
    {
     "name": "stdout",
     "output_type": "stream",
     "text": [
      "<class 'pandas.core.frame.DataFrame'>\n",
      "RangeIndex: 9 entries, 0 to 8\n",
      "Data columns (total 5 columns):\n",
      " #   Column      Non-Null Count  Dtype \n",
      "---  ------      --------------  ----- \n",
      " 0   Hypothesis  9 non-null      object\n",
      " 1   Reach       9 non-null      int64 \n",
      " 2   Impact      9 non-null      int64 \n",
      " 3   Confidence  9 non-null      int64 \n",
      " 4   Efforts     9 non-null      int64 \n",
      "dtypes: int64(4), object(1)\n",
      "memory usage: 488.0+ bytes\n"
     ]
    }
   ],
   "source": [
    "#просмотр общей информации о наборе данных\n",
    "hypothesis.info()"
   ]
  },
  {
   "cell_type": "code",
   "execution_count": 11,
   "metadata": {},
   "outputs": [],
   "source": [
    "hypothesis.columns = hypothesis.columns.str.lower()"
   ]
  },
  {
   "cell_type": "code",
   "execution_count": 12,
   "metadata": {
    "scrolled": true
   },
   "outputs": [
    {
     "data": {
      "text/html": [
       "<div>\n",
       "<style scoped>\n",
       "    .dataframe tbody tr th:only-of-type {\n",
       "        vertical-align: middle;\n",
       "    }\n",
       "\n",
       "    .dataframe tbody tr th {\n",
       "        vertical-align: top;\n",
       "    }\n",
       "\n",
       "    .dataframe thead th {\n",
       "        text-align: right;\n",
       "    }\n",
       "</style>\n",
       "<table border=\"1\" class=\"dataframe\">\n",
       "  <thead>\n",
       "    <tr style=\"text-align: right;\">\n",
       "      <th></th>\n",
       "      <th>hypothesis</th>\n",
       "      <th>reach</th>\n",
       "      <th>impact</th>\n",
       "      <th>confidence</th>\n",
       "      <th>efforts</th>\n",
       "    </tr>\n",
       "  </thead>\n",
       "  <tbody>\n",
       "    <tr>\n",
       "      <th>0</th>\n",
       "      <td>Добавить два новых канала привлечения трафика, что позволит привлекать на 30% больше пользователей</td>\n",
       "      <td>3</td>\n",
       "      <td>10</td>\n",
       "      <td>8</td>\n",
       "      <td>6</td>\n",
       "    </tr>\n",
       "    <tr>\n",
       "      <th>1</th>\n",
       "      <td>Запустить собственную службу доставки, что сократит срок доставки заказов</td>\n",
       "      <td>2</td>\n",
       "      <td>5</td>\n",
       "      <td>4</td>\n",
       "      <td>10</td>\n",
       "    </tr>\n",
       "    <tr>\n",
       "      <th>2</th>\n",
       "      <td>Добавить блоки рекомендаций товаров на сайт интернет магазина, чтобы повысить конверсию и средний чек заказа</td>\n",
       "      <td>8</td>\n",
       "      <td>3</td>\n",
       "      <td>7</td>\n",
       "      <td>3</td>\n",
       "    </tr>\n",
       "    <tr>\n",
       "      <th>3</th>\n",
       "      <td>Изменить структура категорий, что увеличит конверсию, т.к. пользователи быстрее найдут нужный товар</td>\n",
       "      <td>8</td>\n",
       "      <td>3</td>\n",
       "      <td>3</td>\n",
       "      <td>8</td>\n",
       "    </tr>\n",
       "    <tr>\n",
       "      <th>4</th>\n",
       "      <td>Изменить цвет фона главной страницы, чтобы увеличить вовлеченность пользователей</td>\n",
       "      <td>3</td>\n",
       "      <td>1</td>\n",
       "      <td>1</td>\n",
       "      <td>1</td>\n",
       "    </tr>\n",
       "    <tr>\n",
       "      <th>5</th>\n",
       "      <td>Добавить страницу отзывов клиентов о магазине, что позволит увеличить количество заказов</td>\n",
       "      <td>3</td>\n",
       "      <td>2</td>\n",
       "      <td>2</td>\n",
       "      <td>3</td>\n",
       "    </tr>\n",
       "    <tr>\n",
       "      <th>6</th>\n",
       "      <td>Показать на главной странице баннеры с актуальными акциями и распродажами, чтобы увеличить конверсию</td>\n",
       "      <td>5</td>\n",
       "      <td>3</td>\n",
       "      <td>8</td>\n",
       "      <td>3</td>\n",
       "    </tr>\n",
       "    <tr>\n",
       "      <th>7</th>\n",
       "      <td>Добавить форму подписки на все основные страницы, чтобы собрать базу клиентов для email-рассылок</td>\n",
       "      <td>10</td>\n",
       "      <td>7</td>\n",
       "      <td>8</td>\n",
       "      <td>5</td>\n",
       "    </tr>\n",
       "    <tr>\n",
       "      <th>8</th>\n",
       "      <td>Запустить акцию, дающую скидку на товар в день рождения</td>\n",
       "      <td>1</td>\n",
       "      <td>9</td>\n",
       "      <td>9</td>\n",
       "      <td>5</td>\n",
       "    </tr>\n",
       "  </tbody>\n",
       "</table>\n",
       "</div>"
      ],
      "text/plain": [
       "                                                                                                     hypothesis  \\\n",
       "0            Добавить два новых канала привлечения трафика, что позволит привлекать на 30% больше пользователей   \n",
       "1                                     Запустить собственную службу доставки, что сократит срок доставки заказов   \n",
       "2  Добавить блоки рекомендаций товаров на сайт интернет магазина, чтобы повысить конверсию и средний чек заказа   \n",
       "3           Изменить структура категорий, что увеличит конверсию, т.к. пользователи быстрее найдут нужный товар   \n",
       "4                              Изменить цвет фона главной страницы, чтобы увеличить вовлеченность пользователей   \n",
       "5                      Добавить страницу отзывов клиентов о магазине, что позволит увеличить количество заказов   \n",
       "6          Показать на главной странице баннеры с актуальными акциями и распродажами, чтобы увеличить конверсию   \n",
       "7              Добавить форму подписки на все основные страницы, чтобы собрать базу клиентов для email-рассылок   \n",
       "8                                                       Запустить акцию, дающую скидку на товар в день рождения   \n",
       "\n",
       "   reach  impact  confidence  efforts  \n",
       "0      3      10           8        6  \n",
       "1      2       5           4       10  \n",
       "2      8       3           7        3  \n",
       "3      8       3           3        8  \n",
       "4      3       1           1        1  \n",
       "5      3       2           2        3  \n",
       "6      5       3           8        3  \n",
       "7     10       7           8        5  \n",
       "8      1       9           9        5  "
      ]
     },
     "execution_count": 12,
     "metadata": {},
     "output_type": "execute_result"
    }
   ],
   "source": [
    "#просмотр набора данных\n",
    "hypothesis"
   ]
  },
  {
   "cell_type": "code",
   "execution_count": 13,
   "metadata": {},
   "outputs": [
    {
     "name": "stdout",
     "output_type": "stream",
     "text": [
      "                                                                                                     hypothesis  \\\n",
      "8                                                       Запустить акцию, дающую скидку на товар в день рождения   \n",
      "0            Добавить два новых канала привлечения трафика, что позволит привлекать на 30% больше пользователей   \n",
      "7              Добавить форму подписки на все основные страницы, чтобы собрать базу клиентов для email-рассылок   \n",
      "6          Показать на главной странице баннеры с актуальными акциями и распродажами, чтобы увеличить конверсию   \n",
      "2  Добавить блоки рекомендаций товаров на сайт интернет магазина, чтобы повысить конверсию и средний чек заказа   \n",
      "1                                     Запустить собственную службу доставки, что сократит срок доставки заказов   \n",
      "5                      Добавить страницу отзывов клиентов о магазине, что позволит увеличить количество заказов   \n",
      "3           Изменить структура категорий, что увеличит конверсию, т.к. пользователи быстрее найдут нужный товар   \n",
      "4                              Изменить цвет фона главной страницы, чтобы увеличить вовлеченность пользователей   \n",
      "\n",
      "     ICE  \n",
      "8  16.20  \n",
      "0  13.33  \n",
      "7  11.20  \n",
      "6   8.00  \n",
      "2   7.00  \n",
      "1   2.00  \n",
      "5   1.33  \n",
      "3   1.12  \n",
      "4   1.00  \n"
     ]
    }
   ],
   "source": [
    "#фреймворк ICE для приоритизации гипотез\n",
    "hypothesis['ICE'] = round(hypothesis['impact'] * hypothesis['confidence'] / hypothesis['efforts'], 2)\n",
    "print(hypothesis[['hypothesis', 'ICE']].sort_values(by='ICE', ascending = False))"
   ]
  },
  {
   "cell_type": "markdown",
   "metadata": {},
   "source": [
    "Наиболее перспективные гипотезы по ICE: \n",
    "* Запустить акцию, дающую скидку на товар в день рождения   \n",
    "* Добавить два новых канала привлечения трафика, что позволит привлекать на 30% больше пользователей   \n",
    "* Добавить форму подписки на все основные страницы, чтобы собрать базу клиентов для email-рассылок   \n",
    "* Показать на главной странице баннеры с актуальными акциями и распродажами, чтобы увеличить конверсию   \n",
    "* Добавить блоки рекомендаций товаров на сайт интернет магазина, чтобы повысить конверсию и средний чек заказа "
   ]
  },
  {
   "cell_type": "code",
   "execution_count": 14,
   "metadata": {},
   "outputs": [
    {
     "name": "stdout",
     "output_type": "stream",
     "text": [
      "                                                                                                     hypothesis  \\\n",
      "7              Добавить форму подписки на все основные страницы, чтобы собрать базу клиентов для email-рассылок   \n",
      "2  Добавить блоки рекомендаций товаров на сайт интернет магазина, чтобы повысить конверсию и средний чек заказа   \n",
      "0            Добавить два новых канала привлечения трафика, что позволит привлекать на 30% больше пользователей   \n",
      "6          Показать на главной странице баннеры с актуальными акциями и распродажами, чтобы увеличить конверсию   \n",
      "8                                                       Запустить акцию, дающую скидку на товар в день рождения   \n",
      "3           Изменить структура категорий, что увеличит конверсию, т.к. пользователи быстрее найдут нужный товар   \n",
      "1                                     Запустить собственную службу доставки, что сократит срок доставки заказов   \n",
      "5                      Добавить страницу отзывов клиентов о магазине, что позволит увеличить количество заказов   \n",
      "4                              Изменить цвет фона главной страницы, чтобы увеличить вовлеченность пользователей   \n",
      "\n",
      "    RICE  \n",
      "7  112.0  \n",
      "2   56.0  \n",
      "0   40.0  \n",
      "6   40.0  \n",
      "8   16.2  \n",
      "3    9.0  \n",
      "1    4.0  \n",
      "5    4.0  \n",
      "4    3.0  \n"
     ]
    }
   ],
   "source": [
    "#фреймворк RICE для приоритизации гипотез\n",
    "hypothesis['RICE'] = hypothesis['reach'] * hypothesis['impact'] * hypothesis['confidence'] / hypothesis['efforts']\n",
    "print(hypothesis[['hypothesis', 'RICE']].sort_values(by='RICE', ascending=False))"
   ]
  },
  {
   "cell_type": "markdown",
   "metadata": {},
   "source": [
    "Наиболее перспективные гипотезы по RICE: \n",
    "* Добавить форму подписки на все основные страницы, чтобы собрать базу клиентов для email-рассылок   \n",
    "* Добавить блоки рекомендаций товаров на сайт интернет магазина, чтобы повысить конверсию и средний чек заказа   \n",
    "* Добавить два новых канала привлечения трафика, что позволит привлекать на 30% больше пользователей   \n",
    "* Показать на главной странице баннеры с актуальными акциями и распродажами, чтобы увеличить конверсию   \n",
    "* Запустить акцию, дающую скидку на товар в день рождения\n",
    "\n",
    "Приоритет изменился по сравнению с ICE. Это вызвано тем, что показатель reach у гипотез \"Добавить форму подписки на все основные страницы, чтобы собрать базу клиентов для email-рассылок\" и \"Добавить блоки рекомендаций товаров на сайт интернет магазина, чтобы повысить конверсию и средний чек заказа\" высокий: максимальный у первой из перечисленных (10) и второй по значению у второй из перечисленных (8). \n",
    "\n",
    "У гипотезы \"Изменить структура категорий, что увеличит конверсию, т.к. пользователи быстрее найдут нужный товар\" также высокий показатель reach (8), но у этой гипотезы также высокий показатель efforts, поэтому эта гипотеза только на 6 месте по убыванию приоритизации гипотез."
   ]
  },
  {
   "cell_type": "markdown",
   "metadata": {},
   "source": [
    "## Анализ A/B-теста"
   ]
  },
  {
   "cell_type": "code",
   "execution_count": 186,
   "metadata": {},
   "outputs": [],
   "source": [
    "#чтение набора данных\n",
    "try:\n",
    "    orders, visitors = (\n",
    "                        pd.read_csv('dataset1.csv'),\n",
    "                        pd.read_csv('dataset2.csv')\n",
    "                       )\n",
    "except:\n",
    "    orders, visitors = (\n",
    "                        pd.read_csv('https://dataset1.csv'),\n",
    "                        pd.read_csv('https://dataset2.csv')\n",
    "                        )"
   ]
  },
  {
   "cell_type": "code",
   "execution_count": 187,
   "metadata": {},
   "outputs": [
    {
     "name": "stdout",
     "output_type": "stream",
     "text": [
      "<class 'pandas.core.frame.DataFrame'>\n",
      "RangeIndex: 1197 entries, 0 to 1196\n",
      "Data columns (total 5 columns):\n",
      " #   Column         Non-Null Count  Dtype \n",
      "---  ------         --------------  ----- \n",
      " 0   transactionId  1197 non-null   int64 \n",
      " 1   visitorId      1197 non-null   int64 \n",
      " 2   date           1197 non-null   object\n",
      " 3   revenue        1197 non-null   int64 \n",
      " 4   group          1197 non-null   object\n",
      "dtypes: int64(3), object(2)\n",
      "memory usage: 46.9+ KB\n"
     ]
    }
   ],
   "source": [
    "orders.info()"
   ]
  },
  {
   "cell_type": "code",
   "execution_count": 188,
   "metadata": {},
   "outputs": [],
   "source": [
    "#изменим тип данных у столбца дата\n",
    "orders['date'] = orders['date'].map(lambda x: dt.datetime.strptime(x, '%Y-%m-%d'))"
   ]
  },
  {
   "cell_type": "code",
   "execution_count": 189,
   "metadata": {},
   "outputs": [
    {
     "name": "stdout",
     "output_type": "stream",
     "text": [
      "<class 'pandas.core.frame.DataFrame'>\n",
      "RangeIndex: 1197 entries, 0 to 1196\n",
      "Data columns (total 5 columns):\n",
      " #   Column          Non-Null Count  Dtype         \n",
      "---  ------          --------------  -----         \n",
      " 0   transaction_id  1197 non-null   int64         \n",
      " 1   visitor_id      1197 non-null   int64         \n",
      " 2   date            1197 non-null   datetime64[ns]\n",
      " 3   revenue         1197 non-null   int64         \n",
      " 4   group           1197 non-null   object        \n",
      "dtypes: datetime64[ns](1), int64(3), object(1)\n",
      "memory usage: 46.9+ KB\n"
     ]
    }
   ],
   "source": [
    "#приведем название столбцов к змеиному регистру\n",
    "orders.rename(columns = {'transactionId':'transaction_id', 'visitorId':'visitor_id'}, inplace = True )\n",
    "orders.info()"
   ]
  },
  {
   "cell_type": "code",
   "execution_count": 190,
   "metadata": {},
   "outputs": [
    {
     "data": {
      "text/html": [
       "<div>\n",
       "<style scoped>\n",
       "    .dataframe tbody tr th:only-of-type {\n",
       "        vertical-align: middle;\n",
       "    }\n",
       "\n",
       "    .dataframe tbody tr th {\n",
       "        vertical-align: top;\n",
       "    }\n",
       "\n",
       "    .dataframe thead th {\n",
       "        text-align: right;\n",
       "    }\n",
       "</style>\n",
       "<table border=\"1\" class=\"dataframe\">\n",
       "  <thead>\n",
       "    <tr style=\"text-align: right;\">\n",
       "      <th></th>\n",
       "      <th>transaction_id</th>\n",
       "      <th>visitor_id</th>\n",
       "      <th>date</th>\n",
       "      <th>revenue</th>\n",
       "      <th>group</th>\n",
       "    </tr>\n",
       "  </thead>\n",
       "  <tbody>\n",
       "    <tr>\n",
       "      <th>0</th>\n",
       "      <td>3667963787</td>\n",
       "      <td>3312258926</td>\n",
       "      <td>2019-08-15</td>\n",
       "      <td>1650</td>\n",
       "      <td>B</td>\n",
       "    </tr>\n",
       "    <tr>\n",
       "      <th>1</th>\n",
       "      <td>2804400009</td>\n",
       "      <td>3642806036</td>\n",
       "      <td>2019-08-15</td>\n",
       "      <td>730</td>\n",
       "      <td>B</td>\n",
       "    </tr>\n",
       "    <tr>\n",
       "      <th>2</th>\n",
       "      <td>2961555356</td>\n",
       "      <td>4069496402</td>\n",
       "      <td>2019-08-15</td>\n",
       "      <td>400</td>\n",
       "      <td>A</td>\n",
       "    </tr>\n",
       "    <tr>\n",
       "      <th>3</th>\n",
       "      <td>3797467345</td>\n",
       "      <td>1196621759</td>\n",
       "      <td>2019-08-15</td>\n",
       "      <td>9759</td>\n",
       "      <td>B</td>\n",
       "    </tr>\n",
       "    <tr>\n",
       "      <th>4</th>\n",
       "      <td>2282983706</td>\n",
       "      <td>2322279887</td>\n",
       "      <td>2019-08-15</td>\n",
       "      <td>2308</td>\n",
       "      <td>B</td>\n",
       "    </tr>\n",
       "    <tr>\n",
       "      <th>...</th>\n",
       "      <td>...</td>\n",
       "      <td>...</td>\n",
       "      <td>...</td>\n",
       "      <td>...</td>\n",
       "      <td>...</td>\n",
       "    </tr>\n",
       "    <tr>\n",
       "      <th>1192</th>\n",
       "      <td>2662137336</td>\n",
       "      <td>3733762160</td>\n",
       "      <td>2019-08-14</td>\n",
       "      <td>6490</td>\n",
       "      <td>B</td>\n",
       "    </tr>\n",
       "    <tr>\n",
       "      <th>1193</th>\n",
       "      <td>2203539145</td>\n",
       "      <td>370388673</td>\n",
       "      <td>2019-08-14</td>\n",
       "      <td>3190</td>\n",
       "      <td>A</td>\n",
       "    </tr>\n",
       "    <tr>\n",
       "      <th>1194</th>\n",
       "      <td>1807773912</td>\n",
       "      <td>573423106</td>\n",
       "      <td>2019-08-14</td>\n",
       "      <td>10550</td>\n",
       "      <td>A</td>\n",
       "    </tr>\n",
       "    <tr>\n",
       "      <th>1195</th>\n",
       "      <td>1947021204</td>\n",
       "      <td>1614305549</td>\n",
       "      <td>2019-08-14</td>\n",
       "      <td>100</td>\n",
       "      <td>A</td>\n",
       "    </tr>\n",
       "    <tr>\n",
       "      <th>1196</th>\n",
       "      <td>3936777065</td>\n",
       "      <td>2108080724</td>\n",
       "      <td>2019-08-15</td>\n",
       "      <td>202740</td>\n",
       "      <td>B</td>\n",
       "    </tr>\n",
       "  </tbody>\n",
       "</table>\n",
       "<p>1197 rows × 5 columns</p>\n",
       "</div>"
      ],
      "text/plain": [
       "      transaction_id  visitor_id       date  revenue group\n",
       "0         3667963787  3312258926 2019-08-15     1650     B\n",
       "1         2804400009  3642806036 2019-08-15      730     B\n",
       "2         2961555356  4069496402 2019-08-15      400     A\n",
       "3         3797467345  1196621759 2019-08-15     9759     B\n",
       "4         2282983706  2322279887 2019-08-15     2308     B\n",
       "...              ...         ...        ...      ...   ...\n",
       "1192      2662137336  3733762160 2019-08-14     6490     B\n",
       "1193      2203539145   370388673 2019-08-14     3190     A\n",
       "1194      1807773912   573423106 2019-08-14    10550     A\n",
       "1195      1947021204  1614305549 2019-08-14      100     A\n",
       "1196      3936777065  2108080724 2019-08-15   202740     B\n",
       "\n",
       "[1197 rows x 5 columns]"
      ]
     },
     "execution_count": 190,
     "metadata": {},
     "output_type": "execute_result"
    }
   ],
   "source": [
    "orders"
   ]
  },
  {
   "cell_type": "code",
   "execution_count": 191,
   "metadata": {},
   "outputs": [
    {
     "name": "stdout",
     "output_type": "stream",
     "text": [
      "<class 'pandas.core.frame.DataFrame'>\n",
      "RangeIndex: 62 entries, 0 to 61\n",
      "Data columns (total 3 columns):\n",
      " #   Column    Non-Null Count  Dtype \n",
      "---  ------    --------------  ----- \n",
      " 0   date      62 non-null     object\n",
      " 1   group     62 non-null     object\n",
      " 2   visitors  62 non-null     int64 \n",
      "dtypes: int64(1), object(2)\n",
      "memory usage: 1.6+ KB\n"
     ]
    }
   ],
   "source": [
    "visitors.info()"
   ]
  },
  {
   "cell_type": "code",
   "execution_count": 192,
   "metadata": {},
   "outputs": [],
   "source": [
    "#изменим тип данных у столбца дата\n",
    "visitors['date'] = visitors['date'].map(lambda x: dt.datetime.strptime(x, '%Y-%m-%d'))"
   ]
  },
  {
   "cell_type": "code",
   "execution_count": 193,
   "metadata": {},
   "outputs": [
    {
     "data": {
      "text/plain": [
       "0"
      ]
     },
     "execution_count": 193,
     "metadata": {},
     "output_type": "execute_result"
    }
   ],
   "source": [
    "orders.duplicated().sum()"
   ]
  },
  {
   "cell_type": "code",
   "execution_count": 194,
   "metadata": {},
   "outputs": [
    {
     "data": {
      "text/plain": [
       "0"
      ]
     },
     "execution_count": 194,
     "metadata": {},
     "output_type": "execute_result"
    }
   ],
   "source": [
    "visitors.duplicated().sum()"
   ]
  },
  {
   "cell_type": "markdown",
   "metadata": {},
   "source": [
    "В наборах данных orders и visitors нет пропущенных значений и явных дубликатов. Названия колонок в orders приведены к змеиному регистру. Был поменян тип данных у столбца с датой."
   ]
  },
  {
   "cell_type": "code",
   "execution_count": 195,
   "metadata": {},
   "outputs": [
    {
     "data": {
      "text/html": [
       "<div>\n",
       "<style scoped>\n",
       "    .dataframe tbody tr th:only-of-type {\n",
       "        vertical-align: middle;\n",
       "    }\n",
       "\n",
       "    .dataframe tbody tr th {\n",
       "        vertical-align: top;\n",
       "    }\n",
       "\n",
       "    .dataframe thead th {\n",
       "        text-align: right;\n",
       "    }\n",
       "</style>\n",
       "<table border=\"1\" class=\"dataframe\">\n",
       "  <thead>\n",
       "    <tr style=\"text-align: right;\">\n",
       "      <th></th>\n",
       "      <th>transaction_id</th>\n",
       "      <th>visitor_id</th>\n",
       "      <th>date</th>\n",
       "      <th>revenue</th>\n",
       "      <th>group</th>\n",
       "    </tr>\n",
       "  </thead>\n",
       "  <tbody>\n",
       "    <tr>\n",
       "      <th>0</th>\n",
       "      <td>3667963787</td>\n",
       "      <td>3312258926</td>\n",
       "      <td>2019-08-15</td>\n",
       "      <td>1650</td>\n",
       "      <td>B</td>\n",
       "    </tr>\n",
       "    <tr>\n",
       "      <th>1</th>\n",
       "      <td>2804400009</td>\n",
       "      <td>3642806036</td>\n",
       "      <td>2019-08-15</td>\n",
       "      <td>730</td>\n",
       "      <td>B</td>\n",
       "    </tr>\n",
       "    <tr>\n",
       "      <th>2</th>\n",
       "      <td>2961555356</td>\n",
       "      <td>4069496402</td>\n",
       "      <td>2019-08-15</td>\n",
       "      <td>400</td>\n",
       "      <td>A</td>\n",
       "    </tr>\n",
       "    <tr>\n",
       "      <th>3</th>\n",
       "      <td>3797467345</td>\n",
       "      <td>1196621759</td>\n",
       "      <td>2019-08-15</td>\n",
       "      <td>9759</td>\n",
       "      <td>B</td>\n",
       "    </tr>\n",
       "    <tr>\n",
       "      <th>4</th>\n",
       "      <td>2282983706</td>\n",
       "      <td>2322279887</td>\n",
       "      <td>2019-08-15</td>\n",
       "      <td>2308</td>\n",
       "      <td>B</td>\n",
       "    </tr>\n",
       "  </tbody>\n",
       "</table>\n",
       "</div>"
      ],
      "text/plain": [
       "   transaction_id  visitor_id       date  revenue group\n",
       "0      3667963787  3312258926 2019-08-15     1650     B\n",
       "1      2804400009  3642806036 2019-08-15      730     B\n",
       "2      2961555356  4069496402 2019-08-15      400     A\n",
       "3      3797467345  1196621759 2019-08-15     9759     B\n",
       "4      2282983706  2322279887 2019-08-15     2308     B"
      ]
     },
     "execution_count": 195,
     "metadata": {},
     "output_type": "execute_result"
    }
   ],
   "source": [
    "orders.head()"
   ]
  },
  {
   "cell_type": "code",
   "execution_count": 196,
   "metadata": {},
   "outputs": [
    {
     "data": {
      "text/html": [
       "<div>\n",
       "<style scoped>\n",
       "    .dataframe tbody tr th:only-of-type {\n",
       "        vertical-align: middle;\n",
       "    }\n",
       "\n",
       "    .dataframe tbody tr th {\n",
       "        vertical-align: top;\n",
       "    }\n",
       "\n",
       "    .dataframe thead th {\n",
       "        text-align: right;\n",
       "    }\n",
       "</style>\n",
       "<table border=\"1\" class=\"dataframe\">\n",
       "  <thead>\n",
       "    <tr style=\"text-align: right;\">\n",
       "      <th></th>\n",
       "      <th>date</th>\n",
       "      <th>group</th>\n",
       "      <th>visitors</th>\n",
       "    </tr>\n",
       "  </thead>\n",
       "  <tbody>\n",
       "    <tr>\n",
       "      <th>0</th>\n",
       "      <td>2019-08-01</td>\n",
       "      <td>A</td>\n",
       "      <td>719</td>\n",
       "    </tr>\n",
       "    <tr>\n",
       "      <th>1</th>\n",
       "      <td>2019-08-02</td>\n",
       "      <td>A</td>\n",
       "      <td>619</td>\n",
       "    </tr>\n",
       "    <tr>\n",
       "      <th>2</th>\n",
       "      <td>2019-08-03</td>\n",
       "      <td>A</td>\n",
       "      <td>507</td>\n",
       "    </tr>\n",
       "    <tr>\n",
       "      <th>3</th>\n",
       "      <td>2019-08-04</td>\n",
       "      <td>A</td>\n",
       "      <td>717</td>\n",
       "    </tr>\n",
       "    <tr>\n",
       "      <th>4</th>\n",
       "      <td>2019-08-05</td>\n",
       "      <td>A</td>\n",
       "      <td>756</td>\n",
       "    </tr>\n",
       "    <tr>\n",
       "      <th>...</th>\n",
       "      <td>...</td>\n",
       "      <td>...</td>\n",
       "      <td>...</td>\n",
       "    </tr>\n",
       "    <tr>\n",
       "      <th>57</th>\n",
       "      <td>2019-08-27</td>\n",
       "      <td>B</td>\n",
       "      <td>720</td>\n",
       "    </tr>\n",
       "    <tr>\n",
       "      <th>58</th>\n",
       "      <td>2019-08-28</td>\n",
       "      <td>B</td>\n",
       "      <td>654</td>\n",
       "    </tr>\n",
       "    <tr>\n",
       "      <th>59</th>\n",
       "      <td>2019-08-29</td>\n",
       "      <td>B</td>\n",
       "      <td>531</td>\n",
       "    </tr>\n",
       "    <tr>\n",
       "      <th>60</th>\n",
       "      <td>2019-08-30</td>\n",
       "      <td>B</td>\n",
       "      <td>490</td>\n",
       "    </tr>\n",
       "    <tr>\n",
       "      <th>61</th>\n",
       "      <td>2019-08-31</td>\n",
       "      <td>B</td>\n",
       "      <td>718</td>\n",
       "    </tr>\n",
       "  </tbody>\n",
       "</table>\n",
       "<p>62 rows × 3 columns</p>\n",
       "</div>"
      ],
      "text/plain": [
       "         date group  visitors\n",
       "0  2019-08-01     A       719\n",
       "1  2019-08-02     A       619\n",
       "2  2019-08-03     A       507\n",
       "3  2019-08-04     A       717\n",
       "4  2019-08-05     A       756\n",
       "..        ...   ...       ...\n",
       "57 2019-08-27     B       720\n",
       "58 2019-08-28     B       654\n",
       "59 2019-08-29     B       531\n",
       "60 2019-08-30     B       490\n",
       "61 2019-08-31     B       718\n",
       "\n",
       "[62 rows x 3 columns]"
      ]
     },
     "execution_count": 196,
     "metadata": {},
     "output_type": "execute_result"
    }
   ],
   "source": [
    "visitors"
   ]
  },
  {
   "cell_type": "code",
   "execution_count": 197,
   "metadata": {},
   "outputs": [],
   "source": [
    "#создадим датафрейм с уникальными парами дата-группа\n",
    "dates_groups = orders[['date', 'group']].drop_duplicates()"
   ]
  },
  {
   "cell_type": "code",
   "execution_count": 198,
   "metadata": {},
   "outputs": [
    {
     "name": "stdout",
     "output_type": "stream",
     "text": [
      "<class 'pandas.core.frame.DataFrame'>\n",
      "Int64Index: 62 entries, 0 to 1150\n",
      "Data columns (total 2 columns):\n",
      " #   Column  Non-Null Count  Dtype         \n",
      "---  ------  --------------  -----         \n",
      " 0   date    62 non-null     datetime64[ns]\n",
      " 1   group   62 non-null     object        \n",
      "dtypes: datetime64[ns](1), object(1)\n",
      "memory usage: 1.5+ KB\n"
     ]
    }
   ],
   "source": [
    "dates_groups.info()"
   ]
  },
  {
   "cell_type": "code",
   "execution_count": 199,
   "metadata": {},
   "outputs": [],
   "source": [
    "#подготовим данные для создания датафрейма с кумулятивными данными\n",
    "orders_aggregated = dates_groups.apply(lambda x: orders[np.logical_and(orders['date'] <= x['date'], orders['group'] == x['group'])]\\\n",
    ".agg({'date' : 'max', 'group' : 'max', 'transaction_id' : 'nunique', 'visitor_id' : 'nunique', 'revenue' : 'sum'}), axis=1).sort_values(by=['date','group'])\n"
   ]
  },
  {
   "cell_type": "code",
   "execution_count": 200,
   "metadata": {},
   "outputs": [
    {
     "data": {
      "text/html": [
       "<div>\n",
       "<style scoped>\n",
       "    .dataframe tbody tr th:only-of-type {\n",
       "        vertical-align: middle;\n",
       "    }\n",
       "\n",
       "    .dataframe tbody tr th {\n",
       "        vertical-align: top;\n",
       "    }\n",
       "\n",
       "    .dataframe thead th {\n",
       "        text-align: right;\n",
       "    }\n",
       "</style>\n",
       "<table border=\"1\" class=\"dataframe\">\n",
       "  <thead>\n",
       "    <tr style=\"text-align: right;\">\n",
       "      <th></th>\n",
       "      <th>date</th>\n",
       "      <th>group</th>\n",
       "      <th>transaction_id</th>\n",
       "      <th>visitor_id</th>\n",
       "      <th>revenue</th>\n",
       "    </tr>\n",
       "  </thead>\n",
       "  <tbody>\n",
       "    <tr>\n",
       "      <th>55</th>\n",
       "      <td>2019-08-01</td>\n",
       "      <td>A</td>\n",
       "      <td>24</td>\n",
       "      <td>20</td>\n",
       "      <td>148579</td>\n",
       "    </tr>\n",
       "    <tr>\n",
       "      <th>66</th>\n",
       "      <td>2019-08-01</td>\n",
       "      <td>B</td>\n",
       "      <td>21</td>\n",
       "      <td>20</td>\n",
       "      <td>101217</td>\n",
       "    </tr>\n",
       "    <tr>\n",
       "      <th>175</th>\n",
       "      <td>2019-08-02</td>\n",
       "      <td>A</td>\n",
       "      <td>44</td>\n",
       "      <td>38</td>\n",
       "      <td>242401</td>\n",
       "    </tr>\n",
       "    <tr>\n",
       "      <th>173</th>\n",
       "      <td>2019-08-02</td>\n",
       "      <td>B</td>\n",
       "      <td>45</td>\n",
       "      <td>43</td>\n",
       "      <td>266748</td>\n",
       "    </tr>\n",
       "    <tr>\n",
       "      <th>291</th>\n",
       "      <td>2019-08-03</td>\n",
       "      <td>A</td>\n",
       "      <td>68</td>\n",
       "      <td>62</td>\n",
       "      <td>354874</td>\n",
       "    </tr>\n",
       "    <tr>\n",
       "      <th>...</th>\n",
       "      <td>...</td>\n",
       "      <td>...</td>\n",
       "      <td>...</td>\n",
       "      <td>...</td>\n",
       "      <td>...</td>\n",
       "    </tr>\n",
       "    <tr>\n",
       "      <th>496</th>\n",
       "      <td>2019-08-29</td>\n",
       "      <td>B</td>\n",
       "      <td>596</td>\n",
       "      <td>544</td>\n",
       "      <td>5559398</td>\n",
       "    </tr>\n",
       "    <tr>\n",
       "      <th>730</th>\n",
       "      <td>2019-08-30</td>\n",
       "      <td>A</td>\n",
       "      <td>545</td>\n",
       "      <td>493</td>\n",
       "      <td>4022970</td>\n",
       "    </tr>\n",
       "    <tr>\n",
       "      <th>690</th>\n",
       "      <td>2019-08-30</td>\n",
       "      <td>B</td>\n",
       "      <td>620</td>\n",
       "      <td>567</td>\n",
       "      <td>5774631</td>\n",
       "    </tr>\n",
       "    <tr>\n",
       "      <th>958</th>\n",
       "      <td>2019-08-31</td>\n",
       "      <td>A</td>\n",
       "      <td>557</td>\n",
       "      <td>503</td>\n",
       "      <td>4084803</td>\n",
       "    </tr>\n",
       "    <tr>\n",
       "      <th>930</th>\n",
       "      <td>2019-08-31</td>\n",
       "      <td>B</td>\n",
       "      <td>640</td>\n",
       "      <td>586</td>\n",
       "      <td>5907760</td>\n",
       "    </tr>\n",
       "  </tbody>\n",
       "</table>\n",
       "<p>62 rows × 5 columns</p>\n",
       "</div>"
      ],
      "text/plain": [
       "          date group  transaction_id  visitor_id  revenue\n",
       "55  2019-08-01     A              24          20   148579\n",
       "66  2019-08-01     B              21          20   101217\n",
       "175 2019-08-02     A              44          38   242401\n",
       "173 2019-08-02     B              45          43   266748\n",
       "291 2019-08-03     A              68          62   354874\n",
       "..         ...   ...             ...         ...      ...\n",
       "496 2019-08-29     B             596         544  5559398\n",
       "730 2019-08-30     A             545         493  4022970\n",
       "690 2019-08-30     B             620         567  5774631\n",
       "958 2019-08-31     A             557         503  4084803\n",
       "930 2019-08-31     B             640         586  5907760\n",
       "\n",
       "[62 rows x 5 columns]"
      ]
     },
     "execution_count": 200,
     "metadata": {},
     "output_type": "execute_result"
    }
   ],
   "source": [
    "orders_aggregated"
   ]
  },
  {
   "cell_type": "code",
   "execution_count": 201,
   "metadata": {},
   "outputs": [],
   "source": [
    "visitors_aggregated = dates_groups.apply(lambda x: visitors[np.logical_and(visitors['date'] <= x['date'], visitors['group'] == x['group'])].agg({'date' : 'max', 'group' : 'max', 'visitors' : 'sum'}), axis=1).sort_values(by=['date','group'])"
   ]
  },
  {
   "cell_type": "code",
   "execution_count": 202,
   "metadata": {},
   "outputs": [
    {
     "data": {
      "text/html": [
       "<div>\n",
       "<style scoped>\n",
       "    .dataframe tbody tr th:only-of-type {\n",
       "        vertical-align: middle;\n",
       "    }\n",
       "\n",
       "    .dataframe tbody tr th {\n",
       "        vertical-align: top;\n",
       "    }\n",
       "\n",
       "    .dataframe thead th {\n",
       "        text-align: right;\n",
       "    }\n",
       "</style>\n",
       "<table border=\"1\" class=\"dataframe\">\n",
       "  <thead>\n",
       "    <tr style=\"text-align: right;\">\n",
       "      <th></th>\n",
       "      <th>date</th>\n",
       "      <th>group</th>\n",
       "      <th>visitors</th>\n",
       "    </tr>\n",
       "  </thead>\n",
       "  <tbody>\n",
       "    <tr>\n",
       "      <th>55</th>\n",
       "      <td>2019-08-01</td>\n",
       "      <td>A</td>\n",
       "      <td>719</td>\n",
       "    </tr>\n",
       "    <tr>\n",
       "      <th>66</th>\n",
       "      <td>2019-08-01</td>\n",
       "      <td>B</td>\n",
       "      <td>713</td>\n",
       "    </tr>\n",
       "    <tr>\n",
       "      <th>175</th>\n",
       "      <td>2019-08-02</td>\n",
       "      <td>A</td>\n",
       "      <td>1338</td>\n",
       "    </tr>\n",
       "    <tr>\n",
       "      <th>173</th>\n",
       "      <td>2019-08-02</td>\n",
       "      <td>B</td>\n",
       "      <td>1294</td>\n",
       "    </tr>\n",
       "    <tr>\n",
       "      <th>291</th>\n",
       "      <td>2019-08-03</td>\n",
       "      <td>A</td>\n",
       "      <td>1845</td>\n",
       "    </tr>\n",
       "    <tr>\n",
       "      <th>...</th>\n",
       "      <td>...</td>\n",
       "      <td>...</td>\n",
       "      <td>...</td>\n",
       "    </tr>\n",
       "    <tr>\n",
       "      <th>496</th>\n",
       "      <td>2019-08-29</td>\n",
       "      <td>B</td>\n",
       "      <td>17708</td>\n",
       "    </tr>\n",
       "    <tr>\n",
       "      <th>730</th>\n",
       "      <td>2019-08-30</td>\n",
       "      <td>A</td>\n",
       "      <td>18037</td>\n",
       "    </tr>\n",
       "    <tr>\n",
       "      <th>690</th>\n",
       "      <td>2019-08-30</td>\n",
       "      <td>B</td>\n",
       "      <td>18198</td>\n",
       "    </tr>\n",
       "    <tr>\n",
       "      <th>958</th>\n",
       "      <td>2019-08-31</td>\n",
       "      <td>A</td>\n",
       "      <td>18736</td>\n",
       "    </tr>\n",
       "    <tr>\n",
       "      <th>930</th>\n",
       "      <td>2019-08-31</td>\n",
       "      <td>B</td>\n",
       "      <td>18916</td>\n",
       "    </tr>\n",
       "  </tbody>\n",
       "</table>\n",
       "<p>62 rows × 3 columns</p>\n",
       "</div>"
      ],
      "text/plain": [
       "          date group  visitors\n",
       "55  2019-08-01     A       719\n",
       "66  2019-08-01     B       713\n",
       "175 2019-08-02     A      1338\n",
       "173 2019-08-02     B      1294\n",
       "291 2019-08-03     A      1845\n",
       "..         ...   ...       ...\n",
       "496 2019-08-29     B     17708\n",
       "730 2019-08-30     A     18037\n",
       "690 2019-08-30     B     18198\n",
       "958 2019-08-31     A     18736\n",
       "930 2019-08-31     B     18916\n",
       "\n",
       "[62 rows x 3 columns]"
      ]
     },
     "execution_count": 202,
     "metadata": {},
     "output_type": "execute_result"
    }
   ],
   "source": [
    "visitors_aggregated"
   ]
  },
  {
   "cell_type": "code",
   "execution_count": 203,
   "metadata": {},
   "outputs": [],
   "source": [
    "cumulative_data = orders_aggregated.merge(visitors_aggregated, left_on=['date', 'group'], right_on=['date', 'group'])"
   ]
  },
  {
   "cell_type": "code",
   "execution_count": 204,
   "metadata": {},
   "outputs": [],
   "source": [
    "cumulative_data.columns = ['date', 'group', 'orders', 'buyers', 'revenue', 'visitors']"
   ]
  },
  {
   "cell_type": "code",
   "execution_count": 205,
   "metadata": {},
   "outputs": [
    {
     "data": {
      "text/html": [
       "<div>\n",
       "<style scoped>\n",
       "    .dataframe tbody tr th:only-of-type {\n",
       "        vertical-align: middle;\n",
       "    }\n",
       "\n",
       "    .dataframe tbody tr th {\n",
       "        vertical-align: top;\n",
       "    }\n",
       "\n",
       "    .dataframe thead th {\n",
       "        text-align: right;\n",
       "    }\n",
       "</style>\n",
       "<table border=\"1\" class=\"dataframe\">\n",
       "  <thead>\n",
       "    <tr style=\"text-align: right;\">\n",
       "      <th></th>\n",
       "      <th>date</th>\n",
       "      <th>group</th>\n",
       "      <th>orders</th>\n",
       "      <th>buyers</th>\n",
       "      <th>revenue</th>\n",
       "      <th>visitors</th>\n",
       "    </tr>\n",
       "  </thead>\n",
       "  <tbody>\n",
       "    <tr>\n",
       "      <th>0</th>\n",
       "      <td>2019-08-01</td>\n",
       "      <td>A</td>\n",
       "      <td>24</td>\n",
       "      <td>20</td>\n",
       "      <td>148579</td>\n",
       "      <td>719</td>\n",
       "    </tr>\n",
       "    <tr>\n",
       "      <th>1</th>\n",
       "      <td>2019-08-01</td>\n",
       "      <td>B</td>\n",
       "      <td>21</td>\n",
       "      <td>20</td>\n",
       "      <td>101217</td>\n",
       "      <td>713</td>\n",
       "    </tr>\n",
       "    <tr>\n",
       "      <th>2</th>\n",
       "      <td>2019-08-02</td>\n",
       "      <td>A</td>\n",
       "      <td>44</td>\n",
       "      <td>38</td>\n",
       "      <td>242401</td>\n",
       "      <td>1338</td>\n",
       "    </tr>\n",
       "    <tr>\n",
       "      <th>3</th>\n",
       "      <td>2019-08-02</td>\n",
       "      <td>B</td>\n",
       "      <td>45</td>\n",
       "      <td>43</td>\n",
       "      <td>266748</td>\n",
       "      <td>1294</td>\n",
       "    </tr>\n",
       "    <tr>\n",
       "      <th>4</th>\n",
       "      <td>2019-08-03</td>\n",
       "      <td>A</td>\n",
       "      <td>68</td>\n",
       "      <td>62</td>\n",
       "      <td>354874</td>\n",
       "      <td>1845</td>\n",
       "    </tr>\n",
       "  </tbody>\n",
       "</table>\n",
       "</div>"
      ],
      "text/plain": [
       "        date group  orders  buyers  revenue  visitors\n",
       "0 2019-08-01     A      24      20   148579       719\n",
       "1 2019-08-01     B      21      20   101217       713\n",
       "2 2019-08-02     A      44      38   242401      1338\n",
       "3 2019-08-02     B      45      43   266748      1294\n",
       "4 2019-08-03     A      68      62   354874      1845"
      ]
     },
     "execution_count": 205,
     "metadata": {},
     "output_type": "execute_result"
    }
   ],
   "source": [
    "cumulative_data.head()"
   ]
  },
  {
   "cell_type": "code",
   "execution_count": 206,
   "metadata": {},
   "outputs": [],
   "source": [
    "# датафрейм с кумулятивным количеством заказов и кумулятивной выручкой по дням в группе А\n",
    "cumulative_revenue_a = cumulative_data[cumulative_data['group']=='A'][['date','revenue', 'orders']]"
   ]
  },
  {
   "cell_type": "code",
   "execution_count": 207,
   "metadata": {},
   "outputs": [],
   "source": [
    "# датафрейм с кумулятивным количеством заказов и кумулятивной выручкой по дням в группе B\n",
    "cumulative_revenue_b = cumulative_data[cumulative_data['group']=='B'][['date','revenue', 'orders']]"
   ]
  },
  {
   "cell_type": "code",
   "execution_count": 208,
   "metadata": {},
   "outputs": [
    {
     "data": {
      "image/png": "[encoded data removed]",
      "text/plain": [
       "<Figure size 1080x648 with 1 Axes>"
      ]
     },
     "metadata": {
      "needs_background": "light"
     },
     "output_type": "display_data"
    }
   ],
   "source": [
    "# Строим график выручки группы А\n",
    "plt.figure(figsize=(15, 9))\n",
    "plt.plot(cumulative_revenue_a['date'], cumulative_revenue_a['revenue'], label='A')\n",
    "# Строим график выручки группы B\n",
    "plt.plot(cumulative_revenue_b['date'], cumulative_revenue_b['revenue'], label='B')\n",
    "plt.title('Графики кумулятивной выручки по дням по группам')\n",
    "plt.xticks(rotation=90)\n",
    "plt.xlabel('дата')\n",
    "plt.ylabel('кумулятивная выручка')\n",
    "plt.legend();"
   ]
  },
  {
   "cell_type": "markdown",
   "metadata": {},
   "source": [
    "Выручка почти равномерно увеличивается в течение всего теста. В первые пять дней графики практически совпадают, далее выручка группы В превышает кумулятивную выручку группы А, за исключением 13.08, когда графики совпадают. У графика кумулятивной выручки группы В наблюдается резкий скачок с 19 на 20 августа. Это может сигнализировать о всплеске числа заказов, либо о появлении очень дорогих заказов в выборке. "
   ]
  },
  {
   "cell_type": "code",
   "execution_count": 209,
   "metadata": {},
   "outputs": [
    {
     "data": {
      "image/png": "[encoded data removed]",
      "text/plain": [
       "<Figure size 1080x648 with 1 Axes>"
      ]
     },
     "metadata": {
      "needs_background": "light"
     },
     "output_type": "display_data"
    }
   ],
   "source": [
    "#Построим графики среднего чека по группам, разделив кумулятивную выручку на кумулятивное число заказов\n",
    "plt.figure(figsize=(15, 9))\n",
    "plt.plot(cumulative_revenue_a['date'], cumulative_revenue_a['revenue']/cumulative_revenue_a['orders'], label='A')\n",
    "plt.plot(cumulative_revenue_b['date'], cumulative_revenue_b['revenue']/cumulative_revenue_b['orders'], label='B')\n",
    "plt.title('Графики среднего чека по дням по группам')\n",
    "plt.xticks(rotation=90)\n",
    "plt.xlabel('дата')\n",
    "plt.ylabel('средний чек')\n",
    "plt.legend() ;"
   ]
  },
  {
   "cell_type": "markdown",
   "metadata": {},
   "source": [
    "Кумулятивное значение среднего чека по сегментам колеблется. Во второй половине месяца средний чек группы А сглаживается, но у  у графика группы В опять же наблюдается резкий скачок у графика группы В с 19 на 20 августа. Также стоит отметить, что с 20 августа у группы В средний чек постепенно снижается, а у группы А - растет. Необходимо провести дополнительный анализ выбросов, чтобы сделать выводы."
   ]
  },
  {
   "cell_type": "code",
   "execution_count": 210,
   "metadata": {},
   "outputs": [
    {
     "data": {
      "image/png": "[encoded data removed]",
      "text/plain": [
       "<Figure size 1080x648 with 1 Axes>"
      ]
     },
     "metadata": {
      "needs_background": "light"
     },
     "output_type": "display_data"
    }
   ],
   "source": [
    "# собираем данные в одном датафрейме\n",
    "merged_сumulative_revenue = cumulative_revenue_a.merge(cumulative_revenue_b, left_on='date', right_on='date', how='left', suffixes=['_a', '_b'])\n",
    "\n",
    "# cтроим отношение средних чеков\n",
    "plt.figure(figsize=(15, 9))\n",
    "plt.plot(merged_сumulative_revenue['date'], (merged_сumulative_revenue['revenue_b']/merged_сumulative_revenue['orders_b'])/(merged_сumulative_revenue['revenue_a']/merged_сumulative_revenue['orders_a'])-1)\n",
    "\n",
    "# добавляем ось X\n",
    "plt.axhline(y=0, color='black', linestyle='--')\n",
    "plt.title('График относительно различия кумулятивного среднего чека группы B к группе A')\n",
    "plt.xticks(rotation=90)\n",
    "plt.xlabel('дата')\n",
    "plt.ylabel('кумулятивный средний чек');"
   ]
  },
  {
   "cell_type": "markdown",
   "metadata": {},
   "source": [
    "В нескольких точках график различия между сегментами резко «скачет». Видимо, в эти дни были совершены аномально крупные заказы."
   ]
  },
  {
   "cell_type": "code",
   "execution_count": 211,
   "metadata": {},
   "outputs": [
    {
     "data": {
      "image/png": "[encoded data removed]",
      "text/plain": [
       "<Figure size 1080x648 with 1 Axes>"
      ]
     },
     "metadata": {
      "needs_background": "light"
     },
     "output_type": "display_data"
    }
   ],
   "source": [
    "# считаем среднее количество заказов на посетителя\n",
    "cumulative_data['conversion'] = cumulative_data['orders']/cumulative_data['visitors']\n",
    "\n",
    "# отделяем данные по группе A\n",
    "cumulative_data_a = cumulative_data[cumulative_data['group']=='A']\n",
    "\n",
    "# отделяем данные по группе B\n",
    "cumulative_data_b = cumulative_data[cumulative_data['group']=='B']\n",
    "\n",
    "\n",
    "# строим графики\n",
    "plt.figure(figsize=(15, 9))\n",
    "plt.plot(cumulative_data_a['date'], cumulative_data_a['conversion'], label='A')\n",
    "plt.plot(cumulative_data_b['date'], cumulative_data_b['conversion'], label='B')\n",
    "\n",
    "plt.xticks(rotation=90)\n",
    "plt.title('График кумулятивного среднего количества заказов на посетителя по группам')\n",
    "plt.legend()\n",
    "plt.xlabel('дата')\n",
    "plt.ylabel('кумулятивное среднее количество заказов')\n",
    "# задаем масштаб осей\n",
    "plt.axis([dt.datetime(2019, 8, 1), dt.datetime(2019, 9, 1), 0, 0.05]);"
   ]
  },
  {
   "cell_type": "markdown",
   "metadata": {},
   "source": [
    "В начале теста сегмент А имел большее кумулятивное среднее число заказов, но с 6 августа сегемент В выровнялся и зафиксировался около одного значения, большего значения сегмента А. Абсолютное значения колебания в начале и в конце теста небольшое: от 3 до 4%."
   ]
  },
  {
   "cell_type": "code",
   "execution_count": 212,
   "metadata": {
    "scrolled": true
   },
   "outputs": [
    {
     "data": {
      "image/png": "[encoded data removed]",
      "text/plain": [
       "<Figure size 1080x648 with 1 Axes>"
      ]
     },
     "metadata": {
      "needs_background": "light"
     },
     "output_type": "display_data"
    }
   ],
   "source": [
    "merged_cumulative_conversions = cumulative_data_a[['date','conversion']].merge(cumulative_data_b[['date','conversion']], left_on='date', right_on='date', how='left', suffixes=['_a', '_b'])\n",
    "\n",
    "plt.figure(figsize=(15, 9))\n",
    "plt.plot(merged_cumulative_conversions['date'], merged_cumulative_conversions['conversion_b']/merged_cumulative_conversions['conversion_a']-1)\n",
    "\n",
    "plt.title('Относительный прирост кумулятивного среднего количества заказов на посетителя группы B относительно группы A')\n",
    "plt.axhline(y=0, color='black', linestyle='--')\n",
    "plt.axhline(y=0.15, color='grey', linestyle='--')\n",
    "plt.axis([dt.datetime(2019, 8, 1), dt.datetime(2019, 9, 1), -0.2, 0.3])\n",
    "plt.xlabel('дата')\n",
    "plt.ylabel('кумулятивное среднее количество заказов')\n",
    "plt.xticks(rotation=90);"
   ]
  },
  {
   "cell_type": "markdown",
   "metadata": {},
   "source": [
    "Почти с самого начала теста кумулятивное среднее количество заказов на посетителя группы В превышает кумулятивное среднее количество заказов на посетителя группы А. Однако, рост в середине месяца (около 20% относительно группы А) сменяется снижением к концу месяца и приближается к приросту около 15%. В целом, решение еще принимать рано. Возможно, анализ картины без выбросов прояснит ситуацию."
   ]
  },
  {
   "cell_type": "code",
   "execution_count": 213,
   "metadata": {},
   "outputs": [],
   "source": [
    "#число заказов с пользователя\n",
    "orders_by_users = (\n",
    "    orders.groupby('visitor_id', as_index=False)\n",
    "    .agg({'transaction_id': 'nunique'})\n",
    ")\n",
    "orders_by_users.columns = ['user_id', 'orders']"
   ]
  },
  {
   "cell_type": "code",
   "execution_count": 214,
   "metadata": {},
   "outputs": [
    {
     "data": {
      "text/plain": [
       "11"
      ]
     },
     "execution_count": 214,
     "metadata": {},
     "output_type": "execute_result"
    }
   ],
   "source": [
    "orders_by_users['orders'].max()"
   ]
  },
  {
   "cell_type": "code",
   "execution_count": 215,
   "metadata": {},
   "outputs": [
    {
     "data": {
      "image/png": "[encoded data removed]",
      "text/plain": [
       "<Figure size 1080x648 with 1 Axes>"
      ]
     },
     "metadata": {
      "needs_background": "light"
     },
     "output_type": "display_data"
    }
   ],
   "source": [
    "plt.figure(figsize=(15, 9))\n",
    "x_values = pd.Series(range(0, len(orders_by_users)))\n",
    "plt.scatter(x_values, orders_by_users['orders'])\n",
    "plt.title('График количества заказов по пользователям')\n",
    "plt.xlabel('порядковый номер пользователя')\n",
    "plt.ylabel('количество заказов');"
   ]
  },
  {
   "cell_type": "markdown",
   "metadata": {},
   "source": [
    "Количество пользователей, соверших более двух заказов, визуально заметно меньше, чем соверших 2 заказа. Поэтому эти пользователи вполне могут быть аномальными. Чтобы понять, является ли 2 заказа нормальным показателем, посчитаем 95 и 99 перцентили."
   ]
  },
  {
   "cell_type": "code",
   "execution_count": 216,
   "metadata": {},
   "outputs": [
    {
     "name": "stdout",
     "output_type": "stream",
     "text": [
      "[2. 4.]\n"
     ]
    }
   ],
   "source": [
    "# 95-й и 99-й перцентили количества заказов на пользователя\n",
    "print(np.percentile(orders_by_users['orders'], [95, 99])) "
   ]
  },
  {
   "cell_type": "markdown",
   "metadata": {},
   "source": [
    "Не более 5% пользователей совершили более 2 заказов и не более 1% пользователей совершил более 4 заказов. За верхнюю границу для определения аномальных пользователей выберем 2 заказа."
   ]
  },
  {
   "cell_type": "code",
   "execution_count": 217,
   "metadata": {},
   "outputs": [
    {
     "data": {
      "image/png": "[encoded data removed]",
      "text/plain": [
       "<Figure size 1080x648 with 1 Axes>"
      ]
     },
     "metadata": {
      "needs_background": "light"
     },
     "output_type": "display_data"
    }
   ],
   "source": [
    "#точечный график стоимостей заказов\n",
    "plt.figure(figsize=(15, 9))\n",
    "x_values = pd.Series(range(0, len(orders['revenue'])))\n",
    "plt.scatter(x_values, orders['revenue']) \n",
    "plt.title('График стоимостей заказов')\n",
    "plt.xlabel('порядковый номер заказа')\n",
    "plt.ylabel('стоимость заказов');"
   ]
  },
  {
   "cell_type": "code",
   "execution_count": 218,
   "metadata": {},
   "outputs": [
    {
     "data": {
      "image/png": "[encoded data removed]",
      "text/plain": [
       "<Figure size 1080x648 with 1 Axes>"
      ]
     },
     "metadata": {
      "needs_background": "light"
     },
     "output_type": "display_data"
    }
   ],
   "source": [
    "plt.figure(figsize=(15, 9))\n",
    "x_values = pd.Series(range(0, len(orders['revenue'])))\n",
    "plt.scatter(x_values, orders['revenue']) \n",
    "plt.title('График стоимостей заказов')\n",
    "plt.xlabel('порядковый номер заказа')\n",
    "plt.ylabel('стоимость заказов')\n",
    "plt.axis([0, 1200, 0, 200000]);"
   ]
  },
  {
   "cell_type": "markdown",
   "metadata": {},
   "source": [
    "В большинстве случаев стоимость заказов варьирует в пределах от 0 до 200000. При этом на графике видны 2 особенно аномальных заказа (выбросов). При приближении распределении заказов со стоимостью от 0 до 200000, видим, что основная доля заказов распределена в пределах до 100000, а выше- уже аномальные заказы. Чтобы понять, какая стоимость является аномальной, посчитаем 95 и 99 перцентили."
   ]
  },
  {
   "cell_type": "code",
   "execution_count": 219,
   "metadata": {},
   "outputs": [
    {
     "name": "stdout",
     "output_type": "stream",
     "text": [
      "[28000.  58233.2]\n"
     ]
    }
   ],
   "source": [
    "#95-й и 99-й перцентили стоимости заказов\n",
    "print(np.percentile(orders['revenue'], [95, 99])) "
   ]
  },
  {
   "cell_type": "markdown",
   "metadata": {},
   "source": [
    "В числах пределы оказались еще ниже: не более 5% заказов имеют стоимость 28000 и не более 1% заказов стоимость 58233. За верхнюю границу для определения аномальных заказов выберем 28000."
   ]
  },
  {
   "cell_type": "markdown",
   "metadata": {},
   "source": [
    "*Посчитайте статистическую значимость различий в среднем количестве заказов на посетителя между группами по «сырым» данным. Сделайте выводы и предположения.*"
   ]
  },
  {
   "cell_type": "markdown",
   "metadata": {},
   "source": [
    "**Нулевая гипотеза:** различий в среднем количестве заказов между группами нет. \n",
    "\n",
    "**Альтернативная:** различия в среднем количестве заказов между группами есть."
   ]
  },
  {
   "cell_type": "code",
   "execution_count": 220,
   "metadata": {},
   "outputs": [],
   "source": [
    "visitors_a_daily = visitors[visitors['group'] == 'A'][['date', 'visitors']]\n",
    "visitors_a_daily.columns = ['date', 'visitors_per_date_a']"
   ]
  },
  {
   "cell_type": "code",
   "execution_count": 221,
   "metadata": {},
   "outputs": [],
   "source": [
    "visitors_b_daily = visitors[visitors['group'] == 'B'][['date', 'visitors']]\n",
    "visitors_b_daily.columns = ['date', 'visitors_per_date_b']"
   ]
  },
  {
   "cell_type": "code",
   "execution_count": 222,
   "metadata": {},
   "outputs": [],
   "source": [
    "orders_by_users_a = (\n",
    "    orders[orders['group'] == 'A']\n",
    "    .groupby('visitor_id', as_index=False)\n",
    "    .agg({'transaction_id': pd.Series.nunique})\n",
    ")\n",
    "orders_by_users_a.columns = ['visitor_id', 'orders']\n",
    "\n",
    "orders_by_users_b = (\n",
    "    orders[orders['group'] == 'B']\n",
    "    .groupby('visitor_id', as_index=False)\n",
    "    .agg({'transaction_id': pd.Series.nunique})\n",
    ")\n",
    "orders_by_users_b.columns = ['visitor_id', 'orders'] "
   ]
  },
  {
   "cell_type": "code",
   "execution_count": 223,
   "metadata": {},
   "outputs": [],
   "source": [
    "sample_a = pd.concat([orders_by_users_a['orders'],pd.Series(0, index=np.arange(visitors_a_daily['visitors_per_date_a'].sum() - len(orders_by_users_a['orders'])), name='orders')],axis=0)\n",
    "\n",
    "sample_b = pd.concat([orders_by_users_b['orders'],pd.Series(0, index=np.arange(visitors_b_daily['visitors_per_date_b'].sum() - len(orders_by_users_b['orders'])), name='orders')],axis=0)"
   ]
  },
  {
   "cell_type": "markdown",
   "metadata": {},
   "source": [
    "Проверим, каким распределением обладают выборки sample_a и sample_b, чтобы выбрать статистический критерий для проверки гипотез. Для проверки на нормальность воспользуемся критерием Колмогорова-Смирнова, поскольку количество наблюдей больше 5000 и критерием Шапиро-Уилка поэтому нельзя вопспользоваться."
   ]
  },
  {
   "cell_type": "code",
   "execution_count": 224,
   "metadata": {},
   "outputs": [
    {
     "name": "stdout",
     "output_type": "stream",
     "text": [
      "p-значение:  0.0\n",
      "Отвергаем нулевую гипотезу: распределение не нормально\n"
     ]
    }
   ],
   "source": [
    "alpha = 0.05 \n",
    "\n",
    "results = stats.kstest(sample_a, 'norm')\n",
    "p_value = results[1] \n",
    "\n",
    "print('p-значение: ', p_value)\n",
    "\n",
    "if p_value < alpha:\n",
    "    print('Отвергаем нулевую гипотезу: распределение не нормально')\n",
    "else:\n",
    "    print('Не получилось отвергнуть нулевую гипотезу, всё нормально') "
   ]
  },
  {
   "cell_type": "code",
   "execution_count": 225,
   "metadata": {},
   "outputs": [
    {
     "name": "stdout",
     "output_type": "stream",
     "text": [
      "p-значение:  0.0\n",
      "Отвергаем нулевую гипотезу: распределение не нормально\n"
     ]
    }
   ],
   "source": [
    "results = stats.kstest(sample_b, 'norm')\n",
    "p_value = results[1] \n",
    "\n",
    "print('p-значение: ', p_value)\n",
    "\n",
    "if p_value < alpha:\n",
    "    print('Отвергаем нулевую гипотезу: распределение не нормально')\n",
    "else:\n",
    "    print('Не получилось отвергнуть нулевую гипотезу, всё нормально') "
   ]
  },
  {
   "cell_type": "markdown",
   "metadata": {},
   "source": [
    "Выборки sample_a и sample_b распределены не нормально, поэтому для проверки гипотезы воспользуемся непараметрическим критерием для 2 независимых выборок - Манна-Уитни на уровне значимости 0,05."
   ]
  },
  {
   "cell_type": "code",
   "execution_count": 226,
   "metadata": {},
   "outputs": [
    {
     "name": "stdout",
     "output_type": "stream",
     "text": [
      "p-value теста: 0.01679\n",
      "Относительное различие среднего количества заказов между группами: 0.138\n"
     ]
    }
   ],
   "source": [
    "print('p-value теста:', \"{0:.5f}\".format(stats.mannwhitneyu(sample_a, sample_b)[1]))\n",
    "\n",
    "print('Относительное различие среднего количества заказов между группами:', \"{0:.3f}\".format(sample_b.mean() / sample_a.mean() - 1))"
   ]
  },
  {
   "cell_type": "markdown",
   "metadata": {},
   "source": [
    "Так как p.value 0.01679 меньше заданного значения 0.05, отвергаем нулевую гипотезу, то есть согласно анализу по \"сырым\" данным, **между группами различия в среднем количестве заказов есть.**  Относительный прирост среднего группы B к конверсии группы А равен 13.8%."
   ]
  },
  {
   "cell_type": "markdown",
   "metadata": {},
   "source": [
    "*Посчитайте статистическую значимость различий в среднем чеке заказа между группами по «сырым» данным. Сделайте выводы и предположения.*"
   ]
  },
  {
   "cell_type": "markdown",
   "metadata": {},
   "source": [
    "**Нулевая гипотеза:** различий в среднем чеке между группами нет. \n",
    "    \n",
    "**Альтернативная гипотеза:** различия в среднем чеке между группами есть. "
   ]
  },
  {
   "cell_type": "code",
   "execution_count": 227,
   "metadata": {},
   "outputs": [],
   "source": [
    "#сформируем выборки\n",
    "sample_a = orders[orders['group']=='A']['revenue']\n",
    "sample_b = orders[orders['group']=='B']['revenue']"
   ]
  },
  {
   "cell_type": "code",
   "execution_count": 228,
   "metadata": {},
   "outputs": [
    {
     "name": "stdout",
     "output_type": "stream",
     "text": [
      "p-значение:  0.0\n",
      "Отвергаем нулевую гипотезу: распределение не нормально\n"
     ]
    }
   ],
   "source": [
    "#проверим выборки на нормальность, чтобы сделать выбор статистического критерия проверки статистических гипотез\n",
    "results = stats.kstest(sample_a, 'norm')\n",
    "p_value = results[1] \n",
    "\n",
    "print('p-значение: ', p_value)\n",
    "\n",
    "if p_value < alpha:\n",
    "    print('Отвергаем нулевую гипотезу: распределение не нормально')\n",
    "else:\n",
    "    print('Не получилось отвергнуть нулевую гипотезу, всё нормально') "
   ]
  },
  {
   "cell_type": "code",
   "execution_count": 229,
   "metadata": {},
   "outputs": [
    {
     "name": "stdout",
     "output_type": "stream",
     "text": [
      "p-значение:  0.0\n",
      "Отвергаем нулевую гипотезу: распределение не нормально\n"
     ]
    }
   ],
   "source": [
    "#проверим выборки на нормальность, чтобы сделать выбор статистического критерия проверки статистических гипотез\n",
    "results = stats.kstest(sample_b, 'norm')\n",
    "p_value = results[1] \n",
    "\n",
    "print('p-значение: ', p_value)\n",
    "\n",
    "if p_value < alpha:\n",
    "    print('Отвергаем нулевую гипотезу: распределение не нормально')\n",
    "else:\n",
    "    print('Не получилось отвергнуть нулевую гипотезу, всё нормально') "
   ]
  },
  {
   "cell_type": "markdown",
   "metadata": {},
   "source": [
    "Выборки sample_a и sample_b распределены не нормально, поэтому для проверки гипотезы воспользуемся непараметрическим критерием для 2 независимых выборок - Манна-Уитни на уровне значимости 0.05."
   ]
  },
  {
   "cell_type": "code",
   "execution_count": 230,
   "metadata": {},
   "outputs": [
    {
     "name": "stdout",
     "output_type": "stream",
     "text": [
      "p-value теста: 0.729\n",
      "Относительное различие среднего чека между группами: 0.259\n"
     ]
    }
   ],
   "source": [
    "print('p-value теста:', '{0:.3f}'.format(stats.mannwhitneyu(sample_a, sample_b)[1]))\n",
    "print('Относительное различие среднего чека между группами:','{0:.3f}'.format(sample_b.mean()/sample_a.mean()-1))"
   ]
  },
  {
   "cell_type": "markdown",
   "metadata": {},
   "source": [
    "Так как p.value 0.729 значительно больше значения 0.05, нет оснований отвергнуть нулевую гипотезу, то есть согласно анализу по \"сырым\" данным, **между группами различий в среднем чека нет.**  Однако, относительное различие среднего чека между сегментами довольно ощутимое - около 26%."
   ]
  },
  {
   "cell_type": "markdown",
   "metadata": {},
   "source": [
    "*Посчитайте статистическую значимость различий в среднем количестве заказов на посетителя между группами по «очищенным» данным. Сделайте выводы и предположения.*"
   ]
  },
  {
   "cell_type": "markdown",
   "metadata": {},
   "source": [
    "**Нулевая гипотеза:** различий в среднем количестве заказов между группами нет. \n",
    "\n",
    "**Альтернативная:** различия в среднем количестве заказов между группами есть."
   ]
  },
  {
   "cell_type": "code",
   "execution_count": 231,
   "metadata": {},
   "outputs": [],
   "source": [
    "#очистим данные от аномалий\n",
    "users_with_many_orders = pd.concat(\n",
    "    [\n",
    "        orders_by_users_a.loc[orders_by_users_a['orders'] > 2,'visitor_id'],\n",
    "        orders_by_users_b.loc[orders_by_users_b['orders'] > 2,'visitor_id'],\n",
    "    ],\n",
    "    axis=0,\n",
    ")\n",
    "users_with_expensive_orders = orders[orders['revenue'] > 28000]['visitor_id']\n",
    "abnormal_users = (\n",
    "    pd.concat([users_with_many_orders, users_with_expensive_orders], axis=0)\n",
    "    .drop_duplicates()\n",
    "    .sort_values()\n",
    ")"
   ]
  },
  {
   "cell_type": "code",
   "execution_count": 232,
   "metadata": {},
   "outputs": [],
   "source": [
    "#сформируем выборки\n",
    "sample_a_filtered = pd.concat(\n",
    "    [\n",
    "        orders_by_users_a[\n",
    "            np.logical_not(orders_by_users_a['visitor_id'].isin(abnormal_users))\n",
    "        ]['orders'],\n",
    "        pd.Series(\n",
    "            0,\n",
    "            index=np.arange(\n",
    "                visitors_a_daily['visitors_per_date_a'].sum() - len(orders_by_users_a['orders'])\n",
    "            ),\n",
    "            name='orders',\n",
    "        ),\n",
    "    ],\n",
    "    axis=0,\n",
    ")\n",
    "\n",
    "sample_b_filtered = pd.concat(\n",
    "    [\n",
    "        orders_by_users_b[\n",
    "            np.logical_not(orders_by_users_b['visitor_id'].isin(abnormal_users))\n",
    "        ]['orders'],\n",
    "        pd.Series(\n",
    "            0,\n",
    "            index=np.arange(\n",
    "                visitors_b_daily['visitors_per_date_b'].sum() - len(orders_by_users_b['orders'])\n",
    "            ),\n",
    "            name='orders',\n",
    "        ),\n",
    "    ],\n",
    "    axis=0,\n",
    ")\n"
   ]
  },
  {
   "cell_type": "code",
   "execution_count": 233,
   "metadata": {},
   "outputs": [
    {
     "name": "stdout",
     "output_type": "stream",
     "text": [
      "p-значение:  0.0\n",
      "Отвергаем нулевую гипотезу: распределение не нормально\n"
     ]
    }
   ],
   "source": [
    "#проверим выборки на нормальность, чтобы сделать выбор статистического критерия проверки статистических гипотез\n",
    "results = stats.kstest(sample_a_filtered, 'norm')\n",
    "p_value = results[1] \n",
    "\n",
    "print('p-значение: ', p_value)\n",
    "\n",
    "if p_value < alpha:\n",
    "    print('Отвергаем нулевую гипотезу: распределение не нормально')\n",
    "else:\n",
    "    print('Не получилось отвергнуть нулевую гипотезу, всё нормально') "
   ]
  },
  {
   "cell_type": "code",
   "execution_count": 234,
   "metadata": {},
   "outputs": [
    {
     "name": "stdout",
     "output_type": "stream",
     "text": [
      "p-значение:  0.0\n",
      "Отвергаем нулевую гипотезу: распределение не нормально\n"
     ]
    }
   ],
   "source": [
    "#проверим выборки на нормальность, чтобы сделать выбор статистического критерия проверки статистических гипотез\n",
    "results = stats.kstest(sample_b_filtered, 'norm')\n",
    "p_value = results[1] \n",
    "\n",
    "print('p-значение: ', p_value)\n",
    "\n",
    "if p_value < alpha:\n",
    "    print('Отвергаем нулевую гипотезу: распределение не нормально')\n",
    "else:\n",
    "    print('Не получилось отвергнуть нулевую гипотезу, всё нормально') "
   ]
  },
  {
   "cell_type": "markdown",
   "metadata": {},
   "source": [
    "Выборки sample_a_filtered и sample_b_filtered распределены не нормально, поэтому для проверки гипотезы воспользуемся непараметрическим критерием для 2 независимых выборок - Манна-Уитни на уровне значимости 0.05."
   ]
  },
  {
   "cell_type": "code",
   "execution_count": 235,
   "metadata": {},
   "outputs": [
    {
     "name": "stdout",
     "output_type": "stream",
     "text": [
      "p-value теста: 0.01304\n",
      "Относительное различие среднего количества заказов между группами: 0.173\n"
     ]
    }
   ],
   "source": [
    "print('p-value теста:','{0:.5f}'.format(stats.mannwhitneyu(sample_a_filtered, sample_b_filtered)[1]))\n",
    "print('Относительное различие среднего количества заказов между группами:','{0:.3f}'.format(sample_b_filtered.mean()/sample_a_filtered.mean()-1))"
   ]
  },
  {
   "cell_type": "markdown",
   "metadata": {},
   "source": [
    "Так как p.value 0.01304 меньше заданного значения 0.05, отвергаем нулевую гипотезу, то есть согласно анализу по очищенным данным, **между группами различия в среднем количестве заказов есть.**  Относительный прирост среднего группы B к конверсии группы А равен 17.3%."
   ]
  },
  {
   "cell_type": "markdown",
   "metadata": {},
   "source": [
    "*Посчитайте статистическую значимость различий в среднем чеке заказа между группами по «очищенным» данным. Сделайте выводы и предположения.*"
   ]
  },
  {
   "cell_type": "markdown",
   "metadata": {},
   "source": [
    "**Нулевая гипотеза:** различий в среднем чеке между группами нет. \n",
    "    \n",
    "**Альтернативная гипотеза:** различия в среднем чеке между группами есть. "
   ]
  },
  {
   "cell_type": "code",
   "execution_count": 236,
   "metadata": {},
   "outputs": [],
   "source": [
    "#сформируем выборки\n",
    "sample_a_filtered = orders[\n",
    "                np.logical_and(\n",
    "                    orders['group'] == 'A',\n",
    "                    np.logical_not(orders['visitor_id'].isin(abnormal_users)),\n",
    "                )\n",
    "            ]['revenue']\n",
    "\n",
    "sample_b_filtered = orders[\n",
    "                np.logical_and(\n",
    "                    orders['group'] == 'B',\n",
    "                    np.logical_not(orders['visitor_id'].isin(abnormal_users)),\n",
    "                )\n",
    "            ]['revenue']"
   ]
  },
  {
   "cell_type": "code",
   "execution_count": 237,
   "metadata": {},
   "outputs": [
    {
     "name": "stdout",
     "output_type": "stream",
     "text": [
      "p-значение:  0.0\n",
      "Отвергаем нулевую гипотезу: распределение не нормально\n"
     ]
    }
   ],
   "source": [
    "#проверим выборки на нормальность, чтобы сделать выбор статистического критерия проверки статистических гипотез\n",
    "results = stats.kstest(sample_a_filtered, 'norm')\n",
    "p_value = results[1] \n",
    "\n",
    "print('p-значение: ', p_value)\n",
    "\n",
    "if p_value < alpha:\n",
    "    print('Отвергаем нулевую гипотезу: распределение не нормально')\n",
    "else:\n",
    "    print('Не получилось отвергнуть нулевую гипотезу, всё нормально') "
   ]
  },
  {
   "cell_type": "code",
   "execution_count": 238,
   "metadata": {},
   "outputs": [
    {
     "name": "stdout",
     "output_type": "stream",
     "text": [
      "p-значение:  0.0\n",
      "Отвергаем нулевую гипотезу: распределение не нормально\n"
     ]
    }
   ],
   "source": [
    "#проверим выборки на нормальность, чтобы сделать выбор статистического критерия проверки статистических гипотез\n",
    "results = stats.kstest(sample_b_filtered, 'norm')\n",
    "p_value = results[1] \n",
    "\n",
    "print('p-значение: ', p_value)\n",
    "\n",
    "if p_value < alpha:\n",
    "    print('Отвергаем нулевую гипотезу: распределение не нормально')\n",
    "else:\n",
    "    print('Не получилось отвергнуть нулевую гипотезу, всё нормально') "
   ]
  },
  {
   "cell_type": "markdown",
   "metadata": {},
   "source": [
    "Выборки sample_a_filtered и sample_b_filtered распределены не нормально, поэтому для проверки гипотезы воспользуемся непараметрическим критерием для 2 независимых выборок - Манна-Уитни на уровне значимости 0.05."
   ]
  },
  {
   "cell_type": "code",
   "execution_count": 239,
   "metadata": {},
   "outputs": [
    {
     "name": "stdout",
     "output_type": "stream",
     "text": [
      "p-value теста: 0.73848\n",
      "Относительное различие среднего количества заказов между группами: -0.020\n"
     ]
    }
   ],
   "source": [
    "print('p-value теста:','{0:.5f}'.format(stats.mannwhitneyu(sample_a_filtered, sample_b_filtered)[1]))\n",
    "print('Относительное различие среднего количества заказов между группами:','{0:.3f}'.format(sample_b_filtered.mean()/sample_a_filtered.mean()-1))"
   ]
  },
  {
   "cell_type": "markdown",
   "metadata": {},
   "source": [
    "Как и в случае с \"сырыми\" данными, мы не можем отвергнуть нулевую гипотезу (так какp.value 0.73848 значительно больше значения 0.05,), то есть **между группами различий в среднем чека нет.**  Однако, относительное различие среднего чека между сегментами практически отсутствует - около 2%, причем проигрывает группа B."
   ]
  },
  {
   "cell_type": "markdown",
   "metadata": {},
   "source": [
    "Cогласно анализу по \"сырым\" данным, между группами различия в среднем количестве заказов есть. Относительный прирост среднего группы B к конверсии группы А равен 13.8% Cогласно анализу по \"сырым\" данным, между группами различий в среднем чека нет. Однако, относительное различие среднего чека между сегментами довольно ощутимое - около 26%.\n",
    "\n",
    "по очищенным данным, между группами различия в среднем количестве заказов есть. Относительный прирост среднего группы B к конверсии группы А равен 17.3%. между группами различий в среднем чека нет. Однако, относительное различие среднего чека между сегментами практически отсутствует - около 2%, причем проигрывает группа B."
   ]
  },
  {
   "cell_type": "markdown",
   "metadata": {},
   "source": [
    "*Примите решение по результатам теста и объясните его. Варианты решений:*\n",
    "1. Остановить тест, зафиксировать победу одной из групп.\n",
    "2. Остановить тест, зафиксировать отсутствие различий между группами.\n",
    "3. Продолжить тест."
   ]
  },
  {
   "cell_type": "markdown",
   "metadata": {},
   "source": [
    "Есть статистически значимое различие по конверсии между группами как по сырым данным, так и после фильтрации аномалий.\n",
    "Статистически значимого различия по среднему чеку между группами нет как по сырым данным, так и после фильтрации аномалий.\n",
    "\n",
    "График различия конверсии между группами сообщает, что результаты группы B лучше группы A: имеют тенденцию к росту, либо зафиксировались около среднего значения. Поэтому тест следует остановить, признать успешным и зафиксировать лучшие результаты у группы В."
   ]
  }
 ],
 "metadata": {
  "ExecuteTimeLog": [
   {
    "duration": 451,
    "start_time": "2024-04-30T12:50:05.068Z"
   },
   {
    "duration": 80,
    "start_time": "2024-04-30T12:51:06.804Z"
   },
   {
    "duration": 13,
    "start_time": "2024-04-30T12:51:15.048Z"
   },
   {
    "duration": 22,
    "start_time": "2024-04-30T12:51:31.018Z"
   },
   {
    "duration": 10,
    "start_time": "2024-04-30T12:55:39.575Z"
   },
   {
    "duration": 3,
    "start_time": "2024-04-30T12:55:40.386Z"
   },
   {
    "duration": 8,
    "start_time": "2024-04-30T12:55:41.427Z"
   },
   {
    "duration": 9,
    "start_time": "2024-04-30T12:55:54.916Z"
   },
   {
    "duration": 8,
    "start_time": "2024-04-30T12:58:05.971Z"
   },
   {
    "duration": 10,
    "start_time": "2024-04-30T13:00:21.756Z"
   },
   {
    "duration": 78,
    "start_time": "2024-04-30T13:12:19.029Z"
   },
   {
    "duration": 157,
    "start_time": "2024-04-30T13:12:33.998Z"
   },
   {
    "duration": 148,
    "start_time": "2024-04-30T13:12:39.111Z"
   },
   {
    "duration": 61,
    "start_time": "2024-04-30T13:13:19.775Z"
   },
   {
    "duration": 12,
    "start_time": "2024-04-30T13:13:35.174Z"
   },
   {
    "duration": 11,
    "start_time": "2024-04-30T13:13:52.054Z"
   },
   {
    "duration": 3,
    "start_time": "2024-04-30T13:15:55.159Z"
   },
   {
    "duration": 11,
    "start_time": "2024-04-30T13:16:01.158Z"
   },
   {
    "duration": 16,
    "start_time": "2024-04-30T13:16:10.608Z"
   },
   {
    "duration": 12,
    "start_time": "2024-04-30T13:16:35.999Z"
   },
   {
    "duration": 5,
    "start_time": "2024-04-30T13:16:44.984Z"
   },
   {
    "duration": 8,
    "start_time": "2024-04-30T13:19:26.728Z"
   },
   {
    "duration": 97,
    "start_time": "2024-04-30T13:21:01.272Z"
   },
   {
    "duration": 11,
    "start_time": "2024-04-30T13:21:09.928Z"
   },
   {
    "duration": 7,
    "start_time": "2024-04-30T13:21:25.680Z"
   },
   {
    "duration": 9,
    "start_time": "2024-04-30T13:21:31.432Z"
   },
   {
    "duration": 10,
    "start_time": "2024-04-30T13:21:34.960Z"
   },
   {
    "duration": 10,
    "start_time": "2024-04-30T13:21:41.541Z"
   },
   {
    "duration": 11,
    "start_time": "2024-04-30T13:26:13.177Z"
   },
   {
    "duration": 7,
    "start_time": "2024-04-30T13:26:22.048Z"
   },
   {
    "duration": 11,
    "start_time": "2024-04-30T13:26:22.754Z"
   },
   {
    "duration": 21,
    "start_time": "2024-04-30T13:26:24.034Z"
   },
   {
    "duration": 7,
    "start_time": "2024-04-30T13:26:41.314Z"
   },
   {
    "duration": 31,
    "start_time": "2024-04-30T13:26:45.609Z"
   },
   {
    "duration": 170,
    "start_time": "2024-04-30T13:27:22.481Z"
   },
   {
    "duration": 11,
    "start_time": "2024-04-30T13:27:29.457Z"
   },
   {
    "duration": 108,
    "start_time": "2024-04-30T15:35:45.057Z"
   },
   {
    "duration": 13,
    "start_time": "2024-04-30T15:35:54.944Z"
   },
   {
    "duration": 6,
    "start_time": "2024-04-30T15:36:55.511Z"
   },
   {
    "duration": 14,
    "start_time": "2024-04-30T15:36:56.527Z"
   },
   {
    "duration": 66,
    "start_time": "2024-04-30T15:39:20.256Z"
   },
   {
    "duration": 3,
    "start_time": "2024-04-30T15:39:24.216Z"
   },
   {
    "duration": 8,
    "start_time": "2024-04-30T15:39:30.208Z"
   },
   {
    "duration": 5,
    "start_time": "2024-04-30T15:40:57.136Z"
   },
   {
    "duration": 4,
    "start_time": "2024-04-30T15:41:17.969Z"
   },
   {
    "duration": 9,
    "start_time": "2024-04-30T15:41:41.473Z"
   },
   {
    "duration": 408,
    "start_time": "2024-04-30T15:41:57.089Z"
   },
   {
    "duration": 269,
    "start_time": "2024-04-30T15:42:01.425Z"
   },
   {
    "duration": 237,
    "start_time": "2024-04-30T15:42:05.674Z"
   },
   {
    "duration": 277,
    "start_time": "2024-04-30T15:42:52.777Z"
   },
   {
    "duration": 340,
    "start_time": "2024-04-30T15:43:35.553Z"
   },
   {
    "duration": 249,
    "start_time": "2024-04-30T15:43:41.745Z"
   },
   {
    "duration": 297,
    "start_time": "2024-04-30T15:46:19.738Z"
   },
   {
    "duration": 278,
    "start_time": "2024-04-30T15:49:47.171Z"
   },
   {
    "duration": 311,
    "start_time": "2024-04-30T15:50:17.019Z"
   },
   {
    "duration": 254,
    "start_time": "2024-04-30T15:54:14.124Z"
   },
   {
    "duration": 280,
    "start_time": "2024-04-30T15:55:04.061Z"
   },
   {
    "duration": 293,
    "start_time": "2024-04-30T15:55:17.492Z"
   },
   {
    "duration": 14,
    "start_time": "2024-04-30T16:11:32.274Z"
   },
   {
    "duration": 12,
    "start_time": "2024-04-30T16:11:50.321Z"
   },
   {
    "duration": 13,
    "start_time": "2024-04-30T16:12:22.201Z"
   },
   {
    "duration": 387,
    "start_time": "2024-04-30T16:13:04.018Z"
   },
   {
    "duration": 416,
    "start_time": "2024-04-30T16:13:22.913Z"
   },
   {
    "duration": 361,
    "start_time": "2024-04-30T16:13:35.026Z"
   },
   {
    "duration": 449,
    "start_time": "2024-04-30T16:14:01.138Z"
   },
   {
    "duration": 351,
    "start_time": "2024-04-30T16:14:12.122Z"
   },
   {
    "duration": 290,
    "start_time": "2024-04-30T16:20:07.396Z"
   },
   {
    "duration": 273,
    "start_time": "2024-04-30T16:20:15.707Z"
   },
   {
    "duration": 291,
    "start_time": "2024-04-30T16:20:22.283Z"
   },
   {
    "duration": 267,
    "start_time": "2024-04-30T16:21:00.372Z"
   },
   {
    "duration": 257,
    "start_time": "2024-04-30T16:21:55.668Z"
   },
   {
    "duration": 4,
    "start_time": "2024-04-30T16:25:28.389Z"
   },
   {
    "duration": 288,
    "start_time": "2024-04-30T16:25:34.884Z"
   },
   {
    "duration": 274,
    "start_time": "2024-04-30T16:25:43.532Z"
   },
   {
    "duration": 317,
    "start_time": "2024-04-30T16:26:07.933Z"
   },
   {
    "duration": 293,
    "start_time": "2024-04-30T16:26:24.765Z"
   },
   {
    "duration": 360,
    "start_time": "2024-04-30T16:26:38.797Z"
   },
   {
    "duration": 265,
    "start_time": "2024-04-30T16:26:48.813Z"
   },
   {
    "duration": 391,
    "start_time": "2024-04-30T16:29:17.317Z"
   },
   {
    "duration": 400,
    "start_time": "2024-04-30T16:29:25.158Z"
   },
   {
    "duration": 378,
    "start_time": "2024-04-30T16:30:32.342Z"
   },
   {
    "duration": 385,
    "start_time": "2024-04-30T16:30:45.902Z"
   },
   {
    "duration": 417,
    "start_time": "2024-04-30T16:31:00.582Z"
   },
   {
    "duration": 376,
    "start_time": "2024-04-30T16:31:52.256Z"
   },
   {
    "duration": 375,
    "start_time": "2024-04-30T16:32:02.006Z"
   },
   {
    "duration": 404,
    "start_time": "2024-04-30T16:32:10.150Z"
   },
   {
    "duration": 404,
    "start_time": "2024-04-30T16:32:13.694Z"
   },
   {
    "duration": 490,
    "start_time": "2024-04-30T16:32:41.246Z"
   },
   {
    "duration": 398,
    "start_time": "2024-04-30T16:33:21.112Z"
   },
   {
    "duration": 42,
    "start_time": "2024-05-01T02:07:35.905Z"
   },
   {
    "duration": 649,
    "start_time": "2024-05-01T02:07:42.344Z"
   },
   {
    "duration": 81,
    "start_time": "2024-05-01T02:07:42.995Z"
   },
   {
    "duration": 9,
    "start_time": "2024-05-01T02:07:43.078Z"
   },
   {
    "duration": 25,
    "start_time": "2024-05-01T02:07:43.088Z"
   },
   {
    "duration": 14,
    "start_time": "2024-05-01T02:07:43.114Z"
   },
   {
    "duration": 7,
    "start_time": "2024-05-01T02:07:43.129Z"
   },
   {
    "duration": 6,
    "start_time": "2024-05-01T02:07:43.138Z"
   },
   {
    "duration": 164,
    "start_time": "2024-05-01T02:07:43.145Z"
   },
   {
    "duration": 8,
    "start_time": "2024-05-01T02:07:43.310Z"
   },
   {
    "duration": 22,
    "start_time": "2024-05-01T02:07:43.319Z"
   },
   {
    "duration": 9,
    "start_time": "2024-05-01T02:07:43.342Z"
   },
   {
    "duration": 12,
    "start_time": "2024-05-01T02:07:43.352Z"
   },
   {
    "duration": 8,
    "start_time": "2024-05-01T02:07:43.365Z"
   },
   {
    "duration": 15,
    "start_time": "2024-05-01T02:07:43.376Z"
   },
   {
    "duration": 4,
    "start_time": "2024-05-01T02:07:43.392Z"
   },
   {
    "duration": 8,
    "start_time": "2024-05-01T02:07:43.398Z"
   },
   {
    "duration": 128,
    "start_time": "2024-05-01T02:07:43.407Z"
   },
   {
    "duration": 8,
    "start_time": "2024-05-01T02:07:43.536Z"
   },
   {
    "duration": 93,
    "start_time": "2024-05-01T02:07:43.545Z"
   },
   {
    "duration": 7,
    "start_time": "2024-05-01T02:07:43.640Z"
   },
   {
    "duration": 11,
    "start_time": "2024-05-01T02:07:43.648Z"
   },
   {
    "duration": 26,
    "start_time": "2024-05-01T02:07:43.660Z"
   },
   {
    "duration": 29,
    "start_time": "2024-05-01T02:07:43.687Z"
   },
   {
    "duration": 5,
    "start_time": "2024-05-01T02:07:43.717Z"
   },
   {
    "duration": 5,
    "start_time": "2024-05-01T02:07:43.723Z"
   },
   {
    "duration": 243,
    "start_time": "2024-05-01T02:07:43.729Z"
   },
   {
    "duration": 217,
    "start_time": "2024-05-01T02:07:43.973Z"
   },
   {
    "duration": 375,
    "start_time": "2024-05-01T02:07:44.191Z"
   },
   {
    "duration": 225,
    "start_time": "2024-05-01T02:07:44.568Z"
   },
   {
    "duration": 363,
    "start_time": "2024-05-01T02:07:44.795Z"
   },
   {
    "duration": 43,
    "start_time": "2024-05-01T02:07:45.160Z"
   },
   {
    "duration": 7,
    "start_time": "2024-05-01T02:09:57.486Z"
   },
   {
    "duration": 5,
    "start_time": "2024-05-01T02:10:11.814Z"
   },
   {
    "duration": 8,
    "start_time": "2024-05-01T02:10:15.702Z"
   },
   {
    "duration": 85,
    "start_time": "2024-05-01T02:10:31.879Z"
   },
   {
    "duration": 3,
    "start_time": "2024-05-01T02:11:36.772Z"
   },
   {
    "duration": 42,
    "start_time": "2024-05-01T02:12:21.111Z"
   },
   {
    "duration": 40,
    "start_time": "2024-05-01T02:13:04.552Z"
   },
   {
    "duration": 41,
    "start_time": "2024-05-01T02:13:09.936Z"
   },
   {
    "duration": 65,
    "start_time": "2024-05-01T02:13:13.832Z"
   },
   {
    "duration": 83,
    "start_time": "2024-05-01T02:13:17.472Z"
   },
   {
    "duration": 108,
    "start_time": "2024-05-01T02:13:22.352Z"
   },
   {
    "duration": 112,
    "start_time": "2024-05-01T02:13:36.960Z"
   },
   {
    "duration": 96,
    "start_time": "2024-05-01T02:14:12.568Z"
   },
   {
    "duration": 103,
    "start_time": "2024-05-01T02:14:28.848Z"
   },
   {
    "duration": 3,
    "start_time": "2024-05-01T02:17:53.824Z"
   },
   {
    "duration": 95,
    "start_time": "2024-05-01T02:21:56.826Z"
   },
   {
    "duration": 111,
    "start_time": "2024-05-01T02:22:42.714Z"
   },
   {
    "duration": 114,
    "start_time": "2024-05-01T02:25:08.418Z"
   },
   {
    "duration": 4,
    "start_time": "2024-05-01T02:28:07.571Z"
   },
   {
    "duration": 4,
    "start_time": "2024-05-01T03:32:18.496Z"
   },
   {
    "duration": 3,
    "start_time": "2024-05-01T03:32:36.112Z"
   },
   {
    "duration": 8,
    "start_time": "2024-05-01T03:33:52.168Z"
   },
   {
    "duration": 13,
    "start_time": "2024-05-01T03:36:07.713Z"
   },
   {
    "duration": 132,
    "start_time": "2024-05-01T03:36:37.578Z"
   },
   {
    "duration": 5,
    "start_time": "2024-05-01T03:36:38.865Z"
   },
   {
    "duration": 4,
    "start_time": "2024-05-01T03:38:26.881Z"
   },
   {
    "duration": 3,
    "start_time": "2024-05-01T03:38:34.857Z"
   },
   {
    "duration": 8,
    "start_time": "2024-05-01T03:41:26.538Z"
   },
   {
    "duration": 10,
    "start_time": "2024-05-01T03:42:07.102Z"
   },
   {
    "duration": 5,
    "start_time": "2024-05-01T03:43:02.930Z"
   },
   {
    "duration": 3,
    "start_time": "2024-05-01T03:43:06.993Z"
   },
   {
    "duration": 3,
    "start_time": "2024-05-01T03:43:13.794Z"
   },
   {
    "duration": 6,
    "start_time": "2024-05-01T03:43:47.738Z"
   },
   {
    "duration": 378,
    "start_time": "2024-05-01T03:44:05.643Z"
   },
   {
    "duration": 19,
    "start_time": "2024-05-01T03:44:09.778Z"
   },
   {
    "duration": 10,
    "start_time": "2024-05-01T03:51:01.742Z"
   },
   {
    "duration": 10,
    "start_time": "2024-05-01T03:51:21.751Z"
   },
   {
    "duration": 10,
    "start_time": "2024-05-01T03:52:15.728Z"
   },
   {
    "duration": 5,
    "start_time": "2024-05-01T03:52:37.745Z"
   },
   {
    "duration": 3,
    "start_time": "2024-05-01T03:52:38.888Z"
   },
   {
    "duration": 19,
    "start_time": "2024-05-01T03:52:39.696Z"
   },
   {
    "duration": 92,
    "start_time": "2024-05-01T04:06:46.083Z"
   },
   {
    "duration": 106,
    "start_time": "2024-05-01T04:06:55.897Z"
   },
   {
    "duration": 5,
    "start_time": "2024-05-01T04:07:34.730Z"
   },
   {
    "duration": 19,
    "start_time": "2024-05-01T04:07:38.752Z"
   },
   {
    "duration": 8,
    "start_time": "2024-05-01T04:10:54.940Z"
   },
   {
    "duration": 5,
    "start_time": "2024-05-01T04:11:00.211Z"
   },
   {
    "duration": 5,
    "start_time": "2024-05-01T04:14:00.613Z"
   },
   {
    "duration": 5,
    "start_time": "2024-05-01T04:14:50.613Z"
   },
   {
    "duration": 5,
    "start_time": "2024-05-01T04:14:55.773Z"
   },
   {
    "duration": 17,
    "start_time": "2024-05-01T04:14:56.669Z"
   },
   {
    "duration": 5,
    "start_time": "2024-05-01T04:16:32.014Z"
   },
   {
    "duration": 5,
    "start_time": "2024-05-01T04:16:42.558Z"
   },
   {
    "duration": 4,
    "start_time": "2024-05-01T04:24:57.434Z"
   },
   {
    "duration": 4,
    "start_time": "2024-05-01T04:25:44.868Z"
   },
   {
    "duration": 5,
    "start_time": "2024-05-01T04:25:56.523Z"
   },
   {
    "duration": 6,
    "start_time": "2024-05-01T04:27:01.707Z"
   },
   {
    "duration": 6,
    "start_time": "2024-05-01T04:27:50.931Z"
   },
   {
    "duration": 6,
    "start_time": "2024-05-01T04:28:39.972Z"
   },
   {
    "duration": 7,
    "start_time": "2024-05-01T04:29:25.821Z"
   },
   {
    "duration": 5,
    "start_time": "2024-05-01T04:29:34.156Z"
   },
   {
    "duration": 14,
    "start_time": "2024-05-01T04:34:43.223Z"
   },
   {
    "duration": 6,
    "start_time": "2024-05-01T04:35:07.689Z"
   },
   {
    "duration": 9,
    "start_time": "2024-05-01T04:35:12.743Z"
   },
   {
    "duration": 14,
    "start_time": "2024-05-01T04:37:02.633Z"
   },
   {
    "duration": 7,
    "start_time": "2024-05-01T04:37:36.056Z"
   },
   {
    "duration": 5,
    "start_time": "2024-05-01T04:37:40.920Z"
   },
   {
    "duration": 7,
    "start_time": "2024-05-01T04:39:58.634Z"
   },
   {
    "duration": 17,
    "start_time": "2024-05-01T04:40:18.634Z"
   },
   {
    "duration": 6,
    "start_time": "2024-05-01T04:41:18.738Z"
   },
   {
    "duration": 8,
    "start_time": "2024-05-01T04:41:19.546Z"
   },
   {
    "duration": 18,
    "start_time": "2024-05-01T04:41:20.530Z"
   },
   {
    "duration": 6,
    "start_time": "2024-05-01T04:41:38.234Z"
   },
   {
    "duration": 7,
    "start_time": "2024-05-01T04:41:38.745Z"
   },
   {
    "duration": 19,
    "start_time": "2024-05-01T04:41:39.217Z"
   },
   {
    "duration": 6,
    "start_time": "2024-05-01T04:42:47.203Z"
   },
   {
    "duration": 4,
    "start_time": "2024-05-01T04:42:52.667Z"
   },
   {
    "duration": 17,
    "start_time": "2024-05-01T04:43:49.027Z"
   },
   {
    "duration": 7,
    "start_time": "2024-05-01T04:46:53.629Z"
   },
   {
    "duration": 5,
    "start_time": "2024-05-01T04:47:37.901Z"
   },
   {
    "duration": 4,
    "start_time": "2024-05-01T04:48:02.420Z"
   },
   {
    "duration": 4,
    "start_time": "2024-05-01T04:48:07.974Z"
   },
   {
    "duration": 6,
    "start_time": "2024-05-01T04:48:33.924Z"
   },
   {
    "duration": 1157,
    "start_time": "2024-05-01T07:20:49.235Z"
   },
   {
    "duration": 86,
    "start_time": "2024-05-01T07:21:20.858Z"
   },
   {
    "duration": 178,
    "start_time": "2024-05-01T07:21:26.544Z"
   },
   {
    "duration": 13,
    "start_time": "2024-05-01T07:21:27.736Z"
   },
   {
    "duration": 216,
    "start_time": "2024-05-01T07:21:28.913Z"
   },
   {
    "duration": 170,
    "start_time": "2024-05-01T07:21:41.833Z"
   },
   {
    "duration": 11,
    "start_time": "2024-05-01T07:21:59.298Z"
   },
   {
    "duration": 11,
    "start_time": "2024-05-01T07:22:02.008Z"
   },
   {
    "duration": 15,
    "start_time": "2024-05-01T07:22:11.048Z"
   },
   {
    "duration": 4,
    "start_time": "2024-05-01T07:22:32.113Z"
   },
   {
    "duration": 5,
    "start_time": "2024-05-01T07:22:33.898Z"
   },
   {
    "duration": 5,
    "start_time": "2024-05-01T07:22:34.474Z"
   },
   {
    "duration": 7,
    "start_time": "2024-05-01T07:22:35.590Z"
   },
   {
    "duration": 13,
    "start_time": "2024-05-01T07:22:45.521Z"
   },
   {
    "duration": 4,
    "start_time": "2024-05-01T07:22:53.814Z"
   },
   {
    "duration": 77,
    "start_time": "2024-05-01T07:22:53.819Z"
   },
   {
    "duration": 8,
    "start_time": "2024-05-01T07:22:53.898Z"
   },
   {
    "duration": 8,
    "start_time": "2024-05-01T07:22:53.907Z"
   },
   {
    "duration": 10,
    "start_time": "2024-05-01T07:22:53.916Z"
   },
   {
    "duration": 10,
    "start_time": "2024-05-01T07:22:53.928Z"
   },
   {
    "duration": 7,
    "start_time": "2024-05-01T07:22:53.939Z"
   },
   {
    "duration": 53,
    "start_time": "2024-05-01T07:22:53.947Z"
   },
   {
    "duration": 9,
    "start_time": "2024-05-01T07:22:54.001Z"
   },
   {
    "duration": 18,
    "start_time": "2024-05-01T07:22:54.011Z"
   },
   {
    "duration": 11,
    "start_time": "2024-05-01T07:22:54.030Z"
   },
   {
    "duration": 11,
    "start_time": "2024-05-01T07:22:54.042Z"
   },
   {
    "duration": 8,
    "start_time": "2024-05-01T07:22:54.054Z"
   },
   {
    "duration": 4,
    "start_time": "2024-05-01T07:22:54.065Z"
   },
   {
    "duration": 6,
    "start_time": "2024-05-01T07:22:54.070Z"
   },
   {
    "duration": 4,
    "start_time": "2024-05-01T07:22:54.077Z"
   },
   {
    "duration": 7,
    "start_time": "2024-05-01T07:22:54.082Z"
   },
   {
    "duration": 9,
    "start_time": "2024-05-01T07:22:54.091Z"
   },
   {
    "duration": 6,
    "start_time": "2024-05-01T07:22:54.101Z"
   },
   {
    "duration": 37,
    "start_time": "2024-05-01T07:22:54.108Z"
   },
   {
    "duration": 157,
    "start_time": "2024-05-01T07:22:54.146Z"
   },
   {
    "duration": 10,
    "start_time": "2024-05-01T07:22:54.304Z"
   },
   {
    "duration": 121,
    "start_time": "2024-05-01T07:22:54.315Z"
   },
   {
    "duration": 14,
    "start_time": "2024-05-01T07:22:54.438Z"
   },
   {
    "duration": 29,
    "start_time": "2024-05-01T07:22:54.454Z"
   },
   {
    "duration": 14,
    "start_time": "2024-05-01T07:22:54.485Z"
   },
   {
    "duration": 12,
    "start_time": "2024-05-01T07:22:54.501Z"
   },
   {
    "duration": 11,
    "start_time": "2024-05-01T07:22:54.514Z"
   },
   {
    "duration": 18,
    "start_time": "2024-05-01T07:22:54.527Z"
   },
   {
    "duration": 241,
    "start_time": "2024-05-01T07:22:54.547Z"
   },
   {
    "duration": 178,
    "start_time": "2024-05-01T07:22:54.790Z"
   },
   {
    "duration": 313,
    "start_time": "2024-05-01T07:22:54.969Z"
   },
   {
    "duration": 224,
    "start_time": "2024-05-01T07:22:55.284Z"
   },
   {
    "duration": 0,
    "start_time": "2024-05-01T07:22:55.510Z"
   },
   {
    "duration": 0,
    "start_time": "2024-05-01T07:22:55.511Z"
   },
   {
    "duration": 0,
    "start_time": "2024-05-01T07:22:55.513Z"
   },
   {
    "duration": 0,
    "start_time": "2024-05-01T07:22:55.514Z"
   },
   {
    "duration": 0,
    "start_time": "2024-05-01T07:22:55.515Z"
   },
   {
    "duration": 0,
    "start_time": "2024-05-01T07:22:55.516Z"
   },
   {
    "duration": 0,
    "start_time": "2024-05-01T07:22:55.517Z"
   },
   {
    "duration": 0,
    "start_time": "2024-05-01T07:22:55.518Z"
   },
   {
    "duration": 0,
    "start_time": "2024-05-01T07:22:55.519Z"
   },
   {
    "duration": 0,
    "start_time": "2024-05-01T07:22:55.520Z"
   },
   {
    "duration": 0,
    "start_time": "2024-05-01T07:22:55.521Z"
   },
   {
    "duration": 0,
    "start_time": "2024-05-01T07:22:55.522Z"
   },
   {
    "duration": 0,
    "start_time": "2024-05-01T07:22:55.523Z"
   },
   {
    "duration": 0,
    "start_time": "2024-05-01T07:22:55.523Z"
   },
   {
    "duration": 0,
    "start_time": "2024-05-01T07:22:55.545Z"
   },
   {
    "duration": 0,
    "start_time": "2024-05-01T07:22:55.546Z"
   },
   {
    "duration": 0,
    "start_time": "2024-05-01T07:22:55.547Z"
   },
   {
    "duration": 0,
    "start_time": "2024-05-01T07:22:55.548Z"
   },
   {
    "duration": 0,
    "start_time": "2024-05-01T07:22:55.549Z"
   },
   {
    "duration": 0,
    "start_time": "2024-05-01T07:22:55.549Z"
   },
   {
    "duration": 0,
    "start_time": "2024-05-01T07:22:55.550Z"
   },
   {
    "duration": 0,
    "start_time": "2024-05-01T07:22:55.551Z"
   },
   {
    "duration": 0,
    "start_time": "2024-05-01T07:22:55.552Z"
   },
   {
    "duration": 0,
    "start_time": "2024-05-01T07:22:55.553Z"
   },
   {
    "duration": 0,
    "start_time": "2024-05-01T07:22:55.554Z"
   },
   {
    "duration": 0,
    "start_time": "2024-05-01T07:22:55.555Z"
   },
   {
    "duration": 0,
    "start_time": "2024-05-01T07:22:55.556Z"
   },
   {
    "duration": 0,
    "start_time": "2024-05-01T07:22:55.557Z"
   },
   {
    "duration": 193,
    "start_time": "2024-05-01T07:24:49.675Z"
   },
   {
    "duration": 201,
    "start_time": "2024-05-01T07:25:19.514Z"
   },
   {
    "duration": 205,
    "start_time": "2024-05-01T07:26:41.035Z"
   },
   {
    "duration": 209,
    "start_time": "2024-05-01T07:26:59.148Z"
   },
   {
    "duration": 3,
    "start_time": "2024-05-01T07:28:19.340Z"
   },
   {
    "duration": 302,
    "start_time": "2024-05-01T07:28:27.101Z"
   },
   {
    "duration": 210,
    "start_time": "2024-05-01T07:28:48.956Z"
   },
   {
    "duration": 300,
    "start_time": "2024-05-01T07:28:59.451Z"
   },
   {
    "duration": 204,
    "start_time": "2024-05-01T07:31:39.486Z"
   },
   {
    "duration": 205,
    "start_time": "2024-05-01T07:31:52.942Z"
   },
   {
    "duration": 209,
    "start_time": "2024-05-01T07:32:03.077Z"
   },
   {
    "duration": 210,
    "start_time": "2024-05-01T07:34:26.908Z"
   },
   {
    "duration": 205,
    "start_time": "2024-05-01T07:35:14.750Z"
   },
   {
    "duration": 213,
    "start_time": "2024-05-01T07:36:15.238Z"
   },
   {
    "duration": 212,
    "start_time": "2024-05-01T07:38:30.559Z"
   },
   {
    "duration": 193,
    "start_time": "2024-05-01T07:42:56.126Z"
   },
   {
    "duration": 228,
    "start_time": "2024-05-01T07:43:22.293Z"
   },
   {
    "duration": 2,
    "start_time": "2024-05-01T07:43:49.951Z"
   },
   {
    "duration": 45,
    "start_time": "2024-05-01T07:43:49.955Z"
   },
   {
    "duration": 10,
    "start_time": "2024-05-01T07:43:50.001Z"
   },
   {
    "duration": 49,
    "start_time": "2024-05-01T07:43:50.012Z"
   },
   {
    "duration": 23,
    "start_time": "2024-05-01T07:43:50.062Z"
   },
   {
    "duration": 34,
    "start_time": "2024-05-01T07:43:50.086Z"
   },
   {
    "duration": 45,
    "start_time": "2024-05-01T07:43:50.121Z"
   },
   {
    "duration": 87,
    "start_time": "2024-05-01T07:43:50.168Z"
   },
   {
    "duration": 14,
    "start_time": "2024-05-01T07:43:50.257Z"
   },
   {
    "duration": 50,
    "start_time": "2024-05-01T07:43:50.272Z"
   },
   {
    "duration": 47,
    "start_time": "2024-05-01T07:43:50.323Z"
   },
   {
    "duration": 37,
    "start_time": "2024-05-01T07:43:50.372Z"
   },
   {
    "duration": 25,
    "start_time": "2024-05-01T07:43:50.410Z"
   },
   {
    "duration": 14,
    "start_time": "2024-05-01T07:43:50.439Z"
   },
   {
    "duration": 26,
    "start_time": "2024-05-01T07:43:50.455Z"
   },
   {
    "duration": 26,
    "start_time": "2024-05-01T07:43:50.483Z"
   },
   {
    "duration": 34,
    "start_time": "2024-05-01T07:43:50.510Z"
   },
   {
    "duration": 36,
    "start_time": "2024-05-01T07:43:50.545Z"
   },
   {
    "duration": 14,
    "start_time": "2024-05-01T07:43:50.583Z"
   },
   {
    "duration": 29,
    "start_time": "2024-05-01T07:43:50.598Z"
   },
   {
    "duration": 155,
    "start_time": "2024-05-01T07:43:50.628Z"
   },
   {
    "duration": 10,
    "start_time": "2024-05-01T07:43:50.785Z"
   },
   {
    "duration": 137,
    "start_time": "2024-05-01T07:43:50.796Z"
   },
   {
    "duration": 13,
    "start_time": "2024-05-01T07:43:50.935Z"
   },
   {
    "duration": 17,
    "start_time": "2024-05-01T07:43:50.949Z"
   },
   {
    "duration": 28,
    "start_time": "2024-05-01T07:43:50.968Z"
   },
   {
    "duration": 31,
    "start_time": "2024-05-01T07:43:50.997Z"
   },
   {
    "duration": 31,
    "start_time": "2024-05-01T07:43:51.030Z"
   },
   {
    "duration": 33,
    "start_time": "2024-05-01T07:43:51.062Z"
   },
   {
    "duration": 184,
    "start_time": "2024-05-01T07:43:51.096Z"
   },
   {
    "duration": 256,
    "start_time": "2024-05-01T07:43:51.282Z"
   },
   {
    "duration": 296,
    "start_time": "2024-05-01T07:43:51.540Z"
   },
   {
    "duration": 236,
    "start_time": "2024-05-01T07:43:51.838Z"
   },
   {
    "duration": 0,
    "start_time": "2024-05-01T07:43:52.076Z"
   },
   {
    "duration": 0,
    "start_time": "2024-05-01T07:43:52.076Z"
   },
   {
    "duration": 0,
    "start_time": "2024-05-01T07:43:52.078Z"
   },
   {
    "duration": 0,
    "start_time": "2024-05-01T07:43:52.078Z"
   },
   {
    "duration": 0,
    "start_time": "2024-05-01T07:43:52.079Z"
   },
   {
    "duration": 0,
    "start_time": "2024-05-01T07:43:52.081Z"
   },
   {
    "duration": 0,
    "start_time": "2024-05-01T07:43:52.082Z"
   },
   {
    "duration": 0,
    "start_time": "2024-05-01T07:43:52.083Z"
   },
   {
    "duration": 0,
    "start_time": "2024-05-01T07:43:52.084Z"
   },
   {
    "duration": 0,
    "start_time": "2024-05-01T07:43:52.085Z"
   },
   {
    "duration": 0,
    "start_time": "2024-05-01T07:43:52.086Z"
   },
   {
    "duration": 0,
    "start_time": "2024-05-01T07:43:52.087Z"
   },
   {
    "duration": 0,
    "start_time": "2024-05-01T07:43:52.088Z"
   },
   {
    "duration": 0,
    "start_time": "2024-05-01T07:43:52.089Z"
   },
   {
    "duration": 0,
    "start_time": "2024-05-01T07:43:52.090Z"
   },
   {
    "duration": 0,
    "start_time": "2024-05-01T07:43:52.091Z"
   },
   {
    "duration": 0,
    "start_time": "2024-05-01T07:43:52.092Z"
   },
   {
    "duration": 0,
    "start_time": "2024-05-01T07:43:52.093Z"
   },
   {
    "duration": 0,
    "start_time": "2024-05-01T07:43:52.094Z"
   },
   {
    "duration": 0,
    "start_time": "2024-05-01T07:43:52.095Z"
   },
   {
    "duration": 0,
    "start_time": "2024-05-01T07:43:52.096Z"
   },
   {
    "duration": 0,
    "start_time": "2024-05-01T07:43:52.097Z"
   },
   {
    "duration": 0,
    "start_time": "2024-05-01T07:43:52.098Z"
   },
   {
    "duration": 0,
    "start_time": "2024-05-01T07:43:52.099Z"
   },
   {
    "duration": 0,
    "start_time": "2024-05-01T07:43:52.100Z"
   },
   {
    "duration": 0,
    "start_time": "2024-05-01T07:43:52.101Z"
   },
   {
    "duration": 0,
    "start_time": "2024-05-01T07:43:52.102Z"
   },
   {
    "duration": 0,
    "start_time": "2024-05-01T07:43:52.103Z"
   },
   {
    "duration": 12,
    "start_time": "2024-05-01T07:44:29.132Z"
   },
   {
    "duration": 6,
    "start_time": "2024-05-01T07:44:37.027Z"
   },
   {
    "duration": 177,
    "start_time": "2024-05-01T07:46:11.171Z"
   },
   {
    "duration": 204,
    "start_time": "2024-05-01T07:46:30.660Z"
   },
   {
    "duration": 223,
    "start_time": "2024-05-01T07:47:33.227Z"
   },
   {
    "duration": 242,
    "start_time": "2024-05-01T07:47:48.826Z"
   },
   {
    "duration": 204,
    "start_time": "2024-05-01T07:49:52.554Z"
   },
   {
    "duration": 190,
    "start_time": "2024-05-01T07:49:59.026Z"
   },
   {
    "duration": 219,
    "start_time": "2024-05-01T07:52:37.545Z"
   },
   {
    "duration": 210,
    "start_time": "2024-05-01T07:53:09.538Z"
   },
   {
    "duration": 285,
    "start_time": "2024-05-01T07:53:15.129Z"
   },
   {
    "duration": 42,
    "start_time": "2024-05-01T07:53:55.490Z"
   },
   {
    "duration": 222,
    "start_time": "2024-05-01T07:54:03.089Z"
   },
   {
    "duration": 9,
    "start_time": "2024-05-01T07:54:16.432Z"
   },
   {
    "duration": 189,
    "start_time": "2024-05-01T07:55:14.888Z"
   },
   {
    "duration": 155,
    "start_time": "2024-05-01T07:55:28.522Z"
   },
   {
    "duration": 46,
    "start_time": "2024-05-01T07:55:34.994Z"
   },
   {
    "duration": 160,
    "start_time": "2024-05-01T07:56:02.722Z"
   },
   {
    "duration": 175,
    "start_time": "2024-05-01T07:59:56.721Z"
   },
   {
    "duration": 178,
    "start_time": "2024-05-01T08:00:10.985Z"
   },
   {
    "duration": 180,
    "start_time": "2024-05-01T08:00:30.233Z"
   },
   {
    "duration": 314,
    "start_time": "2024-05-01T08:00:48.113Z"
   },
   {
    "duration": 3,
    "start_time": "2024-05-01T08:00:56.107Z"
   },
   {
    "duration": 37,
    "start_time": "2024-05-01T08:00:56.112Z"
   },
   {
    "duration": 9,
    "start_time": "2024-05-01T08:00:56.150Z"
   },
   {
    "duration": 25,
    "start_time": "2024-05-01T08:00:56.161Z"
   },
   {
    "duration": 7,
    "start_time": "2024-05-01T08:00:56.189Z"
   },
   {
    "duration": 18,
    "start_time": "2024-05-01T08:00:56.197Z"
   },
   {
    "duration": 21,
    "start_time": "2024-05-01T08:00:56.216Z"
   },
   {
    "duration": 62,
    "start_time": "2024-05-01T08:00:56.238Z"
   },
   {
    "duration": 9,
    "start_time": "2024-05-01T08:00:56.301Z"
   },
   {
    "duration": 19,
    "start_time": "2024-05-01T08:00:56.311Z"
   },
   {
    "duration": 18,
    "start_time": "2024-05-01T08:00:56.331Z"
   },
   {
    "duration": 20,
    "start_time": "2024-05-01T08:00:56.350Z"
   },
   {
    "duration": 10,
    "start_time": "2024-05-01T08:00:56.371Z"
   },
   {
    "duration": 9,
    "start_time": "2024-05-01T08:00:56.384Z"
   },
   {
    "duration": 10,
    "start_time": "2024-05-01T08:00:56.394Z"
   },
   {
    "duration": 12,
    "start_time": "2024-05-01T08:00:56.405Z"
   },
   {
    "duration": 8,
    "start_time": "2024-05-01T08:00:56.418Z"
   },
   {
    "duration": 32,
    "start_time": "2024-05-01T08:00:56.427Z"
   },
   {
    "duration": 6,
    "start_time": "2024-05-01T08:00:56.460Z"
   },
   {
    "duration": 20,
    "start_time": "2024-05-01T08:00:56.467Z"
   },
   {
    "duration": 150,
    "start_time": "2024-05-01T08:00:56.488Z"
   },
   {
    "duration": 9,
    "start_time": "2024-05-01T08:00:56.640Z"
   },
   {
    "duration": 119,
    "start_time": "2024-05-01T08:00:56.651Z"
   },
   {
    "duration": 10,
    "start_time": "2024-05-01T08:00:56.772Z"
   },
   {
    "duration": 7,
    "start_time": "2024-05-01T08:00:56.783Z"
   },
   {
    "duration": 13,
    "start_time": "2024-05-01T08:00:56.791Z"
   },
   {
    "duration": 10,
    "start_time": "2024-05-01T08:00:56.805Z"
   },
   {
    "duration": 17,
    "start_time": "2024-05-01T08:00:56.816Z"
   },
   {
    "duration": 10,
    "start_time": "2024-05-01T08:00:56.835Z"
   },
   {
    "duration": 187,
    "start_time": "2024-05-01T08:00:56.846Z"
   },
   {
    "duration": 255,
    "start_time": "2024-05-01T08:00:57.035Z"
   },
   {
    "duration": 262,
    "start_time": "2024-05-01T08:00:57.292Z"
   },
   {
    "duration": 190,
    "start_time": "2024-05-01T08:00:57.555Z"
   },
   {
    "duration": 301,
    "start_time": "2024-05-01T08:00:57.746Z"
   },
   {
    "duration": 6,
    "start_time": "2024-05-01T08:00:58.049Z"
   },
   {
    "duration": 7,
    "start_time": "2024-05-01T08:00:58.056Z"
   },
   {
    "duration": 137,
    "start_time": "2024-05-01T08:00:58.065Z"
   },
   {
    "duration": 9,
    "start_time": "2024-05-01T08:00:58.204Z"
   },
   {
    "duration": 147,
    "start_time": "2024-05-01T08:00:58.215Z"
   },
   {
    "duration": 144,
    "start_time": "2024-05-01T08:00:58.363Z"
   },
   {
    "duration": 0,
    "start_time": "2024-05-01T08:00:58.509Z"
   },
   {
    "duration": 0,
    "start_time": "2024-05-01T08:00:58.510Z"
   },
   {
    "duration": 0,
    "start_time": "2024-05-01T08:00:58.510Z"
   },
   {
    "duration": 0,
    "start_time": "2024-05-01T08:00:58.511Z"
   },
   {
    "duration": 0,
    "start_time": "2024-05-01T08:00:58.513Z"
   },
   {
    "duration": 0,
    "start_time": "2024-05-01T08:00:58.513Z"
   },
   {
    "duration": 0,
    "start_time": "2024-05-01T08:00:58.515Z"
   },
   {
    "duration": 0,
    "start_time": "2024-05-01T08:00:58.515Z"
   },
   {
    "duration": 0,
    "start_time": "2024-05-01T08:00:58.516Z"
   },
   {
    "duration": 0,
    "start_time": "2024-05-01T08:00:58.517Z"
   },
   {
    "duration": 0,
    "start_time": "2024-05-01T08:00:58.518Z"
   },
   {
    "duration": 0,
    "start_time": "2024-05-01T08:00:58.519Z"
   },
   {
    "duration": 0,
    "start_time": "2024-05-01T08:00:58.520Z"
   },
   {
    "duration": 0,
    "start_time": "2024-05-01T08:00:58.521Z"
   },
   {
    "duration": 0,
    "start_time": "2024-05-01T08:00:58.522Z"
   },
   {
    "duration": 0,
    "start_time": "2024-05-01T08:00:58.545Z"
   },
   {
    "duration": 0,
    "start_time": "2024-05-01T08:00:58.546Z"
   },
   {
    "duration": 0,
    "start_time": "2024-05-01T08:00:58.547Z"
   },
   {
    "duration": 0,
    "start_time": "2024-05-01T08:00:58.548Z"
   },
   {
    "duration": 0,
    "start_time": "2024-05-01T08:00:58.549Z"
   },
   {
    "duration": 0,
    "start_time": "2024-05-01T08:00:58.550Z"
   },
   {
    "duration": 134,
    "start_time": "2024-05-01T08:01:55.938Z"
   },
   {
    "duration": 134,
    "start_time": "2024-05-01T08:02:02.457Z"
   },
   {
    "duration": 135,
    "start_time": "2024-05-01T08:02:47.744Z"
   },
   {
    "duration": 127,
    "start_time": "2024-05-01T08:03:00.865Z"
   },
   {
    "duration": 122,
    "start_time": "2024-05-01T08:03:05.618Z"
   },
   {
    "duration": 131,
    "start_time": "2024-05-01T08:03:23.689Z"
   },
   {
    "duration": 209,
    "start_time": "2024-05-01T08:04:02.712Z"
   },
   {
    "duration": 129,
    "start_time": "2024-05-01T08:04:06.377Z"
   },
   {
    "duration": 140,
    "start_time": "2024-05-01T08:04:29.417Z"
   },
   {
    "duration": 129,
    "start_time": "2024-05-01T08:04:38.880Z"
   },
   {
    "duration": 130,
    "start_time": "2024-05-01T08:04:45.225Z"
   },
   {
    "duration": 160,
    "start_time": "2024-05-01T08:05:09.745Z"
   },
   {
    "duration": 152,
    "start_time": "2024-05-01T08:06:40.169Z"
   },
   {
    "duration": 165,
    "start_time": "2024-05-01T08:06:46.833Z"
   },
   {
    "duration": 164,
    "start_time": "2024-05-01T08:06:53.658Z"
   },
   {
    "duration": 174,
    "start_time": "2024-05-01T08:06:56.601Z"
   },
   {
    "duration": 178,
    "start_time": "2024-05-01T08:07:38.257Z"
   },
   {
    "duration": 293,
    "start_time": "2024-05-01T08:08:03.577Z"
   },
   {
    "duration": 218,
    "start_time": "2024-05-01T08:08:18.960Z"
   },
   {
    "duration": 3,
    "start_time": "2024-05-01T08:08:24.763Z"
   },
   {
    "duration": 28,
    "start_time": "2024-05-01T08:08:24.769Z"
   },
   {
    "duration": 14,
    "start_time": "2024-05-01T08:08:24.798Z"
   },
   {
    "duration": 12,
    "start_time": "2024-05-01T08:08:24.814Z"
   },
   {
    "duration": 8,
    "start_time": "2024-05-01T08:08:24.829Z"
   },
   {
    "duration": 9,
    "start_time": "2024-05-01T08:08:24.839Z"
   },
   {
    "duration": 12,
    "start_time": "2024-05-01T08:08:24.850Z"
   },
   {
    "duration": 59,
    "start_time": "2024-05-01T08:08:24.864Z"
   },
   {
    "duration": 9,
    "start_time": "2024-05-01T08:08:24.925Z"
   },
   {
    "duration": 20,
    "start_time": "2024-05-01T08:08:24.935Z"
   },
   {
    "duration": 98,
    "start_time": "2024-05-01T08:08:24.956Z"
   },
   {
    "duration": 26,
    "start_time": "2024-05-01T08:08:25.056Z"
   },
   {
    "duration": 19,
    "start_time": "2024-05-01T08:08:25.083Z"
   },
   {
    "duration": 4,
    "start_time": "2024-05-01T08:08:25.106Z"
   },
   {
    "duration": 9,
    "start_time": "2024-05-01T08:08:25.112Z"
   },
   {
    "duration": 11,
    "start_time": "2024-05-01T08:08:25.122Z"
   },
   {
    "duration": 15,
    "start_time": "2024-05-01T08:08:25.134Z"
   },
   {
    "duration": 21,
    "start_time": "2024-05-01T08:08:25.150Z"
   },
   {
    "duration": 16,
    "start_time": "2024-05-01T08:08:25.172Z"
   },
   {
    "duration": 14,
    "start_time": "2024-05-01T08:08:25.189Z"
   },
   {
    "duration": 151,
    "start_time": "2024-05-01T08:08:25.205Z"
   },
   {
    "duration": 9,
    "start_time": "2024-05-01T08:08:25.358Z"
   },
   {
    "duration": 126,
    "start_time": "2024-05-01T08:08:25.368Z"
   },
   {
    "duration": 10,
    "start_time": "2024-05-01T08:08:25.495Z"
   },
   {
    "duration": 19,
    "start_time": "2024-05-01T08:08:25.506Z"
   },
   {
    "duration": 27,
    "start_time": "2024-05-01T08:08:25.526Z"
   },
   {
    "duration": 28,
    "start_time": "2024-05-01T08:08:25.554Z"
   },
   {
    "duration": 8,
    "start_time": "2024-05-01T08:08:25.584Z"
   },
   {
    "duration": 10,
    "start_time": "2024-05-01T08:08:25.594Z"
   },
   {
    "duration": 241,
    "start_time": "2024-05-01T08:08:25.605Z"
   },
   {
    "duration": 214,
    "start_time": "2024-05-01T08:08:25.848Z"
   },
   {
    "duration": 321,
    "start_time": "2024-05-01T08:08:26.064Z"
   },
   {
    "duration": 218,
    "start_time": "2024-05-01T08:08:26.387Z"
   },
   {
    "duration": 309,
    "start_time": "2024-05-01T08:08:26.606Z"
   },
   {
    "duration": 7,
    "start_time": "2024-05-01T08:08:26.916Z"
   },
   {
    "duration": 7,
    "start_time": "2024-05-01T08:08:26.924Z"
   },
   {
    "duration": 165,
    "start_time": "2024-05-01T08:08:26.933Z"
   },
   {
    "duration": 3,
    "start_time": "2024-05-01T08:08:27.100Z"
   },
   {
    "duration": 189,
    "start_time": "2024-05-01T08:08:27.105Z"
   },
   {
    "duration": 175,
    "start_time": "2024-05-01T08:08:27.295Z"
   },
   {
    "duration": 4,
    "start_time": "2024-05-01T08:08:27.474Z"
   },
   {
    "duration": 13,
    "start_time": "2024-05-01T08:08:27.480Z"
   },
   {
    "duration": 17,
    "start_time": "2024-05-01T08:08:27.495Z"
   },
   {
    "duration": 168,
    "start_time": "2024-05-01T08:08:27.514Z"
   },
   {
    "duration": 6,
    "start_time": "2024-05-01T08:08:27.683Z"
   },
   {
    "duration": 7,
    "start_time": "2024-05-01T08:08:27.690Z"
   },
   {
    "duration": 5,
    "start_time": "2024-05-01T08:08:27.699Z"
   },
   {
    "duration": 50,
    "start_time": "2024-05-01T08:08:27.706Z"
   },
   {
    "duration": 5,
    "start_time": "2024-05-01T08:08:27.758Z"
   },
   {
    "duration": 9,
    "start_time": "2024-05-01T08:08:27.764Z"
   },
   {
    "duration": 6,
    "start_time": "2024-05-01T08:08:27.774Z"
   },
   {
    "duration": 13,
    "start_time": "2024-05-01T08:08:27.781Z"
   },
   {
    "duration": 12,
    "start_time": "2024-05-01T08:08:27.795Z"
   },
   {
    "duration": 13,
    "start_time": "2024-05-01T08:08:27.808Z"
   },
   {
    "duration": 22,
    "start_time": "2024-05-01T08:08:27.823Z"
   },
   {
    "duration": 7,
    "start_time": "2024-05-01T08:08:27.846Z"
   },
   {
    "duration": 23,
    "start_time": "2024-05-01T08:08:27.854Z"
   },
   {
    "duration": 6,
    "start_time": "2024-05-01T08:08:27.879Z"
   },
   {
    "duration": 9,
    "start_time": "2024-05-01T08:08:27.886Z"
   },
   {
    "duration": 4,
    "start_time": "2024-05-01T08:08:27.897Z"
   },
   {
    "duration": 6,
    "start_time": "2024-05-01T08:08:27.902Z"
   },
   {
    "duration": 1177,
    "start_time": "2024-05-01T11:32:10.631Z"
   },
   {
    "duration": 72,
    "start_time": "2024-05-01T11:32:14.114Z"
   },
   {
    "duration": 10,
    "start_time": "2024-05-01T11:32:14.635Z"
   },
   {
    "duration": 3,
    "start_time": "2024-05-01T11:32:15.362Z"
   },
   {
    "duration": 9,
    "start_time": "2024-05-01T11:32:16.226Z"
   },
   {
    "duration": 8,
    "start_time": "2024-05-01T11:34:05.117Z"
   },
   {
    "duration": 7,
    "start_time": "2024-05-01T11:34:46.259Z"
   },
   {
    "duration": 2,
    "start_time": "2024-05-01T11:35:20.027Z"
   },
   {
    "duration": 27,
    "start_time": "2024-05-01T11:35:21.154Z"
   },
   {
    "duration": 8,
    "start_time": "2024-05-01T11:35:21.700Z"
   },
   {
    "duration": 3,
    "start_time": "2024-05-01T11:35:22.171Z"
   },
   {
    "duration": 7,
    "start_time": "2024-05-01T11:35:23.001Z"
   },
   {
    "duration": 7,
    "start_time": "2024-05-01T11:35:32.348Z"
   },
   {
    "duration": 7,
    "start_time": "2024-05-01T11:37:11.740Z"
   }
  ],
  "kernelspec": {
   "display_name": "Python 3 (ipykernel)",
   "language": "python",
   "name": "python3"
  },
  "language_info": {
   "codemirror_mode": {
    "name": "ipython",
    "version": 3
   },
   "file_extension": ".py",
   "mimetype": "text/x-python",
   "name": "python",
   "nbconvert_exporter": "python",
   "pygments_lexer": "ipython3",
   "version": "3.9.12"
  },
  "toc": {
   "base_numbering": 1,
   "nav_menu": {},
   "number_sections": true,
   "sideBar": true,
   "skip_h1_title": true,
   "title_cell": "Table of Contents",
   "title_sidebar": "Contents",
   "toc_cell": false,
   "toc_position": {},
   "toc_section_display": true,
   "toc_window_display": false
  }
 },
 "nbformat": 4,
 "nbformat_minor": 2
}
