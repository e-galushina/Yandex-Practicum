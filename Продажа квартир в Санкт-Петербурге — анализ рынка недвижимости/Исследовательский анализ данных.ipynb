{
 "cells": [
  {
   "cell_type": "code",
   "execution_count": 1,
   "id": "f03de072",
   "metadata": {},
   "outputs": [],
   "source": [
    "#подключение библиотек\n",
    "import pandas as pd\n",
    "import matplotlib.pyplot as plt"
   ]
  },
  {
   "cell_type": "markdown",
   "id": "fc2c93c7",
   "metadata": {},
   "source": [
    "### <span style=\"color:red\"> 1. Общая информация о датасете</span>"
   ]
  },
  {
   "cell_type": "code",
   "execution_count": 2,
   "id": "a7036983",
   "metadata": {},
   "outputs": [],
   "source": [
    "try:\n",
    "    df = pd.read_csv('data.csv', sep='\\t')\n",
    "except:\n",
    "    df = pd.read_csv('https://dataset.csv', sep='\\t')"
   ]
  },
  {
   "cell_type": "code",
   "execution_count": 4,
   "id": "38020dd1",
   "metadata": {
    "scrolled": true
   },
   "outputs": [
    {
     "data": {
      "text/html": [
       "<div>\n",
       "<style scoped>\n",
       "    .dataframe tbody tr th:only-of-type {\n",
       "        vertical-align: middle;\n",
       "    }\n",
       "\n",
       "    .dataframe tbody tr th {\n",
       "        vertical-align: top;\n",
       "    }\n",
       "\n",
       "    .dataframe thead th {\n",
       "        text-align: right;\n",
       "    }\n",
       "</style>\n",
       "<table border=\"1\" class=\"dataframe\">\n",
       "  <thead>\n",
       "    <tr style=\"text-align: right;\">\n",
       "      <th></th>\n",
       "      <th>total_images</th>\n",
       "      <th>last_price</th>\n",
       "      <th>total_area</th>\n",
       "      <th>first_day_exposition</th>\n",
       "      <th>rooms</th>\n",
       "      <th>ceiling_height</th>\n",
       "      <th>floors_total</th>\n",
       "      <th>living_area</th>\n",
       "      <th>floor</th>\n",
       "      <th>is_apartment</th>\n",
       "      <th>...</th>\n",
       "      <th>kitchen_area</th>\n",
       "      <th>balcony</th>\n",
       "      <th>locality_name</th>\n",
       "      <th>airports_nearest</th>\n",
       "      <th>cityCenters_nearest</th>\n",
       "      <th>parks_around3000</th>\n",
       "      <th>parks_nearest</th>\n",
       "      <th>ponds_around3000</th>\n",
       "      <th>ponds_nearest</th>\n",
       "      <th>days_exposition</th>\n",
       "    </tr>\n",
       "  </thead>\n",
       "  <tbody>\n",
       "    <tr>\n",
       "      <th>0</th>\n",
       "      <td>20</td>\n",
       "      <td>13000000.0</td>\n",
       "      <td>108.00</td>\n",
       "      <td>2019-03-07T00:00:00</td>\n",
       "      <td>3</td>\n",
       "      <td>2.70</td>\n",
       "      <td>16.0</td>\n",
       "      <td>51.00</td>\n",
       "      <td>8</td>\n",
       "      <td>NaN</td>\n",
       "      <td>...</td>\n",
       "      <td>25.00</td>\n",
       "      <td>NaN</td>\n",
       "      <td>Санкт-Петербург</td>\n",
       "      <td>18863.0</td>\n",
       "      <td>16028.0</td>\n",
       "      <td>1.0</td>\n",
       "      <td>482.0</td>\n",
       "      <td>2.0</td>\n",
       "      <td>755.0</td>\n",
       "      <td>NaN</td>\n",
       "    </tr>\n",
       "    <tr>\n",
       "      <th>1</th>\n",
       "      <td>7</td>\n",
       "      <td>3350000.0</td>\n",
       "      <td>40.40</td>\n",
       "      <td>2018-12-04T00:00:00</td>\n",
       "      <td>1</td>\n",
       "      <td>NaN</td>\n",
       "      <td>11.0</td>\n",
       "      <td>18.60</td>\n",
       "      <td>1</td>\n",
       "      <td>NaN</td>\n",
       "      <td>...</td>\n",
       "      <td>11.00</td>\n",
       "      <td>2.0</td>\n",
       "      <td>посёлок Шушары</td>\n",
       "      <td>12817.0</td>\n",
       "      <td>18603.0</td>\n",
       "      <td>0.0</td>\n",
       "      <td>NaN</td>\n",
       "      <td>0.0</td>\n",
       "      <td>NaN</td>\n",
       "      <td>81.0</td>\n",
       "    </tr>\n",
       "    <tr>\n",
       "      <th>2</th>\n",
       "      <td>10</td>\n",
       "      <td>5196000.0</td>\n",
       "      <td>56.00</td>\n",
       "      <td>2015-08-20T00:00:00</td>\n",
       "      <td>2</td>\n",
       "      <td>NaN</td>\n",
       "      <td>5.0</td>\n",
       "      <td>34.30</td>\n",
       "      <td>4</td>\n",
       "      <td>NaN</td>\n",
       "      <td>...</td>\n",
       "      <td>8.30</td>\n",
       "      <td>0.0</td>\n",
       "      <td>Санкт-Петербург</td>\n",
       "      <td>21741.0</td>\n",
       "      <td>13933.0</td>\n",
       "      <td>1.0</td>\n",
       "      <td>90.0</td>\n",
       "      <td>2.0</td>\n",
       "      <td>574.0</td>\n",
       "      <td>558.0</td>\n",
       "    </tr>\n",
       "    <tr>\n",
       "      <th>3</th>\n",
       "      <td>0</td>\n",
       "      <td>64900000.0</td>\n",
       "      <td>159.00</td>\n",
       "      <td>2015-07-24T00:00:00</td>\n",
       "      <td>3</td>\n",
       "      <td>NaN</td>\n",
       "      <td>14.0</td>\n",
       "      <td>NaN</td>\n",
       "      <td>9</td>\n",
       "      <td>NaN</td>\n",
       "      <td>...</td>\n",
       "      <td>NaN</td>\n",
       "      <td>0.0</td>\n",
       "      <td>Санкт-Петербург</td>\n",
       "      <td>28098.0</td>\n",
       "      <td>6800.0</td>\n",
       "      <td>2.0</td>\n",
       "      <td>84.0</td>\n",
       "      <td>3.0</td>\n",
       "      <td>234.0</td>\n",
       "      <td>424.0</td>\n",
       "    </tr>\n",
       "    <tr>\n",
       "      <th>4</th>\n",
       "      <td>2</td>\n",
       "      <td>10000000.0</td>\n",
       "      <td>100.00</td>\n",
       "      <td>2018-06-19T00:00:00</td>\n",
       "      <td>2</td>\n",
       "      <td>3.03</td>\n",
       "      <td>14.0</td>\n",
       "      <td>32.00</td>\n",
       "      <td>13</td>\n",
       "      <td>NaN</td>\n",
       "      <td>...</td>\n",
       "      <td>41.00</td>\n",
       "      <td>NaN</td>\n",
       "      <td>Санкт-Петербург</td>\n",
       "      <td>31856.0</td>\n",
       "      <td>8098.0</td>\n",
       "      <td>2.0</td>\n",
       "      <td>112.0</td>\n",
       "      <td>1.0</td>\n",
       "      <td>48.0</td>\n",
       "      <td>121.0</td>\n",
       "    </tr>\n",
       "    <tr>\n",
       "      <th>5</th>\n",
       "      <td>10</td>\n",
       "      <td>2890000.0</td>\n",
       "      <td>30.40</td>\n",
       "      <td>2018-09-10T00:00:00</td>\n",
       "      <td>1</td>\n",
       "      <td>NaN</td>\n",
       "      <td>12.0</td>\n",
       "      <td>14.40</td>\n",
       "      <td>5</td>\n",
       "      <td>NaN</td>\n",
       "      <td>...</td>\n",
       "      <td>9.10</td>\n",
       "      <td>NaN</td>\n",
       "      <td>городской посёлок Янино-1</td>\n",
       "      <td>NaN</td>\n",
       "      <td>NaN</td>\n",
       "      <td>NaN</td>\n",
       "      <td>NaN</td>\n",
       "      <td>NaN</td>\n",
       "      <td>NaN</td>\n",
       "      <td>55.0</td>\n",
       "    </tr>\n",
       "    <tr>\n",
       "      <th>6</th>\n",
       "      <td>6</td>\n",
       "      <td>3700000.0</td>\n",
       "      <td>37.30</td>\n",
       "      <td>2017-11-02T00:00:00</td>\n",
       "      <td>1</td>\n",
       "      <td>NaN</td>\n",
       "      <td>26.0</td>\n",
       "      <td>10.60</td>\n",
       "      <td>6</td>\n",
       "      <td>NaN</td>\n",
       "      <td>...</td>\n",
       "      <td>14.40</td>\n",
       "      <td>1.0</td>\n",
       "      <td>посёлок Парголово</td>\n",
       "      <td>52996.0</td>\n",
       "      <td>19143.0</td>\n",
       "      <td>0.0</td>\n",
       "      <td>NaN</td>\n",
       "      <td>0.0</td>\n",
       "      <td>NaN</td>\n",
       "      <td>155.0</td>\n",
       "    </tr>\n",
       "    <tr>\n",
       "      <th>7</th>\n",
       "      <td>5</td>\n",
       "      <td>7915000.0</td>\n",
       "      <td>71.60</td>\n",
       "      <td>2019-04-18T00:00:00</td>\n",
       "      <td>2</td>\n",
       "      <td>NaN</td>\n",
       "      <td>24.0</td>\n",
       "      <td>NaN</td>\n",
       "      <td>22</td>\n",
       "      <td>NaN</td>\n",
       "      <td>...</td>\n",
       "      <td>18.90</td>\n",
       "      <td>2.0</td>\n",
       "      <td>Санкт-Петербург</td>\n",
       "      <td>23982.0</td>\n",
       "      <td>11634.0</td>\n",
       "      <td>0.0</td>\n",
       "      <td>NaN</td>\n",
       "      <td>0.0</td>\n",
       "      <td>NaN</td>\n",
       "      <td>NaN</td>\n",
       "    </tr>\n",
       "    <tr>\n",
       "      <th>8</th>\n",
       "      <td>20</td>\n",
       "      <td>2900000.0</td>\n",
       "      <td>33.16</td>\n",
       "      <td>2018-05-23T00:00:00</td>\n",
       "      <td>1</td>\n",
       "      <td>NaN</td>\n",
       "      <td>27.0</td>\n",
       "      <td>15.43</td>\n",
       "      <td>26</td>\n",
       "      <td>NaN</td>\n",
       "      <td>...</td>\n",
       "      <td>8.81</td>\n",
       "      <td>NaN</td>\n",
       "      <td>посёлок Мурино</td>\n",
       "      <td>NaN</td>\n",
       "      <td>NaN</td>\n",
       "      <td>NaN</td>\n",
       "      <td>NaN</td>\n",
       "      <td>NaN</td>\n",
       "      <td>NaN</td>\n",
       "      <td>189.0</td>\n",
       "    </tr>\n",
       "    <tr>\n",
       "      <th>9</th>\n",
       "      <td>18</td>\n",
       "      <td>5400000.0</td>\n",
       "      <td>61.00</td>\n",
       "      <td>2017-02-26T00:00:00</td>\n",
       "      <td>3</td>\n",
       "      <td>2.50</td>\n",
       "      <td>9.0</td>\n",
       "      <td>43.60</td>\n",
       "      <td>7</td>\n",
       "      <td>NaN</td>\n",
       "      <td>...</td>\n",
       "      <td>6.50</td>\n",
       "      <td>2.0</td>\n",
       "      <td>Санкт-Петербург</td>\n",
       "      <td>50898.0</td>\n",
       "      <td>15008.0</td>\n",
       "      <td>0.0</td>\n",
       "      <td>NaN</td>\n",
       "      <td>0.0</td>\n",
       "      <td>NaN</td>\n",
       "      <td>289.0</td>\n",
       "    </tr>\n",
       "    <tr>\n",
       "      <th>10</th>\n",
       "      <td>5</td>\n",
       "      <td>5050000.0</td>\n",
       "      <td>39.60</td>\n",
       "      <td>2017-11-16T00:00:00</td>\n",
       "      <td>1</td>\n",
       "      <td>2.67</td>\n",
       "      <td>12.0</td>\n",
       "      <td>20.30</td>\n",
       "      <td>3</td>\n",
       "      <td>NaN</td>\n",
       "      <td>...</td>\n",
       "      <td>8.50</td>\n",
       "      <td>NaN</td>\n",
       "      <td>Санкт-Петербург</td>\n",
       "      <td>38357.0</td>\n",
       "      <td>13878.0</td>\n",
       "      <td>1.0</td>\n",
       "      <td>310.0</td>\n",
       "      <td>2.0</td>\n",
       "      <td>553.0</td>\n",
       "      <td>137.0</td>\n",
       "    </tr>\n",
       "    <tr>\n",
       "      <th>11</th>\n",
       "      <td>9</td>\n",
       "      <td>3300000.0</td>\n",
       "      <td>44.00</td>\n",
       "      <td>2018-08-27T00:00:00</td>\n",
       "      <td>2</td>\n",
       "      <td>NaN</td>\n",
       "      <td>5.0</td>\n",
       "      <td>31.00</td>\n",
       "      <td>4</td>\n",
       "      <td>False</td>\n",
       "      <td>...</td>\n",
       "      <td>6.00</td>\n",
       "      <td>1.0</td>\n",
       "      <td>Ломоносов</td>\n",
       "      <td>48252.0</td>\n",
       "      <td>51677.0</td>\n",
       "      <td>0.0</td>\n",
       "      <td>NaN</td>\n",
       "      <td>0.0</td>\n",
       "      <td>NaN</td>\n",
       "      <td>7.0</td>\n",
       "    </tr>\n",
       "    <tr>\n",
       "      <th>12</th>\n",
       "      <td>10</td>\n",
       "      <td>3890000.0</td>\n",
       "      <td>54.00</td>\n",
       "      <td>2016-06-30T00:00:00</td>\n",
       "      <td>2</td>\n",
       "      <td>NaN</td>\n",
       "      <td>5.0</td>\n",
       "      <td>30.00</td>\n",
       "      <td>5</td>\n",
       "      <td>NaN</td>\n",
       "      <td>...</td>\n",
       "      <td>9.00</td>\n",
       "      <td>0.0</td>\n",
       "      <td>Сертолово</td>\n",
       "      <td>NaN</td>\n",
       "      <td>NaN</td>\n",
       "      <td>NaN</td>\n",
       "      <td>NaN</td>\n",
       "      <td>NaN</td>\n",
       "      <td>NaN</td>\n",
       "      <td>90.0</td>\n",
       "    </tr>\n",
       "    <tr>\n",
       "      <th>13</th>\n",
       "      <td>20</td>\n",
       "      <td>3550000.0</td>\n",
       "      <td>42.80</td>\n",
       "      <td>2017-07-01T00:00:00</td>\n",
       "      <td>2</td>\n",
       "      <td>2.56</td>\n",
       "      <td>5.0</td>\n",
       "      <td>27.00</td>\n",
       "      <td>5</td>\n",
       "      <td>NaN</td>\n",
       "      <td>...</td>\n",
       "      <td>5.20</td>\n",
       "      <td>1.0</td>\n",
       "      <td>Петергоф</td>\n",
       "      <td>37868.0</td>\n",
       "      <td>33058.0</td>\n",
       "      <td>1.0</td>\n",
       "      <td>294.0</td>\n",
       "      <td>3.0</td>\n",
       "      <td>298.0</td>\n",
       "      <td>366.0</td>\n",
       "    </tr>\n",
       "    <tr>\n",
       "      <th>14</th>\n",
       "      <td>1</td>\n",
       "      <td>4400000.0</td>\n",
       "      <td>36.00</td>\n",
       "      <td>2016-06-23T00:00:00</td>\n",
       "      <td>1</td>\n",
       "      <td>NaN</td>\n",
       "      <td>6.0</td>\n",
       "      <td>17.00</td>\n",
       "      <td>1</td>\n",
       "      <td>NaN</td>\n",
       "      <td>...</td>\n",
       "      <td>8.00</td>\n",
       "      <td>0.0</td>\n",
       "      <td>Пушкин</td>\n",
       "      <td>20782.0</td>\n",
       "      <td>30759.0</td>\n",
       "      <td>0.0</td>\n",
       "      <td>NaN</td>\n",
       "      <td>1.0</td>\n",
       "      <td>96.0</td>\n",
       "      <td>203.0</td>\n",
       "    </tr>\n",
       "    <tr>\n",
       "      <th>15</th>\n",
       "      <td>16</td>\n",
       "      <td>4650000.0</td>\n",
       "      <td>39.00</td>\n",
       "      <td>2017-11-18T00:00:00</td>\n",
       "      <td>1</td>\n",
       "      <td>NaN</td>\n",
       "      <td>14.0</td>\n",
       "      <td>20.50</td>\n",
       "      <td>5</td>\n",
       "      <td>NaN</td>\n",
       "      <td>...</td>\n",
       "      <td>7.60</td>\n",
       "      <td>1.0</td>\n",
       "      <td>Санкт-Петербург</td>\n",
       "      <td>12900.0</td>\n",
       "      <td>14259.0</td>\n",
       "      <td>1.0</td>\n",
       "      <td>590.0</td>\n",
       "      <td>1.0</td>\n",
       "      <td>296.0</td>\n",
       "      <td>19.0</td>\n",
       "    </tr>\n",
       "    <tr>\n",
       "      <th>16</th>\n",
       "      <td>11</td>\n",
       "      <td>6700000.0</td>\n",
       "      <td>82.00</td>\n",
       "      <td>2017-11-23T00:00:00</td>\n",
       "      <td>3</td>\n",
       "      <td>3.05</td>\n",
       "      <td>5.0</td>\n",
       "      <td>55.60</td>\n",
       "      <td>1</td>\n",
       "      <td>NaN</td>\n",
       "      <td>...</td>\n",
       "      <td>9.00</td>\n",
       "      <td>NaN</td>\n",
       "      <td>Санкт-Петербург</td>\n",
       "      <td>22108.0</td>\n",
       "      <td>10698.0</td>\n",
       "      <td>3.0</td>\n",
       "      <td>420.0</td>\n",
       "      <td>0.0</td>\n",
       "      <td>NaN</td>\n",
       "      <td>397.0</td>\n",
       "    </tr>\n",
       "    <tr>\n",
       "      <th>17</th>\n",
       "      <td>6</td>\n",
       "      <td>4180000.0</td>\n",
       "      <td>36.00</td>\n",
       "      <td>2016-09-09T00:00:00</td>\n",
       "      <td>1</td>\n",
       "      <td>NaN</td>\n",
       "      <td>17.0</td>\n",
       "      <td>16.50</td>\n",
       "      <td>7</td>\n",
       "      <td>NaN</td>\n",
       "      <td>...</td>\n",
       "      <td>11.00</td>\n",
       "      <td>1.0</td>\n",
       "      <td>Санкт-Петербург</td>\n",
       "      <td>33564.0</td>\n",
       "      <td>14616.0</td>\n",
       "      <td>0.0</td>\n",
       "      <td>NaN</td>\n",
       "      <td>1.0</td>\n",
       "      <td>859.0</td>\n",
       "      <td>571.0</td>\n",
       "    </tr>\n",
       "    <tr>\n",
       "      <th>18</th>\n",
       "      <td>8</td>\n",
       "      <td>3250000.0</td>\n",
       "      <td>31.00</td>\n",
       "      <td>2017-01-27T00:00:00</td>\n",
       "      <td>1</td>\n",
       "      <td>2.50</td>\n",
       "      <td>5.0</td>\n",
       "      <td>19.40</td>\n",
       "      <td>2</td>\n",
       "      <td>NaN</td>\n",
       "      <td>...</td>\n",
       "      <td>5.60</td>\n",
       "      <td>1.0</td>\n",
       "      <td>Санкт-Петербург</td>\n",
       "      <td>44060.0</td>\n",
       "      <td>10842.0</td>\n",
       "      <td>1.0</td>\n",
       "      <td>759.0</td>\n",
       "      <td>0.0</td>\n",
       "      <td>NaN</td>\n",
       "      <td>168.0</td>\n",
       "    </tr>\n",
       "    <tr>\n",
       "      <th>19</th>\n",
       "      <td>16</td>\n",
       "      <td>14200000.0</td>\n",
       "      <td>121.00</td>\n",
       "      <td>2019-01-09T00:00:00</td>\n",
       "      <td>3</td>\n",
       "      <td>2.75</td>\n",
       "      <td>16.0</td>\n",
       "      <td>76.00</td>\n",
       "      <td>8</td>\n",
       "      <td>NaN</td>\n",
       "      <td>...</td>\n",
       "      <td>12.00</td>\n",
       "      <td>NaN</td>\n",
       "      <td>Санкт-Петербург</td>\n",
       "      <td>38900.0</td>\n",
       "      <td>12843.0</td>\n",
       "      <td>0.0</td>\n",
       "      <td>NaN</td>\n",
       "      <td>0.0</td>\n",
       "      <td>NaN</td>\n",
       "      <td>97.0</td>\n",
       "    </tr>\n",
       "  </tbody>\n",
       "</table>\n",
       "<p>20 rows × 22 columns</p>\n",
       "</div>"
      ],
      "text/plain": [
       "    total_images  last_price  total_area first_day_exposition  rooms  \\\n",
       "0             20  13000000.0      108.00  2019-03-07T00:00:00      3   \n",
       "1              7   3350000.0       40.40  2018-12-04T00:00:00      1   \n",
       "2             10   5196000.0       56.00  2015-08-20T00:00:00      2   \n",
       "3              0  64900000.0      159.00  2015-07-24T00:00:00      3   \n",
       "4              2  10000000.0      100.00  2018-06-19T00:00:00      2   \n",
       "5             10   2890000.0       30.40  2018-09-10T00:00:00      1   \n",
       "6              6   3700000.0       37.30  2017-11-02T00:00:00      1   \n",
       "7              5   7915000.0       71.60  2019-04-18T00:00:00      2   \n",
       "8             20   2900000.0       33.16  2018-05-23T00:00:00      1   \n",
       "9             18   5400000.0       61.00  2017-02-26T00:00:00      3   \n",
       "10             5   5050000.0       39.60  2017-11-16T00:00:00      1   \n",
       "11             9   3300000.0       44.00  2018-08-27T00:00:00      2   \n",
       "12            10   3890000.0       54.00  2016-06-30T00:00:00      2   \n",
       "13            20   3550000.0       42.80  2017-07-01T00:00:00      2   \n",
       "14             1   4400000.0       36.00  2016-06-23T00:00:00      1   \n",
       "15            16   4650000.0       39.00  2017-11-18T00:00:00      1   \n",
       "16            11   6700000.0       82.00  2017-11-23T00:00:00      3   \n",
       "17             6   4180000.0       36.00  2016-09-09T00:00:00      1   \n",
       "18             8   3250000.0       31.00  2017-01-27T00:00:00      1   \n",
       "19            16  14200000.0      121.00  2019-01-09T00:00:00      3   \n",
       "\n",
       "    ceiling_height  floors_total  living_area  floor is_apartment  ...  \\\n",
       "0             2.70          16.0        51.00      8          NaN  ...   \n",
       "1              NaN          11.0        18.60      1          NaN  ...   \n",
       "2              NaN           5.0        34.30      4          NaN  ...   \n",
       "3              NaN          14.0          NaN      9          NaN  ...   \n",
       "4             3.03          14.0        32.00     13          NaN  ...   \n",
       "5              NaN          12.0        14.40      5          NaN  ...   \n",
       "6              NaN          26.0        10.60      6          NaN  ...   \n",
       "7              NaN          24.0          NaN     22          NaN  ...   \n",
       "8              NaN          27.0        15.43     26          NaN  ...   \n",
       "9             2.50           9.0        43.60      7          NaN  ...   \n",
       "10            2.67          12.0        20.30      3          NaN  ...   \n",
       "11             NaN           5.0        31.00      4        False  ...   \n",
       "12             NaN           5.0        30.00      5          NaN  ...   \n",
       "13            2.56           5.0        27.00      5          NaN  ...   \n",
       "14             NaN           6.0        17.00      1          NaN  ...   \n",
       "15             NaN          14.0        20.50      5          NaN  ...   \n",
       "16            3.05           5.0        55.60      1          NaN  ...   \n",
       "17             NaN          17.0        16.50      7          NaN  ...   \n",
       "18            2.50           5.0        19.40      2          NaN  ...   \n",
       "19            2.75          16.0        76.00      8          NaN  ...   \n",
       "\n",
       "    kitchen_area  balcony              locality_name  airports_nearest  \\\n",
       "0          25.00      NaN            Санкт-Петербург           18863.0   \n",
       "1          11.00      2.0             посёлок Шушары           12817.0   \n",
       "2           8.30      0.0            Санкт-Петербург           21741.0   \n",
       "3            NaN      0.0            Санкт-Петербург           28098.0   \n",
       "4          41.00      NaN            Санкт-Петербург           31856.0   \n",
       "5           9.10      NaN  городской посёлок Янино-1               NaN   \n",
       "6          14.40      1.0          посёлок Парголово           52996.0   \n",
       "7          18.90      2.0            Санкт-Петербург           23982.0   \n",
       "8           8.81      NaN             посёлок Мурино               NaN   \n",
       "9           6.50      2.0            Санкт-Петербург           50898.0   \n",
       "10          8.50      NaN            Санкт-Петербург           38357.0   \n",
       "11          6.00      1.0                  Ломоносов           48252.0   \n",
       "12          9.00      0.0                  Сертолово               NaN   \n",
       "13          5.20      1.0                   Петергоф           37868.0   \n",
       "14          8.00      0.0                     Пушкин           20782.0   \n",
       "15          7.60      1.0            Санкт-Петербург           12900.0   \n",
       "16          9.00      NaN            Санкт-Петербург           22108.0   \n",
       "17         11.00      1.0            Санкт-Петербург           33564.0   \n",
       "18          5.60      1.0            Санкт-Петербург           44060.0   \n",
       "19         12.00      NaN            Санкт-Петербург           38900.0   \n",
       "\n",
       "   cityCenters_nearest  parks_around3000  parks_nearest  ponds_around3000  \\\n",
       "0              16028.0               1.0          482.0               2.0   \n",
       "1              18603.0               0.0            NaN               0.0   \n",
       "2              13933.0               1.0           90.0               2.0   \n",
       "3               6800.0               2.0           84.0               3.0   \n",
       "4               8098.0               2.0          112.0               1.0   \n",
       "5                  NaN               NaN            NaN               NaN   \n",
       "6              19143.0               0.0            NaN               0.0   \n",
       "7              11634.0               0.0            NaN               0.0   \n",
       "8                  NaN               NaN            NaN               NaN   \n",
       "9              15008.0               0.0            NaN               0.0   \n",
       "10             13878.0               1.0          310.0               2.0   \n",
       "11             51677.0               0.0            NaN               0.0   \n",
       "12                 NaN               NaN            NaN               NaN   \n",
       "13             33058.0               1.0          294.0               3.0   \n",
       "14             30759.0               0.0            NaN               1.0   \n",
       "15             14259.0               1.0          590.0               1.0   \n",
       "16             10698.0               3.0          420.0               0.0   \n",
       "17             14616.0               0.0            NaN               1.0   \n",
       "18             10842.0               1.0          759.0               0.0   \n",
       "19             12843.0               0.0            NaN               0.0   \n",
       "\n",
       "    ponds_nearest  days_exposition  \n",
       "0           755.0              NaN  \n",
       "1             NaN             81.0  \n",
       "2           574.0            558.0  \n",
       "3           234.0            424.0  \n",
       "4            48.0            121.0  \n",
       "5             NaN             55.0  \n",
       "6             NaN            155.0  \n",
       "7             NaN              NaN  \n",
       "8             NaN            189.0  \n",
       "9             NaN            289.0  \n",
       "10          553.0            137.0  \n",
       "11            NaN              7.0  \n",
       "12            NaN             90.0  \n",
       "13          298.0            366.0  \n",
       "14           96.0            203.0  \n",
       "15          296.0             19.0  \n",
       "16            NaN            397.0  \n",
       "17          859.0            571.0  \n",
       "18            NaN            168.0  \n",
       "19            NaN             97.0  \n",
       "\n",
       "[20 rows x 22 columns]"
      ]
     },
     "execution_count": 4,
     "metadata": {},
     "output_type": "execute_result"
    }
   ],
   "source": [
    "df.head(20)"
   ]
  },
  {
   "cell_type": "code",
   "execution_count": 5,
   "id": "146af430",
   "metadata": {
    "scrolled": false
   },
   "outputs": [
    {
     "name": "stdout",
     "output_type": "stream",
     "text": [
      "<class 'pandas.core.frame.DataFrame'>\n",
      "RangeIndex: 23699 entries, 0 to 23698\n",
      "Data columns (total 22 columns):\n",
      " #   Column                Non-Null Count  Dtype  \n",
      "---  ------                --------------  -----  \n",
      " 0   total_images          23699 non-null  int64  \n",
      " 1   last_price            23699 non-null  float64\n",
      " 2   total_area            23699 non-null  float64\n",
      " 3   first_day_exposition  23699 non-null  object \n",
      " 4   rooms                 23699 non-null  int64  \n",
      " 5   ceiling_height        14504 non-null  float64\n",
      " 6   floors_total          23613 non-null  float64\n",
      " 7   living_area           21796 non-null  float64\n",
      " 8   floor                 23699 non-null  int64  \n",
      " 9   is_apartment          2775 non-null   object \n",
      " 10  studio                23699 non-null  bool   \n",
      " 11  open_plan             23699 non-null  bool   \n",
      " 12  kitchen_area          21421 non-null  float64\n",
      " 13  balcony               12180 non-null  float64\n",
      " 14  locality_name         23650 non-null  object \n",
      " 15  airports_nearest      18157 non-null  float64\n",
      " 16  cityCenters_nearest   18180 non-null  float64\n",
      " 17  parks_around3000      18181 non-null  float64\n",
      " 18  parks_nearest         8079 non-null   float64\n",
      " 19  ponds_around3000      18181 non-null  float64\n",
      " 20  ponds_nearest         9110 non-null   float64\n",
      " 21  days_exposition       20518 non-null  float64\n",
      "dtypes: bool(2), float64(14), int64(3), object(3)\n",
      "memory usage: 3.7+ MB\n"
     ]
    }
   ],
   "source": [
    "df.info()"
   ]
  },
  {
   "cell_type": "code",
   "execution_count": 6,
   "id": "f93d571d",
   "metadata": {},
   "outputs": [
    {
     "data": {
      "text/plain": [
       "0"
      ]
     },
     "execution_count": 6,
     "metadata": {},
     "output_type": "execute_result"
    }
   ],
   "source": [
    "#проверка на явные дубликаты\n",
    "df.duplicated().sum()"
   ]
  },
  {
   "cell_type": "code",
   "execution_count": 7,
   "id": "b31a4b6c",
   "metadata": {},
   "outputs": [
    {
     "data": {
      "text/plain": [
       "False    2725\n",
       "True       50\n",
       "Name: is_apartment, dtype: int64"
      ]
     },
     "execution_count": 7,
     "metadata": {},
     "output_type": "execute_result"
    }
   ],
   "source": [
    "df['is_apartment'].value_counts()"
   ]
  },
  {
   "cell_type": "code",
   "execution_count": 8,
   "id": "514b22c0",
   "metadata": {},
   "outputs": [
    {
     "data": {
      "text/plain": [
       "array([[<AxesSubplot:title={'center':'total_images'}>,\n",
       "        <AxesSubplot:title={'center':'last_price'}>,\n",
       "        <AxesSubplot:title={'center':'total_area'}>,\n",
       "        <AxesSubplot:title={'center':'rooms'}>],\n",
       "       [<AxesSubplot:title={'center':'ceiling_height'}>,\n",
       "        <AxesSubplot:title={'center':'floors_total'}>,\n",
       "        <AxesSubplot:title={'center':'living_area'}>,\n",
       "        <AxesSubplot:title={'center':'floor'}>],\n",
       "       [<AxesSubplot:title={'center':'kitchen_area'}>,\n",
       "        <AxesSubplot:title={'center':'balcony'}>,\n",
       "        <AxesSubplot:title={'center':'airports_nearest'}>,\n",
       "        <AxesSubplot:title={'center':'cityCenters_nearest'}>],\n",
       "       [<AxesSubplot:title={'center':'parks_around3000'}>,\n",
       "        <AxesSubplot:title={'center':'parks_nearest'}>,\n",
       "        <AxesSubplot:title={'center':'ponds_around3000'}>,\n",
       "        <AxesSubplot:title={'center':'ponds_nearest'}>],\n",
       "       [<AxesSubplot:title={'center':'days_exposition'}>, <AxesSubplot:>,\n",
       "        <AxesSubplot:>, <AxesSubplot:>]], dtype=object)"
      ]
     },
     "execution_count": 8,
     "metadata": {},
     "output_type": "execute_result"
    },
    {
     "data": {
      "image/png": "[encoded data removed]",
      "text/plain": [
       "<Figure size 1080x1440 with 20 Axes>"
      ]
     },
     "metadata": {
      "needs_background": "light"
     },
     "output_type": "display_data"
    }
   ],
   "source": [
    "df.hist(figsize=(15, 20))"
   ]
  },
  {
   "cell_type": "markdown",
   "id": "4ac6aaef",
   "metadata": {},
   "source": [
    "<span style=\"color:blue\"> **Вывод:**</span>\n",
    "\n",
    "В датасете 22 столбца, из них 3 типа int, 14 - float, 2 - bool, 3 - object. Строк в таблице 23699, однако, в некоторых столбцах из меньше. Значит, есть пропущенные значения. \n",
    "\n",
    "Столбцы last_price, balcony, floors_total, parks_around3000, ponds_around3000,  days_expositionпо своей природе должны быть целочисленными, поэтому их можно сделать типа int. first_day_exposition - тип дата. Столбец is_apartment содержит только два значения, логичнее сделать его булевым. Столбец cityCenters_nearest переименуем в соответствии с правилами оформления имен переменных.\n",
    "\n",
    "Явных дубликатов нет.\n",
    "\n",
    "Согласно гистограммам, в некоторых столбцах наблюдаются аномальные значения:\n",
    "* число комнат (rooms) - 0 или больше 5\n",
    "* высота потолков (ceiling_height) - есть квартиры с 10-метровыми потолками\n",
    "* число балконов (balcony) - 4 и больше балконов\n",
    "* нулевые жилые и кухонные площади"
   ]
  },
  {
   "cell_type": "markdown",
   "id": "aa130ece",
   "metadata": {},
   "source": [
    "### <span style=\"color:red\"> 2. Предобработка данных</span>"
   ]
  },
  {
   "cell_type": "code",
   "execution_count": 11,
   "id": "5ecbd25d",
   "metadata": {},
   "outputs": [],
   "source": [
    "#переименуем столбец cityCenters_nearest в соответствии с правилами\n",
    "df = df.rename(columns={'cityCenters_nearest':'city_centers_nearest'})"
   ]
  },
  {
   "cell_type": "code",
   "execution_count": 10,
   "id": "0e2ecba0",
   "metadata": {},
   "outputs": [
    {
     "data": {
      "text/plain": [
       "total_images             0.000000\n",
       "last_price               0.000000\n",
       "total_area               0.000000\n",
       "first_day_exposition     0.000000\n",
       "rooms                    0.000000\n",
       "ceiling_height          38.799105\n",
       "floors_total             0.362885\n",
       "living_area              8.029875\n",
       "floor                    0.000000\n",
       "is_apartment            88.290645\n",
       "studio                   0.000000\n",
       "open_plan                0.000000\n",
       "kitchen_area             9.612220\n",
       "balcony                 48.605426\n",
       "locality_name            0.206760\n",
       "airports_nearest        23.384953\n",
       "city_centers_nearest    23.287902\n",
       "parks_around3000        23.283683\n",
       "parks_nearest           65.909954\n",
       "ponds_around3000        23.283683\n",
       "ponds_nearest           61.559559\n",
       "days_exposition         13.422507\n",
       "dtype: float64"
      ]
     },
     "execution_count": 10,
     "metadata": {},
     "output_type": "execute_result"
    }
   ],
   "source": [
    "#Найдем количество пропусков в столбцах\n",
    "df.isna().sum() / df.shape[0] * 100"
   ]
  },
  {
   "cell_type": "markdown",
   "id": "060859f1",
   "metadata": {},
   "source": [
    "Довольно много столбцов с пропусками, в некоторых (is_apartment, parks_nearest, ponds_nearest их больше 60%). \n",
    "Для столбцов число балконов, апартаменты пропуски, скорее всего обусловлены тем, что продавец просто их не заполнил, поэтому заменим эти пропуски нулем в случае balcony и False в случае is_apartment."
   ]
  },
  {
   "cell_type": "code",
   "execution_count": 12,
   "id": "ce162308",
   "metadata": {},
   "outputs": [
    {
     "data": {
      "text/plain": [
       "total_images                0\n",
       "last_price                  0\n",
       "total_area                  0\n",
       "first_day_exposition        0\n",
       "rooms                       0\n",
       "ceiling_height           9195\n",
       "floors_total               86\n",
       "living_area              1903\n",
       "floor                       0\n",
       "is_apartment                0\n",
       "studio                      0\n",
       "open_plan                   0\n",
       "kitchen_area             2278\n",
       "balcony                     0\n",
       "locality_name              49\n",
       "airports_nearest         5542\n",
       "city_centers_nearest     5519\n",
       "parks_around3000         5518\n",
       "parks_nearest           15620\n",
       "ponds_around3000         5518\n",
       "ponds_nearest           14589\n",
       "days_exposition          3181\n",
       "dtype: int64"
      ]
     },
     "execution_count": 12,
     "metadata": {},
     "output_type": "execute_result"
    }
   ],
   "source": [
    "df['balcony'] = df['balcony'].fillna(0)\n",
    "df['is_apartment'] = df['is_apartment'].fillna(False)\n",
    "df.isna().sum()"
   ]
  },
  {
   "cell_type": "code",
   "execution_count": 13,
   "id": "b3c66711",
   "metadata": {},
   "outputs": [
    {
     "data": {
      "text/plain": [
       "2.50      3515\n",
       "2.60      1646\n",
       "2.70      1574\n",
       "3.00      1112\n",
       "2.80       993\n",
       "          ... \n",
       "3.88         1\n",
       "3.93         1\n",
       "3.98         1\n",
       "4.06         1\n",
       "100.00       1\n",
       "Name: ceiling_height, Length: 183, dtype: int64"
      ]
     },
     "execution_count": 13,
     "metadata": {},
     "output_type": "execute_result"
    }
   ],
   "source": [
    "df['ceiling_height'].sort_values().value_counts()"
   ]
  },
  {
   "cell_type": "code",
   "execution_count": 14,
   "id": "d6da9042",
   "metadata": {},
   "outputs": [
    {
     "data": {
      "text/plain": [
       "0.06759778893624203"
      ]
     },
     "execution_count": 14,
     "metadata": {},
     "output_type": "execute_result"
    }
   ],
   "source": [
    "#вычислим, сколько нестандартных потолков\n",
    "df[(df['ceiling_height'] > 3) | (df['ceiling_height'] < 2.5) ]['ceiling_height'].count() / df.shape[0]"
   ]
  },
  {
   "cell_type": "markdown",
   "id": "87fbf460",
   "metadata": {},
   "source": [
    "В столбце ceiling_height (высота потолков) пропущенные значения заменим медианным значением в зависимости от общего числа этажей. В пятиэтажках обычно потолки низкие, в сталинках, ленинградках - высокие и т.д. Однако, здесь есть интересные значения, которые не соотвествует стандартным потолкам кватир, меньше 2.5 метров или выше 3м, но таких квартир меньше 1%. В случае, когда высота потолков больше 4, можно допустить ошибку ввода значения пользователем, например, ввели вместо 2.5 метров 25. В этом случае разделим значения на 10."
   ]
  },
  {
   "cell_type": "code",
   "execution_count": 15,
   "id": "bda0f22a",
   "metadata": {},
   "outputs": [],
   "source": [
    "df['ceiling_height'] = df['ceiling_height'].where(df['ceiling_height']<4, df['ceiling_height'] / 10)"
   ]
  },
  {
   "cell_type": "code",
   "execution_count": 16,
   "id": "cd6f7362",
   "metadata": {},
   "outputs": [
    {
     "data": {
      "text/plain": [
       "0.0668804590911009"
      ]
     },
     "execution_count": 16,
     "metadata": {},
     "output_type": "execute_result"
    }
   ],
   "source": [
    "df[(df['ceiling_height'] > 3) | (df['ceiling_height'] < 2.5) ]['ceiling_height'].count() / df.shape[0]"
   ]
  },
  {
   "cell_type": "markdown",
   "id": "1ea82145",
   "metadata": {},
   "source": [
    "Теперь пропуски можно заполнить медианным значением в зависимости от количества этажей зданий."
   ]
  },
  {
   "cell_type": "code",
   "execution_count": 17,
   "id": "32e5c9ae",
   "metadata": {},
   "outputs": [],
   "source": [
    "#заполнение пропусков в ceiling_height в зависимости от количества этажей\n",
    "for t in df['floors_total'].unique():\n",
    "    df.loc[(df['floors_total'] == t) & (df['ceiling_height'].isna()), 'ceiling_height'] = \\\n",
    "    df.loc[(df['floors_total'] == t), 'ceiling_height'].median()"
   ]
  },
  {
   "cell_type": "code",
   "execution_count": 18,
   "id": "a8f0cb79",
   "metadata": {},
   "outputs": [
    {
     "data": {
      "text/plain": [
       "1     8047\n",
       "2     7940\n",
       "3     5814\n",
       "4     1180\n",
       "5      326\n",
       "0      197\n",
       "6      105\n",
       "7       59\n",
       "8       12\n",
       "9        8\n",
       "10       3\n",
       "11       2\n",
       "14       2\n",
       "15       1\n",
       "19       1\n",
       "16       1\n",
       "12       1\n",
       "Name: rooms, dtype: int64"
      ]
     },
     "execution_count": 18,
     "metadata": {},
     "output_type": "execute_result"
    }
   ],
   "source": [
    "df['rooms'].value_counts()"
   ]
  },
  {
   "cell_type": "markdown",
   "id": "786b37e3",
   "metadata": {},
   "source": [
    "Распределение значений по числу комнат наводит на мысль, что 0 комнат, скорее всего, указали в случае квартир студий. Проверим это."
   ]
  },
  {
   "cell_type": "code",
   "execution_count": 19,
   "id": "5e787a9c",
   "metadata": {},
   "outputs": [
    {
     "data": {
      "text/plain": [
       "138"
      ]
     },
     "execution_count": 19,
     "metadata": {},
     "output_type": "execute_result"
    }
   ],
   "source": [
    "df.query('rooms == 0')['studio'].sum()"
   ]
  },
  {
   "cell_type": "code",
   "execution_count": 21,
   "id": "976f54ba",
   "metadata": {},
   "outputs": [
    {
     "data": {
      "text/html": [
       "<div>\n",
       "<style scoped>\n",
       "    .dataframe tbody tr th:only-of-type {\n",
       "        vertical-align: middle;\n",
       "    }\n",
       "\n",
       "    .dataframe tbody tr th {\n",
       "        vertical-align: top;\n",
       "    }\n",
       "\n",
       "    .dataframe thead th {\n",
       "        text-align: right;\n",
       "    }\n",
       "</style>\n",
       "<table border=\"1\" class=\"dataframe\">\n",
       "  <thead>\n",
       "    <tr style=\"text-align: right;\">\n",
       "      <th></th>\n",
       "      <th>total_images</th>\n",
       "      <th>last_price</th>\n",
       "      <th>total_area</th>\n",
       "      <th>first_day_exposition</th>\n",
       "      <th>rooms</th>\n",
       "      <th>ceiling_height</th>\n",
       "      <th>floors_total</th>\n",
       "      <th>living_area</th>\n",
       "      <th>floor</th>\n",
       "      <th>is_apartment</th>\n",
       "      <th>...</th>\n",
       "      <th>kitchen_area</th>\n",
       "      <th>balcony</th>\n",
       "      <th>locality_name</th>\n",
       "      <th>airports_nearest</th>\n",
       "      <th>city_centers_nearest</th>\n",
       "      <th>parks_around3000</th>\n",
       "      <th>parks_nearest</th>\n",
       "      <th>ponds_around3000</th>\n",
       "      <th>ponds_nearest</th>\n",
       "      <th>days_exposition</th>\n",
       "    </tr>\n",
       "  </thead>\n",
       "  <tbody>\n",
       "    <tr>\n",
       "      <th>144</th>\n",
       "      <td>1</td>\n",
       "      <td>2450000.0</td>\n",
       "      <td>27.00</td>\n",
       "      <td>2017-03-30T00:00:00</td>\n",
       "      <td>0</td>\n",
       "      <td>2.75</td>\n",
       "      <td>24.0</td>\n",
       "      <td>15.50</td>\n",
       "      <td>2</td>\n",
       "      <td>False</td>\n",
       "      <td>...</td>\n",
       "      <td>NaN</td>\n",
       "      <td>2.0</td>\n",
       "      <td>посёлок Мурино</td>\n",
       "      <td>NaN</td>\n",
       "      <td>NaN</td>\n",
       "      <td>NaN</td>\n",
       "      <td>NaN</td>\n",
       "      <td>NaN</td>\n",
       "      <td>NaN</td>\n",
       "      <td>181.0</td>\n",
       "    </tr>\n",
       "    <tr>\n",
       "      <th>440</th>\n",
       "      <td>8</td>\n",
       "      <td>2480000.0</td>\n",
       "      <td>27.11</td>\n",
       "      <td>2018-03-12T00:00:00</td>\n",
       "      <td>0</td>\n",
       "      <td>2.70</td>\n",
       "      <td>17.0</td>\n",
       "      <td>24.75</td>\n",
       "      <td>4</td>\n",
       "      <td>False</td>\n",
       "      <td>...</td>\n",
       "      <td>NaN</td>\n",
       "      <td>2.0</td>\n",
       "      <td>Санкт-Петербург</td>\n",
       "      <td>38171.0</td>\n",
       "      <td>15015.0</td>\n",
       "      <td>0.0</td>\n",
       "      <td>NaN</td>\n",
       "      <td>2.0</td>\n",
       "      <td>982.0</td>\n",
       "      <td>64.0</td>\n",
       "    </tr>\n",
       "    <tr>\n",
       "      <th>608</th>\n",
       "      <td>2</td>\n",
       "      <td>1850000.0</td>\n",
       "      <td>25.00</td>\n",
       "      <td>2019-02-20T00:00:00</td>\n",
       "      <td>0</td>\n",
       "      <td>2.60</td>\n",
       "      <td>10.0</td>\n",
       "      <td>NaN</td>\n",
       "      <td>7</td>\n",
       "      <td>False</td>\n",
       "      <td>...</td>\n",
       "      <td>NaN</td>\n",
       "      <td>0.0</td>\n",
       "      <td>посёлок Шушары</td>\n",
       "      <td>NaN</td>\n",
       "      <td>NaN</td>\n",
       "      <td>NaN</td>\n",
       "      <td>NaN</td>\n",
       "      <td>NaN</td>\n",
       "      <td>NaN</td>\n",
       "      <td>29.0</td>\n",
       "    </tr>\n",
       "    <tr>\n",
       "      <th>697</th>\n",
       "      <td>12</td>\n",
       "      <td>2500000.0</td>\n",
       "      <td>24.10</td>\n",
       "      <td>2017-12-01T00:00:00</td>\n",
       "      <td>0</td>\n",
       "      <td>2.75</td>\n",
       "      <td>25.0</td>\n",
       "      <td>17.50</td>\n",
       "      <td>21</td>\n",
       "      <td>False</td>\n",
       "      <td>...</td>\n",
       "      <td>NaN</td>\n",
       "      <td>0.0</td>\n",
       "      <td>деревня Кудрово</td>\n",
       "      <td>NaN</td>\n",
       "      <td>NaN</td>\n",
       "      <td>NaN</td>\n",
       "      <td>NaN</td>\n",
       "      <td>NaN</td>\n",
       "      <td>NaN</td>\n",
       "      <td>201.0</td>\n",
       "    </tr>\n",
       "    <tr>\n",
       "      <th>716</th>\n",
       "      <td>5</td>\n",
       "      <td>1500000.0</td>\n",
       "      <td>17.00</td>\n",
       "      <td>2017-06-07T00:00:00</td>\n",
       "      <td>0</td>\n",
       "      <td>2.70</td>\n",
       "      <td>9.0</td>\n",
       "      <td>12.00</td>\n",
       "      <td>1</td>\n",
       "      <td>False</td>\n",
       "      <td>...</td>\n",
       "      <td>NaN</td>\n",
       "      <td>0.0</td>\n",
       "      <td>посёлок Шушары</td>\n",
       "      <td>18654.0</td>\n",
       "      <td>29846.0</td>\n",
       "      <td>0.0</td>\n",
       "      <td>NaN</td>\n",
       "      <td>0.0</td>\n",
       "      <td>NaN</td>\n",
       "      <td>40.0</td>\n",
       "    </tr>\n",
       "    <tr>\n",
       "      <th>...</th>\n",
       "      <td>...</td>\n",
       "      <td>...</td>\n",
       "      <td>...</td>\n",
       "      <td>...</td>\n",
       "      <td>...</td>\n",
       "      <td>...</td>\n",
       "      <td>...</td>\n",
       "      <td>...</td>\n",
       "      <td>...</td>\n",
       "      <td>...</td>\n",
       "      <td>...</td>\n",
       "      <td>...</td>\n",
       "      <td>...</td>\n",
       "      <td>...</td>\n",
       "      <td>...</td>\n",
       "      <td>...</td>\n",
       "      <td>...</td>\n",
       "      <td>...</td>\n",
       "      <td>...</td>\n",
       "      <td>...</td>\n",
       "      <td>...</td>\n",
       "    </tr>\n",
       "    <tr>\n",
       "      <th>22867</th>\n",
       "      <td>8</td>\n",
       "      <td>3090000.0</td>\n",
       "      <td>30.00</td>\n",
       "      <td>2017-12-17T00:00:00</td>\n",
       "      <td>0</td>\n",
       "      <td>2.75</td>\n",
       "      <td>25.0</td>\n",
       "      <td>18.20</td>\n",
       "      <td>5</td>\n",
       "      <td>False</td>\n",
       "      <td>...</td>\n",
       "      <td>NaN</td>\n",
       "      <td>0.0</td>\n",
       "      <td>Санкт-Петербург</td>\n",
       "      <td>35250.0</td>\n",
       "      <td>16414.0</td>\n",
       "      <td>0.0</td>\n",
       "      <td>NaN</td>\n",
       "      <td>1.0</td>\n",
       "      <td>400.0</td>\n",
       "      <td>211.0</td>\n",
       "    </tr>\n",
       "    <tr>\n",
       "      <th>22877</th>\n",
       "      <td>2</td>\n",
       "      <td>4280000.0</td>\n",
       "      <td>28.00</td>\n",
       "      <td>2017-10-26T00:00:00</td>\n",
       "      <td>0</td>\n",
       "      <td>2.70</td>\n",
       "      <td>19.0</td>\n",
       "      <td>18.00</td>\n",
       "      <td>10</td>\n",
       "      <td>False</td>\n",
       "      <td>...</td>\n",
       "      <td>NaN</td>\n",
       "      <td>0.0</td>\n",
       "      <td>Санкт-Петербург</td>\n",
       "      <td>18982.0</td>\n",
       "      <td>7206.0</td>\n",
       "      <td>0.0</td>\n",
       "      <td>NaN</td>\n",
       "      <td>1.0</td>\n",
       "      <td>415.0</td>\n",
       "      <td>151.0</td>\n",
       "    </tr>\n",
       "    <tr>\n",
       "      <th>23210</th>\n",
       "      <td>7</td>\n",
       "      <td>3200000.0</td>\n",
       "      <td>26.00</td>\n",
       "      <td>2017-09-01T00:00:00</td>\n",
       "      <td>0</td>\n",
       "      <td>2.75</td>\n",
       "      <td>25.0</td>\n",
       "      <td>18.00</td>\n",
       "      <td>16</td>\n",
       "      <td>False</td>\n",
       "      <td>...</td>\n",
       "      <td>NaN</td>\n",
       "      <td>0.0</td>\n",
       "      <td>Санкт-Петербург</td>\n",
       "      <td>11405.0</td>\n",
       "      <td>13222.0</td>\n",
       "      <td>0.0</td>\n",
       "      <td>NaN</td>\n",
       "      <td>1.0</td>\n",
       "      <td>623.0</td>\n",
       "      <td>14.0</td>\n",
       "    </tr>\n",
       "    <tr>\n",
       "      <th>23554</th>\n",
       "      <td>15</td>\n",
       "      <td>3350000.0</td>\n",
       "      <td>26.00</td>\n",
       "      <td>2018-09-07T00:00:00</td>\n",
       "      <td>0</td>\n",
       "      <td>2.75</td>\n",
       "      <td>19.0</td>\n",
       "      <td>NaN</td>\n",
       "      <td>8</td>\n",
       "      <td>False</td>\n",
       "      <td>...</td>\n",
       "      <td>NaN</td>\n",
       "      <td>0.0</td>\n",
       "      <td>Санкт-Петербург</td>\n",
       "      <td>18090.0</td>\n",
       "      <td>17092.0</td>\n",
       "      <td>0.0</td>\n",
       "      <td>NaN</td>\n",
       "      <td>2.0</td>\n",
       "      <td>112.0</td>\n",
       "      <td>31.0</td>\n",
       "    </tr>\n",
       "    <tr>\n",
       "      <th>23637</th>\n",
       "      <td>8</td>\n",
       "      <td>2350000.0</td>\n",
       "      <td>26.00</td>\n",
       "      <td>2018-06-26T00:00:00</td>\n",
       "      <td>0</td>\n",
       "      <td>2.75</td>\n",
       "      <td>25.0</td>\n",
       "      <td>17.00</td>\n",
       "      <td>4</td>\n",
       "      <td>False</td>\n",
       "      <td>...</td>\n",
       "      <td>NaN</td>\n",
       "      <td>2.0</td>\n",
       "      <td>посёлок Бугры</td>\n",
       "      <td>NaN</td>\n",
       "      <td>NaN</td>\n",
       "      <td>NaN</td>\n",
       "      <td>NaN</td>\n",
       "      <td>NaN</td>\n",
       "      <td>NaN</td>\n",
       "      <td>207.0</td>\n",
       "    </tr>\n",
       "  </tbody>\n",
       "</table>\n",
       "<p>138 rows × 22 columns</p>\n",
       "</div>"
      ],
      "text/plain": [
       "       total_images  last_price  total_area first_day_exposition  rooms  \\\n",
       "144               1   2450000.0       27.00  2017-03-30T00:00:00      0   \n",
       "440               8   2480000.0       27.11  2018-03-12T00:00:00      0   \n",
       "608               2   1850000.0       25.00  2019-02-20T00:00:00      0   \n",
       "697              12   2500000.0       24.10  2017-12-01T00:00:00      0   \n",
       "716               5   1500000.0       17.00  2017-06-07T00:00:00      0   \n",
       "...             ...         ...         ...                  ...    ...   \n",
       "22867             8   3090000.0       30.00  2017-12-17T00:00:00      0   \n",
       "22877             2   4280000.0       28.00  2017-10-26T00:00:00      0   \n",
       "23210             7   3200000.0       26.00  2017-09-01T00:00:00      0   \n",
       "23554            15   3350000.0       26.00  2018-09-07T00:00:00      0   \n",
       "23637             8   2350000.0       26.00  2018-06-26T00:00:00      0   \n",
       "\n",
       "       ceiling_height  floors_total  living_area  floor  is_apartment  ...  \\\n",
       "144              2.75          24.0        15.50      2         False  ...   \n",
       "440              2.70          17.0        24.75      4         False  ...   \n",
       "608              2.60          10.0          NaN      7         False  ...   \n",
       "697              2.75          25.0        17.50     21         False  ...   \n",
       "716              2.70           9.0        12.00      1         False  ...   \n",
       "...               ...           ...          ...    ...           ...  ...   \n",
       "22867            2.75          25.0        18.20      5         False  ...   \n",
       "22877            2.70          19.0        18.00     10         False  ...   \n",
       "23210            2.75          25.0        18.00     16         False  ...   \n",
       "23554            2.75          19.0          NaN      8         False  ...   \n",
       "23637            2.75          25.0        17.00      4         False  ...   \n",
       "\n",
       "       kitchen_area  balcony    locality_name  airports_nearest  \\\n",
       "144             NaN      2.0   посёлок Мурино               NaN   \n",
       "440             NaN      2.0  Санкт-Петербург           38171.0   \n",
       "608             NaN      0.0   посёлок Шушары               NaN   \n",
       "697             NaN      0.0  деревня Кудрово               NaN   \n",
       "716             NaN      0.0   посёлок Шушары           18654.0   \n",
       "...             ...      ...              ...               ...   \n",
       "22867           NaN      0.0  Санкт-Петербург           35250.0   \n",
       "22877           NaN      0.0  Санкт-Петербург           18982.0   \n",
       "23210           NaN      0.0  Санкт-Петербург           11405.0   \n",
       "23554           NaN      0.0  Санкт-Петербург           18090.0   \n",
       "23637           NaN      2.0    посёлок Бугры               NaN   \n",
       "\n",
       "      city_centers_nearest  parks_around3000  parks_nearest  ponds_around3000  \\\n",
       "144                    NaN               NaN            NaN               NaN   \n",
       "440                15015.0               0.0            NaN               2.0   \n",
       "608                    NaN               NaN            NaN               NaN   \n",
       "697                    NaN               NaN            NaN               NaN   \n",
       "716                29846.0               0.0            NaN               0.0   \n",
       "...                    ...               ...            ...               ...   \n",
       "22867              16414.0               0.0            NaN               1.0   \n",
       "22877               7206.0               0.0            NaN               1.0   \n",
       "23210              13222.0               0.0            NaN               1.0   \n",
       "23554              17092.0               0.0            NaN               2.0   \n",
       "23637                  NaN               NaN            NaN               NaN   \n",
       "\n",
       "       ponds_nearest  days_exposition  \n",
       "144              NaN            181.0  \n",
       "440            982.0             64.0  \n",
       "608              NaN             29.0  \n",
       "697              NaN            201.0  \n",
       "716              NaN             40.0  \n",
       "...              ...              ...  \n",
       "22867          400.0            211.0  \n",
       "22877          415.0            151.0  \n",
       "23210          623.0             14.0  \n",
       "23554          112.0             31.0  \n",
       "23637            NaN            207.0  \n",
       "\n",
       "[138 rows x 22 columns]"
      ]
     },
     "execution_count": 21,
     "metadata": {},
     "output_type": "execute_result"
    }
   ],
   "source": [
    "df.query('rooms == 0 and studio == True')"
   ]
  },
  {
   "cell_type": "markdown",
   "id": "f98592f3",
   "metadata": {},
   "source": [
    "Из 197 квартир с 0 комнат 138 студий, скорее всего, продавец просто не знал, как обозначать количество комнат в квартире-студии."
   ]
  },
  {
   "cell_type": "code",
   "execution_count": 22,
   "id": "11a4cdb8",
   "metadata": {},
   "outputs": [
    {
     "data": {
      "text/plain": [
       "False    23550\n",
       "True       149\n",
       "Name: studio, dtype: int64"
      ]
     },
     "execution_count": 22,
     "metadata": {},
     "output_type": "execute_result"
    }
   ],
   "source": [
    "df['studio'].value_counts()"
   ]
  },
  {
   "cell_type": "code",
   "execution_count": 23,
   "id": "21bcc563",
   "metadata": {},
   "outputs": [
    {
     "data": {
      "text/plain": [
       "149"
      ]
     },
     "execution_count": 23,
     "metadata": {},
     "output_type": "execute_result"
    }
   ],
   "source": [
    "df[df['kitchen_area'].isna()]['studio'].sum()"
   ]
  },
  {
   "cell_type": "markdown",
   "id": "8b61ec10",
   "metadata": {},
   "source": [
    "Получается, что во всех студиях продавец не отметил площадь кухни, так как ее там попросту нет. Поэтому заменим в таких строках площадь кухни на 0."
   ]
  },
  {
   "cell_type": "code",
   "execution_count": 24,
   "id": "f4ae1d53",
   "metadata": {},
   "outputs": [],
   "source": [
    "df.loc[(df['studio'] == True), 'kitchen_area'] = 0"
   ]
  },
  {
   "cell_type": "markdown",
   "id": "40780c6f",
   "metadata": {},
   "source": [
    "Оставшиеся пропущенные значения заменим медианной долей площади кухни от общей в зависимости от количества комнат. Для этого создадим новый столбец, содержащий доли площади кухни от общей."
   ]
  },
  {
   "cell_type": "code",
   "execution_count": 25,
   "id": "d1fec30f",
   "metadata": {},
   "outputs": [],
   "source": [
    "df['partial_kitchen_total'] = df['kitchen_area'] / df['total_area']"
   ]
  },
  {
   "cell_type": "code",
   "execution_count": 26,
   "id": "f075e786",
   "metadata": {},
   "outputs": [],
   "source": [
    "#заполнение пропусков в kitchen_area в зависимости от количества комнат и доли площади кухни от общей площади квартиры\n",
    "for t in df['rooms'].unique():\n",
    "    df.loc[(df['rooms'] == t) & (df['kitchen_area'].isna()), 'kitchen_area'] = \\\n",
    "    df.loc[(df['rooms'] == t), 'partial_kitchen_total'].median()"
   ]
  },
  {
   "cell_type": "markdown",
   "id": "f97336ce",
   "metadata": {},
   "source": [
    "Аналогично поступим с жилой площадью."
   ]
  },
  {
   "cell_type": "code",
   "execution_count": 27,
   "id": "f65d8d5f",
   "metadata": {},
   "outputs": [],
   "source": [
    "df['partial_living_total'] = df['living_area'] / df['total_area']"
   ]
  },
  {
   "cell_type": "code",
   "execution_count": 28,
   "id": "efccc103",
   "metadata": {},
   "outputs": [],
   "source": [
    "#заполнение пропусков в living_area в зависимости от количества комнат и доли жилой площади от общей площади квартиры\n",
    "for t in df['rooms'].unique():\n",
    "    df.loc[(df['rooms'] == t) & (df['living_area'].isna()), 'living_area'] = \\\n",
    "    df.loc[(df['rooms'] == t), 'partial_living_total'].median()"
   ]
  },
  {
   "cell_type": "markdown",
   "id": "e487ed27",
   "metadata": {},
   "source": [
    "Столбцы расстояние до центра, аэропорта и других объектов, а также количество парков и водоемов получены автоматически из геосервисов, без участия пользователя, поэтому эти колонки оставим без изменения. "
   ]
  },
  {
   "cell_type": "code",
   "execution_count": 29,
   "id": "e72e85f6",
   "metadata": {},
   "outputs": [],
   "source": [
    "#изменение типа данных\n",
    "df['first_day_exposition'] = pd.to_datetime(df['first_day_exposition'], format='%Y-%m-%dT%H:%M:%S')"
   ]
  },
  {
   "cell_type": "code",
   "execution_count": 30,
   "id": "1588ead4",
   "metadata": {},
   "outputs": [],
   "source": [
    "#цена в тысячах рублей теперь\n",
    "df['last_price'] = df['last_price'] / 1000"
   ]
  },
  {
   "cell_type": "code",
   "execution_count": 31,
   "id": "85353a36",
   "metadata": {},
   "outputs": [],
   "source": [
    "#изменение типа данных у is_apartment\n",
    "df['is_apartment'] = df['is_apartment'].astype('bool')"
   ]
  },
  {
   "cell_type": "markdown",
   "id": "a5e039e4",
   "metadata": {},
   "source": [
    "Столбцы last_price, balcony по своей природе должны быть целочисленными, поэтому сделаем их типа int."
   ]
  },
  {
   "cell_type": "code",
   "execution_count": 32,
   "id": "d9629bb7",
   "metadata": {},
   "outputs": [],
   "source": [
    "for i in ['last_price', 'balcony']:\n",
    "    df[i] = df[i].astype('int64')"
   ]
  },
  {
   "cell_type": "code",
   "execution_count": 33,
   "id": "5797f883",
   "metadata": {},
   "outputs": [
    {
     "data": {
      "text/plain": [
       "365"
      ]
     },
     "execution_count": 33,
     "metadata": {},
     "output_type": "execute_result"
    }
   ],
   "source": [
    "len(df['locality_name'].unique())"
   ]
  },
  {
   "cell_type": "code",
   "execution_count": 34,
   "id": "a1f3883f",
   "metadata": {},
   "outputs": [
    {
     "data": {
      "text/plain": [
       "array(['Санкт-Петербург', 'посёлок Шушары', 'городской посёлок Янино-1',\n",
       "       'посёлок Парголово', 'посёлок Мурино', 'Ломоносов', 'Сертолово',\n",
       "       'Петергоф', 'Пушкин', 'деревня Кудрово', 'Коммунар', 'Колпино',\n",
       "       'поселок городского типа Красный Бор', 'Гатчина', 'поселок Мурино',\n",
       "       'деревня Фёдоровское', 'Выборг', 'Кронштадт', 'Кировск',\n",
       "       'деревня Новое Девяткино', 'посёлок Металлострой',\n",
       "       'посёлок городского типа Лебяжье',\n",
       "       'посёлок городского типа Сиверский', 'поселок Молодцово',\n",
       "       'поселок городского типа Кузьмоловский',\n",
       "       'садовое товарищество Новая Ропша', 'Павловск',\n",
       "       'деревня Пикколово', 'Всеволожск', 'Волхов', 'Кингисепп',\n",
       "       'Приозерск', 'Сестрорецк', 'деревня Куттузи', 'посёлок Аннино',\n",
       "       'поселок городского типа Ефимовский', 'посёлок Плодовое',\n",
       "       'деревня Заклинье', 'поселок Торковичи', 'поселок Первомайское',\n",
       "       'Красное Село', 'посёлок Понтонный', 'Сясьстрой', 'деревня Старая',\n",
       "       'деревня Лесколово', 'посёлок Новый Свет', 'Сланцы',\n",
       "       'село Путилово', 'Ивангород', 'Мурино', 'Шлиссельбург',\n",
       "       'Никольское', 'Зеленогорск', 'Сосновый Бор', 'поселок Новый Свет',\n",
       "       'деревня Оржицы', 'деревня Кальтино', 'Кудрово',\n",
       "       'поселок Романовка', 'посёлок Бугры', 'поселок Бугры',\n",
       "       'поселок городского типа Рощино', 'Кириши', 'Луга', 'Волосово',\n",
       "       'Отрадное', 'село Павлово', 'поселок Оредеж', 'село Копорье',\n",
       "       'посёлок городского типа Красный Бор', 'посёлок Молодёжное',\n",
       "       'Тихвин', 'посёлок Победа', 'деревня Нурма',\n",
       "       'поселок городского типа Синявино', 'Тосно',\n",
       "       'посёлок городского типа Кузьмоловский', 'посёлок Стрельна',\n",
       "       'Бокситогорск', 'посёлок Александровская', 'деревня Лопухинка',\n",
       "       'Пикалёво', 'поселок Терволово',\n",
       "       'поселок городского типа Советский', 'Подпорожье',\n",
       "       'посёлок Петровское', 'посёлок городского типа Токсово',\n",
       "       'поселок Сельцо', 'посёлок городского типа Вырица',\n",
       "       'деревня Кипень', 'деревня Келози', 'деревня Вартемяги',\n",
       "       'посёлок Тельмана', 'поселок Севастьяново',\n",
       "       'городской поселок Большая Ижора', nan,\n",
       "       'городской посёлок Павлово', 'деревня Агалатово',\n",
       "       'посёлок Новогорелово', 'городской посёлок Лесогорский',\n",
       "       'деревня Лаголово', 'поселок Цвелодубово',\n",
       "       'поселок городского типа Рахья', 'поселок городского типа Вырица',\n",
       "       'деревня Белогорка', 'поселок Заводской',\n",
       "       'городской посёлок Новоселье', 'деревня Большие Колпаны',\n",
       "       'деревня Горбунки', 'деревня Батово', 'деревня Заневка',\n",
       "       'деревня Иссад', 'Приморск', 'городской посёлок Фёдоровское',\n",
       "       'деревня Мистолово', 'Новая Ладога', 'поселок Зимитицы',\n",
       "       'поселок Барышево', 'деревня Разметелево',\n",
       "       'поселок городского типа имени Свердлова', 'деревня Пеники',\n",
       "       'поселок Рябово', 'деревня Пудомяги', 'поселок станции Корнево',\n",
       "       'деревня Низино', 'деревня Бегуницы', 'посёлок Поляны',\n",
       "       'городской посёлок Мга', 'поселок Елизаветино',\n",
       "       'посёлок городского типа Кузнечное', 'деревня Колтуши',\n",
       "       'поселок Запорожское', 'посёлок городского типа Рощино',\n",
       "       'деревня Гостилицы', 'деревня Малое Карлино',\n",
       "       'посёлок Мичуринское', 'посёлок городского типа имени Морозова',\n",
       "       'посёлок Песочный', 'посёлок Сосново', 'деревня Аро',\n",
       "       'поселок Ильичёво', 'посёлок городского типа Тайцы',\n",
       "       'деревня Малое Верево', 'деревня Извара', 'поселок станции Вещево',\n",
       "       'село Паша', 'деревня Калитино',\n",
       "       'посёлок городского типа Ульяновка', 'деревня Чудской Бор',\n",
       "       'поселок городского типа Дубровка', 'деревня Мины',\n",
       "       'поселок Войсковицы', 'посёлок городского типа имени Свердлова',\n",
       "       'деревня Коркино', 'посёлок Ропша',\n",
       "       'поселок городского типа Приладожский', 'посёлок Щеглово',\n",
       "       'посёлок Гаврилово', 'Лодейное Поле', 'деревня Рабитицы',\n",
       "       'поселок городского типа Никольский', 'деревня Кузьмолово',\n",
       "       'деревня Малые Колпаны', 'поселок Тельмана',\n",
       "       'посёлок Петро-Славянка', 'городской посёлок Назия',\n",
       "       'посёлок Репино', 'посёлок Ильичёво', 'поселок Углово',\n",
       "       'поселок Старая Малукса', 'садовое товарищество Рахья',\n",
       "       'поселок Аннино', 'поселок Победа', 'деревня Меньково',\n",
       "       'деревня Старые Бегуницы', 'посёлок Сапёрный', 'поселок Семрино',\n",
       "       'поселок Гаврилово', 'поселок Глажево', 'поселок Кобринское',\n",
       "       'деревня Гарболово', 'деревня Юкки',\n",
       "       'поселок станции Приветнинское', 'деревня Мануйлово',\n",
       "       'деревня Пчева', 'поселок Поляны', 'поселок Цвылёво',\n",
       "       'поселок Мельниково', 'посёлок Пудость', 'посёлок Усть-Луга',\n",
       "       'Светогорск', 'Любань', 'поселок Селезнёво',\n",
       "       'поселок городского типа Рябово', 'Каменногорск', 'деревня Кривко',\n",
       "       'поселок Глебычево', 'деревня Парицы', 'поселок Жилпосёлок',\n",
       "       'посёлок городского типа Мга', 'городской поселок Янино-1',\n",
       "       'посёлок Войскорово', 'село Никольское', 'посёлок Терволово',\n",
       "       'поселок Стеклянный', 'посёлок городского типа Важины',\n",
       "       'посёлок Мыза-Ивановка', 'село Русско-Высоцкое',\n",
       "       'поселок городского типа Лебяжье',\n",
       "       'поселок городского типа Форносово', 'село Старая Ладога',\n",
       "       'поселок Житково', 'городской посёлок Виллози', 'деревня Лампово',\n",
       "       'деревня Шпаньково', 'деревня Лаврики', 'посёлок Сумино',\n",
       "       'посёлок Возрождение', 'деревня Старосиверская',\n",
       "       'посёлок Кикерино', 'поселок Возрождение',\n",
       "       'деревня Старое Хинколово', 'посёлок Пригородный',\n",
       "       'посёлок Торфяное', 'городской посёлок Будогощь',\n",
       "       'поселок Суходолье', 'поселок Красная Долина', 'деревня Хапо-Ое',\n",
       "       'поселок городского типа Дружная Горка', 'поселок Лисий Нос',\n",
       "       'деревня Яльгелево', 'посёлок Стеклянный', 'село Рождествено',\n",
       "       'деревня Старополье', 'посёлок Левашово', 'деревня Сяськелево',\n",
       "       'деревня Камышовка',\n",
       "       'садоводческое некоммерческое товарищество Лесная Поляна',\n",
       "       'деревня Хязельки', 'поселок Жилгородок',\n",
       "       'посёлок городского типа Павлово', 'деревня Ялгино',\n",
       "       'поселок Новый Учхоз', 'городской посёлок Рощино',\n",
       "       'поселок Гончарово', 'поселок Почап', 'посёлок Сапёрное',\n",
       "       'посёлок Платформа 69-й километр', 'поселок Каложицы',\n",
       "       'деревня Фалилеево', 'деревня Пельгора',\n",
       "       'поселок городского типа Лесогорский', 'деревня Торошковичи',\n",
       "       'посёлок Белоостров', 'посёлок Алексеевка', 'поселок Серебрянский',\n",
       "       'поселок Лукаши', 'поселок Петровское', 'деревня Щеглово',\n",
       "       'поселок Мичуринское', 'деревня Тарасово', 'поселок Кингисеппский',\n",
       "       'посёлок при железнодорожной станции Вещево', 'поселок Ушаки',\n",
       "       'деревня Котлы', 'деревня Сижно', 'деревня Торосово',\n",
       "       'посёлок Форт Красная Горка', 'поселок городского типа Токсово',\n",
       "       'деревня Новолисино', 'посёлок станции Громово', 'деревня Глинка',\n",
       "       'посёлок Мельниково', 'поселок городского типа Назия',\n",
       "       'деревня Старая Пустошь', 'поселок Коммунары', 'поселок Починок',\n",
       "       'посёлок городского типа Вознесенье', 'деревня Разбегаево',\n",
       "       'посёлок городского типа Рябово', 'поселок Гладкое',\n",
       "       'посёлок при железнодорожной станции Приветнинское',\n",
       "       'поселок Тёсово-4', 'посёлок Жилгородок', 'деревня Бор',\n",
       "       'посёлок Коробицыно', 'деревня Большая Вруда', 'деревня Курковицы',\n",
       "       'посёлок Лисий Нос', 'городской посёлок Советский',\n",
       "       'посёлок Кобралово', 'деревня Суоранда', 'поселок Кобралово',\n",
       "       'поселок городского типа Кондратьево',\n",
       "       'коттеджный поселок Счастье', 'поселок Любань', 'деревня Реброво',\n",
       "       'деревня Зимитицы', 'деревня Тойворово', 'поселок Семиозерье',\n",
       "       'поселок Лесное', 'поселок Совхозный', 'поселок Усть-Луга',\n",
       "       'посёлок Ленинское', 'посёлок Суйда',\n",
       "       'посёлок городского типа Форносово', 'деревня Нижние Осельки',\n",
       "       'посёлок станции Свирь', 'поселок Перово', 'Высоцк',\n",
       "       'поселок Гарболово', 'село Шум', 'поселок Котельский',\n",
       "       'поселок станции Лужайка', 'деревня Большая Пустомержа',\n",
       "       'поселок Красносельское', 'деревня Вахнова Кара', 'деревня Пижма',\n",
       "       'коттеджный поселок Кивеннапа Север', 'поселок Коробицыно',\n",
       "       'поселок Ромашки', 'посёлок Перово', 'деревня Каськово',\n",
       "       'деревня Куровицы', 'посёлок Плоское', 'поселок Сумино',\n",
       "       'поселок городского типа Большая Ижора', 'поселок Кирпичное',\n",
       "       'деревня Ям-Тесово', 'деревня Раздолье', 'деревня Терпилицы',\n",
       "       'посёлок Шугозеро', 'деревня Ваганово', 'поселок Пушное',\n",
       "       'садовое товарищество Садко', 'посёлок Усть-Ижора',\n",
       "       'деревня Выскатка', 'городской посёлок Свирьстрой',\n",
       "       'поселок Громово', 'деревня Кисельня', 'посёлок Старая Малукса',\n",
       "       'деревня Трубников Бор', 'поселок Калитино',\n",
       "       'посёлок Высокоключевой', 'садовое товарищество Приладожский',\n",
       "       'посёлок Пансионат Зелёный Бор', 'деревня Ненимяки',\n",
       "       'поселок Пансионат Зелёный Бор', 'деревня Снегирёвка',\n",
       "       'деревня Рапполово', 'деревня Пустынка', 'поселок Рабитицы',\n",
       "       'деревня Большой Сабск', 'деревня Русско', 'деревня Лупполово',\n",
       "       'деревня Большое Рейзино', 'деревня Малая Романовка',\n",
       "       'поселок Дружноселье', 'поселок Пчевжа', 'поселок Володарское',\n",
       "       'деревня Нижняя', 'коттеджный посёлок Лесное', 'деревня Тихковицы',\n",
       "       'деревня Борисова Грива', 'посёлок Дзержинского'], dtype=object)"
      ]
     },
     "execution_count": 34,
     "metadata": {},
     "output_type": "execute_result"
    }
   ],
   "source": [
    "df['locality_name'].unique()"
   ]
  },
  {
   "cell_type": "markdown",
   "id": "1b84a5fd",
   "metadata": {},
   "source": [
    "В названии населенного пункта упоминается его пункт, чтобы убрать неявные дубликаты из-за варианта заполнения названия продавцом исключим тип из названия. Для этого создадим новый столбец, чтобы сохранить тип населенного пункта на всякий случай (для возможной будущей категоризации по типу населенного пункта)"
   ]
  },
  {
   "cell_type": "code",
   "execution_count": 35,
   "id": "fba5e390",
   "metadata": {},
   "outputs": [],
   "source": [
    "df['locality_name_new'] = (\n",
    "    df['locality_name']\n",
    "    .str.lower()\n",
    "    .str.replace('ё', 'е')\n",
    "    .replace(['поселок городского типа ', 'пгт ' , 'городской поселок ', 'деревня ', 'поселок станции ', 'село ', 'садовое товарищество',\n",
    "             'посёлок при железнодорожной станции ', 'коттеджный поселок ', 'посёлок станции ', 'поселок ', 'при железнодорожной станции ', \n",
    "             'садоводческое некоммерческое товарищество '], \n",
    "             '', regex=True)\n",
    ") "
   ]
  },
  {
   "cell_type": "code",
   "execution_count": 36,
   "id": "99a7edc3",
   "metadata": {},
   "outputs": [
    {
     "data": {
      "text/plain": [
       "array(['санкт-петербург', 'шушары', 'янино-1', 'парголово', 'мурино',\n",
       "       'ломоносов', 'сертолово', 'петергоф', 'пушкин', 'кудрово',\n",
       "       'коммунар', 'колпино', 'красный бор', 'гатчина', 'федоровское',\n",
       "       'выборг', 'кронштадт', 'кировск', 'новое девяткино',\n",
       "       'металлострой', 'лебяжье', 'сиверский', 'молодцово',\n",
       "       'кузьмоловский', ' новая ропша', 'павловск', 'пикколово',\n",
       "       'всеволожск', 'волхов', 'кингисепп', 'приозерск', 'сестрорецк',\n",
       "       'куттузи', 'аннино', 'ефимовский', 'плодовое', 'заклинье',\n",
       "       'торковичи', 'первомайское', 'красное село', 'понтонный',\n",
       "       'сясьстрой', 'старая', 'лесколово', 'новый свет', 'сланцы',\n",
       "       'путилово', 'ивангород', 'шлиссельбург', 'никольское',\n",
       "       'зеленогорск', 'сосновый бор', 'оржицы', 'кальтино', 'романовка',\n",
       "       'бугры', 'рощино', 'кириши', 'луга', 'волосово', 'отрадное',\n",
       "       'павлово', 'оредеж', 'копорье', 'молодежное', 'тихвин', 'победа',\n",
       "       'нурма', 'синявино', 'тосно', 'стрельна', 'бокситогорск',\n",
       "       'александровская', 'лопухинка', 'пикалево', 'терволово',\n",
       "       'советский', 'подпорожье', 'петровское', 'токсово', 'сельцо',\n",
       "       'вырица', 'кипень', 'келози', 'вартемяги', 'тельмана',\n",
       "       'севастьяново', 'большая ижора', nan, 'агалатово', 'новогорелово',\n",
       "       'лесогорский', 'лаголово', 'цвелодубово', 'рахья', 'белогорка',\n",
       "       'заводской', 'новоселье', 'большие колпаны', 'горбунки', 'батово',\n",
       "       'заневка', 'иссад', 'приморск', 'мистолово', 'новая ладога',\n",
       "       'зимитицы', 'барышево', 'разметелево', 'имени свердлова', 'пеники',\n",
       "       'рябово', 'пудомяги', 'корнево', 'низино', 'бегуницы', 'поляны',\n",
       "       'мга', 'елизаветино', 'кузнечное', 'колтуши', 'запорожское',\n",
       "       'гостилицы', 'малое карлино', 'мичуринское', 'имени морозова',\n",
       "       'песочный', 'сосново', 'аро', 'ильичево', 'тайцы', 'малое верево',\n",
       "       'извара', 'вещево', 'паша', 'калитино', 'ульяновка', 'чудской бор',\n",
       "       'дубровка', 'мины', 'войсковицы', 'коркино', 'ропша',\n",
       "       'приладожский', 'щеглово', 'гаврилово', 'лодейное поле',\n",
       "       'рабитицы', 'никольский', 'кузьмолово', 'малые колпаны',\n",
       "       'петро-славянка', 'назия', 'репино', 'углово', 'старая малукса',\n",
       "       ' рахья', 'меньково', 'старые бегуницы', 'саперный', 'семрино',\n",
       "       'глажево', 'кобринское', 'гарболово', 'юкки', 'приветнинское',\n",
       "       'мануйлово', 'пчева', 'цвылево', 'мельниково', 'пудость',\n",
       "       'усть-луга', 'светогорск', 'любань', 'селезнево', 'каменногорск',\n",
       "       'кривко', 'глебычево', 'парицы', 'жилпоселок', 'войскорово',\n",
       "       'стеклянный', 'важины', 'мыза-ивановка', 'русско-высоцкое',\n",
       "       'форносово', 'старая ладога', 'житково', 'виллози', 'лампово',\n",
       "       'шпаньково', 'лаврики', 'сумино', 'возрождение', 'старосиверская',\n",
       "       'кикерино', 'старое хинколово', 'пригородный', 'торфяное',\n",
       "       'будогощь', 'суходолье', 'красная долина', 'хапо-ое',\n",
       "       'дружная горка', 'лисий нос', 'яльгелево', 'рождествено',\n",
       "       'старополье', 'левашово', 'сяськелево', 'камышовка',\n",
       "       'лесная поляна', 'хязельки', 'жилгородок', 'ялгино', 'новый учхоз',\n",
       "       'гончарово', 'почап', 'саперное', 'платформа 69-й километр',\n",
       "       'каложицы', 'фалилеево', 'пельгора', 'торошковичи', 'белоостров',\n",
       "       'алексеевка', 'серебрянский', 'лукаши', 'тарасово',\n",
       "       'кингисеппский', 'ушаки', 'котлы', 'сижно', 'торосово',\n",
       "       'форт красная горка', 'новолисино', 'громово', 'глинка',\n",
       "       'старая пустошь', 'коммунары', 'починок', 'вознесенье',\n",
       "       'разбегаево', 'гладкое', 'тесово-4', 'бор', 'коробицыно',\n",
       "       'большая вруда', 'курковицы', 'кобралово', 'суоранда',\n",
       "       'кондратьево', 'счастье', 'реброво', 'тойворово', 'семиозерье',\n",
       "       'лесное', 'совхозный', 'ленинское', 'суйда', 'нижние осельки',\n",
       "       'свирь', 'перово', 'высоцк', 'шум', 'котельский', 'лужайка',\n",
       "       'большая пустомержа', 'красносельское', 'вахнова кара', 'пижма',\n",
       "       'кивеннапа север', 'ромашки', 'каськово', 'куровицы', 'плоское',\n",
       "       'кирпичное', 'ям-тесово', 'раздолье', 'терпилицы', 'шугозеро',\n",
       "       'ваганово', 'пушное', ' садко', 'усть-ижора', 'выскатка',\n",
       "       'свирьстрой', 'кисельня', 'трубников бор', 'высокоключевой',\n",
       "       ' приладожский', 'пансионат зеленый бор', 'ненимяки', 'снегиревка',\n",
       "       'рапполово', 'пустынка', 'большой сабск', 'русско', 'лупполово',\n",
       "       'большое рейзино', 'малая романовка', 'дружноселье', 'пчевжа',\n",
       "       'володарское', 'нижняя', 'тихковицы', 'борисова грива',\n",
       "       'дзержинского'], dtype=object)"
      ]
     },
     "execution_count": 36,
     "metadata": {},
     "output_type": "execute_result"
    }
   ],
   "source": [
    "df['locality_name_new'].unique()"
   ]
  },
  {
   "cell_type": "code",
   "execution_count": 37,
   "id": "d416a19f",
   "metadata": {},
   "outputs": [
    {
     "data": {
      "text/plain": [
       "308"
      ]
     },
     "execution_count": 37,
     "metadata": {},
     "output_type": "execute_result"
    }
   ],
   "source": [
    "len(df['locality_name_new'].unique())"
   ]
  },
  {
   "cell_type": "markdown",
   "id": "dc509f10",
   "metadata": {},
   "source": [
    "Осталось 308 названий."
   ]
  },
  {
   "cell_type": "markdown",
   "id": "d348cd09",
   "metadata": {},
   "source": [
    "<span style=\"color:blue\"> **Вывод:** </span>\n",
    "Таким образом, на этапе предобработки данных:\n",
    "* были найдены столбцы с пропущенными данными:\n",
    "    * в столбце balcony пропущенные значения были заменены 0, так как, скорее всего, продавец просто не указал этот параметр, так как его нет.\n",
    "    * в столбце is_apartment пропущенные значения были заменены False, так как, скорее всего, продавец просто не указал этот параметр, так как его нет.\n",
    "    * в столбцах living_area и kitchen_area пропуски заполнены как медиана долей отношения соответствующей площади к общей\n",
    "    * в столбцах airports_nearest, cityCenters_nearest, parks_around3000, parks_nearest, ponds_around3000 и ponds_nearest пропуски не были заменены, так как эти столбцы заполнялись автоматически, без участия пользователя.\n",
    "* был изменен тип столбца first_day_exposition с object на datetime64, так как далее понадобится информация о дне недели. Также типы столбцов 'last_price', 'balcony' преобразованы в int.\n",
    "* явных дубликатов нет\n",
    "* были удалены неявные дубликаты, для этого был добавлен новый столбец locality_name_new, в котором остались только уникальные названия населенных пунктов. Сам столбец locality_name не был заменен по причине того, что в будущем может понадобиться тип населенного пункта.\n"
   ]
  },
  {
   "cell_type": "markdown",
   "id": "06d58261",
   "metadata": {},
   "source": [
    "### <span style=\"color:red\"> 3. Добавление новых столбцов</span>"
   ]
  },
  {
   "cell_type": "code",
   "execution_count": 38,
   "id": "ec489569",
   "metadata": {},
   "outputs": [],
   "source": [
    "df['price_one_metr'] = round(df['last_price'] / df['total_area'], 2) #цена за 1 квадратный метр\n",
    "df['day_of_exposition'] = df['first_day_exposition']. dt.weekday #день публикации\n",
    "df['month_of_exposition'] = df['first_day_exposition']. dt.month #месяц публикации\n",
    "df['year_of_exposition'] = df['first_day_exposition']. dt.year #год публикации"
   ]
  },
  {
   "cell_type": "code",
   "execution_count": 39,
   "id": "3ec2d26a",
   "metadata": {},
   "outputs": [],
   "source": [
    "#функции разбивки этажа на категории\n",
    "def floor_category(floor, total ):\n",
    "    try:\n",
    "        if floor == 1:\n",
    "            return 'первый'\n",
    "        elif floor == total:\n",
    "            return 'последний'\n",
    "        else:\n",
    "            return 'другой'\n",
    "    except:\n",
    "        pass"
   ]
  },
  {
   "cell_type": "code",
   "execution_count": 40,
   "id": "e000414b",
   "metadata": {},
   "outputs": [],
   "source": [
    "df['floor_type'] = df.apply(lambda row: floor_category(row['floor'], row['floors_total']), axis=1) #тип этажа"
   ]
  },
  {
   "cell_type": "code",
   "execution_count": 41,
   "id": "f9e282f7",
   "metadata": {},
   "outputs": [],
   "source": [
    "df['city_centers_km'] = round(df['city_centers_nearest'] / 1000)"
   ]
  },
  {
   "cell_type": "code",
   "execution_count": 42,
   "id": "e3683d75",
   "metadata": {},
   "outputs": [
    {
     "name": "stdout",
     "output_type": "stream",
     "text": [
      "<class 'pandas.core.frame.DataFrame'>\n",
      "RangeIndex: 23699 entries, 0 to 23698\n",
      "Data columns (total 31 columns):\n",
      " #   Column                 Non-Null Count  Dtype         \n",
      "---  ------                 --------------  -----         \n",
      " 0   total_images           23699 non-null  int64         \n",
      " 1   last_price             23699 non-null  int64         \n",
      " 2   total_area             23699 non-null  float64       \n",
      " 3   first_day_exposition   23699 non-null  datetime64[ns]\n",
      " 4   rooms                  23699 non-null  int64         \n",
      " 5   ceiling_height         23621 non-null  float64       \n",
      " 6   floors_total           23613 non-null  float64       \n",
      " 7   living_area            23699 non-null  float64       \n",
      " 8   floor                  23699 non-null  int64         \n",
      " 9   is_apartment           23699 non-null  bool          \n",
      " 10  studio                 23699 non-null  bool          \n",
      " 11  open_plan              23699 non-null  bool          \n",
      " 12  kitchen_area           23699 non-null  float64       \n",
      " 13  balcony                23699 non-null  int64         \n",
      " 14  locality_name          23650 non-null  object        \n",
      " 15  airports_nearest       18157 non-null  float64       \n",
      " 16  city_centers_nearest   18180 non-null  float64       \n",
      " 17  parks_around3000       18181 non-null  float64       \n",
      " 18  parks_nearest          8079 non-null   float64       \n",
      " 19  ponds_around3000       18181 non-null  float64       \n",
      " 20  ponds_nearest          9110 non-null   float64       \n",
      " 21  days_exposition        20518 non-null  float64       \n",
      " 22  partial_kitchen_total  21570 non-null  float64       \n",
      " 23  partial_living_total   21796 non-null  float64       \n",
      " 24  locality_name_new      23650 non-null  object        \n",
      " 25  price_one_metr         23699 non-null  float64       \n",
      " 26  day_of_exposition      23699 non-null  int64         \n",
      " 27  month_of_exposition    23699 non-null  int64         \n",
      " 28  year_of_exposition     23699 non-null  int64         \n",
      " 29  floor_type             23699 non-null  object        \n",
      " 30  city_centers_km        18180 non-null  float64       \n",
      "dtypes: bool(3), datetime64[ns](1), float64(16), int64(8), object(3)\n",
      "memory usage: 5.1+ MB\n"
     ]
    }
   ],
   "source": [
    "df.info()"
   ]
  },
  {
   "cell_type": "code",
   "execution_count": 43,
   "id": "f941a768",
   "metadata": {
    "scrolled": true
   },
   "outputs": [
    {
     "data": {
      "text/html": [
       "<div>\n",
       "<style scoped>\n",
       "    .dataframe tbody tr th:only-of-type {\n",
       "        vertical-align: middle;\n",
       "    }\n",
       "\n",
       "    .dataframe tbody tr th {\n",
       "        vertical-align: top;\n",
       "    }\n",
       "\n",
       "    .dataframe thead th {\n",
       "        text-align: right;\n",
       "    }\n",
       "</style>\n",
       "<table border=\"1\" class=\"dataframe\">\n",
       "  <thead>\n",
       "    <tr style=\"text-align: right;\">\n",
       "      <th></th>\n",
       "      <th>total_images</th>\n",
       "      <th>last_price</th>\n",
       "      <th>total_area</th>\n",
       "      <th>first_day_exposition</th>\n",
       "      <th>rooms</th>\n",
       "      <th>ceiling_height</th>\n",
       "      <th>floors_total</th>\n",
       "      <th>living_area</th>\n",
       "      <th>floor</th>\n",
       "      <th>is_apartment</th>\n",
       "      <th>...</th>\n",
       "      <th>days_exposition</th>\n",
       "      <th>partial_kitchen_total</th>\n",
       "      <th>partial_living_total</th>\n",
       "      <th>locality_name_new</th>\n",
       "      <th>price_one_metr</th>\n",
       "      <th>day_of_exposition</th>\n",
       "      <th>month_of_exposition</th>\n",
       "      <th>year_of_exposition</th>\n",
       "      <th>floor_type</th>\n",
       "      <th>city_centers_km</th>\n",
       "    </tr>\n",
       "  </thead>\n",
       "  <tbody>\n",
       "    <tr>\n",
       "      <th>0</th>\n",
       "      <td>20</td>\n",
       "      <td>13000</td>\n",
       "      <td>108.00</td>\n",
       "      <td>2019-03-07</td>\n",
       "      <td>3</td>\n",
       "      <td>2.70</td>\n",
       "      <td>16.0</td>\n",
       "      <td>51.000000</td>\n",
       "      <td>8</td>\n",
       "      <td>False</td>\n",
       "      <td>...</td>\n",
       "      <td>NaN</td>\n",
       "      <td>0.231481</td>\n",
       "      <td>0.472222</td>\n",
       "      <td>санкт-петербург</td>\n",
       "      <td>120.37</td>\n",
       "      <td>3</td>\n",
       "      <td>3</td>\n",
       "      <td>2019</td>\n",
       "      <td>другой</td>\n",
       "      <td>16.0</td>\n",
       "    </tr>\n",
       "    <tr>\n",
       "      <th>1</th>\n",
       "      <td>7</td>\n",
       "      <td>3350</td>\n",
       "      <td>40.40</td>\n",
       "      <td>2018-12-04</td>\n",
       "      <td>1</td>\n",
       "      <td>2.75</td>\n",
       "      <td>11.0</td>\n",
       "      <td>18.600000</td>\n",
       "      <td>1</td>\n",
       "      <td>False</td>\n",
       "      <td>...</td>\n",
       "      <td>81.0</td>\n",
       "      <td>0.272277</td>\n",
       "      <td>0.460396</td>\n",
       "      <td>шушары</td>\n",
       "      <td>82.92</td>\n",
       "      <td>1</td>\n",
       "      <td>12</td>\n",
       "      <td>2018</td>\n",
       "      <td>первый</td>\n",
       "      <td>19.0</td>\n",
       "    </tr>\n",
       "    <tr>\n",
       "      <th>2</th>\n",
       "      <td>10</td>\n",
       "      <td>5196</td>\n",
       "      <td>56.00</td>\n",
       "      <td>2015-08-20</td>\n",
       "      <td>2</td>\n",
       "      <td>2.55</td>\n",
       "      <td>5.0</td>\n",
       "      <td>34.300000</td>\n",
       "      <td>4</td>\n",
       "      <td>False</td>\n",
       "      <td>...</td>\n",
       "      <td>558.0</td>\n",
       "      <td>0.148214</td>\n",
       "      <td>0.612500</td>\n",
       "      <td>санкт-петербург</td>\n",
       "      <td>92.79</td>\n",
       "      <td>3</td>\n",
       "      <td>8</td>\n",
       "      <td>2015</td>\n",
       "      <td>другой</td>\n",
       "      <td>14.0</td>\n",
       "    </tr>\n",
       "    <tr>\n",
       "      <th>3</th>\n",
       "      <td>0</td>\n",
       "      <td>64900</td>\n",
       "      <td>159.00</td>\n",
       "      <td>2015-07-24</td>\n",
       "      <td>3</td>\n",
       "      <td>2.60</td>\n",
       "      <td>14.0</td>\n",
       "      <td>0.631667</td>\n",
       "      <td>9</td>\n",
       "      <td>False</td>\n",
       "      <td>...</td>\n",
       "      <td>424.0</td>\n",
       "      <td>NaN</td>\n",
       "      <td>NaN</td>\n",
       "      <td>санкт-петербург</td>\n",
       "      <td>408.18</td>\n",
       "      <td>4</td>\n",
       "      <td>7</td>\n",
       "      <td>2015</td>\n",
       "      <td>другой</td>\n",
       "      <td>7.0</td>\n",
       "    </tr>\n",
       "    <tr>\n",
       "      <th>4</th>\n",
       "      <td>2</td>\n",
       "      <td>10000</td>\n",
       "      <td>100.00</td>\n",
       "      <td>2018-06-19</td>\n",
       "      <td>2</td>\n",
       "      <td>3.03</td>\n",
       "      <td>14.0</td>\n",
       "      <td>32.000000</td>\n",
       "      <td>13</td>\n",
       "      <td>False</td>\n",
       "      <td>...</td>\n",
       "      <td>121.0</td>\n",
       "      <td>0.410000</td>\n",
       "      <td>0.320000</td>\n",
       "      <td>санкт-петербург</td>\n",
       "      <td>100.00</td>\n",
       "      <td>1</td>\n",
       "      <td>6</td>\n",
       "      <td>2018</td>\n",
       "      <td>другой</td>\n",
       "      <td>8.0</td>\n",
       "    </tr>\n",
       "    <tr>\n",
       "      <th>5</th>\n",
       "      <td>10</td>\n",
       "      <td>2890</td>\n",
       "      <td>30.40</td>\n",
       "      <td>2018-09-10</td>\n",
       "      <td>1</td>\n",
       "      <td>2.65</td>\n",
       "      <td>12.0</td>\n",
       "      <td>14.400000</td>\n",
       "      <td>5</td>\n",
       "      <td>False</td>\n",
       "      <td>...</td>\n",
       "      <td>55.0</td>\n",
       "      <td>0.299342</td>\n",
       "      <td>0.473684</td>\n",
       "      <td>янино-1</td>\n",
       "      <td>95.07</td>\n",
       "      <td>0</td>\n",
       "      <td>9</td>\n",
       "      <td>2018</td>\n",
       "      <td>другой</td>\n",
       "      <td>NaN</td>\n",
       "    </tr>\n",
       "    <tr>\n",
       "      <th>6</th>\n",
       "      <td>6</td>\n",
       "      <td>3700</td>\n",
       "      <td>37.30</td>\n",
       "      <td>2017-11-02</td>\n",
       "      <td>1</td>\n",
       "      <td>2.65</td>\n",
       "      <td>26.0</td>\n",
       "      <td>10.600000</td>\n",
       "      <td>6</td>\n",
       "      <td>False</td>\n",
       "      <td>...</td>\n",
       "      <td>155.0</td>\n",
       "      <td>0.386059</td>\n",
       "      <td>0.284182</td>\n",
       "      <td>парголово</td>\n",
       "      <td>99.20</td>\n",
       "      <td>3</td>\n",
       "      <td>11</td>\n",
       "      <td>2017</td>\n",
       "      <td>другой</td>\n",
       "      <td>19.0</td>\n",
       "    </tr>\n",
       "    <tr>\n",
       "      <th>7</th>\n",
       "      <td>5</td>\n",
       "      <td>7915</td>\n",
       "      <td>71.60</td>\n",
       "      <td>2019-04-18</td>\n",
       "      <td>2</td>\n",
       "      <td>2.75</td>\n",
       "      <td>24.0</td>\n",
       "      <td>0.585009</td>\n",
       "      <td>22</td>\n",
       "      <td>False</td>\n",
       "      <td>...</td>\n",
       "      <td>NaN</td>\n",
       "      <td>0.263966</td>\n",
       "      <td>NaN</td>\n",
       "      <td>санкт-петербург</td>\n",
       "      <td>110.54</td>\n",
       "      <td>3</td>\n",
       "      <td>4</td>\n",
       "      <td>2019</td>\n",
       "      <td>другой</td>\n",
       "      <td>12.0</td>\n",
       "    </tr>\n",
       "    <tr>\n",
       "      <th>8</th>\n",
       "      <td>20</td>\n",
       "      <td>2900</td>\n",
       "      <td>33.16</td>\n",
       "      <td>2018-05-23</td>\n",
       "      <td>1</td>\n",
       "      <td>2.70</td>\n",
       "      <td>27.0</td>\n",
       "      <td>15.430000</td>\n",
       "      <td>26</td>\n",
       "      <td>False</td>\n",
       "      <td>...</td>\n",
       "      <td>189.0</td>\n",
       "      <td>0.265682</td>\n",
       "      <td>0.465320</td>\n",
       "      <td>мурино</td>\n",
       "      <td>87.45</td>\n",
       "      <td>2</td>\n",
       "      <td>5</td>\n",
       "      <td>2018</td>\n",
       "      <td>другой</td>\n",
       "      <td>NaN</td>\n",
       "    </tr>\n",
       "    <tr>\n",
       "      <th>9</th>\n",
       "      <td>18</td>\n",
       "      <td>5400</td>\n",
       "      <td>61.00</td>\n",
       "      <td>2017-02-26</td>\n",
       "      <td>3</td>\n",
       "      <td>2.50</td>\n",
       "      <td>9.0</td>\n",
       "      <td>43.600000</td>\n",
       "      <td>7</td>\n",
       "      <td>False</td>\n",
       "      <td>...</td>\n",
       "      <td>289.0</td>\n",
       "      <td>0.106557</td>\n",
       "      <td>0.714754</td>\n",
       "      <td>санкт-петербург</td>\n",
       "      <td>88.52</td>\n",
       "      <td>6</td>\n",
       "      <td>2</td>\n",
       "      <td>2017</td>\n",
       "      <td>другой</td>\n",
       "      <td>15.0</td>\n",
       "    </tr>\n",
       "  </tbody>\n",
       "</table>\n",
       "<p>10 rows × 31 columns</p>\n",
       "</div>"
      ],
      "text/plain": [
       "   total_images  last_price  total_area first_day_exposition  rooms  \\\n",
       "0            20       13000      108.00           2019-03-07      3   \n",
       "1             7        3350       40.40           2018-12-04      1   \n",
       "2            10        5196       56.00           2015-08-20      2   \n",
       "3             0       64900      159.00           2015-07-24      3   \n",
       "4             2       10000      100.00           2018-06-19      2   \n",
       "5            10        2890       30.40           2018-09-10      1   \n",
       "6             6        3700       37.30           2017-11-02      1   \n",
       "7             5        7915       71.60           2019-04-18      2   \n",
       "8            20        2900       33.16           2018-05-23      1   \n",
       "9            18        5400       61.00           2017-02-26      3   \n",
       "\n",
       "   ceiling_height  floors_total  living_area  floor  is_apartment  ...  \\\n",
       "0            2.70          16.0    51.000000      8         False  ...   \n",
       "1            2.75          11.0    18.600000      1         False  ...   \n",
       "2            2.55           5.0    34.300000      4         False  ...   \n",
       "3            2.60          14.0     0.631667      9         False  ...   \n",
       "4            3.03          14.0    32.000000     13         False  ...   \n",
       "5            2.65          12.0    14.400000      5         False  ...   \n",
       "6            2.65          26.0    10.600000      6         False  ...   \n",
       "7            2.75          24.0     0.585009     22         False  ...   \n",
       "8            2.70          27.0    15.430000     26         False  ...   \n",
       "9            2.50           9.0    43.600000      7         False  ...   \n",
       "\n",
       "   days_exposition  partial_kitchen_total  partial_living_total  \\\n",
       "0              NaN               0.231481              0.472222   \n",
       "1             81.0               0.272277              0.460396   \n",
       "2            558.0               0.148214              0.612500   \n",
       "3            424.0                    NaN                   NaN   \n",
       "4            121.0               0.410000              0.320000   \n",
       "5             55.0               0.299342              0.473684   \n",
       "6            155.0               0.386059              0.284182   \n",
       "7              NaN               0.263966                   NaN   \n",
       "8            189.0               0.265682              0.465320   \n",
       "9            289.0               0.106557              0.714754   \n",
       "\n",
       "   locality_name_new price_one_metr  day_of_exposition  month_of_exposition  \\\n",
       "0    санкт-петербург         120.37                  3                    3   \n",
       "1             шушары          82.92                  1                   12   \n",
       "2    санкт-петербург          92.79                  3                    8   \n",
       "3    санкт-петербург         408.18                  4                    7   \n",
       "4    санкт-петербург         100.00                  1                    6   \n",
       "5            янино-1          95.07                  0                    9   \n",
       "6          парголово          99.20                  3                   11   \n",
       "7    санкт-петербург         110.54                  3                    4   \n",
       "8             мурино          87.45                  2                    5   \n",
       "9    санкт-петербург          88.52                  6                    2   \n",
       "\n",
       "   year_of_exposition  floor_type  city_centers_km  \n",
       "0                2019      другой             16.0  \n",
       "1                2018      первый             19.0  \n",
       "2                2015      другой             14.0  \n",
       "3                2015      другой              7.0  \n",
       "4                2018      другой              8.0  \n",
       "5                2018      другой              NaN  \n",
       "6                2017      другой             19.0  \n",
       "7                2019      другой             12.0  \n",
       "8                2018      другой              NaN  \n",
       "9                2017      другой             15.0  \n",
       "\n",
       "[10 rows x 31 columns]"
      ]
     },
     "execution_count": 43,
     "metadata": {},
     "output_type": "execute_result"
    }
   ],
   "source": [
    "df.head(10)"
   ]
  },
  {
   "cell_type": "markdown",
   "id": "3f4d9791",
   "metadata": {},
   "source": [
    "<span style=\"color:blue\"> **Вывод:** </span>\n",
    "\n",
    "Были добавлены столбцы:\n",
    "* цена за 1 квадратный метр\n",
    "* день публикации\n",
    "* месяц публикации\n",
    "* год публикации\n",
    "* тип этажа\n",
    "* удаленность от центра города в км"
   ]
  },
  {
   "cell_type": "markdown",
   "id": "13ec9af1",
   "metadata": {},
   "source": [
    "### <span style=\"color:red\"> 4. Исследовательский анализ данных</span>\n",
    "*Изучите перечисленные ниже параметры объектов и постройте отдельные гистограммы для каждого из этих параметров.*"
   ]
  },
  {
   "cell_type": "markdown",
   "id": "d9101db8",
   "metadata": {},
   "source": [
    "Изучим описательные статистики исследуемых столбцов: общая площадь; жилая площадь; площадь кухни; цена объекта; количество комнат; высота потолков; тип этажа квартиры («первый», «последний», «другой»); общее количество этажей в доме; расстояние до центра города в метрах; расстояние до ближайшего парка"
   ]
  },
  {
   "cell_type": "code",
   "execution_count": 44,
   "id": "28a12542",
   "metadata": {},
   "outputs": [
    {
     "data": {
      "text/html": [
       "<div>\n",
       "<style scoped>\n",
       "    .dataframe tbody tr th:only-of-type {\n",
       "        vertical-align: middle;\n",
       "    }\n",
       "\n",
       "    .dataframe tbody tr th {\n",
       "        vertical-align: top;\n",
       "    }\n",
       "\n",
       "    .dataframe thead th {\n",
       "        text-align: right;\n",
       "    }\n",
       "</style>\n",
       "<table border=\"1\" class=\"dataframe\">\n",
       "  <thead>\n",
       "    <tr style=\"text-align: right;\">\n",
       "      <th></th>\n",
       "      <th>total_area</th>\n",
       "      <th>living_area</th>\n",
       "      <th>kitchen_area</th>\n",
       "      <th>last_price</th>\n",
       "      <th>rooms</th>\n",
       "      <th>ceiling_height</th>\n",
       "      <th>floors_total</th>\n",
       "      <th>city_centers_km</th>\n",
       "      <th>parks_nearest</th>\n",
       "    </tr>\n",
       "  </thead>\n",
       "  <tbody>\n",
       "    <tr>\n",
       "      <th>count</th>\n",
       "      <td>23699.000000</td>\n",
       "      <td>23699.000000</td>\n",
       "      <td>23699.000000</td>\n",
       "      <td>23699.000000</td>\n",
       "      <td>23699.000000</td>\n",
       "      <td>23621.000000</td>\n",
       "      <td>23613.000000</td>\n",
       "      <td>18180.000000</td>\n",
       "      <td>8079.000000</td>\n",
       "    </tr>\n",
       "    <tr>\n",
       "      <th>mean</th>\n",
       "      <td>60.348651</td>\n",
       "      <td>31.736432</td>\n",
       "      <td>9.569942</td>\n",
       "      <td>6541.532723</td>\n",
       "      <td>2.070636</td>\n",
       "      <td>2.691949</td>\n",
       "      <td>10.673824</td>\n",
       "      <td>14.184818</td>\n",
       "      <td>490.804555</td>\n",
       "    </tr>\n",
       "    <tr>\n",
       "      <th>std</th>\n",
       "      <td>35.654083</td>\n",
       "      <td>23.047704</td>\n",
       "      <td>6.397162</td>\n",
       "      <td>10887.008378</td>\n",
       "      <td>1.078405</td>\n",
       "      <td>0.258052</td>\n",
       "      <td>6.597173</td>\n",
       "      <td>8.616194</td>\n",
       "      <td>342.317995</td>\n",
       "    </tr>\n",
       "    <tr>\n",
       "      <th>min</th>\n",
       "      <td>12.000000</td>\n",
       "      <td>0.482488</td>\n",
       "      <td>0.000000</td>\n",
       "      <td>12.000000</td>\n",
       "      <td>0.000000</td>\n",
       "      <td>0.400000</td>\n",
       "      <td>1.000000</td>\n",
       "      <td>0.000000</td>\n",
       "      <td>1.000000</td>\n",
       "    </tr>\n",
       "    <tr>\n",
       "      <th>25%</th>\n",
       "      <td>40.000000</td>\n",
       "      <td>17.800000</td>\n",
       "      <td>6.300000</td>\n",
       "      <td>3400.000000</td>\n",
       "      <td>1.000000</td>\n",
       "      <td>2.550000</td>\n",
       "      <td>5.000000</td>\n",
       "      <td>9.000000</td>\n",
       "      <td>288.000000</td>\n",
       "    </tr>\n",
       "    <tr>\n",
       "      <th>50%</th>\n",
       "      <td>52.000000</td>\n",
       "      <td>29.000000</td>\n",
       "      <td>9.000000</td>\n",
       "      <td>4650.000000</td>\n",
       "      <td>2.000000</td>\n",
       "      <td>2.650000</td>\n",
       "      <td>9.000000</td>\n",
       "      <td>13.000000</td>\n",
       "      <td>455.000000</td>\n",
       "    </tr>\n",
       "    <tr>\n",
       "      <th>75%</th>\n",
       "      <td>69.900000</td>\n",
       "      <td>41.100000</td>\n",
       "      <td>11.440000</td>\n",
       "      <td>6800.000000</td>\n",
       "      <td>3.000000</td>\n",
       "      <td>2.750000</td>\n",
       "      <td>16.000000</td>\n",
       "      <td>16.000000</td>\n",
       "      <td>612.000000</td>\n",
       "    </tr>\n",
       "    <tr>\n",
       "      <th>max</th>\n",
       "      <td>900.000000</td>\n",
       "      <td>409.700000</td>\n",
       "      <td>112.000000</td>\n",
       "      <td>763000.000000</td>\n",
       "      <td>19.000000</td>\n",
       "      <td>10.000000</td>\n",
       "      <td>60.000000</td>\n",
       "      <td>66.000000</td>\n",
       "      <td>3190.000000</td>\n",
       "    </tr>\n",
       "  </tbody>\n",
       "</table>\n",
       "</div>"
      ],
      "text/plain": [
       "         total_area   living_area  kitchen_area     last_price         rooms  \\\n",
       "count  23699.000000  23699.000000  23699.000000   23699.000000  23699.000000   \n",
       "mean      60.348651     31.736432      9.569942    6541.532723      2.070636   \n",
       "std       35.654083     23.047704      6.397162   10887.008378      1.078405   \n",
       "min       12.000000      0.482488      0.000000      12.000000      0.000000   \n",
       "25%       40.000000     17.800000      6.300000    3400.000000      1.000000   \n",
       "50%       52.000000     29.000000      9.000000    4650.000000      2.000000   \n",
       "75%       69.900000     41.100000     11.440000    6800.000000      3.000000   \n",
       "max      900.000000    409.700000    112.000000  763000.000000     19.000000   \n",
       "\n",
       "       ceiling_height  floors_total  city_centers_km  parks_nearest  \n",
       "count    23621.000000  23613.000000     18180.000000    8079.000000  \n",
       "mean         2.691949     10.673824        14.184818     490.804555  \n",
       "std          0.258052      6.597173         8.616194     342.317995  \n",
       "min          0.400000      1.000000         0.000000       1.000000  \n",
       "25%          2.550000      5.000000         9.000000     288.000000  \n",
       "50%          2.650000      9.000000        13.000000     455.000000  \n",
       "75%          2.750000     16.000000        16.000000     612.000000  \n",
       "max         10.000000     60.000000        66.000000    3190.000000  "
      ]
     },
     "execution_count": 44,
     "metadata": {},
     "output_type": "execute_result"
    }
   ],
   "source": [
    "df[['total_area', 'living_area', 'kitchen_area', 'last_price', 'rooms', 'ceiling_height', 'floors_total', 'city_centers_km', 'parks_nearest']].describe()"
   ]
  },
  {
   "cell_type": "markdown",
   "id": "6d62f164",
   "metadata": {},
   "source": [
    "Описательная статистика численных переменных показала, что \n",
    "* в продаже имеются квартиры от 12 до 900 кв. метров(под недвижимость в 12 кв. м. попадают студии, комнаты в общежитии и т.д., в случае максимального значения, возможно, пользователь добавил лишний нуль)\n",
    "* жилая площадь колеблется от 0,5 до 410 кв. м, что также маловероятно, однако среднее и медиана довольно таки близки друг к другу\n",
    "* площадь кухни от 0 до 112. 0 возможен в случае студии, 112 похоже на ошибку в заполнении. Среднее и медиана также близки друг к другу\n",
    "* цена квартиры колеблется от 12 тыс до 800 млн, среднее и медиана отличаются друг от друга, возможно, тут как раз влияют экстремальные значения\n",
    "* число комнат варьирует от 0(в случае студии) до 19, медиана и среднее совпадают\n",
    "* высота потолков от 1м до 100, среднее и медиана выглядят вполне адекватно реальной картине мира\n",
    "* число этажей от 1 до 60 (сложно представить такую высотку), среднее и медиана отличаются в 2 этажа\n",
    "* расстояние до центра города занимает от 181 метра до 65 км, медиана и среднее отличаются в 1 км\n",
    "* расстояние до ближайшего парка занимает от 1 м(!) до 3 км, среднее и медиана отличаются в 40 м друг от друга.\n",
    "\n",
    "Посмотрим на диаграммы размаха, чтобы понять, какие значения выходят за границы нормального распределения.\n"
   ]
  },
  {
   "cell_type": "code",
   "execution_count": 45,
   "id": "4ac14c14",
   "metadata": {},
   "outputs": [
    {
     "data": {
      "image/png": "[encoded data removed]",
      "text/plain": [
       "<Figure size 432x288 with 1 Axes>"
      ]
     },
     "metadata": {
      "needs_background": "light"
     },
     "output_type": "display_data"
    },
    {
     "data": {
      "image/png": "[encoded data removed]",
      "text/plain": [
       "<Figure size 432x288 with 1 Axes>"
      ]
     },
     "metadata": {
      "needs_background": "light"
     },
     "output_type": "display_data"
    },
    {
     "data": {
      "image/png": "[encoded data removed]",
      "text/plain": [
       "<Figure size 432x288 with 1 Axes>"
      ]
     },
     "metadata": {
      "needs_background": "light"
     },
     "output_type": "display_data"
    },
    {
     "data": {
      "image/png": "[encoded data removed]",
      "text/plain": [
       "<Figure size 432x288 with 1 Axes>"
      ]
     },
     "metadata": {
      "needs_background": "light"
     },
     "output_type": "display_data"
    },
    {
     "data": {
      "image/png": "[encoded data removed]",
      "text/plain": [
       "<Figure size 432x288 with 1 Axes>"
      ]
     },
     "metadata": {
      "needs_background": "light"
     },
     "output_type": "display_data"
    },
    {
     "data": {
      "image/png": "[encoded data removed]",
      "text/plain": [
       "<Figure size 432x288 with 1 Axes>"
      ]
     },
     "metadata": {
      "needs_background": "light"
     },
     "output_type": "display_data"
    },
    {
     "data": {
      "image/png": "[encoded data removed]",
      "text/plain": [
       "<Figure size 432x288 with 1 Axes>"
      ]
     },
     "metadata": {
      "needs_background": "light"
     },
     "output_type": "display_data"
    },
    {
     "data": {
      "image/png": "[encoded data removed]",
      "text/plain": [
       "<Figure size 432x288 with 1 Axes>"
      ]
     },
     "metadata": {
      "needs_background": "light"
     },
     "output_type": "display_data"
    },
    {
     "data": {
      "image/png": "[encoded data removed]",
      "text/plain": [
       "<Figure size 432x288 with 1 Axes>"
      ]
     },
     "metadata": {
      "needs_background": "light"
     },
     "output_type": "display_data"
    }
   ],
   "source": [
    "for i in ['total_area', 'living_area', 'kitchen_area', 'last_price', 'rooms', 'ceiling_height', 'floors_total', 'city_centers_km', 'parks_nearest']:\n",
    "    df.boxplot(i)\n",
    "    plt.show()"
   ]
  },
  {
   "cell_type": "markdown",
   "id": "c45a67df",
   "metadata": {},
   "source": [
    "Диаграммы размаха позволяют сделать выводы, что для \n",
    "* total_area можно рассмотреть квартиры площадью от 10 до 200 кв.м.\n",
    "* living_area - от 5 до 90 кв.м\n",
    "* kitchen_area - от 0 до 20 кв.м.\n",
    "* last_price - от 10 тыс до 10 млн\n",
    "* rooms - от 0 до 7\n",
    "* ceiling_height - от 2 до 3.5\n",
    "* floors_total - от 1 до 30\n",
    "* city_centers_nearest - от 0 до 30 км\n",
    "* parks_nearest - от 0 до 1 км\n",
    "\n",
    "Построим для каждой переменной диаграмму размаха и гистограмму."
   ]
  },
  {
   "cell_type": "code",
   "execution_count": 46,
   "id": "66fdc1e5",
   "metadata": {},
   "outputs": [
    {
     "data": {
      "image/png": "[encoded data removed]",
      "text/plain": [
       "<Figure size 432x288 with 1 Axes>"
      ]
     },
     "metadata": {
      "needs_background": "light"
     },
     "output_type": "display_data"
    },
    {
     "data": {
      "image/png": "[encoded data removed]",
      "text/plain": [
       "<Figure size 432x288 with 1 Axes>"
      ]
     },
     "metadata": {
      "needs_background": "light"
     },
     "output_type": "display_data"
    },
    {
     "data": {
      "text/plain": [
       "count    23468.000000\n",
       "mean        58.155629\n",
       "std         26.469479\n",
       "min         12.000000\n",
       "25%         40.000000\n",
       "50%         51.900000\n",
       "75%         68.900000\n",
       "max        199.200000\n",
       "Name: total_area, dtype: float64"
      ]
     },
     "execution_count": 46,
     "metadata": {},
     "output_type": "execute_result"
    }
   ],
   "source": [
    "data = df.loc[(df['total_area']>10) & (df['total_area']<200), ]\n",
    "data['total_area'].hist(bins=50)\n",
    "plt.title('Гистограмма квартир площадью от 10 до 200 кв.м.')\n",
    "plt.show()\n",
    "data.boxplot('total_area')\n",
    "plt.title('Диаграмма размаха квартир площадью от 10 до 200 кв.м.')\n",
    "plt.show()\n",
    "data['total_area'].describe()"
   ]
  },
  {
   "cell_type": "code",
   "execution_count": 47,
   "id": "5abf22a9",
   "metadata": {},
   "outputs": [
    {
     "data": {
      "text/plain": [
       "0.9747246719270856"
      ]
     },
     "execution_count": 47,
     "metadata": {},
     "output_type": "execute_result"
    }
   ],
   "source": [
    "(df.shape[0] - data['total_area'].count()) / df.shape[0] * 100"
   ]
  },
  {
   "cell_type": "markdown",
   "id": "6bdbb403",
   "metadata": {},
   "source": [
    "В выбросы попало чуть меньше 1% всех квартир. Из оставшихся квартир 50% покупаются площадью от 40 до 68 кв.м. Вполне объяснимо, так как в основном покупают однокомнатные и двухкомнатные квартиры (а это как раз их метраж). Пик покупок приходит на квартиры с площадью 40-45 кв.м."
   ]
  },
  {
   "cell_type": "code",
   "execution_count": 48,
   "id": "4e0ddf87",
   "metadata": {},
   "outputs": [
    {
     "data": {
      "image/png": "[encoded data removed]",
      "text/plain": [
       "<Figure size 432x288 with 1 Axes>"
      ]
     },
     "metadata": {
      "needs_background": "light"
     },
     "output_type": "display_data"
    },
    {
     "data": {
      "image/png": "[encoded data removed]",
      "text/plain": [
       "<Figure size 432x288 with 1 Axes>"
      ]
     },
     "metadata": {
      "needs_background": "light"
     },
     "output_type": "display_data"
    },
    {
     "data": {
      "text/plain": [
       "count    21287.000000\n",
       "mean        32.206380\n",
       "std         14.987979\n",
       "min          5.400000\n",
       "25%         18.500000\n",
       "50%         30.000000\n",
       "75%         41.600000\n",
       "max         89.900000\n",
       "Name: living_area, dtype: float64"
      ]
     },
     "execution_count": 48,
     "metadata": {},
     "output_type": "execute_result"
    }
   ],
   "source": [
    "data = df.loc[(df['living_area']>5) & (df['living_area']<90), ]\n",
    "data['living_area'].hist(bins=30)\n",
    "plt.title('Гистограмма квартир с жилой площадью от 5 до 90 кв.м.')\n",
    "plt.show()\n",
    "data.boxplot('living_area')\n",
    "plt.title('Диаграмма размаха квартир с жилой площадью от 5 до 90 кв.м.')\n",
    "plt.show()\n",
    "data['living_area'].describe()"
   ]
  },
  {
   "cell_type": "code",
   "execution_count": 49,
   "id": "b433fa55",
   "metadata": {},
   "outputs": [
    {
     "data": {
      "text/plain": [
       "10.177644626355542"
      ]
     },
     "execution_count": 49,
     "metadata": {},
     "output_type": "execute_result"
    }
   ],
   "source": [
    "(df.shape[0] - data['living_area'].shape[0]) / df.shape[0] * 100"
   ]
  },
  {
   "cell_type": "markdown",
   "id": "307a79d1",
   "metadata": {},
   "source": [
    "В выбросы попало около 10% всех квартир. Из оставшихся квартир 50% покупаются с жилой площадью от 18 до 42 кв.м. Вполне объяснимо, так как в основном покупают однокомнатные и двухкомнатные квартиры (а это как раз их метраж). Интересно выглядит гистограмма, наблюдаем 3 выраженных пика, похоже, на 3 сгруппированные гистограммы с пиком площадей по числу комнат, то есть первый пик 18 кв.м. - однокомнатные, 28кв.м. - двухкомнатные, 42 кв.м. - трехкомнатные. Спад пиков также объясним: чаще покупают однокомнатные квартиры, 2комнатные квартиры покупают пары, 3комнатные - пары с детьми."
   ]
  },
  {
   "cell_type": "code",
   "execution_count": 50,
   "id": "312d80aa",
   "metadata": {},
   "outputs": [
    {
     "data": {
      "text/plain": [
       "Text(0.5, 1.0, 'Гистограмма квартир с жилой площадью от 5 до 90 кв.м.')"
      ]
     },
     "execution_count": 50,
     "metadata": {},
     "output_type": "execute_result"
    },
    {
     "data": {
      "image/png": "[encoded data removed]",
      "text/plain": [
       "<Figure size 432x288 with 1 Axes>"
      ]
     },
     "metadata": {
      "needs_background": "light"
     },
     "output_type": "display_data"
    }
   ],
   "source": [
    "for r in range(1, 4):\n",
    "    data.loc[data['rooms'] == r, 'living_area'].hist(alpha=0.7, bins=30)\n",
    "    plt.legend(['1комнатные квартиры', '2комнатные квартиры', '3комнатные квартиры'])\n",
    "plt.title('Гистограмма квартир с жилой площадью от 5 до 90 кв.м.')    "
   ]
  },
  {
   "cell_type": "code",
   "execution_count": 51,
   "id": "888d2234",
   "metadata": {},
   "outputs": [
    {
     "data": {
      "image/png": "[encoded data removed]",
      "text/plain": [
       "<Figure size 432x288 with 1 Axes>"
      ]
     },
     "metadata": {
      "needs_background": "light"
     },
     "output_type": "display_data"
    },
    {
     "data": {
      "image/png": "[encoded data removed]",
      "text/plain": [
       "<Figure size 432x288 with 1 Axes>"
      ]
     },
     "metadata": {
      "needs_background": "light"
     },
     "output_type": "display_data"
    },
    {
     "data": {
      "text/plain": [
       "count    22332.000000\n",
       "mean         8.660346\n",
       "std          4.047608\n",
       "min          0.049620\n",
       "25%          6.300000\n",
       "50%          8.600000\n",
       "75%         11.000000\n",
       "max         19.940000\n",
       "Name: kitchen_area, dtype: float64"
      ]
     },
     "execution_count": 51,
     "metadata": {},
     "output_type": "execute_result"
    }
   ],
   "source": [
    "data = df.loc[(df['kitchen_area']>0) & (df['kitchen_area']<20), ]\n",
    "data['kitchen_area'].hist(bins=30)\n",
    "plt.title('Гистограмма квартир с площадью кухни от 0 до 20 кв.м.')\n",
    "plt.show()\n",
    "data.boxplot('kitchen_area')\n",
    "plt.title('Диаграмма размаха квартир с площадью кухни от 0 до 20 кв.м.')\n",
    "plt.show()\n",
    "data['kitchen_area'].describe()"
   ]
  },
  {
   "cell_type": "code",
   "execution_count": 52,
   "id": "7e6ca0d4",
   "metadata": {},
   "outputs": [
    {
     "data": {
      "text/plain": [
       "5.768175872399679"
      ]
     },
     "execution_count": 52,
     "metadata": {},
     "output_type": "execute_result"
    }
   ],
   "source": [
    "(df.shape[0] - data['living_area'].shape[0]) / df.shape[0] * 100"
   ]
  },
  {
   "cell_type": "markdown",
   "id": "d4d4e6be",
   "metadata": {},
   "source": [
    "В выбросы попало около 6% всех квартир. Из оставшихся квартир 50% покупаются с площадью кухни от от 6 до 11 кв.м. На гистограмме 3 выраженных пика. Один из них приходится на кухни площадью 0 кв.м. - это квартиры-студии, 2 других приходится на 6 и 10 кв.м. Кухни в 6 кв.м. чаще всего строили в так называемых хрущевках, которую зачастую имели 5 этажей, 10 кв.м. - тоже вполне реальная площадь для квартир."
   ]
  },
  {
   "cell_type": "code",
   "execution_count": 53,
   "id": "7049861d",
   "metadata": {},
   "outputs": [
    {
     "data": {
      "image/png": "[encoded data removed]",
      "text/plain": [
       "<Figure size 432x288 with 1 Axes>"
      ]
     },
     "metadata": {
      "needs_background": "light"
     },
     "output_type": "display_data"
    },
    {
     "data": {
      "image/png": "[encoded data removed]",
      "text/plain": [
       "<Figure size 432x288 with 1 Axes>"
      ]
     },
     "metadata": {
      "needs_background": "light"
     },
     "output_type": "display_data"
    },
    {
     "data": {
      "text/plain": [
       "count    20917.000000\n",
       "mean      4633.417029\n",
       "std       1948.345904\n",
       "min         12.000000\n",
       "25%       3300.000000\n",
       "50%       4300.000000\n",
       "75%       5800.000000\n",
       "max       9999.000000\n",
       "Name: last_price, dtype: float64"
      ]
     },
     "execution_count": 53,
     "metadata": {},
     "output_type": "execute_result"
    }
   ],
   "source": [
    "data = df.loc[(df['last_price']>10) & (df['last_price']<10000), ]\n",
    "data['last_price'].hist(bins=30)\n",
    "plt.title('Гистограмма квартир с ценой от 10 тыс до 10 млн., тыс.рубл.')\n",
    "plt.show()\n",
    "data.boxplot('last_price')\n",
    "plt.title('Диаграмма размаха квартир с ценой от 10 тыс до 10 млн., тыс. рубл.')\n",
    "plt.show()\n",
    "data['last_price'].describe()"
   ]
  },
  {
   "cell_type": "code",
   "execution_count": 54,
   "id": "74776898",
   "metadata": {},
   "outputs": [
    {
     "data": {
      "text/plain": [
       "11.738891936368622"
      ]
     },
     "execution_count": 54,
     "metadata": {},
     "output_type": "execute_result"
    }
   ],
   "source": [
    "(df['last_price'].count() - data['last_price'].count()) / df['last_price'].count() * 100"
   ]
  },
  {
   "cell_type": "markdown",
   "id": "a3fe301d",
   "metadata": {},
   "source": [
    "В выбросы попало около 12% всех квартир. Из оставшихся квартир 50% цен варьируют в пределах от 3 до 6 млн.рубл. На гистограмме 1 выраженный пик в 4 млн, похожая на цену самых популярного типа квартир - однокомнатных. "
   ]
  },
  {
   "cell_type": "code",
   "execution_count": 55,
   "id": "dfdbd158",
   "metadata": {},
   "outputs": [
    {
     "data": {
      "image/png": "[encoded data removed]",
      "text/plain": [
       "<Figure size 432x288 with 1 Axes>"
      ]
     },
     "metadata": {
      "needs_background": "light"
     },
     "output_type": "display_data"
    },
    {
     "data": {
      "image/png": "[encoded data removed]",
      "text/plain": [
       "<Figure size 432x288 with 1 Axes>"
      ]
     },
     "metadata": {
      "needs_background": "light"
     },
     "output_type": "display_data"
    },
    {
     "data": {
      "text/plain": [
       "count    23668.000000\n",
       "mean         2.060250\n",
       "std          1.035396\n",
       "min          0.000000\n",
       "25%          1.000000\n",
       "50%          2.000000\n",
       "75%          3.000000\n",
       "max          7.000000\n",
       "Name: rooms, dtype: float64"
      ]
     },
     "execution_count": 55,
     "metadata": {},
     "output_type": "execute_result"
    }
   ],
   "source": [
    "data = df.loc[(df['rooms']>=0) & (df['rooms']<=7), ]\n",
    "data['rooms'].hist(bins=30)\n",
    "plt.title('Гистограмма числа комнат квартир')\n",
    "plt.show()\n",
    "data.boxplot('rooms')\n",
    "plt.title('Диаграмма размаха числа комнат квартир')\n",
    "plt.show()\n",
    "data['rooms'].describe()"
   ]
  },
  {
   "cell_type": "code",
   "execution_count": 56,
   "id": "4bc590ed",
   "metadata": {},
   "outputs": [
    {
     "data": {
      "text/plain": [
       "0.13080720705515"
      ]
     },
     "execution_count": 56,
     "metadata": {},
     "output_type": "execute_result"
    }
   ],
   "source": [
    "(df['rooms'].count() - data['rooms'].count()) / df['rooms'].count() * 100"
   ]
  },
  {
   "cell_type": "markdown",
   "id": "808196ff",
   "metadata": {},
   "source": [
    "В выбросы попало меньше 1% всех квартир. Из оставшихся квартир в половине случаев покупают 1, 2 и 3комнатные квартиры, что соответствует трем выраженным пикам на гистограмме."
   ]
  },
  {
   "cell_type": "code",
   "execution_count": 57,
   "id": "8ba03b38",
   "metadata": {},
   "outputs": [
    {
     "data": {
      "image/png": "[encoded data removed]",
      "text/plain": [
       "<Figure size 432x288 with 1 Axes>"
      ]
     },
     "metadata": {
      "needs_background": "light"
     },
     "output_type": "display_data"
    },
    {
     "data": {
      "image/png": "[encoded data removed]",
      "text/plain": [
       "<Figure size 432x288 with 1 Axes>"
      ]
     },
     "metadata": {
      "needs_background": "light"
     },
     "output_type": "display_data"
    },
    {
     "data": {
      "text/plain": [
       "count    23336.000000\n",
       "mean         2.692358\n",
       "std          0.192686\n",
       "min          2.000000\n",
       "25%          2.550000\n",
       "50%          2.650000\n",
       "75%          2.750000\n",
       "max          3.500000\n",
       "Name: ceiling_height, dtype: float64"
      ]
     },
     "execution_count": 57,
     "metadata": {},
     "output_type": "execute_result"
    }
   ],
   "source": [
    "data = df.loc[(df['ceiling_height']>=2) & (df['ceiling_height']<=3.5), ]\n",
    "data['ceiling_height'].hist(bins=30)\n",
    "plt.title('Гистограмма высоты потолков квартир')\n",
    "plt.show()\n",
    "data.boxplot('ceiling_height')\n",
    "plt.title('Диаграмма размаха высоты потолков квартир')\n",
    "plt.show()\n",
    "data['ceiling_height'].describe()"
   ]
  },
  {
   "cell_type": "code",
   "execution_count": 58,
   "id": "39510891",
   "metadata": {},
   "outputs": [
    {
     "data": {
      "text/plain": [
       "1.2065534905380806"
      ]
     },
     "execution_count": 58,
     "metadata": {},
     "output_type": "execute_result"
    }
   ],
   "source": [
    "(df['ceiling_height'].count() - data['ceiling_height'].count()) / df['ceiling_height'].count() * 100"
   ]
  },
  {
   "cell_type": "markdown",
   "id": "542d6486",
   "metadata": {},
   "source": [
    "В выбросы попало меньше 1,3% всех квартир. Из оставшихся квартир в половине случаев потолки варьируют от 2.55 до 2.75м, что соответствует двум из трех выраженных пиков на гистограмме. Третий пик приходится на 3 м."
   ]
  },
  {
   "cell_type": "code",
   "execution_count": 59,
   "id": "d0e42962",
   "metadata": {},
   "outputs": [
    {
     "data": {
      "image/png": "[encoded data removed]",
      "text/plain": [
       "<Figure size 432x288 with 1 Axes>"
      ]
     },
     "metadata": {
      "needs_background": "light"
     },
     "output_type": "display_data"
    },
    {
     "data": {
      "image/png": "[encoded data removed]",
      "text/plain": [
       "<Figure size 432x288 with 1 Axes>"
      ]
     },
     "metadata": {
      "needs_background": "light"
     },
     "output_type": "display_data"
    },
    {
     "data": {
      "text/plain": [
       "count    23581.000000\n",
       "mean        10.638947\n",
       "std          6.530499\n",
       "min          1.000000\n",
       "25%          5.000000\n",
       "50%          9.000000\n",
       "75%         16.000000\n",
       "max         29.000000\n",
       "Name: floors_total, dtype: float64"
      ]
     },
     "execution_count": 59,
     "metadata": {},
     "output_type": "execute_result"
    }
   ],
   "source": [
    "data = df.loc[(df['floors_total']>=1) & (df['floors_total']<=30), ]\n",
    "data['floors_total'].hist(bins=30)\n",
    "plt.title('Гистограмма этажности квартир')\n",
    "plt.show()\n",
    "data.boxplot('floors_total')\n",
    "plt.title('Диаграмма размаха этажности квартир')\n",
    "plt.show()\n",
    "data['floors_total'].describe()"
   ]
  },
  {
   "cell_type": "code",
   "execution_count": 60,
   "id": "cfb4f035",
   "metadata": {},
   "outputs": [
    {
     "data": {
      "text/plain": [
       "0.13551857027908357"
      ]
     },
     "execution_count": 60,
     "metadata": {},
     "output_type": "execute_result"
    }
   ],
   "source": [
    "(df['floors_total'].count() - data['floors_total'].count()) / df['floors_total'].count() * 100"
   ]
  },
  {
   "cell_type": "markdown",
   "id": "ea34aaad",
   "metadata": {},
   "source": [
    "В выбросы попало меньше 1% всех квартир. Из оставшихся квартир половина имеет этажность от 5 до 16. 2 пика на гистограмме соответствуют домам с этажностью 5 и 9, превалирующих на вторичном рынке жилья."
   ]
  },
  {
   "cell_type": "code",
   "execution_count": 61,
   "id": "8196978f",
   "metadata": {},
   "outputs": [
    {
     "data": {
      "image/png": "[encoded data removed]",
      "text/plain": [
       "<Figure size 432x288 with 1 Axes>"
      ]
     },
     "metadata": {
      "needs_background": "light"
     },
     "output_type": "display_data"
    },
    {
     "data": {
      "image/png": "[encoded data removed]",
      "text/plain": [
       "<Figure size 432x288 with 1 Axes>"
      ]
     },
     "metadata": {
      "needs_background": "light"
     },
     "output_type": "display_data"
    },
    {
     "data": {
      "text/plain": [
       "count    16940.000000\n",
       "mean        12.561688\n",
       "std          5.869191\n",
       "min          1.000000\n",
       "25%          9.000000\n",
       "50%         13.000000\n",
       "75%         16.000000\n",
       "max         30.000000\n",
       "Name: city_centers_km, dtype: float64"
      ]
     },
     "execution_count": 61,
     "metadata": {},
     "output_type": "execute_result"
    }
   ],
   "source": [
    "data = df.loc[(df['city_centers_km']>=1) & (df['city_centers_km']<=30), ]\n",
    "data['city_centers_km'].hist(bins=30)\n",
    "plt.title('Гистограмма расстояний квартир до центра')\n",
    "plt.show()\n",
    "data.boxplot('city_centers_km')\n",
    "plt.title('Диаграмма размаха расстояний квартир до центра')\n",
    "plt.show()\n",
    "data['city_centers_km'].describe()"
   ]
  },
  {
   "cell_type": "code",
   "execution_count": 62,
   "id": "c251e85b",
   "metadata": {},
   "outputs": [
    {
     "data": {
      "text/plain": [
       "6.820682068206821"
      ]
     },
     "execution_count": 62,
     "metadata": {},
     "output_type": "execute_result"
    }
   ],
   "source": [
    "(df['city_centers_km'].count() - data['city_centers_km'].count()) / df['city_centers_km'].count() * 100"
   ]
  },
  {
   "cell_type": "markdown",
   "id": "62553806",
   "metadata": {},
   "source": [
    "В выбросы попало порядка 7% всех квартир. Из оставшихся квартир у половина расстояние до центра составляет от 9 до 16 км. На гистограмме 3 пика в 5, 13 и 15 км."
   ]
  },
  {
   "cell_type": "code",
   "execution_count": 63,
   "id": "dda36daa",
   "metadata": {},
   "outputs": [
    {
     "data": {
      "image/png": "[encoded data removed]",
      "text/plain": [
       "<Figure size 432x288 with 1 Axes>"
      ]
     },
     "metadata": {
      "needs_background": "light"
     },
     "output_type": "display_data"
    },
    {
     "data": {
      "image/png": "[encoded data removed]",
      "text/plain": [
       "<Figure size 432x288 with 1 Axes>"
      ]
     },
     "metadata": {
      "needs_background": "light"
     },
     "output_type": "display_data"
    },
    {
     "data": {
      "text/plain": [
       "count    7702.000000\n",
       "mean      435.484420\n",
       "std       209.639078\n",
       "min         1.000000\n",
       "25%       280.000000\n",
       "50%       441.000000\n",
       "75%       587.000000\n",
       "max       997.000000\n",
       "Name: parks_nearest, dtype: float64"
      ]
     },
     "execution_count": 63,
     "metadata": {},
     "output_type": "execute_result"
    }
   ],
   "source": [
    "data = df.loc[(df['parks_nearest']>=0) & (df['parks_nearest']<=1000), ]\n",
    "data['parks_nearest'].hist(bins=30)\n",
    "plt.title('Гистограмма расстояниий до ближайшего парка')\n",
    "plt.show()\n",
    "data.boxplot('parks_nearest')\n",
    "plt.title('Диаграмма размаха расстояний до ближайшего парка')\n",
    "plt.show()\n",
    "data['parks_nearest'].describe()"
   ]
  },
  {
   "cell_type": "code",
   "execution_count": 64,
   "id": "6a5cd26f",
   "metadata": {},
   "outputs": [
    {
     "data": {
      "text/plain": [
       "4.666419111276148"
      ]
     },
     "execution_count": 64,
     "metadata": {},
     "output_type": "execute_result"
    }
   ],
   "source": [
    "(df['parks_nearest'].count() - data['parks_nearest'].count()) / df['parks_nearest'].count() * 100"
   ]
  },
  {
   "cell_type": "markdown",
   "id": "ae624674",
   "metadata": {},
   "source": [
    "В выбросы попало порядка 5% всех квартир. Из оставшихся квартир у половина расстояние до ближайшего парка составляет от 280 до 587 м. На гистограмме наблюдается рост расстояний около 450 м."
   ]
  },
  {
   "cell_type": "code",
   "execution_count": 65,
   "id": "96e6e772",
   "metadata": {},
   "outputs": [
    {
     "data": {
      "text/plain": [
       "<AxesSubplot:>"
      ]
     },
     "execution_count": 65,
     "metadata": {},
     "output_type": "execute_result"
    },
    {
     "data": {
      "image/png": "[encoded data removed]",
      "text/plain": [
       "<Figure size 432x288 with 1 Axes>"
      ]
     },
     "metadata": {
      "needs_background": "light"
     },
     "output_type": "display_data"
    }
   ],
   "source": [
    "df['floor_type'].hist()"
   ]
  },
  {
   "cell_type": "markdown",
   "id": "f13ea792",
   "metadata": {},
   "source": [
    "Максимальное число объявлений приходится не на крайние этажи, объявлений о продаже квартир на первом этаже меньше, чем на последнем."
   ]
  },
  {
   "cell_type": "markdown",
   "id": "1c207aba",
   "metadata": {},
   "source": [
    "<span style=\"color:blue\"> **Вывод:**\n",
    "    \n",
    "    Чаще всего продают квартиры общей площадью 40-45 кв.м., с жилой площадью от 18 до 42 кв.м. и площадью кухни от 6 до 11 кв.м., что соответствует метражу однокомнатных квартир, на которые приходится максимальное число объявлений. Самая популярная цена достигает 4 млн.рублей.\n",
    "    Высота потолков колеблется от 2.5 до 3 м., а самая популярная  этажность домой 5 или 9.Чаще всего квартиры продаются не на первом или последнем этажах.\n",
    "    В половине случаев квартире удалены от центра на расстонии от 9 до 16 км, самое частое значение - 13 км. Самое частое значение расстояния от квартиры до ближайшего парка - 450 метров.\n",
    "</span>\n"
   ]
  },
  {
   "cell_type": "markdown",
   "id": "4d829851",
   "metadata": {},
   "source": [
    "*Изучите, как быстро продавались квартиры (столбец days_exposition).*"
   ]
  },
  {
   "cell_type": "code",
   "execution_count": 66,
   "id": "b2b6bcd0",
   "metadata": {},
   "outputs": [
    {
     "data": {
      "image/png": "[encoded data removed]",
      "text/plain": [
       "<Figure size 432x288 with 1 Axes>"
      ]
     },
     "metadata": {
      "needs_background": "light"
     },
     "output_type": "display_data"
    },
    {
     "data": {
      "image/png": "[encoded data removed]",
      "text/plain": [
       "<Figure size 432x288 with 1 Axes>"
      ]
     },
     "metadata": {
      "needs_background": "light"
     },
     "output_type": "display_data"
    },
    {
     "data": {
      "text/plain": [
       "count    20518.000000\n",
       "mean       180.888634\n",
       "std        219.727988\n",
       "min          1.000000\n",
       "25%         45.000000\n",
       "50%         95.000000\n",
       "75%        232.000000\n",
       "max       1580.000000\n",
       "Name: days_exposition, dtype: float64"
      ]
     },
     "execution_count": 66,
     "metadata": {},
     "output_type": "execute_result"
    }
   ],
   "source": [
    "df['days_exposition'].hist(bins = 60)\n",
    "plt.title('Гистограмма числа дней размещения объявления')\n",
    "plt.show()\n",
    "data.boxplot('days_exposition')\n",
    "plt.title('Диаграмма размаха числа дней размещения объявления')\n",
    "plt.show()\n",
    "df['days_exposition'].describe()"
   ]
  },
  {
   "cell_type": "markdown",
   "id": "15fcea49",
   "metadata": {},
   "source": [
    "Предварительный анализ показывает, что в среднем на продажу квартиры приходится полгода. 50% квартир продается в период от 45 до 232 дней. С ростом количества дней количество объявлений сокращается, видимо, остаются совсем непродаваемые или уникальные в своем роде квартиры. Описательная статистика и диграмма размаха указывает на явные экстремальные значения этой переменной, исключим из рассмотрения все объявления, размещенные больше 200 дней."
   ]
  },
  {
   "cell_type": "code",
   "execution_count": 67,
   "id": "a63be930",
   "metadata": {},
   "outputs": [
    {
     "data": {
      "image/png": "[encoded data removed]",
      "text/plain": [
       "<Figure size 432x288 with 1 Axes>"
      ]
     },
     "metadata": {
      "needs_background": "light"
     },
     "output_type": "display_data"
    },
    {
     "data": {
      "image/png": "[encoded data removed]",
      "text/plain": [
       "<Figure size 432x288 with 1 Axes>"
      ]
     },
     "metadata": {
      "needs_background": "light"
     },
     "output_type": "display_data"
    },
    {
     "data": {
      "text/plain": [
       "count    14651.000000\n",
       "mean        72.757150\n",
       "std         52.380463\n",
       "min          1.000000\n",
       "25%         30.000000\n",
       "50%         60.000000\n",
       "75%        108.000000\n",
       "max        200.000000\n",
       "Name: days_exposition, dtype: float64"
      ]
     },
     "execution_count": 67,
     "metadata": {},
     "output_type": "execute_result"
    }
   ],
   "source": [
    "data = df.loc[(df['days_exposition']<=200), ]\n",
    "data['days_exposition'].hist(bins=30)\n",
    "plt.title('Гистограмма числа дней размещения объявления')\n",
    "plt.show()\n",
    "data.boxplot('days_exposition')\n",
    "plt.title('Диаграмма размаха числа дней размещения объявления')\n",
    "plt.show()\n",
    "data['days_exposition'].describe()"
   ]
  },
  {
   "cell_type": "code",
   "execution_count": 68,
   "id": "59068734",
   "metadata": {},
   "outputs": [
    {
     "data": {
      "text/plain": [
       "28.59440491275953"
      ]
     },
     "execution_count": 68,
     "metadata": {},
     "output_type": "execute_result"
    }
   ],
   "source": [
    "(df['days_exposition'].count() - data['days_exposition'].count()) / df['days_exposition'].count() * 100"
   ]
  },
  {
   "cell_type": "markdown",
   "id": "9d1f08db",
   "metadata": {},
   "source": [
    "В выбросы попало 29% объявлений.При этом среднее время размещения объявления уменьшилось более чем в два раза. Посмотрим на медиану, которая более устойчива к выбросам, она сократилась с 95 до 60 дней.\n",
    "Рассмотрим поближе период от 30 до 70 дней, чтобы понять, в какие дни пик размещений объявлений."
   ]
  },
  {
   "cell_type": "code",
   "execution_count": 69,
   "id": "dc1e2b03",
   "metadata": {},
   "outputs": [
    {
     "data": {
      "text/plain": [
       "<AxesSubplot:>"
      ]
     },
     "execution_count": 69,
     "metadata": {},
     "output_type": "execute_result"
    },
    {
     "data": {
      "image/png": "[encoded data removed]",
      "text/plain": [
       "<Figure size 432x288 with 1 Axes>"
      ]
     },
     "metadata": {
      "needs_background": "light"
     },
     "output_type": "display_data"
    }
   ],
   "source": [
    "data['days_exposition'].hist(bins=30, range=(30, 70))"
   ]
  },
  {
   "cell_type": "markdown",
   "id": "708afc97",
   "metadata": {},
   "source": [
    "Итак, гистограмма показывает, что в 45 и 60 дней приходится пик количества дней размещения объявлений. Довольно странное явление, что именно 45 или 60 дней требуется, чтобы квартира продалась, картина с более равномерным размещение от 1,5 до 3,5 месяцев была бы реальнее. "
   ]
  },
  {
   "cell_type": "markdown",
   "id": "27bc2a61",
   "metadata": {},
   "source": [
    "<span style=\"color:blue\"> **Общий вывод:**\n",
    "       \n",
    "    В основном квартиры продаются (или во всяком случае объявления размещаются) в течение 2-3 месяцев. 25% квартир продается за 1-1.5 месяца, спустя полгода размещения объявления шанс продать квартиру уменьшается, продавцу нужно рекомендовать переформулировать, обновить объявление.    \n",
    "    Что-то странное наблюдается в 45 и 60 дней размещения объявления.\n",
    "   \n",
    "</span>"
   ]
  },
  {
   "cell_type": "markdown",
   "id": "eafbc68c",
   "metadata": {},
   "source": [
    "*Определите факторы, которые больше всего влияют на общую (полную) стоимость объекта.*"
   ]
  },
  {
   "cell_type": "markdown",
   "id": "d0f28f14",
   "metadata": {},
   "source": [
    "Очевидно, что чем больше площадь квартиры при прочих равных условиях (год постройки дома, ремонт, этаж, тип дома и т.д.), тем будет больше цена за квартиру. Поэтому будем ожидать положительную корреляцию между общей площадью квартиры и ценой."
   ]
  },
  {
   "cell_type": "code",
   "execution_count": 70,
   "id": "e5df4245",
   "metadata": {},
   "outputs": [
    {
     "data": {
      "image/png": "[encoded data removed]",
      "text/plain": [
       "<Figure size 432x288 with 1 Axes>"
      ]
     },
     "metadata": {
      "needs_background": "light"
     },
     "output_type": "display_data"
    },
    {
     "data": {
      "image/png": "[encoded data removed]",
      "text/plain": [
       "<Figure size 432x288 with 1 Axes>"
      ]
     },
     "metadata": {
      "needs_background": "light"
     },
     "output_type": "display_data"
    },
    {
     "data": {
      "image/png": "[encoded data removed]",
      "text/plain": [
       "<Figure size 432x288 with 1 Axes>"
      ]
     },
     "metadata": {
      "needs_background": "light"
     },
     "output_type": "display_data"
    }
   ],
   "source": [
    "for name in ['total_area', 'living_area', 'kitchen_area']:\n",
    "    df.plot(x=name,  y='last_price',  kind='scatter', grid=True, alpha=0.5)\n",
    "    plt.text (10, 550000, round(df['last_price'].corr(df[name]), 2))\n",
    "    plt.show()\n",
    "    "
   ]
  },
  {
   "cell_type": "markdown",
   "id": "9ba2d7e4",
   "metadata": {},
   "source": [
    "Как и ожидалось, между общей площадью, жилой площадью, площадью кухни и ценой, соответственно, наблюдается положительная связь. Однако, если в случае общей площади и цены можно говорить хотя бы о средней корреляции по силе, то в случае жилой площади и цены, а также площади кухни и цены - слабая. Это вполне объяснимо, особенно в случае кухни, в некоторых типах квартиры ее нет вообще (студии), в некоторых многокомнатных квартирах-хрущевкая кухня маленькая, однако, жилая площадь, а вместе с ней и общая больше. "
   ]
  },
  {
   "cell_type": "markdown",
   "id": "5cf9cfd5",
   "metadata": {},
   "source": [
    "Для дискретных переменных количества комнат; этажа, на котором расположена квартира (первый, последний, другой); даты размещения (день недели, месяц, год) рассмотрим другой тип графика, предварительно построив сводные таблицы. Кроме того, вычислять коээфициент корреляции Пирсона будет здесь не уместно, так как одна из переменных - категориальная."
   ]
  },
  {
   "cell_type": "code",
   "execution_count": 71,
   "id": "41bf1646",
   "metadata": {},
   "outputs": [],
   "source": [
    "#функция для построения сводных таблиц\n",
    "def disc_table(df, name):\n",
    "    price = df.pivot_table(index=name, values='last_price', aggfunc=['count', 'median'])\n",
    "    print(price)\n",
    "    price.plot(y = 'median')\n",
    "    price.plot(y = 'median', kind='bar')\n",
    "    "
   ]
  },
  {
   "cell_type": "code",
   "execution_count": 72,
   "id": "ce67b4d8",
   "metadata": {},
   "outputs": [
    {
     "name": "stdout",
     "output_type": "stream",
     "text": [
      "           count     median\n",
      "      last_price last_price\n",
      "rooms                      \n",
      "0            197     2700.0\n",
      "1           8047     3600.0\n",
      "2           7940     4770.0\n",
      "3           5814     6200.0\n",
      "4           1180     9000.0\n",
      "5            326    14000.0\n",
      "6            105    19000.0\n",
      "7             59    24900.0\n",
      "8             12    23095.0\n",
      "9              8    23750.0\n",
      "10             3    23000.0\n",
      "11             2    25250.0\n",
      "12             1   420000.0\n",
      "14             2    26829.5\n",
      "15             1    65000.0\n",
      "16             1    28500.0\n",
      "19             1    32250.0\n"
     ]
    },
    {
     "data": {
      "image/png": "[encoded data removed]",
      "text/plain": [
       "<Figure size 432x288 with 1 Axes>"
      ]
     },
     "metadata": {
      "needs_background": "light"
     },
     "output_type": "display_data"
    },
    {
     "data": {
      "image/png": "[encoded data removed]",
      "text/plain": [
       "<Figure size 432x288 with 1 Axes>"
      ]
     },
     "metadata": {
      "needs_background": "light"
     },
     "output_type": "display_data"
    }
   ],
   "source": [
    "disc_table(df, 'rooms')"
   ]
  },
  {
   "cell_type": "markdown",
   "id": "e8299b8e",
   "metadata": {},
   "source": [
    "С ростом числа комнат медианная цена увеличивается, что вполне закономерно. Аномально высокая цена в 12комнатной квартире, но так как таких квартир ровно 1, это похоже на выброс. Если обратится к ранее построенной диаграмме размаха, где мы ограничивались 7комнатными кваритрами, то наблюдается вполне себе хороший положительный рост."
   ]
  },
  {
   "cell_type": "code",
   "execution_count": 73,
   "id": "c925fc55",
   "metadata": {},
   "outputs": [
    {
     "name": "stdout",
     "output_type": "stream",
     "text": [
      "                count     median\n",
      "           last_price last_price\n",
      "floor_type                      \n",
      "другой          17446       4850\n",
      "первый           2917       3900\n",
      "последний        3336       4300\n"
     ]
    },
    {
     "data": {
      "image/png": "[encoded data removed]",
      "text/plain": [
       "<Figure size 432x288 with 1 Axes>"
      ]
     },
     "metadata": {
      "needs_background": "light"
     },
     "output_type": "display_data"
    },
    {
     "data": {
      "image/png": "[encoded data removed]",
      "text/plain": [
       "<Figure size 432x288 with 1 Axes>"
      ]
     },
     "metadata": {
      "needs_background": "light"
     },
     "output_type": "display_data"
    }
   ],
   "source": [
    "disc_table(df, 'floor_type')"
   ]
  },
  {
   "cell_type": "markdown",
   "id": "c76bc43f",
   "metadata": {},
   "source": [
    "Ожидаемо, цены на квартиры на первом этаже самые низкие, на последнем этаже цена выше, чем на первом, самые дорогие квартиры продаются не на крайних этажах дома."
   ]
  },
  {
   "cell_type": "code",
   "execution_count": 74,
   "id": "24714767",
   "metadata": {},
   "outputs": [
    {
     "name": "stdout",
     "output_type": "stream",
     "text": [
      "                       count     median\n",
      "                  last_price last_price\n",
      "day_of_exposition                      \n",
      "0                       3612       4650\n",
      "1                       4183       4730\n",
      "2                       3974       4700\n",
      "3                       4295       4650\n",
      "4                       4000       4585\n",
      "5                       1936       4555\n",
      "6                       1699       4550\n"
     ]
    },
    {
     "data": {
      "image/png": "[encoded data removed]",
      "text/plain": [
       "<Figure size 432x288 with 1 Axes>"
      ]
     },
     "metadata": {
      "needs_background": "light"
     },
     "output_type": "display_data"
    },
    {
     "data": {
      "image/png": "[encoded data removed]",
      "text/plain": [
       "<Figure size 432x288 with 1 Axes>"
      ]
     },
     "metadata": {
      "needs_background": "light"
     },
     "output_type": "display_data"
    }
   ],
   "source": [
    "disc_table(df, 'day_of_exposition')"
   ]
  },
  {
   "cell_type": "markdown",
   "id": "c68a67fb",
   "metadata": {},
   "source": [
    "Самые высокие цены на квартиры во вторник, к выходным цена падает. Тем не менее, медианная цена по дням незначительно меняется."
   ]
  },
  {
   "cell_type": "code",
   "execution_count": 75,
   "id": "da23d33c",
   "metadata": {},
   "outputs": [
    {
     "name": "stdout",
     "output_type": "stream",
     "text": [
      "                         count     median\n",
      "                    last_price last_price\n",
      "month_of_exposition                      \n",
      "1                         1500       4600\n",
      "2                         2640       4650\n",
      "3                         2587       4650\n",
      "4                         2379       4800\n",
      "5                         1274       4515\n",
      "6                         1760       4400\n",
      "7                         1695       4650\n",
      "8                         1744       4570\n",
      "9                         1981       4700\n",
      "10                        2127       4570\n",
      "11                        2371       4700\n",
      "12                        1641       4700\n"
     ]
    },
    {
     "data": {
      "image/png": "[encoded data removed]",
      "text/plain": [
       "<Figure size 432x288 with 1 Axes>"
      ]
     },
     "metadata": {
      "needs_background": "light"
     },
     "output_type": "display_data"
    },
    {
     "data": {
      "image/png": "[encoded data removed]",
      "text/plain": [
       "<Figure size 432x288 with 1 Axes>"
      ]
     },
     "metadata": {
      "needs_background": "light"
     },
     "output_type": "display_data"
    }
   ],
   "source": [
    "disc_table(df, 'month_of_exposition')"
   ]
  },
  {
   "cell_type": "markdown",
   "id": "c0d57d4d",
   "metadata": {},
   "source": [
    "Самые высокие медианные цены на квартиры наблюдается в апреле, также заметны пике в сентябре и июле. Самые низкие цены в июне. "
   ]
  },
  {
   "cell_type": "code",
   "execution_count": 76,
   "id": "322bc935",
   "metadata": {},
   "outputs": [
    {
     "name": "stdout",
     "output_type": "stream",
     "text": [
      "                        count     median\n",
      "                   last_price last_price\n",
      "year_of_exposition                      \n",
      "2014                      137       7700\n",
      "2015                     1191       5350\n",
      "2016                     2783       4550\n",
      "2017                     8190       4500\n",
      "2018                     8519       4550\n",
      "2019                     2879       5050\n"
     ]
    },
    {
     "data": {
      "image/png": "[encoded data removed]",
      "text/plain": [
       "<Figure size 432x288 with 1 Axes>"
      ]
     },
     "metadata": {
      "needs_background": "light"
     },
     "output_type": "display_data"
    },
    {
     "data": {
      "image/png": "[encoded data removed]",
      "text/plain": [
       "<Figure size 432x288 with 1 Axes>"
      ]
     },
     "metadata": {
      "needs_background": "light"
     },
     "output_type": "display_data"
    }
   ],
   "source": [
    "disc_table(df, 'year_of_exposition')"
   ]
  },
  {
   "cell_type": "markdown",
   "id": "56249c59",
   "metadata": {},
   "source": [
    "C 2014 года произошло падение цен на квартиры, который несколько замедлился к 2016-2017 годам, и с 2017 года наблюдается рост цен. Поиск кризиса цен в интернете сразу же приводит к новостям о кризисе 2014 года, повышению ипотечных ставок, что, видимо, и привело сначала к росту цен в 2014 год, а потом резкому его снижению."
   ]
  },
  {
   "cell_type": "markdown",
   "id": "3edd8423",
   "metadata": {},
   "source": [
    "<span style=\"color:blue\"> **Вывод:**\n",
    "       \n",
    "    * Наблюдается положительная средняя корелляция между общей площадью квартиры и ее ценой. Корреляции между жилой площадью и ценой, площадью кухни и ценой не выявлено. \n",
    "    * Не включая отдельные, аномальные квартиры, можно сказать, что с ростом количества комнат цена на них тоже растет. \n",
    "    * Квартиры на первом этаже дешевле, чем квартиры на последнем этаже, которые в свою очередь дешевле квартир на любом другом этаже (кроме первого, естественно).\n",
    "    * Цены на квартиры, объявление на которые разместили во вторник, самые высокие, в выходные - самые низкие. Среди месяцев, самая высокая цена на квартиры устанавливается в апреле, низкая - в июне. \n",
    "    * C 2014 года произошло падение цен на квартиры, который несколько замедлился к 2016-2017 годам, и с 2017 года наблюдается рост цен. Это связано с мировой экономикой и внутренней политикой страны.\n",
    "   \n",
    "</span>"
   ]
  },
  {
   "cell_type": "markdown",
   "id": "55c52185",
   "metadata": {},
   "source": [
    "*Посчитайте среднюю цену одного квадратного метра в 10 населённых пунктах с наибольшим числом объявлений*"
   ]
  },
  {
   "cell_type": "code",
   "execution_count": 77,
   "id": "c672b0cb",
   "metadata": {},
   "outputs": [
    {
     "data": {
      "text/html": [
       "<div>\n",
       "<style scoped>\n",
       "    .dataframe tbody tr th:only-of-type {\n",
       "        vertical-align: middle;\n",
       "    }\n",
       "\n",
       "    .dataframe tbody tr th {\n",
       "        vertical-align: top;\n",
       "    }\n",
       "\n",
       "    .dataframe thead th {\n",
       "        text-align: right;\n",
       "    }\n",
       "</style>\n",
       "<table border=\"1\" class=\"dataframe\">\n",
       "  <thead>\n",
       "    <tr style=\"text-align: right;\">\n",
       "      <th></th>\n",
       "      <th>count</th>\n",
       "      <th>mean</th>\n",
       "    </tr>\n",
       "    <tr>\n",
       "      <th>locality_name_new</th>\n",
       "      <th></th>\n",
       "      <th></th>\n",
       "    </tr>\n",
       "  </thead>\n",
       "  <tbody>\n",
       "    <tr>\n",
       "      <th>санкт-петербург</th>\n",
       "      <td>15721</td>\n",
       "      <td>114.85</td>\n",
       "    </tr>\n",
       "    <tr>\n",
       "      <th>мурино</th>\n",
       "      <td>590</td>\n",
       "      <td>86.09</td>\n",
       "    </tr>\n",
       "    <tr>\n",
       "      <th>кудрово</th>\n",
       "      <td>472</td>\n",
       "      <td>95.32</td>\n",
       "    </tr>\n",
       "    <tr>\n",
       "      <th>шушары</th>\n",
       "      <td>440</td>\n",
       "      <td>78.68</td>\n",
       "    </tr>\n",
       "    <tr>\n",
       "      <th>всеволожск</th>\n",
       "      <td>398</td>\n",
       "      <td>68.65</td>\n",
       "    </tr>\n",
       "    <tr>\n",
       "      <th>пушкин</th>\n",
       "      <td>369</td>\n",
       "      <td>103.13</td>\n",
       "    </tr>\n",
       "    <tr>\n",
       "      <th>колпино</th>\n",
       "      <td>338</td>\n",
       "      <td>75.42</td>\n",
       "    </tr>\n",
       "    <tr>\n",
       "      <th>парголово</th>\n",
       "      <td>327</td>\n",
       "      <td>90.18</td>\n",
       "    </tr>\n",
       "    <tr>\n",
       "      <th>гатчина</th>\n",
       "      <td>307</td>\n",
       "      <td>68.75</td>\n",
       "    </tr>\n",
       "    <tr>\n",
       "      <th>выборг</th>\n",
       "      <td>237</td>\n",
       "      <td>58.14</td>\n",
       "    </tr>\n",
       "  </tbody>\n",
       "</table>\n",
       "</div>"
      ],
      "text/plain": [
       "                   count    mean\n",
       "locality_name_new               \n",
       "санкт-петербург    15721  114.85\n",
       "мурино               590   86.09\n",
       "кудрово              472   95.32\n",
       "шушары               440   78.68\n",
       "всеволожск           398   68.65\n",
       "пушкин               369  103.13\n",
       "колпино              338   75.42\n",
       "парголово            327   90.18\n",
       "гатчина              307   68.75\n",
       "выборг               237   58.14"
      ]
     },
     "execution_count": 77,
     "metadata": {},
     "output_type": "execute_result"
    }
   ],
   "source": [
    "popular_one_metr = df.pivot_table(index='locality_name_new', values='price_one_metr', aggfunc=['count', 'mean'])\n",
    "popular_one_metr.columns=['count', 'mean']\n",
    "popular_one_metr['mean'] = round(popular_one_metr['mean'], 2)\n",
    "top_10 = popular_one_metr.sort_values(by='count', ascending=False).head(10)\n",
    "top_10"
   ]
  },
  {
   "cell_type": "code",
   "execution_count": 78,
   "id": "d44e0f58",
   "metadata": {},
   "outputs": [
    {
     "data": {
      "text/html": [
       "<div>\n",
       "<style scoped>\n",
       "    .dataframe tbody tr th:only-of-type {\n",
       "        vertical-align: middle;\n",
       "    }\n",
       "\n",
       "    .dataframe tbody tr th {\n",
       "        vertical-align: top;\n",
       "    }\n",
       "\n",
       "    .dataframe thead th {\n",
       "        text-align: right;\n",
       "    }\n",
       "</style>\n",
       "<table border=\"1\" class=\"dataframe\">\n",
       "  <thead>\n",
       "    <tr style=\"text-align: right;\">\n",
       "      <th></th>\n",
       "      <th>count</th>\n",
       "      <th>mean</th>\n",
       "    </tr>\n",
       "    <tr>\n",
       "      <th>locality_name_new</th>\n",
       "      <th></th>\n",
       "      <th></th>\n",
       "    </tr>\n",
       "  </thead>\n",
       "  <tbody>\n",
       "    <tr>\n",
       "      <th>санкт-петербург</th>\n",
       "      <td>15721</td>\n",
       "      <td>114.85</td>\n",
       "    </tr>\n",
       "    <tr>\n",
       "      <th>пушкин</th>\n",
       "      <td>369</td>\n",
       "      <td>103.13</td>\n",
       "    </tr>\n",
       "    <tr>\n",
       "      <th>кудрово</th>\n",
       "      <td>472</td>\n",
       "      <td>95.32</td>\n",
       "    </tr>\n",
       "    <tr>\n",
       "      <th>парголово</th>\n",
       "      <td>327</td>\n",
       "      <td>90.18</td>\n",
       "    </tr>\n",
       "    <tr>\n",
       "      <th>мурино</th>\n",
       "      <td>590</td>\n",
       "      <td>86.09</td>\n",
       "    </tr>\n",
       "    <tr>\n",
       "      <th>шушары</th>\n",
       "      <td>440</td>\n",
       "      <td>78.68</td>\n",
       "    </tr>\n",
       "    <tr>\n",
       "      <th>колпино</th>\n",
       "      <td>338</td>\n",
       "      <td>75.42</td>\n",
       "    </tr>\n",
       "    <tr>\n",
       "      <th>гатчина</th>\n",
       "      <td>307</td>\n",
       "      <td>68.75</td>\n",
       "    </tr>\n",
       "    <tr>\n",
       "      <th>всеволожск</th>\n",
       "      <td>398</td>\n",
       "      <td>68.65</td>\n",
       "    </tr>\n",
       "    <tr>\n",
       "      <th>выборг</th>\n",
       "      <td>237</td>\n",
       "      <td>58.14</td>\n",
       "    </tr>\n",
       "  </tbody>\n",
       "</table>\n",
       "</div>"
      ],
      "text/plain": [
       "                   count    mean\n",
       "locality_name_new               \n",
       "санкт-петербург    15721  114.85\n",
       "пушкин               369  103.13\n",
       "кудрово              472   95.32\n",
       "парголово            327   90.18\n",
       "мурино               590   86.09\n",
       "шушары               440   78.68\n",
       "колпино              338   75.42\n",
       "гатчина              307   68.75\n",
       "всеволожск           398   68.65\n",
       "выборг               237   58.14"
      ]
     },
     "execution_count": 78,
     "metadata": {},
     "output_type": "execute_result"
    }
   ],
   "source": [
    "top_10.sort_values(by='mean', ascending=False)"
   ]
  },
  {
   "cell_type": "markdown",
   "id": "73ce52ad",
   "metadata": {},
   "source": [
    "<span style=\"color:blue\"> **Общий вывод:**\n",
    "\n",
    "    Ожидаемо, что максимальное число объявлений в столице региона - Санкт-Петербурге, там же наблюдается и самая высокая цена за 1 кв.м. Самая низкая цена в Выборге, там же и минимальное число объявлений среди топ 10.\n",
    "</span>"
   ]
  },
  {
   "cell_type": "markdown",
   "id": "fcb2d963",
   "metadata": {},
   "source": [
    "*Опишите, как стоимость объектов зависит от расстояния до центра города — постройте график изменения средней цены для каждого километра от центра Петербурга.*"
   ]
  },
  {
   "cell_type": "code",
   "execution_count": 79,
   "id": "40cf7779",
   "metadata": {},
   "outputs": [
    {
     "data": {
      "text/plain": [
       "<AxesSubplot:xlabel='city_centers_km'>"
      ]
     },
     "execution_count": 79,
     "metadata": {},
     "output_type": "execute_result"
    },
    {
     "data": {
      "image/png": "[encoded data removed]",
      "text/plain": [
       "<Figure size 432x288 with 1 Axes>"
      ]
     },
     "metadata": {
      "needs_background": "light"
     },
     "output_type": "display_data"
    }
   ],
   "source": [
    "piter_km = df.loc[df['locality_name_new']=='санкт-петербург',]\n",
    "piter_km.pivot_table(index='city_centers_km', values='last_price').plot()"
   ]
  },
  {
   "cell_type": "code",
   "execution_count": 80,
   "id": "169df374",
   "metadata": {},
   "outputs": [
    {
     "data": {
      "text/html": [
       "<div>\n",
       "<style scoped>\n",
       "    .dataframe tbody tr th:only-of-type {\n",
       "        vertical-align: middle;\n",
       "    }\n",
       "\n",
       "    .dataframe tbody tr th {\n",
       "        vertical-align: top;\n",
       "    }\n",
       "\n",
       "    .dataframe thead th {\n",
       "        text-align: right;\n",
       "    }\n",
       "</style>\n",
       "<table border=\"1\" class=\"dataframe\">\n",
       "  <thead>\n",
       "    <tr style=\"text-align: right;\">\n",
       "      <th></th>\n",
       "      <th>last_price</th>\n",
       "    </tr>\n",
       "    <tr>\n",
       "      <th>city_centers_km</th>\n",
       "      <th></th>\n",
       "    </tr>\n",
       "  </thead>\n",
       "  <tbody>\n",
       "    <tr>\n",
       "      <th>0.0</th>\n",
       "      <td>31449.074074</td>\n",
       "    </tr>\n",
       "    <tr>\n",
       "      <th>1.0</th>\n",
       "      <td>21206.713542</td>\n",
       "    </tr>\n",
       "    <tr>\n",
       "      <th>2.0</th>\n",
       "      <td>17788.319355</td>\n",
       "    </tr>\n",
       "    <tr>\n",
       "      <th>3.0</th>\n",
       "      <td>11126.568571</td>\n",
       "    </tr>\n",
       "    <tr>\n",
       "      <th>4.0</th>\n",
       "      <td>13304.261628</td>\n",
       "    </tr>\n",
       "    <tr>\n",
       "      <th>5.0</th>\n",
       "      <td>14499.077174</td>\n",
       "    </tr>\n",
       "    <tr>\n",
       "      <th>6.0</th>\n",
       "      <td>15338.380259</td>\n",
       "    </tr>\n",
       "    <tr>\n",
       "      <th>7.0</th>\n",
       "      <td>14775.123810</td>\n",
       "    </tr>\n",
       "    <tr>\n",
       "      <th>8.0</th>\n",
       "      <td>9957.649916</td>\n",
       "    </tr>\n",
       "    <tr>\n",
       "      <th>9.0</th>\n",
       "      <td>6950.652614</td>\n",
       "    </tr>\n",
       "    <tr>\n",
       "      <th>10.0</th>\n",
       "      <td>6504.109875</td>\n",
       "    </tr>\n",
       "    <tr>\n",
       "      <th>11.0</th>\n",
       "      <td>6250.799660</td>\n",
       "    </tr>\n",
       "    <tr>\n",
       "      <th>12.0</th>\n",
       "      <td>5828.539564</td>\n",
       "    </tr>\n",
       "    <tr>\n",
       "      <th>13.0</th>\n",
       "      <td>6083.133150</td>\n",
       "    </tr>\n",
       "    <tr>\n",
       "      <th>14.0</th>\n",
       "      <td>5629.093823</td>\n",
       "    </tr>\n",
       "    <tr>\n",
       "      <th>15.0</th>\n",
       "      <td>5884.746811</td>\n",
       "    </tr>\n",
       "    <tr>\n",
       "      <th>16.0</th>\n",
       "      <td>5373.120949</td>\n",
       "    </tr>\n",
       "    <tr>\n",
       "      <th>17.0</th>\n",
       "      <td>5292.363533</td>\n",
       "    </tr>\n",
       "    <tr>\n",
       "      <th>18.0</th>\n",
       "      <td>5091.314176</td>\n",
       "    </tr>\n",
       "    <tr>\n",
       "      <th>19.0</th>\n",
       "      <td>5037.668790</td>\n",
       "    </tr>\n",
       "    <tr>\n",
       "      <th>20.0</th>\n",
       "      <td>5951.448980</td>\n",
       "    </tr>\n",
       "    <tr>\n",
       "      <th>21.0</th>\n",
       "      <td>5493.384615</td>\n",
       "    </tr>\n",
       "    <tr>\n",
       "      <th>22.0</th>\n",
       "      <td>5415.490099</td>\n",
       "    </tr>\n",
       "    <tr>\n",
       "      <th>23.0</th>\n",
       "      <td>4985.376471</td>\n",
       "    </tr>\n",
       "    <tr>\n",
       "      <th>24.0</th>\n",
       "      <td>3854.423077</td>\n",
       "    </tr>\n",
       "    <tr>\n",
       "      <th>25.0</th>\n",
       "      <td>4052.769231</td>\n",
       "    </tr>\n",
       "    <tr>\n",
       "      <th>26.0</th>\n",
       "      <td>3972.754717</td>\n",
       "    </tr>\n",
       "    <tr>\n",
       "      <th>27.0</th>\n",
       "      <td>8300.000000</td>\n",
       "    </tr>\n",
       "    <tr>\n",
       "      <th>28.0</th>\n",
       "      <td>5026.428571</td>\n",
       "    </tr>\n",
       "    <tr>\n",
       "      <th>29.0</th>\n",
       "      <td>4236.666667</td>\n",
       "    </tr>\n",
       "  </tbody>\n",
       "</table>\n",
       "</div>"
      ],
      "text/plain": [
       "                   last_price\n",
       "city_centers_km              \n",
       "0.0              31449.074074\n",
       "1.0              21206.713542\n",
       "2.0              17788.319355\n",
       "3.0              11126.568571\n",
       "4.0              13304.261628\n",
       "5.0              14499.077174\n",
       "6.0              15338.380259\n",
       "7.0              14775.123810\n",
       "8.0               9957.649916\n",
       "9.0               6950.652614\n",
       "10.0              6504.109875\n",
       "11.0              6250.799660\n",
       "12.0              5828.539564\n",
       "13.0              6083.133150\n",
       "14.0              5629.093823\n",
       "15.0              5884.746811\n",
       "16.0              5373.120949\n",
       "17.0              5292.363533\n",
       "18.0              5091.314176\n",
       "19.0              5037.668790\n",
       "20.0              5951.448980\n",
       "21.0              5493.384615\n",
       "22.0              5415.490099\n",
       "23.0              4985.376471\n",
       "24.0              3854.423077\n",
       "25.0              4052.769231\n",
       "26.0              3972.754717\n",
       "27.0              8300.000000\n",
       "28.0              5026.428571\n",
       "29.0              4236.666667"
      ]
     },
     "execution_count": 80,
     "metadata": {},
     "output_type": "execute_result"
    }
   ],
   "source": [
    "piter_km.pivot_table(index='city_centers_km', values='last_price')"
   ]
  },
  {
   "cell_type": "markdown",
   "id": "caafa66a",
   "metadata": {},
   "source": [
    "<span style=\"color:blue\"> **Вывод:**\n",
    "    \n",
    "    Ожидаемо, максимальная средняя цена наблюдается в радиусе до 1 км от центра Санкт-Петербурга. Далее в основном, с удалением от центра цена снижается. Однако, наблюдается два всплеска, возможно, на этом расстоянии находятся еще престижные районы для проживания в Санкт-Петербурге.    \n",
    "</span>"
   ]
  },
  {
   "cell_type": "markdown",
   "id": "451b04c9",
   "metadata": {},
   "source": [
    "<span style=\"color:red\"> **Вывод:** </span>\n",
    "1. Для анализа был предоставлен набор данных, содержащий  22 столбца, из них 3 типа int, 14 - float, 2 - bool, 3 - object. Строк в таблице 23699, однако, в некоторых столбцах были пропущенные значения. В ходе исследования были намечены столбцы для замены пропущенных значений, изменений типа данных, а также выявлены столбцы с аномальными значениями.\n",
    "2. На этапе предобработки данных пропущенные значения в столбцах, заполняемые пользователем, были заменены либо нулем, либо медианным значением. В столбцах, заполняемых автоматически, без участия пользователя пропуски оставили без изменения. Были изменены типы данных столбцов, для удобства их исследования. Явных дубликатов нет, неявные были обработаны.\n",
    "3. Исследовательский анализ данных показал, что чаще всего продают квартиры общей площадью 40-45 кв.м., с жилой площадью от 18 до 42 кв.м. и площадью кухни от 6 до 11 кв.м., что соответствует метражу однокомнатных квартир, на которые приходится максимальное число объявлений. Самая распространенная цена составляет 4 млн.рублей. Высота потолков колеблется от 2.5 до 3 м., а самая популярная этажность домой 5 или 9. Чаще всего квартиры продаются не на первом или последнем этажах. В половине случаев квартире удалены от центра на расстонии от 9 до 16 км, самое частое значение - 13 км. Самое частое значение расстояние от квартиры до ближайшего парка - 450 метров.\n",
    "4. Наблюдается средняя по силе положительная корелляция между общей площадью квартиры, числом комнат и ее ценой. Корреляции между жилой площадью и ценой, площадью кухни и ценой не выявлено. Квартиры на первом этаже дешевле, чем квартиры на последнем этаже, которые в свою очередь дешевле квартир на любом другом этаже (кроме первого, естественно). Цены на квартиры, объявление на которые разместили во вторник, самые высокие, в выходные - самые низкие. Среди месяцев, самая высокая цена на квартиры устанавливается в апреле, низкая - в июне. C 2014 года произошло падение цен на квартиры, который несколько замедлился к 2016-2017 годам, и с 2017 года наблюдается рост цен. Это связано с мировой экономикой и внутренней политикой страны.\n",
    "5. Максимальное число объявлений в столице региона - Санкт-Петербурге, там же наблюдается и самая высокая цена за 1 кв.м. Самая низкая цена в Выборге, там же и минимальное число объявлений среди топ 10.\n",
    "6. Максимальная средняя цена за 1 кв.м. в Санкт-Петербурге наблюдается в радиусе до 1 км от его центра. Далее в основном, на удалении от центра цена снижается. Однако, наблюдается два всплеска, возможно, на этом расстоянии находятся еще престижные районы для проживания в Санкт-Петербурге.   \n",
    "\n",
    "Заказчику рекомендуется улучшить систему для заполнения пользователями данных о квартире, чтобы избежать аномальных значений в показателях. Для избегания неявных дубликатов в названии населенных пунктов использовать систему выбора названия из списка. Добавить подсказки по заполнению данных для нестандартных квартир (комнат в общежитии, студий, апартаментов). А также рассматреть воздействие на цену одновременно нескольких факторов, используя, например, регрессионный или факторный анализ."
   ]
  }
 ],
 "metadata": {
  "kernelspec": {
   "display_name": "Python 3 (ipykernel)",
   "language": "python",
   "name": "python3"
  },
  "language_info": {
   "codemirror_mode": {
    "name": "ipython",
    "version": 3
   },
   "file_extension": ".py",
   "mimetype": "text/x-python",
   "name": "python",
   "nbconvert_exporter": "python",
   "pygments_lexer": "ipython3",
   "version": "3.9.12"
  }
 },
 "nbformat": 4,
 "nbformat_minor": 5
}
